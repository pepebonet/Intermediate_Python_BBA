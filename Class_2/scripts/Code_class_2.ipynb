{
 "cells": [
  {
   "cell_type": "markdown",
   "id": "81fb50dd",
   "metadata": {},
   "source": [
    "# Class 2. Intermediate Python & AI "
   ]
  },
  {
   "cell_type": "markdown",
   "id": "127d5dd3",
   "metadata": {},
   "source": [
    "# Data Preparation"
   ]
  },
  {
   "cell_type": "markdown",
   "id": "e15cbb90",
   "metadata": {},
   "source": [
    "### Table of contents \n",
    "\n",
    "1. Data Cleaning \n",
    "    1. Remove irrelevant data    \n",
    "    2. Deduplicate your data\n",
    "    3. Fix structural errors\n",
    "    4. Deal with missing data\n",
    "    5. Filter out data outliers\n",
    "    6. Validate your data\n",
    "2. Data Exploration\n",
    "    1. Preliminary Data Processing\n",
    "    2. Categorical EDA \n",
    "    3. Numerical EDA "
   ]
  },
  {
   "cell_type": "code",
   "execution_count": 84,
   "id": "3ddc67ff",
   "metadata": {},
   "outputs": [],
   "source": [
    "import pandas as pd"
   ]
  },
  {
   "cell_type": "markdown",
   "id": "f2b52478",
   "metadata": {},
   "source": [
    "#### We are going to use a new dataset of the grades of students in certain subjects"
   ]
  },
  {
   "cell_type": "code",
   "execution_count": 85,
   "id": "16a91d91",
   "metadata": {},
   "outputs": [],
   "source": [
    "df = pd.read_csv('exams_mod.csv')"
   ]
  },
  {
   "cell_type": "code",
   "execution_count": 86,
   "id": "55d7b1df",
   "metadata": {},
   "outputs": [
    {
     "data": {
      "text/html": [
       "<div>\n",
       "<style scoped>\n",
       "    .dataframe tbody tr th:only-of-type {\n",
       "        vertical-align: middle;\n",
       "    }\n",
       "\n",
       "    .dataframe tbody tr th {\n",
       "        vertical-align: top;\n",
       "    }\n",
       "\n",
       "    .dataframe thead th {\n",
       "        text-align: right;\n",
       "    }\n",
       "</style>\n",
       "<table border=\"1\" class=\"dataframe\">\n",
       "  <thead>\n",
       "    <tr style=\"text-align: right;\">\n",
       "      <th></th>\n",
       "      <th>gender</th>\n",
       "      <th>race/ethnicity</th>\n",
       "      <th>parental level of education</th>\n",
       "      <th>lunch</th>\n",
       "      <th>test preparation course</th>\n",
       "      <th>math score</th>\n",
       "      <th>reading score</th>\n",
       "      <th>writing score</th>\n",
       "      <th>id_student</th>\n",
       "      <th>address</th>\n",
       "      <th>Year</th>\n",
       "      <th>Age</th>\n",
       "    </tr>\n",
       "  </thead>\n",
       "  <tbody>\n",
       "    <tr>\n",
       "      <th>0</th>\n",
       "      <td>Male</td>\n",
       "      <td>group A</td>\n",
       "      <td>high school</td>\n",
       "      <td>standard</td>\n",
       "      <td>completed</td>\n",
       "      <td>67</td>\n",
       "      <td>67</td>\n",
       "      <td>63</td>\n",
       "      <td>1000</td>\n",
       "      <td>NaN</td>\n",
       "      <td>2023</td>\n",
       "      <td>14.0</td>\n",
       "    </tr>\n",
       "    <tr>\n",
       "      <th>1</th>\n",
       "      <td>Female</td>\n",
       "      <td>group D</td>\n",
       "      <td>some high school</td>\n",
       "      <td>free/reduced</td>\n",
       "      <td>none</td>\n",
       "      <td>40</td>\n",
       "      <td>29</td>\n",
       "      <td>55</td>\n",
       "      <td>1001</td>\n",
       "      <td>NaN</td>\n",
       "      <td>2023</td>\n",
       "      <td>17.0</td>\n",
       "    </tr>\n",
       "    <tr>\n",
       "      <th>2</th>\n",
       "      <td>Male</td>\n",
       "      <td>group E</td>\n",
       "      <td>some college</td>\n",
       "      <td>free/reduced</td>\n",
       "      <td>none</td>\n",
       "      <td>59</td>\n",
       "      <td>60</td>\n",
       "      <td>50</td>\n",
       "      <td>1002</td>\n",
       "      <td>NaN</td>\n",
       "      <td>2023</td>\n",
       "      <td>14.0</td>\n",
       "    </tr>\n",
       "    <tr>\n",
       "      <th>3</th>\n",
       "      <td>Male</td>\n",
       "      <td>group B</td>\n",
       "      <td>high school</td>\n",
       "      <td>standard</td>\n",
       "      <td>none</td>\n",
       "      <td>77</td>\n",
       "      <td>78</td>\n",
       "      <td>68</td>\n",
       "      <td>1003</td>\n",
       "      <td>NaN</td>\n",
       "      <td>2023</td>\n",
       "      <td>17.0</td>\n",
       "    </tr>\n",
       "    <tr>\n",
       "      <th>4</th>\n",
       "      <td>Male</td>\n",
       "      <td>group E</td>\n",
       "      <td>associate's degree</td>\n",
       "      <td>standard</td>\n",
       "      <td>completed</td>\n",
       "      <td>78</td>\n",
       "      <td>73</td>\n",
       "      <td>68</td>\n",
       "      <td>1004</td>\n",
       "      <td>NaN</td>\n",
       "      <td>2023</td>\n",
       "      <td>16.0</td>\n",
       "    </tr>\n",
       "  </tbody>\n",
       "</table>\n",
       "</div>"
      ],
      "text/plain": [
       "   gender race/ethnicity parental level of education         lunch  \\\n",
       "0    Male        group A                 high school      standard   \n",
       "1  Female        group D            some high school  free/reduced   \n",
       "2    Male        group E                some college  free/reduced   \n",
       "3    Male        group B                 high school      standard   \n",
       "4    Male        group E          associate's degree      standard   \n",
       "\n",
       "  test preparation course  math score  reading score  writing score  \\\n",
       "0               completed          67             67             63   \n",
       "1                    none          40             29             55   \n",
       "2                    none          59             60             50   \n",
       "3                    none          77             78             68   \n",
       "4               completed          78             73             68   \n",
       "\n",
       "   id_student  address  Year   Age  \n",
       "0        1000      NaN  2023  14.0  \n",
       "1        1001      NaN  2023  17.0  \n",
       "2        1002      NaN  2023  14.0  \n",
       "3        1003      NaN  2023  17.0  \n",
       "4        1004      NaN  2023  16.0  "
      ]
     },
     "execution_count": 86,
     "metadata": {},
     "output_type": "execute_result"
    }
   ],
   "source": [
    "df.head()"
   ]
  },
  {
   "cell_type": "code",
   "execution_count": 87,
   "id": "ee73d346",
   "metadata": {},
   "outputs": [
    {
     "data": {
      "text/plain": [
       "(1010, 12)"
      ]
     },
     "execution_count": 87,
     "metadata": {},
     "output_type": "execute_result"
    }
   ],
   "source": [
    "df.shape"
   ]
  },
  {
   "cell_type": "code",
   "execution_count": 88,
   "id": "023d629a",
   "metadata": {},
   "outputs": [
    {
     "data": {
      "text/html": [
       "<div>\n",
       "<style scoped>\n",
       "    .dataframe tbody tr th:only-of-type {\n",
       "        vertical-align: middle;\n",
       "    }\n",
       "\n",
       "    .dataframe tbody tr th {\n",
       "        vertical-align: top;\n",
       "    }\n",
       "\n",
       "    .dataframe thead th {\n",
       "        text-align: right;\n",
       "    }\n",
       "</style>\n",
       "<table border=\"1\" class=\"dataframe\">\n",
       "  <thead>\n",
       "    <tr style=\"text-align: right;\">\n",
       "      <th></th>\n",
       "      <th>math score</th>\n",
       "      <th>reading score</th>\n",
       "      <th>writing score</th>\n",
       "      <th>id_student</th>\n",
       "      <th>address</th>\n",
       "      <th>Year</th>\n",
       "      <th>Age</th>\n",
       "    </tr>\n",
       "  </thead>\n",
       "  <tbody>\n",
       "    <tr>\n",
       "      <th>count</th>\n",
       "      <td>1010.000000</td>\n",
       "      <td>1010.000000</td>\n",
       "      <td>1010.000000</td>\n",
       "      <td>1010.000000</td>\n",
       "      <td>0.0</td>\n",
       "      <td>1010.000000</td>\n",
       "      <td>943.000000</td>\n",
       "    </tr>\n",
       "    <tr>\n",
       "      <th>mean</th>\n",
       "      <td>66.420792</td>\n",
       "      <td>64.930693</td>\n",
       "      <td>70.289109</td>\n",
       "      <td>1494.599010</td>\n",
       "      <td>NaN</td>\n",
       "      <td>2021.104950</td>\n",
       "      <td>15.483563</td>\n",
       "    </tr>\n",
       "    <tr>\n",
       "      <th>std</th>\n",
       "      <td>15.481187</td>\n",
       "      <td>18.990769</td>\n",
       "      <td>19.125831</td>\n",
       "      <td>291.537945</td>\n",
       "      <td>NaN</td>\n",
       "      <td>7.681396</td>\n",
       "      <td>1.151707</td>\n",
       "    </tr>\n",
       "    <tr>\n",
       "      <th>min</th>\n",
       "      <td>13.000000</td>\n",
       "      <td>15.000000</td>\n",
       "      <td>23.000000</td>\n",
       "      <td>1000.000000</td>\n",
       "      <td>NaN</td>\n",
       "      <td>1990.000000</td>\n",
       "      <td>14.000000</td>\n",
       "    </tr>\n",
       "    <tr>\n",
       "      <th>25%</th>\n",
       "      <td>56.000000</td>\n",
       "      <td>54.000000</td>\n",
       "      <td>58.000000</td>\n",
       "      <td>1242.250000</td>\n",
       "      <td>NaN</td>\n",
       "      <td>2023.000000</td>\n",
       "      <td>14.000000</td>\n",
       "    </tr>\n",
       "    <tr>\n",
       "      <th>50%</th>\n",
       "      <td>66.000000</td>\n",
       "      <td>68.000000</td>\n",
       "      <td>68.000000</td>\n",
       "      <td>1494.500000</td>\n",
       "      <td>NaN</td>\n",
       "      <td>2023.000000</td>\n",
       "      <td>16.000000</td>\n",
       "    </tr>\n",
       "    <tr>\n",
       "      <th>75%</th>\n",
       "      <td>77.000000</td>\n",
       "      <td>78.000000</td>\n",
       "      <td>79.000000</td>\n",
       "      <td>1746.750000</td>\n",
       "      <td>NaN</td>\n",
       "      <td>2023.000000</td>\n",
       "      <td>17.000000</td>\n",
       "    </tr>\n",
       "    <tr>\n",
       "      <th>max</th>\n",
       "      <td>120.000000</td>\n",
       "      <td>100.000000</td>\n",
       "      <td>100.000000</td>\n",
       "      <td>1999.000000</td>\n",
       "      <td>NaN</td>\n",
       "      <td>2023.000000</td>\n",
       "      <td>17.000000</td>\n",
       "    </tr>\n",
       "  </tbody>\n",
       "</table>\n",
       "</div>"
      ],
      "text/plain": [
       "        math score  reading score  writing score   id_student  address  \\\n",
       "count  1010.000000    1010.000000    1010.000000  1010.000000      0.0   \n",
       "mean     66.420792      64.930693      70.289109  1494.599010      NaN   \n",
       "std      15.481187      18.990769      19.125831   291.537945      NaN   \n",
       "min      13.000000      15.000000      23.000000  1000.000000      NaN   \n",
       "25%      56.000000      54.000000      58.000000  1242.250000      NaN   \n",
       "50%      66.000000      68.000000      68.000000  1494.500000      NaN   \n",
       "75%      77.000000      78.000000      79.000000  1746.750000      NaN   \n",
       "max     120.000000     100.000000     100.000000  1999.000000      NaN   \n",
       "\n",
       "              Year         Age  \n",
       "count  1010.000000  943.000000  \n",
       "mean   2021.104950   15.483563  \n",
       "std       7.681396    1.151707  \n",
       "min    1990.000000   14.000000  \n",
       "25%    2023.000000   14.000000  \n",
       "50%    2023.000000   16.000000  \n",
       "75%    2023.000000   17.000000  \n",
       "max    2023.000000   17.000000  "
      ]
     },
     "execution_count": 88,
     "metadata": {},
     "output_type": "execute_result"
    }
   ],
   "source": [
    "df.describe()"
   ]
  },
  {
   "cell_type": "code",
   "execution_count": 89,
   "id": "dfccd346",
   "metadata": {},
   "outputs": [
    {
     "data": {
      "text/plain": [
       "gender                          object\n",
       "race/ethnicity                  object\n",
       "parental level of education     object\n",
       "lunch                           object\n",
       "test preparation course         object\n",
       "math score                       int64\n",
       "reading score                    int64\n",
       "writing score                    int64\n",
       "id_student                       int64\n",
       "address                        float64\n",
       "Year                             int64\n",
       "Age                            float64\n",
       "dtype: object"
      ]
     },
     "execution_count": 89,
     "metadata": {},
     "output_type": "execute_result"
    }
   ],
   "source": [
    "df.dtypes"
   ]
  },
  {
   "cell_type": "code",
   "execution_count": 90,
   "id": "ed094912",
   "metadata": {},
   "outputs": [
    {
     "name": "stdout",
     "output_type": "stream",
     "text": [
      "<class 'pandas.core.frame.DataFrame'>\n",
      "RangeIndex: 1010 entries, 0 to 1009\n",
      "Data columns (total 12 columns):\n",
      " #   Column                       Non-Null Count  Dtype  \n",
      "---  ------                       --------------  -----  \n",
      " 0   gender                       1010 non-null   object \n",
      " 1   race/ethnicity               1010 non-null   object \n",
      " 2   parental level of education  1010 non-null   object \n",
      " 3   lunch                        1010 non-null   object \n",
      " 4   test preparation course      1010 non-null   object \n",
      " 5   math score                   1010 non-null   int64  \n",
      " 6   reading score                1010 non-null   int64  \n",
      " 7   writing score                1010 non-null   int64  \n",
      " 8   id_student                   1010 non-null   int64  \n",
      " 9   address                      0 non-null      float64\n",
      " 10  Year                         1010 non-null   int64  \n",
      " 11  Age                          943 non-null    float64\n",
      "dtypes: float64(2), int64(5), object(5)\n",
      "memory usage: 94.8+ KB\n"
     ]
    }
   ],
   "source": [
    "df.info()"
   ]
  },
  {
   "cell_type": "markdown",
   "id": "037b1902",
   "metadata": {},
   "source": [
    "## 0. Deduplicate your data"
   ]
  },
  {
   "cell_type": "code",
   "execution_count": 91,
   "id": "c894ebff",
   "metadata": {},
   "outputs": [
    {
     "data": {
      "text/plain": [
       "(1010, 12)"
      ]
     },
     "execution_count": 91,
     "metadata": {},
     "output_type": "execute_result"
    }
   ],
   "source": [
    "df.shape"
   ]
  },
  {
   "cell_type": "code",
   "execution_count": 92,
   "id": "71c3beda",
   "metadata": {},
   "outputs": [
    {
     "data": {
      "text/plain": [
       "(2020, 12)"
      ]
     },
     "execution_count": 92,
     "metadata": {},
     "output_type": "execute_result"
    }
   ],
   "source": [
    "df = pd.concat([df, df])\n",
    "df.shape"
   ]
  },
  {
   "cell_type": "code",
   "execution_count": 93,
   "id": "0ec533f3",
   "metadata": {},
   "outputs": [],
   "source": [
    "df.drop_duplicates(inplace=True)"
   ]
  },
  {
   "cell_type": "code",
   "execution_count": 94,
   "id": "c3949872",
   "metadata": {},
   "outputs": [
    {
     "data": {
      "text/plain": [
       "(1010, 12)"
      ]
     },
     "execution_count": 94,
     "metadata": {},
     "output_type": "execute_result"
    }
   ],
   "source": [
    "df.shape"
   ]
  },
  {
   "cell_type": "markdown",
   "id": "639a8ff9",
   "metadata": {},
   "source": [
    "## 1. Data Cleaning"
   ]
  },
  {
   "cell_type": "markdown",
   "id": "1396c9cf",
   "metadata": {},
   "source": [
    "### A. Remove Irrelevant data"
   ]
  },
  {
   "cell_type": "markdown",
   "id": "11962b50",
   "metadata": {},
   "source": [
    "Look at the columns Year:"
   ]
  },
  {
   "cell_type": "code",
   "execution_count": 95,
   "id": "86e4686b",
   "metadata": {},
   "outputs": [
    {
     "data": {
      "text/plain": [
       "2023    952\n",
       "1990     58\n",
       "Name: Year, dtype: int64"
      ]
     },
     "execution_count": 95,
     "metadata": {},
     "output_type": "execute_result"
    }
   ],
   "source": [
    "df['Year'].value_counts()"
   ]
  },
  {
   "cell_type": "markdown",
   "id": "d108e63b",
   "metadata": {},
   "source": [
    "The entries on year 1990 were introduced by mistake \n",
    "\n",
    "and we need to take them out of the dataset"
   ]
  },
  {
   "cell_type": "code",
   "execution_count": 96,
   "id": "21506558",
   "metadata": {},
   "outputs": [],
   "source": [
    "df = df[df['Year'] != 1990]"
   ]
  },
  {
   "cell_type": "code",
   "execution_count": 97,
   "id": "8b208911",
   "metadata": {},
   "outputs": [
    {
     "data": {
      "text/plain": [
       "(952, 12)"
      ]
     },
     "execution_count": 97,
     "metadata": {},
     "output_type": "execute_result"
    }
   ],
   "source": [
    "df.shape"
   ]
  },
  {
   "cell_type": "markdown",
   "id": "593d8ac8",
   "metadata": {},
   "source": [
    "What if the race/ethnicity group A would be irrelevant for the study. Could you build a new dataframe? "
   ]
  },
  {
   "cell_type": "code",
   "execution_count": 98,
   "id": "1b1615c0",
   "metadata": {},
   "outputs": [
    {
     "data": {
      "text/plain": [
       "group C    310\n",
       "group D    250\n",
       "group B    191\n",
       "group E    126\n",
       "group A     75\n",
       "Name: race/ethnicity, dtype: int64"
      ]
     },
     "execution_count": 98,
     "metadata": {},
     "output_type": "execute_result"
    }
   ],
   "source": [
    "df['race/ethnicity'].value_counts()"
   ]
  },
  {
   "cell_type": "code",
   "execution_count": 99,
   "id": "8dcb2c0a",
   "metadata": {},
   "outputs": [],
   "source": [
    "ethnicity_df = df[df['race/ethnicity'] != 'group A']"
   ]
  },
  {
   "cell_type": "code",
   "execution_count": 100,
   "id": "03e1d214",
   "metadata": {},
   "outputs": [
    {
     "data": {
      "text/plain": [
       "group C    310\n",
       "group D    250\n",
       "group B    191\n",
       "group E    126\n",
       "Name: race/ethnicity, dtype: int64"
      ]
     },
     "execution_count": 100,
     "metadata": {},
     "output_type": "execute_result"
    }
   ],
   "source": [
    "ethnicity_df['race/ethnicity'].value_counts()"
   ]
  },
  {
   "cell_type": "markdown",
   "id": "fb484041",
   "metadata": {},
   "source": [
    "### B. Deduplicate your data"
   ]
  },
  {
   "cell_type": "code",
   "execution_count": 101,
   "id": "4e246cbd",
   "metadata": {},
   "outputs": [
    {
     "data": {
      "text/plain": [
       "(952, 12)"
      ]
     },
     "execution_count": 101,
     "metadata": {},
     "output_type": "execute_result"
    }
   ],
   "source": [
    "df.shape"
   ]
  },
  {
   "cell_type": "code",
   "execution_count": 102,
   "id": "6889947d",
   "metadata": {},
   "outputs": [],
   "source": [
    "df.drop_duplicates(inplace=True)"
   ]
  },
  {
   "cell_type": "code",
   "execution_count": 103,
   "id": "79c5ed6e",
   "metadata": {},
   "outputs": [
    {
     "data": {
      "text/plain": [
       "(952, 12)"
      ]
     },
     "execution_count": 103,
     "metadata": {},
     "output_type": "execute_result"
    }
   ],
   "source": [
    "df.shape"
   ]
  },
  {
   "cell_type": "markdown",
   "id": "78cbf95e",
   "metadata": {},
   "source": [
    "### C. Fix Structural Errors"
   ]
  },
  {
   "cell_type": "code",
   "execution_count": 104,
   "id": "f403e419",
   "metadata": {},
   "outputs": [
    {
     "data": {
      "text/plain": [
       "male      360\n",
       "female    315\n",
       "FEMALE     96\n",
       "MALE       92\n",
       "Male       48\n",
       "Female     41\n",
       "Name: gender, dtype: int64"
      ]
     },
     "execution_count": 104,
     "metadata": {},
     "output_type": "execute_result"
    }
   ],
   "source": [
    "df['gender'].value_counts()"
   ]
  },
  {
   "cell_type": "code",
   "execution_count": 105,
   "id": "34df66df",
   "metadata": {},
   "outputs": [
    {
     "data": {
      "text/plain": [
       "male      500\n",
       "female    452\n",
       "Name: gender, dtype: int64"
      ]
     },
     "execution_count": 105,
     "metadata": {},
     "output_type": "execute_result"
    }
   ],
   "source": [
    "df['gender'] = df['gender'].str.lower()\n",
    "df['gender'].value_counts()"
   ]
  },
  {
   "cell_type": "markdown",
   "id": "f740447a",
   "metadata": {},
   "source": [
    "The parental education level seems to have repeated degrees for high school. \n",
    "\n",
    "Can you make only one name for some highschool and high school?"
   ]
  },
  {
   "cell_type": "code",
   "execution_count": 106,
   "id": "0430eef3",
   "metadata": {},
   "outputs": [
    {
     "data": {
      "text/plain": [
       "Index(['gender', 'race/ethnicity', 'parental level of education', 'lunch',\n",
       "       'test preparation course', 'math score', 'reading score',\n",
       "       'writing score', 'id_student', 'address', 'Year', 'Age'],\n",
       "      dtype='object')"
      ]
     },
     "execution_count": 106,
     "metadata": {},
     "output_type": "execute_result"
    }
   ],
   "source": [
    "df.columns"
   ]
  },
  {
   "cell_type": "code",
   "execution_count": 107,
   "id": "0499101d",
   "metadata": {},
   "outputs": [
    {
     "data": {
      "text/plain": [
       "some college          215\n",
       "high school           197\n",
       "associate's degree    193\n",
       "some high school      177\n",
       "bachelor's degree     107\n",
       "master's degree        63\n",
       "Name: parental level of education, dtype: int64"
      ]
     },
     "execution_count": 107,
     "metadata": {},
     "output_type": "execute_result"
    }
   ],
   "source": [
    "df['parental level of education'].value_counts()"
   ]
  },
  {
   "cell_type": "code",
   "execution_count": 108,
   "id": "ffcbbc9a",
   "metadata": {},
   "outputs": [],
   "source": [
    "df['parental level of education'].replace('some high school', 'high school', inplace=True)"
   ]
  },
  {
   "cell_type": "code",
   "execution_count": 109,
   "id": "e0d09cbe",
   "metadata": {},
   "outputs": [
    {
     "data": {
      "text/plain": [
       "high school           374\n",
       "some college          215\n",
       "associate's degree    193\n",
       "bachelor's degree     107\n",
       "master's degree        63\n",
       "Name: parental level of education, dtype: int64"
      ]
     },
     "execution_count": 109,
     "metadata": {},
     "output_type": "execute_result"
    }
   ],
   "source": [
    "df['parental level of education'].replace('some high school', 'high school').value_counts()"
   ]
  },
  {
   "cell_type": "markdown",
   "id": "92fa9499",
   "metadata": {},
   "source": [
    "### D. Missing values"
   ]
  },
  {
   "cell_type": "markdown",
   "id": "83f93376",
   "metadata": {},
   "source": [
    "Look at the columns address all of the values are missing"
   ]
  },
  {
   "cell_type": "code",
   "execution_count": 110,
   "id": "e945936d",
   "metadata": {},
   "outputs": [
    {
     "data": {
      "text/plain": [
       "gender                           0\n",
       "race/ethnicity                   0\n",
       "parental level of education      0\n",
       "lunch                            0\n",
       "test preparation course          0\n",
       "math score                       0\n",
       "reading score                    0\n",
       "writing score                    0\n",
       "id_student                       0\n",
       "address                        952\n",
       "Year                             0\n",
       "Age                             62\n",
       "dtype: int64"
      ]
     },
     "execution_count": 110,
     "metadata": {},
     "output_type": "execute_result"
    }
   ],
   "source": [
    "df.isna().sum()"
   ]
  },
  {
   "cell_type": "code",
   "execution_count": 111,
   "id": "5c53a4c2",
   "metadata": {},
   "outputs": [],
   "source": [
    "df.drop(['address'], axis=1, inplace=True)"
   ]
  },
  {
   "cell_type": "code",
   "execution_count": 112,
   "id": "99330a0b",
   "metadata": {},
   "outputs": [
    {
     "data": {
      "text/plain": [
       "15.496629213483146"
      ]
     },
     "execution_count": 112,
     "metadata": {},
     "output_type": "execute_result"
    }
   ],
   "source": [
    "df['Age'].mean()"
   ]
  },
  {
   "cell_type": "code",
   "execution_count": 113,
   "id": "2167fc0f",
   "metadata": {},
   "outputs": [],
   "source": [
    "df['Age'].fillna(df['Age'].mean(), inplace=True)"
   ]
  },
  {
   "cell_type": "code",
   "execution_count": 27,
   "id": "3ee2af20",
   "metadata": {},
   "outputs": [
    {
     "data": {
      "text/plain": [
       "gender                         0\n",
       "race/ethnicity                 0\n",
       "parental level of education    0\n",
       "lunch                          0\n",
       "test preparation course        0\n",
       "math score                     0\n",
       "reading score                  0\n",
       "writing score                  0\n",
       "id_student                     0\n",
       "Year                           0\n",
       "Age                            0\n",
       "dtype: int64"
      ]
     },
     "execution_count": 27,
     "metadata": {},
     "output_type": "execute_result"
    }
   ],
   "source": [
    "df.isna().sum()"
   ]
  },
  {
   "cell_type": "markdown",
   "id": "b7f0f13f",
   "metadata": {},
   "source": [
    "### E. Data Outliers"
   ]
  },
  {
   "cell_type": "code",
   "execution_count": 115,
   "id": "a048d807",
   "metadata": {},
   "outputs": [
    {
     "data": {
      "text/html": [
       "<div>\n",
       "<style scoped>\n",
       "    .dataframe tbody tr th:only-of-type {\n",
       "        vertical-align: middle;\n",
       "    }\n",
       "\n",
       "    .dataframe tbody tr th {\n",
       "        vertical-align: top;\n",
       "    }\n",
       "\n",
       "    .dataframe thead th {\n",
       "        text-align: right;\n",
       "    }\n",
       "</style>\n",
       "<table border=\"1\" class=\"dataframe\">\n",
       "  <thead>\n",
       "    <tr style=\"text-align: right;\">\n",
       "      <th></th>\n",
       "      <th>gender</th>\n",
       "      <th>race/ethnicity</th>\n",
       "      <th>parental level of education</th>\n",
       "      <th>lunch</th>\n",
       "      <th>test preparation course</th>\n",
       "      <th>math score</th>\n",
       "      <th>reading score</th>\n",
       "      <th>writing score</th>\n",
       "      <th>id_student</th>\n",
       "      <th>Year</th>\n",
       "      <th>Age</th>\n",
       "    </tr>\n",
       "  </thead>\n",
       "  <tbody>\n",
       "    <tr>\n",
       "      <th>0</th>\n",
       "      <td>male</td>\n",
       "      <td>group A</td>\n",
       "      <td>high school</td>\n",
       "      <td>standard</td>\n",
       "      <td>completed</td>\n",
       "      <td>67</td>\n",
       "      <td>67</td>\n",
       "      <td>63</td>\n",
       "      <td>1000</td>\n",
       "      <td>2023</td>\n",
       "      <td>14.0</td>\n",
       "    </tr>\n",
       "    <tr>\n",
       "      <th>1</th>\n",
       "      <td>female</td>\n",
       "      <td>group D</td>\n",
       "      <td>high school</td>\n",
       "      <td>free/reduced</td>\n",
       "      <td>none</td>\n",
       "      <td>40</td>\n",
       "      <td>29</td>\n",
       "      <td>55</td>\n",
       "      <td>1001</td>\n",
       "      <td>2023</td>\n",
       "      <td>17.0</td>\n",
       "    </tr>\n",
       "    <tr>\n",
       "      <th>2</th>\n",
       "      <td>male</td>\n",
       "      <td>group E</td>\n",
       "      <td>some college</td>\n",
       "      <td>free/reduced</td>\n",
       "      <td>none</td>\n",
       "      <td>59</td>\n",
       "      <td>60</td>\n",
       "      <td>50</td>\n",
       "      <td>1002</td>\n",
       "      <td>2023</td>\n",
       "      <td>14.0</td>\n",
       "    </tr>\n",
       "    <tr>\n",
       "      <th>3</th>\n",
       "      <td>male</td>\n",
       "      <td>group B</td>\n",
       "      <td>high school</td>\n",
       "      <td>standard</td>\n",
       "      <td>none</td>\n",
       "      <td>77</td>\n",
       "      <td>78</td>\n",
       "      <td>68</td>\n",
       "      <td>1003</td>\n",
       "      <td>2023</td>\n",
       "      <td>17.0</td>\n",
       "    </tr>\n",
       "    <tr>\n",
       "      <th>4</th>\n",
       "      <td>male</td>\n",
       "      <td>group E</td>\n",
       "      <td>associate's degree</td>\n",
       "      <td>standard</td>\n",
       "      <td>completed</td>\n",
       "      <td>78</td>\n",
       "      <td>73</td>\n",
       "      <td>68</td>\n",
       "      <td>1004</td>\n",
       "      <td>2023</td>\n",
       "      <td>16.0</td>\n",
       "    </tr>\n",
       "  </tbody>\n",
       "</table>\n",
       "</div>"
      ],
      "text/plain": [
       "   gender race/ethnicity parental level of education         lunch  \\\n",
       "0    male        group A                 high school      standard   \n",
       "1  female        group D                 high school  free/reduced   \n",
       "2    male        group E                some college  free/reduced   \n",
       "3    male        group B                 high school      standard   \n",
       "4    male        group E          associate's degree      standard   \n",
       "\n",
       "  test preparation course  math score  reading score  writing score  \\\n",
       "0               completed          67             67             63   \n",
       "1                    none          40             29             55   \n",
       "2                    none          59             60             50   \n",
       "3                    none          77             78             68   \n",
       "4               completed          78             73             68   \n",
       "\n",
       "   id_student  Year   Age  \n",
       "0        1000  2023  14.0  \n",
       "1        1001  2023  17.0  \n",
       "2        1002  2023  14.0  \n",
       "3        1003  2023  17.0  \n",
       "4        1004  2023  16.0  "
      ]
     },
     "execution_count": 115,
     "metadata": {},
     "output_type": "execute_result"
    }
   ],
   "source": [
    "df.head()"
   ]
  },
  {
   "cell_type": "code",
   "execution_count": null,
   "id": "f824e326",
   "metadata": {},
   "outputs": [],
   "source": []
  },
  {
   "cell_type": "code",
   "execution_count": 116,
   "id": "36dda4bf",
   "metadata": {},
   "outputs": [
    {
     "data": {
      "text/html": [
       "<div>\n",
       "<style scoped>\n",
       "    .dataframe tbody tr th:only-of-type {\n",
       "        vertical-align: middle;\n",
       "    }\n",
       "\n",
       "    .dataframe tbody tr th {\n",
       "        vertical-align: top;\n",
       "    }\n",
       "\n",
       "    .dataframe thead th {\n",
       "        text-align: right;\n",
       "    }\n",
       "</style>\n",
       "<table border=\"1\" class=\"dataframe\">\n",
       "  <thead>\n",
       "    <tr style=\"text-align: right;\">\n",
       "      <th></th>\n",
       "      <th>math score</th>\n",
       "      <th>reading score</th>\n",
       "      <th>writing score</th>\n",
       "      <th>id_student</th>\n",
       "      <th>Year</th>\n",
       "      <th>Age</th>\n",
       "    </tr>\n",
       "  </thead>\n",
       "  <tbody>\n",
       "    <tr>\n",
       "      <th>count</th>\n",
       "      <td>952.000000</td>\n",
       "      <td>952.000000</td>\n",
       "      <td>952.000000</td>\n",
       "      <td>952.000000</td>\n",
       "      <td>952.0</td>\n",
       "      <td>952.000000</td>\n",
       "    </tr>\n",
       "    <tr>\n",
       "      <th>mean</th>\n",
       "      <td>66.260504</td>\n",
       "      <td>64.728992</td>\n",
       "      <td>69.961134</td>\n",
       "      <td>1496.940126</td>\n",
       "      <td>2023.0</td>\n",
       "      <td>15.496629</td>\n",
       "    </tr>\n",
       "    <tr>\n",
       "      <th>std</th>\n",
       "      <td>15.528861</td>\n",
       "      <td>19.015962</td>\n",
       "      <td>19.160992</td>\n",
       "      <td>289.792695</td>\n",
       "      <td>0.0</td>\n",
       "      <td>1.113199</td>\n",
       "    </tr>\n",
       "    <tr>\n",
       "      <th>min</th>\n",
       "      <td>13.000000</td>\n",
       "      <td>15.000000</td>\n",
       "      <td>23.000000</td>\n",
       "      <td>1000.000000</td>\n",
       "      <td>2023.0</td>\n",
       "      <td>14.000000</td>\n",
       "    </tr>\n",
       "    <tr>\n",
       "      <th>25%</th>\n",
       "      <td>55.000000</td>\n",
       "      <td>53.000000</td>\n",
       "      <td>57.000000</td>\n",
       "      <td>1247.500000</td>\n",
       "      <td>2023.0</td>\n",
       "      <td>14.000000</td>\n",
       "    </tr>\n",
       "    <tr>\n",
       "      <th>50%</th>\n",
       "      <td>66.000000</td>\n",
       "      <td>67.000000</td>\n",
       "      <td>67.500000</td>\n",
       "      <td>1501.500000</td>\n",
       "      <td>2023.0</td>\n",
       "      <td>15.496629</td>\n",
       "    </tr>\n",
       "    <tr>\n",
       "      <th>75%</th>\n",
       "      <td>77.000000</td>\n",
       "      <td>78.000000</td>\n",
       "      <td>79.000000</td>\n",
       "      <td>1746.250000</td>\n",
       "      <td>2023.0</td>\n",
       "      <td>16.000000</td>\n",
       "    </tr>\n",
       "    <tr>\n",
       "      <th>max</th>\n",
       "      <td>120.000000</td>\n",
       "      <td>100.000000</td>\n",
       "      <td>100.000000</td>\n",
       "      <td>1999.000000</td>\n",
       "      <td>2023.0</td>\n",
       "      <td>17.000000</td>\n",
       "    </tr>\n",
       "  </tbody>\n",
       "</table>\n",
       "</div>"
      ],
      "text/plain": [
       "       math score  reading score  writing score   id_student    Year  \\\n",
       "count  952.000000     952.000000     952.000000   952.000000   952.0   \n",
       "mean    66.260504      64.728992      69.961134  1496.940126  2023.0   \n",
       "std     15.528861      19.015962      19.160992   289.792695     0.0   \n",
       "min     13.000000      15.000000      23.000000  1000.000000  2023.0   \n",
       "25%     55.000000      53.000000      57.000000  1247.500000  2023.0   \n",
       "50%     66.000000      67.000000      67.500000  1501.500000  2023.0   \n",
       "75%     77.000000      78.000000      79.000000  1746.250000  2023.0   \n",
       "max    120.000000     100.000000     100.000000  1999.000000  2023.0   \n",
       "\n",
       "              Age  \n",
       "count  952.000000  \n",
       "mean    15.496629  \n",
       "std      1.113199  \n",
       "min     14.000000  \n",
       "25%     14.000000  \n",
       "50%     15.496629  \n",
       "75%     16.000000  \n",
       "max     17.000000  "
      ]
     },
     "execution_count": 116,
     "metadata": {},
     "output_type": "execute_result"
    }
   ],
   "source": [
    "df.describe()"
   ]
  },
  {
   "cell_type": "code",
   "execution_count": 118,
   "id": "4075b0df",
   "metadata": {},
   "outputs": [],
   "source": [
    "corrected_df = df[df['math score'] <= 100]"
   ]
  },
  {
   "cell_type": "code",
   "execution_count": 119,
   "id": "3e3adf8c",
   "metadata": {},
   "outputs": [
    {
     "data": {
      "text/plain": [
       "100"
      ]
     },
     "execution_count": 119,
     "metadata": {},
     "output_type": "execute_result"
    }
   ],
   "source": [
    "corrected_df['math score'].max()"
   ]
  },
  {
   "cell_type": "code",
   "execution_count": null,
   "id": "63620dc8",
   "metadata": {},
   "outputs": [],
   "source": []
  },
  {
   "cell_type": "code",
   "execution_count": null,
   "id": "13c46010",
   "metadata": {},
   "outputs": [],
   "source": []
  },
  {
   "cell_type": "code",
   "execution_count": 123,
   "id": "85786158",
   "metadata": {},
   "outputs": [],
   "source": [
    "df = df[df['math score'] <= 100]"
   ]
  },
  {
   "cell_type": "code",
   "execution_count": 124,
   "id": "2572ef78",
   "metadata": {},
   "outputs": [],
   "source": [
    "aa = df[df['math score'] > 100].index"
   ]
  },
  {
   "cell_type": "code",
   "execution_count": 125,
   "id": "b06704c0",
   "metadata": {},
   "outputs": [
    {
     "data": {
      "text/plain": [
       "Int64Index([], dtype='int64')"
      ]
     },
     "execution_count": 125,
     "metadata": {},
     "output_type": "execute_result"
    }
   ],
   "source": [
    "aa"
   ]
  },
  {
   "cell_type": "code",
   "execution_count": 126,
   "id": "730e7325",
   "metadata": {},
   "outputs": [],
   "source": [
    "df.drop(labels=aa, axis=0, inplace=True)"
   ]
  },
  {
   "cell_type": "code",
   "execution_count": 127,
   "id": "215ae31e",
   "metadata": {},
   "outputs": [
    {
     "data": {
      "text/html": [
       "<div>\n",
       "<style scoped>\n",
       "    .dataframe tbody tr th:only-of-type {\n",
       "        vertical-align: middle;\n",
       "    }\n",
       "\n",
       "    .dataframe tbody tr th {\n",
       "        vertical-align: top;\n",
       "    }\n",
       "\n",
       "    .dataframe thead th {\n",
       "        text-align: right;\n",
       "    }\n",
       "</style>\n",
       "<table border=\"1\" class=\"dataframe\">\n",
       "  <thead>\n",
       "    <tr style=\"text-align: right;\">\n",
       "      <th></th>\n",
       "      <th>math score</th>\n",
       "      <th>reading score</th>\n",
       "      <th>writing score</th>\n",
       "      <th>id_student</th>\n",
       "      <th>Year</th>\n",
       "      <th>Age</th>\n",
       "    </tr>\n",
       "  </thead>\n",
       "  <tbody>\n",
       "    <tr>\n",
       "      <th>count</th>\n",
       "      <td>951.000000</td>\n",
       "      <td>951.000000</td>\n",
       "      <td>951.000000</td>\n",
       "      <td>951.000000</td>\n",
       "      <td>951.0</td>\n",
       "      <td>951.000000</td>\n",
       "    </tr>\n",
       "    <tr>\n",
       "      <th>mean</th>\n",
       "      <td>66.203996</td>\n",
       "      <td>64.705573</td>\n",
       "      <td>69.929548</td>\n",
       "      <td>1497.451104</td>\n",
       "      <td>2023.0</td>\n",
       "      <td>15.496100</td>\n",
       "    </tr>\n",
       "    <tr>\n",
       "      <th>std</th>\n",
       "      <td>15.438790</td>\n",
       "      <td>19.012228</td>\n",
       "      <td>19.146259</td>\n",
       "      <td>289.515765</td>\n",
       "      <td>0.0</td>\n",
       "      <td>1.113665</td>\n",
       "    </tr>\n",
       "    <tr>\n",
       "      <th>min</th>\n",
       "      <td>13.000000</td>\n",
       "      <td>15.000000</td>\n",
       "      <td>23.000000</td>\n",
       "      <td>1000.000000</td>\n",
       "      <td>2023.0</td>\n",
       "      <td>14.000000</td>\n",
       "    </tr>\n",
       "    <tr>\n",
       "      <th>25%</th>\n",
       "      <td>55.000000</td>\n",
       "      <td>53.000000</td>\n",
       "      <td>57.000000</td>\n",
       "      <td>1248.500000</td>\n",
       "      <td>2023.0</td>\n",
       "      <td>14.000000</td>\n",
       "    </tr>\n",
       "    <tr>\n",
       "      <th>50%</th>\n",
       "      <td>66.000000</td>\n",
       "      <td>67.000000</td>\n",
       "      <td>67.000000</td>\n",
       "      <td>1502.000000</td>\n",
       "      <td>2023.0</td>\n",
       "      <td>15.496629</td>\n",
       "    </tr>\n",
       "    <tr>\n",
       "      <th>75%</th>\n",
       "      <td>77.000000</td>\n",
       "      <td>78.000000</td>\n",
       "      <td>79.000000</td>\n",
       "      <td>1746.500000</td>\n",
       "      <td>2023.0</td>\n",
       "      <td>16.000000</td>\n",
       "    </tr>\n",
       "    <tr>\n",
       "      <th>max</th>\n",
       "      <td>100.000000</td>\n",
       "      <td>100.000000</td>\n",
       "      <td>100.000000</td>\n",
       "      <td>1999.000000</td>\n",
       "      <td>2023.0</td>\n",
       "      <td>17.000000</td>\n",
       "    </tr>\n",
       "  </tbody>\n",
       "</table>\n",
       "</div>"
      ],
      "text/plain": [
       "       math score  reading score  writing score   id_student    Year  \\\n",
       "count  951.000000     951.000000     951.000000   951.000000   951.0   \n",
       "mean    66.203996      64.705573      69.929548  1497.451104  2023.0   \n",
       "std     15.438790      19.012228      19.146259   289.515765     0.0   \n",
       "min     13.000000      15.000000      23.000000  1000.000000  2023.0   \n",
       "25%     55.000000      53.000000      57.000000  1248.500000  2023.0   \n",
       "50%     66.000000      67.000000      67.000000  1502.000000  2023.0   \n",
       "75%     77.000000      78.000000      79.000000  1746.500000  2023.0   \n",
       "max    100.000000     100.000000     100.000000  1999.000000  2023.0   \n",
       "\n",
       "              Age  \n",
       "count  951.000000  \n",
       "mean    15.496100  \n",
       "std      1.113665  \n",
       "min     14.000000  \n",
       "25%     14.000000  \n",
       "50%     15.496629  \n",
       "75%     16.000000  \n",
       "max     17.000000  "
      ]
     },
     "execution_count": 127,
     "metadata": {},
     "output_type": "execute_result"
    }
   ],
   "source": [
    "df.describe()"
   ]
  },
  {
   "cell_type": "markdown",
   "id": "35bb72c2",
   "metadata": {},
   "source": [
    "## 2. Data Exploration"
   ]
  },
  {
   "cell_type": "markdown",
   "id": "fb044381",
   "metadata": {},
   "source": [
    "### A. Preliminary Data Processing"
   ]
  },
  {
   "cell_type": "code",
   "execution_count": 42,
   "id": "ec86c7bb",
   "metadata": {},
   "outputs": [
    {
     "data": {
      "text/html": [
       "<div>\n",
       "<style scoped>\n",
       "    .dataframe tbody tr th:only-of-type {\n",
       "        vertical-align: middle;\n",
       "    }\n",
       "\n",
       "    .dataframe tbody tr th {\n",
       "        vertical-align: top;\n",
       "    }\n",
       "\n",
       "    .dataframe thead th {\n",
       "        text-align: right;\n",
       "    }\n",
       "</style>\n",
       "<table border=\"1\" class=\"dataframe\">\n",
       "  <thead>\n",
       "    <tr style=\"text-align: right;\">\n",
       "      <th></th>\n",
       "      <th>gender</th>\n",
       "      <th>race/ethnicity</th>\n",
       "      <th>parental level of education</th>\n",
       "      <th>lunch</th>\n",
       "      <th>test preparation course</th>\n",
       "      <th>math score</th>\n",
       "      <th>reading score</th>\n",
       "      <th>writing score</th>\n",
       "      <th>id_student</th>\n",
       "      <th>Year</th>\n",
       "      <th>Age</th>\n",
       "    </tr>\n",
       "  </thead>\n",
       "  <tbody>\n",
       "    <tr>\n",
       "      <th>0</th>\n",
       "      <td>male</td>\n",
       "      <td>group A</td>\n",
       "      <td>high school</td>\n",
       "      <td>standard</td>\n",
       "      <td>completed</td>\n",
       "      <td>67</td>\n",
       "      <td>67</td>\n",
       "      <td>63</td>\n",
       "      <td>1000</td>\n",
       "      <td>2023</td>\n",
       "      <td>14.0</td>\n",
       "    </tr>\n",
       "    <tr>\n",
       "      <th>1</th>\n",
       "      <td>female</td>\n",
       "      <td>group D</td>\n",
       "      <td>high school</td>\n",
       "      <td>free/reduced</td>\n",
       "      <td>none</td>\n",
       "      <td>40</td>\n",
       "      <td>29</td>\n",
       "      <td>55</td>\n",
       "      <td>1001</td>\n",
       "      <td>2023</td>\n",
       "      <td>17.0</td>\n",
       "    </tr>\n",
       "    <tr>\n",
       "      <th>2</th>\n",
       "      <td>male</td>\n",
       "      <td>group E</td>\n",
       "      <td>some college</td>\n",
       "      <td>free/reduced</td>\n",
       "      <td>none</td>\n",
       "      <td>59</td>\n",
       "      <td>60</td>\n",
       "      <td>50</td>\n",
       "      <td>1002</td>\n",
       "      <td>2023</td>\n",
       "      <td>14.0</td>\n",
       "    </tr>\n",
       "    <tr>\n",
       "      <th>3</th>\n",
       "      <td>male</td>\n",
       "      <td>group B</td>\n",
       "      <td>high school</td>\n",
       "      <td>standard</td>\n",
       "      <td>none</td>\n",
       "      <td>77</td>\n",
       "      <td>78</td>\n",
       "      <td>68</td>\n",
       "      <td>1003</td>\n",
       "      <td>2023</td>\n",
       "      <td>17.0</td>\n",
       "    </tr>\n",
       "    <tr>\n",
       "      <th>4</th>\n",
       "      <td>male</td>\n",
       "      <td>group E</td>\n",
       "      <td>associate's degree</td>\n",
       "      <td>standard</td>\n",
       "      <td>completed</td>\n",
       "      <td>78</td>\n",
       "      <td>73</td>\n",
       "      <td>68</td>\n",
       "      <td>1004</td>\n",
       "      <td>2023</td>\n",
       "      <td>16.0</td>\n",
       "    </tr>\n",
       "  </tbody>\n",
       "</table>\n",
       "</div>"
      ],
      "text/plain": [
       "   gender race/ethnicity parental level of education         lunch  \\\n",
       "0    male        group A                 high school      standard   \n",
       "1  female        group D                 high school  free/reduced   \n",
       "2    male        group E                some college  free/reduced   \n",
       "3    male        group B                 high school      standard   \n",
       "4    male        group E          associate's degree      standard   \n",
       "\n",
       "  test preparation course  math score  reading score  writing score  \\\n",
       "0               completed          67             67             63   \n",
       "1                    none          40             29             55   \n",
       "2                    none          59             60             50   \n",
       "3                    none          77             78             68   \n",
       "4               completed          78             73             68   \n",
       "\n",
       "   id_student  Year   Age  \n",
       "0        1000  2023  14.0  \n",
       "1        1001  2023  17.0  \n",
       "2        1002  2023  14.0  \n",
       "3        1003  2023  17.0  \n",
       "4        1004  2023  16.0  "
      ]
     },
     "execution_count": 42,
     "metadata": {},
     "output_type": "execute_result"
    }
   ],
   "source": [
    "df.head()"
   ]
  },
  {
   "cell_type": "code",
   "execution_count": 43,
   "id": "40acc4f1",
   "metadata": {},
   "outputs": [
    {
     "name": "stdout",
     "output_type": "stream",
     "text": [
      "<class 'pandas.core.frame.DataFrame'>\n",
      "Int64Index: 951 entries, 0 to 1009\n",
      "Data columns (total 11 columns):\n",
      " #   Column                       Non-Null Count  Dtype  \n",
      "---  ------                       --------------  -----  \n",
      " 0   gender                       951 non-null    object \n",
      " 1   race/ethnicity               951 non-null    object \n",
      " 2   parental level of education  951 non-null    object \n",
      " 3   lunch                        951 non-null    object \n",
      " 4   test preparation course      951 non-null    object \n",
      " 5   math score                   951 non-null    int64  \n",
      " 6   reading score                951 non-null    int64  \n",
      " 7   writing score                951 non-null    int64  \n",
      " 8   id_student                   951 non-null    int64  \n",
      " 9   Year                         951 non-null    int64  \n",
      " 10  Age                          951 non-null    float64\n",
      "dtypes: float64(1), int64(5), object(5)\n",
      "memory usage: 89.2+ KB\n"
     ]
    }
   ],
   "source": [
    "df.info()"
   ]
  },
  {
   "cell_type": "code",
   "execution_count": 44,
   "id": "0f7caf4c",
   "metadata": {},
   "outputs": [],
   "source": [
    "df['id_student'] = df['id_student'].astype('str')"
   ]
  },
  {
   "cell_type": "code",
   "execution_count": 45,
   "id": "da3303a9",
   "metadata": {},
   "outputs": [
    {
     "name": "stdout",
     "output_type": "stream",
     "text": [
      "<class 'pandas.core.frame.DataFrame'>\n",
      "Int64Index: 951 entries, 0 to 1009\n",
      "Data columns (total 11 columns):\n",
      " #   Column                       Non-Null Count  Dtype  \n",
      "---  ------                       --------------  -----  \n",
      " 0   gender                       951 non-null    object \n",
      " 1   race/ethnicity               951 non-null    object \n",
      " 2   parental level of education  951 non-null    object \n",
      " 3   lunch                        951 non-null    object \n",
      " 4   test preparation course      951 non-null    object \n",
      " 5   math score                   951 non-null    int64  \n",
      " 6   reading score                951 non-null    int64  \n",
      " 7   writing score                951 non-null    int64  \n",
      " 8   id_student                   951 non-null    object \n",
      " 9   Year                         951 non-null    int64  \n",
      " 10  Age                          951 non-null    float64\n",
      "dtypes: float64(1), int64(4), object(6)\n",
      "memory usage: 89.2+ KB\n"
     ]
    }
   ],
   "source": [
    "df.info()"
   ]
  },
  {
   "cell_type": "code",
   "execution_count": 46,
   "id": "88b0ef8d",
   "metadata": {},
   "outputs": [
    {
     "data": {
      "text/plain": [
       "14.000000    243\n",
       "17.000000    235\n",
       "16.000000    214\n",
       "15.000000    197\n",
       "15.496629     62\n",
       "Name: Age, dtype: int64"
      ]
     },
     "execution_count": 46,
     "metadata": {},
     "output_type": "execute_result"
    }
   ],
   "source": [
    "df['Age'].value_counts()"
   ]
  },
  {
   "cell_type": "markdown",
   "id": "3b05cd07",
   "metadata": {},
   "source": [
    "### B. Categorical EDA "
   ]
  },
  {
   "cell_type": "code",
   "execution_count": 47,
   "id": "9346fa60",
   "metadata": {},
   "outputs": [
    {
     "data": {
      "text/plain": [
       "group C    310\n",
       "group D    249\n",
       "group B    191\n",
       "group E    126\n",
       "group A     75\n",
       "Name: race/ethnicity, dtype: int64"
      ]
     },
     "execution_count": 47,
     "metadata": {},
     "output_type": "execute_result"
    }
   ],
   "source": [
    "df['race/ethnicity'].value_counts()"
   ]
  },
  {
   "cell_type": "code",
   "execution_count": 48,
   "id": "c41f7a64",
   "metadata": {},
   "outputs": [
    {
     "data": {
      "text/plain": [
       "<AxesSubplot:>"
      ]
     },
     "execution_count": 48,
     "metadata": {},
     "output_type": "execute_result"
    },
    {
     "data": {
      "image/png": "[encoded data removed]",
      "text/plain": [
       "<Figure size 432x288 with 1 Axes>"
      ]
     },
     "metadata": {
      "needs_background": "light"
     },
     "output_type": "display_data"
    }
   ],
   "source": [
    "df['race/ethnicity'].value_counts().plot(kind='bar')"
   ]
  },
  {
   "cell_type": "code",
   "execution_count": 49,
   "id": "544c542b",
   "metadata": {},
   "outputs": [
    {
     "data": {
      "text/plain": [
       "<AxesSubplot:>"
      ]
     },
     "execution_count": 49,
     "metadata": {},
     "output_type": "execute_result"
    },
    {
     "data": {
      "image/png": "[encoded data removed]",
      "text/plain": [
       "<Figure size 432x288 with 1 Axes>"
      ]
     },
     "metadata": {
      "needs_background": "light"
     },
     "output_type": "display_data"
    }
   ],
   "source": [
    "df['gender'].value_counts().plot(kind='bar')"
   ]
  },
  {
   "cell_type": "code",
   "execution_count": 50,
   "id": "412d51ff",
   "metadata": {},
   "outputs": [
    {
     "data": {
      "text/plain": [
       "<AxesSubplot:>"
      ]
     },
     "execution_count": 50,
     "metadata": {},
     "output_type": "execute_result"
    },
    {
     "data": {
      "image/png": "[encoded data removed]",
      "text/plain": [
       "<Figure size 432x288 with 1 Axes>"
      ]
     },
     "metadata": {
      "needs_background": "light"
     },
     "output_type": "display_data"
    }
   ],
   "source": [
    "df['lunch'].value_counts().plot(kind='bar')"
   ]
  },
  {
   "cell_type": "code",
   "execution_count": 51,
   "id": "6525cbc9",
   "metadata": {},
   "outputs": [
    {
     "data": {
      "text/plain": [
       "none         639\n",
       "completed    312\n",
       "Name: test preparation course, dtype: int64"
      ]
     },
     "execution_count": 51,
     "metadata": {},
     "output_type": "execute_result"
    }
   ],
   "source": [
    "df['test preparation course'].value_counts()"
   ]
  },
  {
   "cell_type": "code",
   "execution_count": 52,
   "id": "e102cc60",
   "metadata": {},
   "outputs": [
    {
     "data": {
      "text/plain": [
       "<AxesSubplot:>"
      ]
     },
     "execution_count": 52,
     "metadata": {},
     "output_type": "execute_result"
    },
    {
     "data": {
      "image/png": "[encoded data removed]",
      "text/plain": [
       "<Figure size 432x288 with 1 Axes>"
      ]
     },
     "metadata": {
      "needs_background": "light"
     },
     "output_type": "display_data"
    }
   ],
   "source": [
    "df['test preparation course'].value_counts().plot(kind='bar')"
   ]
  },
  {
   "cell_type": "code",
   "execution_count": 53,
   "id": "b6bc807d",
   "metadata": {},
   "outputs": [],
   "source": [
    "import matplotlib.pyplot as plt"
   ]
  },
  {
   "cell_type": "code",
   "execution_count": 54,
   "id": "26a4e76c",
   "metadata": {},
   "outputs": [
    {
     "name": "stdout",
     "output_type": "stream",
     "text": [
      "<class 'pandas.core.frame.DataFrame'>\n",
      "Int64Index: 951 entries, 0 to 1009\n",
      "Data columns (total 11 columns):\n",
      " #   Column                       Non-Null Count  Dtype  \n",
      "---  ------                       --------------  -----  \n",
      " 0   gender                       951 non-null    object \n",
      " 1   race/ethnicity               951 non-null    object \n",
      " 2   parental level of education  951 non-null    object \n",
      " 3   lunch                        951 non-null    object \n",
      " 4   test preparation course      951 non-null    object \n",
      " 5   math score                   951 non-null    int64  \n",
      " 6   reading score                951 non-null    int64  \n",
      " 7   writing score                951 non-null    int64  \n",
      " 8   id_student                   951 non-null    object \n",
      " 9   Year                         951 non-null    int64  \n",
      " 10  Age                          951 non-null    float64\n",
      "dtypes: float64(1), int64(4), object(6)\n",
      "memory usage: 89.2+ KB\n"
     ]
    }
   ],
   "source": [
    "df.info()\n"
   ]
  },
  {
   "cell_type": "code",
   "execution_count": 55,
   "id": "33163351",
   "metadata": {},
   "outputs": [
    {
     "data": {
      "text/plain": [
       "dtype('int64')"
      ]
     },
     "execution_count": 55,
     "metadata": {},
     "output_type": "execute_result"
    }
   ],
   "source": [
    "df['math score'].dtype"
   ]
  },
  {
   "cell_type": "code",
   "execution_count": 56,
   "id": "4154f65b",
   "metadata": {},
   "outputs": [
    {
     "name": "stdout",
     "output_type": "stream",
     "text": [
      "gender\n"
     ]
    },
    {
     "data": {
      "image/png": "[encoded data removed]",
      "text/plain": [
       "<Figure size 432x288 with 1 Axes>"
      ]
     },
     "metadata": {
      "needs_background": "light"
     },
     "output_type": "display_data"
    },
    {
     "name": "stdout",
     "output_type": "stream",
     "text": [
      "race/ethnicity\n"
     ]
    },
    {
     "data": {
      "image/png": "[encoded data removed]",
      "text/plain": [
       "<Figure size 432x288 with 1 Axes>"
      ]
     },
     "metadata": {
      "needs_background": "light"
     },
     "output_type": "display_data"
    },
    {
     "name": "stdout",
     "output_type": "stream",
     "text": [
      "parental level of education\n"
     ]
    },
    {
     "data": {
      "image/png": "[encoded data removed]",
      "text/plain": [
       "<Figure size 432x288 with 1 Axes>"
      ]
     },
     "metadata": {
      "needs_background": "light"
     },
     "output_type": "display_data"
    },
    {
     "name": "stdout",
     "output_type": "stream",
     "text": [
      "lunch\n"
     ]
    },
    {
     "data": {
      "image/png": "[encoded data removed]",
      "text/plain": [
       "<Figure size 432x288 with 1 Axes>"
      ]
     },
     "metadata": {
      "needs_background": "light"
     },
     "output_type": "display_data"
    },
    {
     "name": "stdout",
     "output_type": "stream",
     "text": [
      "test preparation course\n"
     ]
    },
    {
     "data": {
      "image/png": "[encoded data removed]",
      "text/plain": [
       "<Figure size 432x288 with 1 Axes>"
      ]
     },
     "metadata": {
      "needs_background": "light"
     },
     "output_type": "display_data"
    },
    {
     "name": "stdout",
     "output_type": "stream",
     "text": [
      "id_student\n"
     ]
    },
    {
     "data": {
      "image/png": "[encoded data removed]",
      "text/plain": [
       "<Figure size 432x288 with 1 Axes>"
      ]
     },
     "metadata": {
      "needs_background": "light"
     },
     "output_type": "display_data"
    }
   ],
   "source": [
    "for col in df.columns:\n",
    "    if df[col].dtype == 'O':\n",
    "        df[col].value_counts().plot(kind='bar')\n",
    "        print(col)\n",
    "        plt.show()"
   ]
  },
  {
   "cell_type": "markdown",
   "id": "25cd522b",
   "metadata": {},
   "source": [
    "### C. Numerical EDA"
   ]
  },
  {
   "cell_type": "markdown",
   "id": "a9c613d7",
   "metadata": {},
   "source": [
    "#### a. Distributions"
   ]
  },
  {
   "cell_type": "code",
   "execution_count": 57,
   "id": "a0c54f8a",
   "metadata": {},
   "outputs": [
    {
     "data": {
      "text/html": [
       "<div>\n",
       "<style scoped>\n",
       "    .dataframe tbody tr th:only-of-type {\n",
       "        vertical-align: middle;\n",
       "    }\n",
       "\n",
       "    .dataframe tbody tr th {\n",
       "        vertical-align: top;\n",
       "    }\n",
       "\n",
       "    .dataframe thead th {\n",
       "        text-align: right;\n",
       "    }\n",
       "</style>\n",
       "<table border=\"1\" class=\"dataframe\">\n",
       "  <thead>\n",
       "    <tr style=\"text-align: right;\">\n",
       "      <th></th>\n",
       "      <th>math score</th>\n",
       "      <th>reading score</th>\n",
       "      <th>writing score</th>\n",
       "      <th>Year</th>\n",
       "      <th>Age</th>\n",
       "    </tr>\n",
       "  </thead>\n",
       "  <tbody>\n",
       "    <tr>\n",
       "      <th>count</th>\n",
       "      <td>951.000000</td>\n",
       "      <td>951.000000</td>\n",
       "      <td>951.000000</td>\n",
       "      <td>951.0</td>\n",
       "      <td>951.000000</td>\n",
       "    </tr>\n",
       "    <tr>\n",
       "      <th>mean</th>\n",
       "      <td>66.203996</td>\n",
       "      <td>64.705573</td>\n",
       "      <td>69.929548</td>\n",
       "      <td>2023.0</td>\n",
       "      <td>15.496100</td>\n",
       "    </tr>\n",
       "    <tr>\n",
       "      <th>std</th>\n",
       "      <td>15.438790</td>\n",
       "      <td>19.012228</td>\n",
       "      <td>19.146259</td>\n",
       "      <td>0.0</td>\n",
       "      <td>1.113665</td>\n",
       "    </tr>\n",
       "    <tr>\n",
       "      <th>min</th>\n",
       "      <td>13.000000</td>\n",
       "      <td>15.000000</td>\n",
       "      <td>23.000000</td>\n",
       "      <td>2023.0</td>\n",
       "      <td>14.000000</td>\n",
       "    </tr>\n",
       "    <tr>\n",
       "      <th>25%</th>\n",
       "      <td>55.000000</td>\n",
       "      <td>53.000000</td>\n",
       "      <td>57.000000</td>\n",
       "      <td>2023.0</td>\n",
       "      <td>14.000000</td>\n",
       "    </tr>\n",
       "    <tr>\n",
       "      <th>50%</th>\n",
       "      <td>66.000000</td>\n",
       "      <td>67.000000</td>\n",
       "      <td>67.000000</td>\n",
       "      <td>2023.0</td>\n",
       "      <td>15.496629</td>\n",
       "    </tr>\n",
       "    <tr>\n",
       "      <th>75%</th>\n",
       "      <td>77.000000</td>\n",
       "      <td>78.000000</td>\n",
       "      <td>79.000000</td>\n",
       "      <td>2023.0</td>\n",
       "      <td>16.000000</td>\n",
       "    </tr>\n",
       "    <tr>\n",
       "      <th>max</th>\n",
       "      <td>100.000000</td>\n",
       "      <td>100.000000</td>\n",
       "      <td>100.000000</td>\n",
       "      <td>2023.0</td>\n",
       "      <td>17.000000</td>\n",
       "    </tr>\n",
       "  </tbody>\n",
       "</table>\n",
       "</div>"
      ],
      "text/plain": [
       "       math score  reading score  writing score    Year         Age\n",
       "count  951.000000     951.000000     951.000000   951.0  951.000000\n",
       "mean    66.203996      64.705573      69.929548  2023.0   15.496100\n",
       "std     15.438790      19.012228      19.146259     0.0    1.113665\n",
       "min     13.000000      15.000000      23.000000  2023.0   14.000000\n",
       "25%     55.000000      53.000000      57.000000  2023.0   14.000000\n",
       "50%     66.000000      67.000000      67.000000  2023.0   15.496629\n",
       "75%     77.000000      78.000000      79.000000  2023.0   16.000000\n",
       "max    100.000000     100.000000     100.000000  2023.0   17.000000"
      ]
     },
     "execution_count": 57,
     "metadata": {},
     "output_type": "execute_result"
    }
   ],
   "source": [
    "df.describe()"
   ]
  },
  {
   "cell_type": "code",
   "execution_count": 58,
   "id": "220885fe",
   "metadata": {},
   "outputs": [
    {
     "data": {
      "text/plain": [
       "<AxesSubplot:ylabel='Frequency'>"
      ]
     },
     "execution_count": 58,
     "metadata": {},
     "output_type": "execute_result"
    },
    {
     "data": {
      "image/png": "[encoded data removed]",
      "text/plain": [
       "<Figure size 432x288 with 1 Axes>"
      ]
     },
     "metadata": {
      "needs_background": "light"
     },
     "output_type": "display_data"
    }
   ],
   "source": [
    "df['math score'].plot(kind='hist')"
   ]
  },
  {
   "cell_type": "code",
   "execution_count": 59,
   "id": "305d41ed",
   "metadata": {
    "scrolled": true
   },
   "outputs": [
    {
     "data": {
      "text/plain": [
       "<AxesSubplot:ylabel='Frequency'>"
      ]
     },
     "execution_count": 59,
     "metadata": {},
     "output_type": "execute_result"
    },
    {
     "data": {
      "image/png": "[encoded data removed]",
      "text/plain": [
       "<Figure size 432x288 with 1 Axes>"
      ]
     },
     "metadata": {
      "needs_background": "light"
     },
     "output_type": "display_data"
    }
   ],
   "source": [
    "df['reading score'].plot(kind='hist')"
   ]
  },
  {
   "cell_type": "code",
   "execution_count": 60,
   "id": "f0551b67",
   "metadata": {},
   "outputs": [
    {
     "data": {
      "text/plain": [
       "<AxesSubplot:ylabel='Frequency'>"
      ]
     },
     "execution_count": 60,
     "metadata": {},
     "output_type": "execute_result"
    },
    {
     "data": {
      "image/png": "[encoded data removed]",
      "text/plain": [
       "<Figure size 432x288 with 1 Axes>"
      ]
     },
     "metadata": {
      "needs_background": "light"
     },
     "output_type": "display_data"
    }
   ],
   "source": [
    "df['writing score'].plot(kind='hist')"
   ]
  },
  {
   "cell_type": "code",
   "execution_count": 61,
   "id": "c395be34",
   "metadata": {},
   "outputs": [
    {
     "data": {
      "text/plain": [
       "<AxesSubplot:ylabel='Frequency'>"
      ]
     },
     "execution_count": 61,
     "metadata": {},
     "output_type": "execute_result"
    },
    {
     "data": {
      "image/png": "[encoded data removed]",
      "text/plain": [
       "<Figure size 432x288 with 1 Axes>"
      ]
     },
     "metadata": {
      "needs_background": "light"
     },
     "output_type": "display_data"
    }
   ],
   "source": [
    "df['reading score'].plot(kind='hist')\n",
    "df['writing score'].plot(kind='hist')"
   ]
  },
  {
   "cell_type": "markdown",
   "id": "020f491c",
   "metadata": {},
   "source": [
    "## Save dataset that you have been modifying (Important!!!)"
   ]
  },
  {
   "cell_type": "code",
   "execution_count": null,
   "id": "70bd947a",
   "metadata": {},
   "outputs": [],
   "source": []
  },
  {
   "cell_type": "code",
   "execution_count": null,
   "id": "becf81f4",
   "metadata": {},
   "outputs": [],
   "source": []
  },
  {
   "cell_type": "code",
   "execution_count": null,
   "id": "4b4f9259",
   "metadata": {},
   "outputs": [],
   "source": []
  },
  {
   "cell_type": "code",
   "execution_count": null,
   "id": "349c5cb9",
   "metadata": {},
   "outputs": [],
   "source": []
  },
  {
   "cell_type": "code",
   "execution_count": null,
   "id": "6539866e",
   "metadata": {},
   "outputs": [],
   "source": []
  },
  {
   "cell_type": "code",
   "execution_count": 62,
   "id": "68c1e5c1",
   "metadata": {},
   "outputs": [],
   "source": [
    "df.to_csv('../../datasets/exams_mod_cleaned.csv', index=None)"
   ]
  },
  {
   "cell_type": "code",
   "execution_count": null,
   "id": "955225ac",
   "metadata": {},
   "outputs": [],
   "source": []
  },
  {
   "cell_type": "code",
   "execution_count": null,
   "id": "d8f4b296",
   "metadata": {},
   "outputs": [],
   "source": []
  },
  {
   "cell_type": "code",
   "execution_count": null,
   "id": "65bdbd0b",
   "metadata": {},
   "outputs": [],
   "source": []
  }
 ],
 "metadata": {
  "kernelspec": {
   "display_name": "hynts",
   "language": "python",
   "name": "hynts"
  },
  "language_info": {
   "codemirror_mode": {
    "name": "ipython",
    "version": 3
   },
   "file_extension": ".py",
   "mimetype": "text/x-python",
   "name": "python",
   "nbconvert_exporter": "python",
   "pygments_lexer": "ipython3",
   "version": "3.8.13"
  }
 },
 "nbformat": 4,
 "nbformat_minor": 5
}
