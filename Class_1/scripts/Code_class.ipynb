{
 "cells": [
  {
   "cell_type": "markdown",
   "id": "672e85b6",
   "metadata": {},
   "source": [
    "# Class 1. Intermediate Python & AI "
   ]
  },
  {
   "cell_type": "markdown",
   "id": "7771bd03",
   "metadata": {},
   "source": [
    "# Code written during class"
   ]
  },
  {
   "cell_type": "code",
   "execution_count": null,
   "id": "6083ab7a",
   "metadata": {},
   "outputs": [],
   "source": []
  }
 ],
 "metadata": {
  "kernelspec": {
   "display_name": "Python 3",
   "language": "python",
   "name": "python3"
  },
  "language_info": {
   "codemirror_mode": {
    "name": "ipython",
    "version": 3
   },
   "file_extension": ".py",
   "mimetype": "text/x-python",
   "name": "python",
   "nbconvert_exporter": "python",
   "pygments_lexer": "ipython3",
   "version": "3.11.1 (main, Dec 23 2022, 09:28:24) [Clang 14.0.0 (clang-1400.0.29.202)]"
  },
  "vscode": {
   "interpreter": {
    "hash": "5c7b89af1651d0b8571dde13640ecdccf7d5a6204171d6ab33e7c296e100e08a"
   }
  }
 },
 "nbformat": 4,
 "nbformat_minor": 5
}
