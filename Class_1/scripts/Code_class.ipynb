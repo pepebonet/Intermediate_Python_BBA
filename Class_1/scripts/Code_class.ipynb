{
 "cells": [
  {
   "cell_type": "markdown",
   "id": "265c833e",
   "metadata": {},
   "source": [
    "# Python Course Class 1 "
   ]
  },
  {
   "cell_type": "markdown",
   "id": "2382dbd5",
   "metadata": {},
   "source": [
    "### Variables"
   ]
  },
  {
   "cell_type": "code",
   "execution_count": 41,
   "id": "ff5b8ceb",
   "metadata": {},
   "outputs": [],
   "source": [
    "a = 10 "
   ]
  },
  {
   "cell_type": "code",
   "execution_count": 42,
   "id": "e63196e2",
   "metadata": {},
   "outputs": [
    {
     "data": {
      "text/plain": [
       "int"
      ]
     },
     "execution_count": 42,
     "metadata": {},
     "output_type": "execute_result"
    }
   ],
   "source": [
    "type(a)"
   ]
  },
  {
   "cell_type": "code",
   "execution_count": 43,
   "id": "b1416d23",
   "metadata": {},
   "outputs": [],
   "source": [
    "a = 20"
   ]
  },
  {
   "cell_type": "code",
   "execution_count": 44,
   "id": "5675875d",
   "metadata": {},
   "outputs": [
    {
     "data": {
      "text/plain": [
       "20"
      ]
     },
     "execution_count": 44,
     "metadata": {},
     "output_type": "execute_result"
    }
   ],
   "source": [
    "a"
   ]
  },
  {
   "cell_type": "code",
   "execution_count": 45,
   "id": "48f6e387",
   "metadata": {},
   "outputs": [],
   "source": [
    "z = 1.2"
   ]
  },
  {
   "cell_type": "code",
   "execution_count": 46,
   "id": "09618334",
   "metadata": {},
   "outputs": [
    {
     "data": {
      "text/plain": [
       "float"
      ]
     },
     "execution_count": 46,
     "metadata": {},
     "output_type": "execute_result"
    }
   ],
   "source": [
    "type(z)"
   ]
  },
  {
   "cell_type": "code",
   "execution_count": 47,
   "id": "f095ab68",
   "metadata": {},
   "outputs": [
    {
     "data": {
      "text/plain": [
       "bool"
      ]
     },
     "execution_count": 47,
     "metadata": {},
     "output_type": "execute_result"
    }
   ],
   "source": [
    "type(False)"
   ]
  },
  {
   "cell_type": "code",
   "execution_count": 48,
   "id": "e44e0ea3",
   "metadata": {},
   "outputs": [],
   "source": [
    "this_is_true = True"
   ]
  },
  {
   "cell_type": "markdown",
   "id": "3f8b045e",
   "metadata": {},
   "source": [
    "### Operations"
   ]
  },
  {
   "cell_type": "code",
   "execution_count": 49,
   "id": "9dac559c",
   "metadata": {},
   "outputs": [],
   "source": [
    "a = 20"
   ]
  },
  {
   "cell_type": "code",
   "execution_count": 50,
   "id": "0ddee122",
   "metadata": {},
   "outputs": [],
   "source": [
    "b = 30"
   ]
  },
  {
   "cell_type": "code",
   "execution_count": 51,
   "id": "0af6142f",
   "metadata": {},
   "outputs": [],
   "source": [
    "c = a + b "
   ]
  },
  {
   "cell_type": "code",
   "execution_count": 52,
   "id": "39420490",
   "metadata": {},
   "outputs": [
    {
     "data": {
      "text/plain": [
       "50"
      ]
     },
     "execution_count": 52,
     "metadata": {},
     "output_type": "execute_result"
    }
   ],
   "source": [
    "c"
   ]
  },
  {
   "cell_type": "code",
   "execution_count": 53,
   "id": "82bf5080",
   "metadata": {},
   "outputs": [],
   "source": [
    "d = b / a * c "
   ]
  },
  {
   "cell_type": "code",
   "execution_count": 54,
   "id": "9317a2ae",
   "metadata": {},
   "outputs": [
    {
     "data": {
      "text/plain": [
       "75.0"
      ]
     },
     "execution_count": 54,
     "metadata": {},
     "output_type": "execute_result"
    }
   ],
   "source": [
    "d"
   ]
  },
  {
   "cell_type": "code",
   "execution_count": 55,
   "id": "d0a82ab7",
   "metadata": {},
   "outputs": [
    {
     "data": {
      "text/plain": [
       "[0, 1, 2, 3, 4]"
      ]
     },
     "execution_count": 55,
     "metadata": {},
     "output_type": "execute_result"
    }
   ],
   "source": [
    "my_list = [0, 1, 2, 3, 4]\n",
    "my_list"
   ]
  },
  {
   "cell_type": "code",
   "execution_count": 56,
   "id": "6cfecebc",
   "metadata": {},
   "outputs": [],
   "source": [
    "my_list.append(5)"
   ]
  },
  {
   "cell_type": "code",
   "execution_count": 57,
   "id": "631995cc",
   "metadata": {},
   "outputs": [
    {
     "data": {
      "text/plain": [
       "[0, 1, 2, 3, 4, 5]"
      ]
     },
     "execution_count": 57,
     "metadata": {},
     "output_type": "execute_result"
    }
   ],
   "source": [
    "my_list"
   ]
  },
  {
   "cell_type": "code",
   "execution_count": 58,
   "id": "93379bb9",
   "metadata": {},
   "outputs": [
    {
     "data": {
      "text/plain": [
       "1"
      ]
     },
     "execution_count": 58,
     "metadata": {},
     "output_type": "execute_result"
    }
   ],
   "source": [
    "my_list[1]"
   ]
  },
  {
   "cell_type": "code",
   "execution_count": 63,
   "id": "5556198e",
   "metadata": {},
   "outputs": [],
   "source": [
    "dictionary = {'Defense': ['Carvajal'], 'midfield': 'Xavi'}"
   ]
  },
  {
   "cell_type": "code",
   "execution_count": 64,
   "id": "f4dbe72c",
   "metadata": {},
   "outputs": [
    {
     "data": {
      "text/plain": [
       "{'Defense': ['Carvajal'], 'midfield': 'Xavi'}"
      ]
     },
     "execution_count": 64,
     "metadata": {},
     "output_type": "execute_result"
    }
   ],
   "source": [
    "dictionary"
   ]
  },
  {
   "cell_type": "code",
   "execution_count": 65,
   "id": "bc4f7201",
   "metadata": {},
   "outputs": [],
   "source": [
    "dictionary['Defense'].append('Messi')"
   ]
  },
  {
   "cell_type": "code",
   "execution_count": 66,
   "id": "cdcf0f14",
   "metadata": {},
   "outputs": [
    {
     "data": {
      "text/plain": [
       "{'Defense': ['Carvajal', 'Messi'], 'midfield': 'Xavi'}"
      ]
     },
     "execution_count": 66,
     "metadata": {},
     "output_type": "execute_result"
    }
   ],
   "source": [
    "dictionary"
   ]
  },
  {
   "cell_type": "code",
   "execution_count": 67,
   "id": "d17fdf8c",
   "metadata": {},
   "outputs": [],
   "source": [
    "dictionary.update({'goalkeeper': 'Ter Stegen'})"
   ]
  },
  {
   "cell_type": "code",
   "execution_count": 68,
   "id": "9db8e6da",
   "metadata": {},
   "outputs": [
    {
     "data": {
      "text/plain": [
       "{'Defense': ['Carvajal', 'Messi'],\n",
       " 'midfield': 'Xavi',\n",
       " 'goalkeeper': 'Ter Stegen'}"
      ]
     },
     "execution_count": 68,
     "metadata": {},
     "output_type": "execute_result"
    }
   ],
   "source": [
    "dictionary"
   ]
  },
  {
   "cell_type": "code",
   "execution_count": 71,
   "id": "a856591a",
   "metadata": {},
   "outputs": [
    {
     "data": {
      "text/plain": [
       "dict_keys(['Defense', 'midfield', 'goalkeeper'])"
      ]
     },
     "execution_count": 71,
     "metadata": {},
     "output_type": "execute_result"
    }
   ],
   "source": [
    "dictionary.keys()"
   ]
  },
  {
   "cell_type": "code",
   "execution_count": 72,
   "id": "a8b77e01",
   "metadata": {},
   "outputs": [
    {
     "data": {
      "text/plain": [
       "[0, 1, 2, 3, 4, 5]"
      ]
     },
     "execution_count": 72,
     "metadata": {},
     "output_type": "execute_result"
    }
   ],
   "source": [
    "my_list"
   ]
  },
  {
   "cell_type": "code",
   "execution_count": 73,
   "id": "d122fd12",
   "metadata": {},
   "outputs": [
    {
     "data": {
      "text/plain": [
       "6"
      ]
     },
     "execution_count": 73,
     "metadata": {},
     "output_type": "execute_result"
    }
   ],
   "source": [
    "len(my_list)"
   ]
  },
  {
   "cell_type": "code",
   "execution_count": 75,
   "id": "6c4cce8d",
   "metadata": {},
   "outputs": [
    {
     "name": "stdout",
     "output_type": "stream",
     "text": [
      "yes\n"
     ]
    }
   ],
   "source": [
    "if len(my_list) > 3:\n",
    "    print('yes')\n",
    "else:\n",
    "    print('no')"
   ]
  },
  {
   "cell_type": "code",
   "execution_count": 76,
   "id": "a2315014",
   "metadata": {},
   "outputs": [],
   "source": [
    "my_list = [0, 1, 2, 3]"
   ]
  },
  {
   "cell_type": "code",
   "execution_count": 81,
   "id": "42c30b80",
   "metadata": {},
   "outputs": [],
   "source": [
    "new_list = []\n",
    "for el in my_list:\n",
    "    if el > 1:\n",
    "        new_list.append(el - 2)"
   ]
  },
  {
   "cell_type": "code",
   "execution_count": 82,
   "id": "29b0dd4f",
   "metadata": {},
   "outputs": [
    {
     "data": {
      "text/plain": [
       "[0, 1]"
      ]
     },
     "execution_count": 82,
     "metadata": {},
     "output_type": "execute_result"
    }
   ],
   "source": [
    "new_list"
   ]
  },
  {
   "cell_type": "code",
   "execution_count": null,
   "id": "468bf451",
   "metadata": {},
   "outputs": [],
   "source": []
  },
  {
   "cell_type": "code",
   "execution_count": 88,
   "id": "66a9af2f",
   "metadata": {},
   "outputs": [],
   "source": [
    "def sum_two_numbers(number1, number2):\n",
    "    #Body \n",
    "    the_sum = number1 + number2\n",
    "    #return \n",
    "    return the_sum\n",
    "    "
   ]
  },
  {
   "cell_type": "code",
   "execution_count": 92,
   "id": "4ec327f9",
   "metadata": {},
   "outputs": [],
   "source": [
    "save_number = sum_two_numbers(2, 3)"
   ]
  },
  {
   "cell_type": "code",
   "execution_count": 97,
   "id": "54f7b7e5",
   "metadata": {},
   "outputs": [],
   "source": [
    "def sums_five_to_list(my_list):\n",
    "    new_list = []\n",
    "    for el in my_list: \n",
    "        new_list.append(el + 5)\n",
    "    return new_list"
   ]
  },
  {
   "cell_type": "code",
   "execution_count": 98,
   "id": "52406bf7",
   "metadata": {},
   "outputs": [
    {
     "data": {
      "text/plain": [
       "[0, 1, 2, 3]"
      ]
     },
     "execution_count": 98,
     "metadata": {},
     "output_type": "execute_result"
    }
   ],
   "source": [
    "my_list"
   ]
  },
  {
   "cell_type": "code",
   "execution_count": 99,
   "id": "07dadea7",
   "metadata": {},
   "outputs": [
    {
     "data": {
      "text/plain": [
       "[5, 6, 7, 8]"
      ]
     },
     "execution_count": 99,
     "metadata": {},
     "output_type": "execute_result"
    }
   ],
   "source": [
    "saved_new_list = sums_five_to_list(my_list)\n",
    "saved_new_list"
   ]
  },
  {
   "cell_type": "code",
   "execution_count": 106,
   "id": "a53cc411",
   "metadata": {},
   "outputs": [],
   "source": [
    "def exercise_n(number1, number2):\n",
    "    #Body \n",
    "    if number1 > 3:\n",
    "        print('sum')\n",
    "        result = number1 + number2\n",
    "    elif number1 < 3: \n",
    "        print('subtraction')\n",
    "        result = number1 - number2\n",
    "    else: \n",
    "        print('Multiplication')\n",
    "        result = number1 * number2\n",
    "        \n",
    "    #return \n",
    "    return result"
   ]
  },
  {
   "cell_type": "code",
   "execution_count": 110,
   "id": "d884be07",
   "metadata": {},
   "outputs": [
    {
     "name": "stdout",
     "output_type": "stream",
     "text": [
      "subtraction\n"
     ]
    },
    {
     "data": {
      "text/plain": [
       "-1"
      ]
     },
     "execution_count": 110,
     "metadata": {},
     "output_type": "execute_result"
    }
   ],
   "source": [
    "result_exercise = exercise_n(2, 3)\n",
    "result_exercise"
   ]
  },
  {
   "cell_type": "code",
   "execution_count": null,
   "id": "7204a290",
   "metadata": {},
   "outputs": [],
   "source": []
  },
  {
   "cell_type": "code",
   "execution_count": null,
   "id": "3c140950",
   "metadata": {},
   "outputs": [],
   "source": []
  },
  {
   "cell_type": "code",
   "execution_count": null,
   "id": "8b2f3f1d",
   "metadata": {},
   "outputs": [],
   "source": []
  },
  {
   "cell_type": "code",
   "execution_count": null,
   "id": "fc153563",
   "metadata": {},
   "outputs": [],
   "source": []
  },
  {
   "cell_type": "code",
   "execution_count": 100,
   "id": "8715cc50",
   "metadata": {},
   "outputs": [],
   "source": [
    "def square_number(number):\n",
    "    return number**2"
   ]
  },
  {
   "cell_type": "code",
   "execution_count": 103,
   "id": "6eb365ce",
   "metadata": {},
   "outputs": [
    {
     "data": {
      "text/plain": [
       "100"
      ]
     },
     "execution_count": 103,
     "metadata": {},
     "output_type": "execute_result"
    }
   ],
   "source": [
    "number_square = square_number(10)\n",
    "number_square"
   ]
  },
  {
   "cell_type": "code",
   "execution_count": null,
   "id": "8683c5bd",
   "metadata": {},
   "outputs": [],
   "source": []
  },
  {
   "cell_type": "code",
   "execution_count": null,
   "id": "8fbe068f",
   "metadata": {},
   "outputs": [],
   "source": []
  },
  {
   "cell_type": "markdown",
   "id": "d2e15529",
   "metadata": {},
   "source": [
    "## Pandas"
   ]
  },
  {
   "cell_type": "markdown",
   "id": "adda4108",
   "metadata": {},
   "source": [
    "### Police Dataset "
   ]
  },
  {
   "cell_type": "code",
   "execution_count": 2,
   "id": "f3707caf",
   "metadata": {},
   "outputs": [],
   "source": [
    "import pandas as pd"
   ]
  },
  {
   "cell_type": "code",
   "execution_count": 3,
   "id": "e2c8ee55",
   "metadata": {},
   "outputs": [],
   "source": [
    "df = pd.read_csv('police_deaths_USA_v6.csv')"
   ]
  },
  {
   "cell_type": "code",
   "execution_count": 4,
   "id": "b1976990",
   "metadata": {},
   "outputs": [
    {
     "data": {
      "text/html": [
       "<div>\n",
       "<style scoped>\n",
       "    .dataframe tbody tr th:only-of-type {\n",
       "        vertical-align: middle;\n",
       "    }\n",
       "\n",
       "    .dataframe tbody tr th {\n",
       "        vertical-align: top;\n",
       "    }\n",
       "\n",
       "    .dataframe thead th {\n",
       "        text-align: right;\n",
       "    }\n",
       "</style>\n",
       "<table border=\"1\" class=\"dataframe\">\n",
       "  <thead>\n",
       "    <tr style=\"text-align: right;\">\n",
       "      <th></th>\n",
       "      <th>Rank</th>\n",
       "      <th>Name</th>\n",
       "      <th>Age</th>\n",
       "      <th>End_Of_Watch</th>\n",
       "      <th>Day_Of_Week</th>\n",
       "      <th>Cause</th>\n",
       "      <th>Department</th>\n",
       "      <th>State</th>\n",
       "      <th>Tour</th>\n",
       "      <th>Badge</th>\n",
       "      <th>Weapon</th>\n",
       "      <th>Offender</th>\n",
       "      <th>Summary</th>\n",
       "    </tr>\n",
       "  </thead>\n",
       "  <tbody>\n",
       "    <tr>\n",
       "      <th>0</th>\n",
       "      <td>Constable</td>\n",
       "      <td>Darius Quimby</td>\n",
       "      <td>NaN</td>\n",
       "      <td>1791-01-03</td>\n",
       "      <td>Monday</td>\n",
       "      <td>Stabbed</td>\n",
       "      <td>Albany County Constable's Office, New York</td>\n",
       "      <td>New York</td>\n",
       "      <td>NaN</td>\n",
       "      <td>NaN</td>\n",
       "      <td>Edged weapon; Knife</td>\n",
       "      <td>Executed in 1791</td>\n",
       "      <td>Constable Darius Quimby was stabbed to death w...</td>\n",
       "    </tr>\n",
       "    <tr>\n",
       "      <th>1</th>\n",
       "      <td>Sheriff</td>\n",
       "      <td>Cornelius Hogeboom</td>\n",
       "      <td>53.0</td>\n",
       "      <td>1791-10-22</td>\n",
       "      <td>Saturday</td>\n",
       "      <td>Gunfire</td>\n",
       "      <td>Columbia County Sheriff's Office, New York</td>\n",
       "      <td>New York</td>\n",
       "      <td>2 years</td>\n",
       "      <td>NaN</td>\n",
       "      <td>Gun; Unknown type</td>\n",
       "      <td>Acquitted</td>\n",
       "      <td>Sheriff Cornelius Hogeboom was shot and killed...</td>\n",
       "    </tr>\n",
       "    <tr>\n",
       "      <th>2</th>\n",
       "      <td>Deputy Sheriff</td>\n",
       "      <td>Isaac Smith</td>\n",
       "      <td>NaN</td>\n",
       "      <td>1792-05-17</td>\n",
       "      <td>Thursday</td>\n",
       "      <td>Gunfire</td>\n",
       "      <td>Westchester County Sheriff's Department, New York</td>\n",
       "      <td>New York</td>\n",
       "      <td>NaN</td>\n",
       "      <td>NaN</td>\n",
       "      <td>Handgun</td>\n",
       "      <td>Executed in 1793</td>\n",
       "      <td>Deputy Sheriff Isaac Smith was shot and killed...</td>\n",
       "    </tr>\n",
       "    <tr>\n",
       "      <th>3</th>\n",
       "      <td>Marshal</td>\n",
       "      <td>Robert Forsyth</td>\n",
       "      <td>40.0</td>\n",
       "      <td>1794-01-11</td>\n",
       "      <td>Saturday</td>\n",
       "      <td>Gunfire</td>\n",
       "      <td>United States Department of Justice - United S...</td>\n",
       "      <td>United States</td>\n",
       "      <td>4 years, 4 months</td>\n",
       "      <td>4</td>\n",
       "      <td>Handgun; Pistol</td>\n",
       "      <td>Escaped</td>\n",
       "      <td>Marshal Robert Forsyth, believed to be one of ...</td>\n",
       "    </tr>\n",
       "    <tr>\n",
       "      <th>4</th>\n",
       "      <td>Deputy Sheriff</td>\n",
       "      <td>Robert Berwick</td>\n",
       "      <td>NaN</td>\n",
       "      <td>1797-06-29</td>\n",
       "      <td>Thursday</td>\n",
       "      <td>Gunfire</td>\n",
       "      <td>New York County Sheriff's Office, New York</td>\n",
       "      <td>New York</td>\n",
       "      <td>NaN</td>\n",
       "      <td>NaN</td>\n",
       "      <td>Handgun</td>\n",
       "      <td>Executed in 1797</td>\n",
       "      <td>Deputy Sheriff Robert Berwick was shot and kil...</td>\n",
       "    </tr>\n",
       "    <tr>\n",
       "      <th>5</th>\n",
       "      <td>Sheriff</td>\n",
       "      <td>Robert Maxwell</td>\n",
       "      <td>45.0</td>\n",
       "      <td>1797-11-12</td>\n",
       "      <td>Sunday</td>\n",
       "      <td>Gunfire</td>\n",
       "      <td>Washington District Sheriff's Office, South Ca...</td>\n",
       "      <td>South Carolina</td>\n",
       "      <td>NaN</td>\n",
       "      <td>NaN</td>\n",
       "      <td>Gun; Unknown type</td>\n",
       "      <td>Acquitted</td>\n",
       "      <td>Sheriff Robert Maxwell was shot and killed aft...</td>\n",
       "    </tr>\n",
       "    <tr>\n",
       "      <th>6</th>\n",
       "      <td>Superintendent</td>\n",
       "      <td>Hilary Baker</td>\n",
       "      <td>52.0</td>\n",
       "      <td>1798-09-25</td>\n",
       "      <td>Tuesday</td>\n",
       "      <td>Duty related illness</td>\n",
       "      <td>Philadelphia Police Department, Pennsylvania</td>\n",
       "      <td>Pennsylvania</td>\n",
       "      <td>1 year, 4 months</td>\n",
       "      <td>SUPERINTEN</td>\n",
       "      <td>NaN</td>\n",
       "      <td>NaN</td>\n",
       "      <td>Superindentent Hilary Baker died as a result o...</td>\n",
       "    </tr>\n",
       "    <tr>\n",
       "      <th>7</th>\n",
       "      <td>High Sheriff</td>\n",
       "      <td>John Caldwell Cook</td>\n",
       "      <td>74.0</td>\n",
       "      <td>1804-10-16</td>\n",
       "      <td>Tuesday</td>\n",
       "      <td>Gunfire</td>\n",
       "      <td>Mecklenburg County Sheriff's Office, North Car...</td>\n",
       "      <td>North Carolina</td>\n",
       "      <td>10 months</td>\n",
       "      <td>NaN</td>\n",
       "      <td>Gun; Unknown type</td>\n",
       "      <td>NaN</td>\n",
       "      <td>High Sheriff John Cook was shot in the head an...</td>\n",
       "    </tr>\n",
       "    <tr>\n",
       "      <th>8</th>\n",
       "      <td>Watchman</td>\n",
       "      <td>Christian Luswanger</td>\n",
       "      <td>NaN</td>\n",
       "      <td>1806-12-25</td>\n",
       "      <td>Thursday</td>\n",
       "      <td>Stabbed</td>\n",
       "      <td>New York City Night Watch, New York</td>\n",
       "      <td>New York</td>\n",
       "      <td>NaN</td>\n",
       "      <td>NaN</td>\n",
       "      <td>Edged weapon; Knife</td>\n",
       "      <td>NaN</td>\n",
       "      <td>Watchman Luswanger was stabbed to death while ...</td>\n",
       "    </tr>\n",
       "    <tr>\n",
       "      <th>9</th>\n",
       "      <td>Deputy Sheriff</td>\n",
       "      <td>John A. Gooch</td>\n",
       "      <td>NaN</td>\n",
       "      <td>1807-03-07</td>\n",
       "      <td>Saturday</td>\n",
       "      <td>Gunfire</td>\n",
       "      <td>Livingston County Sheriff's Department, Kentucky</td>\n",
       "      <td>Kentucky</td>\n",
       "      <td>2 years</td>\n",
       "      <td>NaN</td>\n",
       "      <td>Handgun</td>\n",
       "      <td>NaN</td>\n",
       "      <td>Deputy Sheriff John Gooch was shot and killed ...</td>\n",
       "    </tr>\n",
       "  </tbody>\n",
       "</table>\n",
       "</div>"
      ],
      "text/plain": [
       "             Rank                 Name   Age End_Of_Watch Day_Of_Week  \\\n",
       "0       Constable        Darius Quimby   NaN   1791-01-03      Monday   \n",
       "1         Sheriff   Cornelius Hogeboom  53.0   1791-10-22    Saturday   \n",
       "2  Deputy Sheriff          Isaac Smith   NaN   1792-05-17    Thursday   \n",
       "3         Marshal       Robert Forsyth  40.0   1794-01-11    Saturday   \n",
       "4  Deputy Sheriff       Robert Berwick   NaN   1797-06-29    Thursday   \n",
       "5         Sheriff       Robert Maxwell  45.0   1797-11-12      Sunday   \n",
       "6  Superintendent         Hilary Baker  52.0   1798-09-25     Tuesday   \n",
       "7    High Sheriff   John Caldwell Cook  74.0   1804-10-16     Tuesday   \n",
       "8        Watchman  Christian Luswanger   NaN   1806-12-25    Thursday   \n",
       "9  Deputy Sheriff        John A. Gooch   NaN   1807-03-07    Saturday   \n",
       "\n",
       "                  Cause                                         Department  \\\n",
       "0               Stabbed         Albany County Constable's Office, New York   \n",
       "1               Gunfire         Columbia County Sheriff's Office, New York   \n",
       "2               Gunfire  Westchester County Sheriff's Department, New York   \n",
       "3               Gunfire  United States Department of Justice - United S...   \n",
       "4               Gunfire         New York County Sheriff's Office, New York   \n",
       "5               Gunfire  Washington District Sheriff's Office, South Ca...   \n",
       "6  Duty related illness       Philadelphia Police Department, Pennsylvania   \n",
       "7               Gunfire  Mecklenburg County Sheriff's Office, North Car...   \n",
       "8               Stabbed                New York City Night Watch, New York   \n",
       "9               Gunfire   Livingston County Sheriff's Department, Kentucky   \n",
       "\n",
       "            State               Tour       Badge               Weapon  \\\n",
       "0        New York                NaN         NaN  Edged weapon; Knife   \n",
       "1        New York            2 years         NaN    Gun; Unknown type   \n",
       "2        New York                NaN         NaN              Handgun   \n",
       "3   United States  4 years, 4 months           4      Handgun; Pistol   \n",
       "4        New York                NaN         NaN              Handgun   \n",
       "5  South Carolina                NaN         NaN    Gun; Unknown type   \n",
       "6    Pennsylvania   1 year, 4 months  SUPERINTEN                  NaN   \n",
       "7  North Carolina          10 months         NaN    Gun; Unknown type   \n",
       "8        New York                NaN         NaN  Edged weapon; Knife   \n",
       "9        Kentucky            2 years         NaN              Handgun   \n",
       "\n",
       "           Offender                                            Summary  \n",
       "0  Executed in 1791  Constable Darius Quimby was stabbed to death w...  \n",
       "1         Acquitted  Sheriff Cornelius Hogeboom was shot and killed...  \n",
       "2  Executed in 1793  Deputy Sheriff Isaac Smith was shot and killed...  \n",
       "3           Escaped  Marshal Robert Forsyth, believed to be one of ...  \n",
       "4  Executed in 1797  Deputy Sheriff Robert Berwick was shot and kil...  \n",
       "5         Acquitted  Sheriff Robert Maxwell was shot and killed aft...  \n",
       "6               NaN  Superindentent Hilary Baker died as a result o...  \n",
       "7               NaN  High Sheriff John Cook was shot in the head an...  \n",
       "8               NaN  Watchman Luswanger was stabbed to death while ...  \n",
       "9               NaN  Deputy Sheriff John Gooch was shot and killed ...  "
      ]
     },
     "execution_count": 4,
     "metadata": {},
     "output_type": "execute_result"
    }
   ],
   "source": [
    "df.head(10)"
   ]
  },
  {
   "cell_type": "code",
   "execution_count": 5,
   "id": "25233205",
   "metadata": {},
   "outputs": [
    {
     "data": {
      "text/html": [
       "<div>\n",
       "<style scoped>\n",
       "    .dataframe tbody tr th:only-of-type {\n",
       "        vertical-align: middle;\n",
       "    }\n",
       "\n",
       "    .dataframe tbody tr th {\n",
       "        vertical-align: top;\n",
       "    }\n",
       "\n",
       "    .dataframe thead th {\n",
       "        text-align: right;\n",
       "    }\n",
       "</style>\n",
       "<table border=\"1\" class=\"dataframe\">\n",
       "  <thead>\n",
       "    <tr style=\"text-align: right;\">\n",
       "      <th></th>\n",
       "      <th>Rank</th>\n",
       "      <th>Name</th>\n",
       "      <th>Age</th>\n",
       "      <th>End_Of_Watch</th>\n",
       "      <th>Day_Of_Week</th>\n",
       "      <th>Cause</th>\n",
       "      <th>Department</th>\n",
       "      <th>State</th>\n",
       "      <th>Tour</th>\n",
       "      <th>Badge</th>\n",
       "      <th>Weapon</th>\n",
       "      <th>Offender</th>\n",
       "      <th>Summary</th>\n",
       "    </tr>\n",
       "  </thead>\n",
       "  <tbody>\n",
       "    <tr>\n",
       "      <th>25618</th>\n",
       "      <td>Police Officer</td>\n",
       "      <td>Donald Sahota</td>\n",
       "      <td>52.0</td>\n",
       "      <td>2022-01-29</td>\n",
       "      <td>Saturday</td>\n",
       "      <td>Gunfire (Inadvertent)</td>\n",
       "      <td>Vancouver Police Department, Washington</td>\n",
       "      <td>Washington</td>\n",
       "      <td>27 years, 6 months</td>\n",
       "      <td>1531</td>\n",
       "      <td>Handgun</td>\n",
       "      <td>Arrested</td>\n",
       "      <td>Police Officer Donald Sahota was inadvertently...</td>\n",
       "    </tr>\n",
       "    <tr>\n",
       "      <th>25619</th>\n",
       "      <td>Deputy Sheriff</td>\n",
       "      <td>Ned P. Byrd</td>\n",
       "      <td>48.0</td>\n",
       "      <td>2022-08-11</td>\n",
       "      <td>Thursday</td>\n",
       "      <td>Gunfire</td>\n",
       "      <td>Wake County Sheriff's Office, North Carolina</td>\n",
       "      <td>North Carolina</td>\n",
       "      <td>13 years</td>\n",
       "      <td>397</td>\n",
       "      <td>Gun; Unknown type</td>\n",
       "      <td>In custody</td>\n",
       "      <td>Deputy Sheriff Ned Byrd was shot and killed wh...</td>\n",
       "    </tr>\n",
       "    <tr>\n",
       "      <th>25620</th>\n",
       "      <td>K9 Officer</td>\n",
       "      <td>Ryan Patrick Copeland</td>\n",
       "      <td>33.0</td>\n",
       "      <td>2015-11-23</td>\n",
       "      <td>Monday</td>\n",
       "      <td>Automobile crash</td>\n",
       "      <td>McFarland Police Department, Wisconsin</td>\n",
       "      <td>Wisconsin</td>\n",
       "      <td>3 years</td>\n",
       "      <td>K8435</td>\n",
       "      <td>NaN</td>\n",
       "      <td>NaN</td>\n",
       "      <td>K9 Officer Ryan Copeland was killed in a vehic...</td>\n",
       "    </tr>\n",
       "    <tr>\n",
       "      <th>25621</th>\n",
       "      <td>K9 Officer</td>\n",
       "      <td>Timothy James Brackeen</td>\n",
       "      <td>38.0</td>\n",
       "      <td>2016-09-12</td>\n",
       "      <td>Monday</td>\n",
       "      <td>Gunfire</td>\n",
       "      <td>Shelby Police Department, North Carolina</td>\n",
       "      <td>North Carolina</td>\n",
       "      <td>12 years</td>\n",
       "      <td>763</td>\n",
       "      <td>Gun; Unknown type</td>\n",
       "      <td>Sentenced to life</td>\n",
       "      <td>Police Officer Tim Brackeen succumbed to gunsh...</td>\n",
       "    </tr>\n",
       "    <tr>\n",
       "      <th>25622</th>\n",
       "      <td>K9 Officer</td>\n",
       "      <td>Jordan Harris Sheldon</td>\n",
       "      <td>32.0</td>\n",
       "      <td>2019-05-04</td>\n",
       "      <td>Saturday</td>\n",
       "      <td>Gunfire</td>\n",
       "      <td>Mooresville Police Department, North Carolina</td>\n",
       "      <td>North Carolina</td>\n",
       "      <td>6 years</td>\n",
       "      <td>NaN</td>\n",
       "      <td>Gun; Unknown type</td>\n",
       "      <td>Committed suicide</td>\n",
       "      <td>Police Officer Jordan Sheldon was shot and kil...</td>\n",
       "    </tr>\n",
       "  </tbody>\n",
       "</table>\n",
       "</div>"
      ],
      "text/plain": [
       "                 Rank                    Name   Age End_Of_Watch Day_Of_Week  \\\n",
       "25618  Police Officer           Donald Sahota  52.0   2022-01-29    Saturday   \n",
       "25619  Deputy Sheriff             Ned P. Byrd  48.0   2022-08-11    Thursday   \n",
       "25620      K9 Officer   Ryan Patrick Copeland  33.0   2015-11-23      Monday   \n",
       "25621      K9 Officer  Timothy James Brackeen  38.0   2016-09-12      Monday   \n",
       "25622      K9 Officer   Jordan Harris Sheldon  32.0   2019-05-04    Saturday   \n",
       "\n",
       "                       Cause                                     Department  \\\n",
       "25618  Gunfire (Inadvertent)        Vancouver Police Department, Washington   \n",
       "25619                Gunfire   Wake County Sheriff's Office, North Carolina   \n",
       "25620       Automobile crash         McFarland Police Department, Wisconsin   \n",
       "25621                Gunfire       Shelby Police Department, North Carolina   \n",
       "25622                Gunfire  Mooresville Police Department, North Carolina   \n",
       "\n",
       "                State                Tour  Badge             Weapon  \\\n",
       "25618      Washington  27 years, 6 months   1531            Handgun   \n",
       "25619  North Carolina            13 years    397  Gun; Unknown type   \n",
       "25620       Wisconsin             3 years  K8435                NaN   \n",
       "25621  North Carolina            12 years    763  Gun; Unknown type   \n",
       "25622  North Carolina             6 years    NaN  Gun; Unknown type   \n",
       "\n",
       "                Offender                                            Summary  \n",
       "25618           Arrested  Police Officer Donald Sahota was inadvertently...  \n",
       "25619         In custody  Deputy Sheriff Ned Byrd was shot and killed wh...  \n",
       "25620                NaN  K9 Officer Ryan Copeland was killed in a vehic...  \n",
       "25621  Sentenced to life  Police Officer Tim Brackeen succumbed to gunsh...  \n",
       "25622  Committed suicide  Police Officer Jordan Sheldon was shot and kil...  "
      ]
     },
     "execution_count": 5,
     "metadata": {},
     "output_type": "execute_result"
    }
   ],
   "source": [
    "df.tail()"
   ]
  },
  {
   "cell_type": "code",
   "execution_count": 6,
   "id": "e5352004",
   "metadata": {},
   "outputs": [
    {
     "data": {
      "text/plain": [
       "Index(['Rank', 'Name', 'Age', 'End_Of_Watch', 'Day_Of_Week', 'Cause',\n",
       "       'Department', 'State', 'Tour', 'Badge', 'Weapon', 'Offender',\n",
       "       'Summary'],\n",
       "      dtype='object')"
      ]
     },
     "execution_count": 6,
     "metadata": {},
     "output_type": "execute_result"
    }
   ],
   "source": [
    "df.columns"
   ]
  },
  {
   "cell_type": "code",
   "execution_count": 7,
   "id": "58caa8e1",
   "metadata": {},
   "outputs": [
    {
     "name": "stdout",
     "output_type": "stream",
     "text": [
      "<class 'pandas.core.frame.DataFrame'>\n",
      "RangeIndex: 25623 entries, 0 to 25622\n",
      "Data columns (total 13 columns):\n",
      " #   Column        Non-Null Count  Dtype  \n",
      "---  ------        --------------  -----  \n",
      " 0   Rank          25623 non-null  object \n",
      " 1   Name          25623 non-null  object \n",
      " 2   Age           22946 non-null  float64\n",
      " 3   End_Of_Watch  25623 non-null  object \n",
      " 4   Day_Of_Week   25623 non-null  object \n",
      " 5   Cause         25622 non-null  object \n",
      " 6   Department    25623 non-null  object \n",
      " 7   State         25623 non-null  object \n",
      " 8   Tour          17417 non-null  object \n",
      " 9   Badge         7477 non-null   object \n",
      " 10  Weapon        16263 non-null  object \n",
      " 11  Offender      13803 non-null  object \n",
      " 12  Summary       25623 non-null  object \n",
      "dtypes: float64(1), object(12)\n",
      "memory usage: 2.5+ MB\n"
     ]
    }
   ],
   "source": [
    "df.info()"
   ]
  },
  {
   "cell_type": "code",
   "execution_count": 8,
   "id": "76ecd9de",
   "metadata": {},
   "outputs": [
    {
     "data": {
      "text/plain": [
       "Rank                0\n",
       "Name                0\n",
       "Age              2677\n",
       "End_Of_Watch        0\n",
       "Day_Of_Week         0\n",
       "Cause               1\n",
       "Department          0\n",
       "State               0\n",
       "Tour             8206\n",
       "Badge           18146\n",
       "Weapon           9360\n",
       "Offender        11820\n",
       "Summary             0\n",
       "dtype: int64"
      ]
     },
     "execution_count": 8,
     "metadata": {},
     "output_type": "execute_result"
    }
   ],
   "source": [
    "df.isna().sum()"
   ]
  },
  {
   "cell_type": "code",
   "execution_count": 9,
   "id": "de0ba5c5",
   "metadata": {},
   "outputs": [
    {
     "data": {
      "text/html": [
       "<div>\n",
       "<style scoped>\n",
       "    .dataframe tbody tr th:only-of-type {\n",
       "        vertical-align: middle;\n",
       "    }\n",
       "\n",
       "    .dataframe tbody tr th {\n",
       "        vertical-align: top;\n",
       "    }\n",
       "\n",
       "    .dataframe thead th {\n",
       "        text-align: right;\n",
       "    }\n",
       "</style>\n",
       "<table border=\"1\" class=\"dataframe\">\n",
       "  <thead>\n",
       "    <tr style=\"text-align: right;\">\n",
       "      <th></th>\n",
       "      <th>Age</th>\n",
       "    </tr>\n",
       "  </thead>\n",
       "  <tbody>\n",
       "    <tr>\n",
       "      <th>count</th>\n",
       "      <td>22946.000000</td>\n",
       "    </tr>\n",
       "    <tr>\n",
       "      <th>mean</th>\n",
       "      <td>40.289419</td>\n",
       "    </tr>\n",
       "    <tr>\n",
       "      <th>std</th>\n",
       "      <td>15.799729</td>\n",
       "    </tr>\n",
       "    <tr>\n",
       "      <th>min</th>\n",
       "      <td>17.000000</td>\n",
       "    </tr>\n",
       "    <tr>\n",
       "      <th>25%</th>\n",
       "      <td>31.000000</td>\n",
       "    </tr>\n",
       "    <tr>\n",
       "      <th>50%</th>\n",
       "      <td>39.000000</td>\n",
       "    </tr>\n",
       "    <tr>\n",
       "      <th>75%</th>\n",
       "      <td>48.000000</td>\n",
       "    </tr>\n",
       "    <tr>\n",
       "      <th>max</th>\n",
       "      <td>1661.000000</td>\n",
       "    </tr>\n",
       "  </tbody>\n",
       "</table>\n",
       "</div>"
      ],
      "text/plain": [
       "                Age\n",
       "count  22946.000000\n",
       "mean      40.289419\n",
       "std       15.799729\n",
       "min       17.000000\n",
       "25%       31.000000\n",
       "50%       39.000000\n",
       "75%       48.000000\n",
       "max     1661.000000"
      ]
     },
     "execution_count": 9,
     "metadata": {},
     "output_type": "execute_result"
    }
   ],
   "source": [
    "df.describe()"
   ]
  },
  {
   "cell_type": "code",
   "execution_count": 10,
   "id": "991216c9",
   "metadata": {},
   "outputs": [
    {
     "data": {
      "text/plain": [
       "17.0"
      ]
     },
     "execution_count": 10,
     "metadata": {},
     "output_type": "execute_result"
    }
   ],
   "source": [
    "df['Age'].min()"
   ]
  },
  {
   "cell_type": "code",
   "execution_count": 11,
   "id": "d44310b7",
   "metadata": {},
   "outputs": [
    {
     "data": {
      "text/plain": [
       "1661.0"
      ]
     },
     "execution_count": 11,
     "metadata": {},
     "output_type": "execute_result"
    }
   ],
   "source": [
    "df['Age'].max()"
   ]
  },
  {
   "cell_type": "code",
   "execution_count": 12,
   "id": "169c7a79",
   "metadata": {},
   "outputs": [
    {
     "data": {
      "text/plain": [
       "Rank\n",
       "Patrolman                     3841\n",
       "Police Officer                3514\n",
       "Deputy Sheriff                3215\n",
       "Officer                       1699\n",
       "Sergeant                      1420\n",
       "                              ... \n",
       "Narcotic Agent II                1\n",
       "Jail Officer                     1\n",
       "Acting Marshal                   1\n",
       "Deputy II                        1\n",
       "Assistant Principal Keeper       1\n",
       "Name: count, Length: 618, dtype: int64"
      ]
     },
     "execution_count": 12,
     "metadata": {},
     "output_type": "execute_result"
    }
   ],
   "source": [
    "df['Rank'].value_counts()"
   ]
  },
  {
   "cell_type": "code",
   "execution_count": 13,
   "id": "c5a1a967",
   "metadata": {},
   "outputs": [
    {
     "data": {
      "text/plain": [
       "Index(['Rank', 'Name', 'Age', 'End_Of_Watch', 'Day_Of_Week', 'Cause',\n",
       "       'Department', 'State', 'Tour', 'Badge', 'Weapon', 'Offender',\n",
       "       'Summary'],\n",
       "      dtype='object')"
      ]
     },
     "execution_count": 13,
     "metadata": {},
     "output_type": "execute_result"
    }
   ],
   "source": [
    "df.columns"
   ]
  },
  {
   "cell_type": "code",
   "execution_count": 14,
   "id": "172886fe",
   "metadata": {},
   "outputs": [
    {
     "data": {
      "text/plain": [
       "array(['Edged weapon; Knife', 'Gun; Unknown type', 'Handgun',\n",
       "       'Handgun; Pistol', nan, 'Rifle', 'Blunt object; Lumber',\n",
       "       'Edged weapon; Axe', 'Blunt object', 'Person',\n",
       "       'Blunt object; Rock', 'Edged weapon; Dirk',\n",
       "       'Edged weapon; Bow and arrow', 'Unknown weapon',\n",
       "       'Blunt object; Hammer', 'Shotgun', 'Edged weapon',\n",
       "       'Blunt object; Baton', 'Blunt object; Pipe', \"Officer's handgun\",\n",
       "       'Rifle; Musket', 'Blunt object; Brick',\n",
       "       'Edged weapon; Spring dirk', 'Handgun; Revolver',\n",
       "       \"Officer's nightstick\", 'Animal', 'Blunt object; Iron pipe',\n",
       "       \"Officer's knife\", 'Edged weapon; Glass shard',\n",
       "       'Person; Alcohol involved', 'Edged weapon; Sword',\n",
       "       'Handgun; .45 caliber', 'Rifle; Winchester',\n",
       "       'Handgun; .36 caliber', 'Edged weapon; Hatchet',\n",
       "       'Handgun; .44 caliber', 'Handgun; .32 caliber', 'Arson',\n",
       "       'Blunt object; Shovel', 'Blunt object; Chair',\n",
       "       'Blunt object; Wrench', \"Officer's shotgun\",\n",
       "       'Edged weapon; Pick ax', 'Rifle; .45 caliber',\n",
       "       'Handgun; .38 caliber', 'Shotgun; 12 gauge', 'Rifle; .44 caliber',\n",
       "       'Explosives; Bomb', 'Edged weapon; Razor',\n",
       "       'Blunt object; Firewood', 'Rifle; .38 caliber',\n",
       "       'Blunt object; Bat', 'Handgun; .41 caliber',\n",
       "       'Edged weapon; Dagger', 'Poison', 'Explosives',\n",
       "       'Blunt object; Sandbag', 'Handgun; .28 caliber',\n",
       "       'Rifle; .303 caliber', 'Handgun; .22 caliber',\n",
       "       'Edged weapon; Machete', 'Rifle; .22 caliber',\n",
       "       'Handgun; .48 caliber', \"Officer's rifle\", 'Shotgun; 8 gauge',\n",
       "       'Shotgun; 16 gauge', 'Handgun; Small caliber',\n",
       "       'Rifle; .30 caliber', 'Rifle; .32 caliber carbine',\n",
       "       'Handgun; .25 caliber', 'Automobile', 'Handgun; Luger',\n",
       "       'Automobile; Motorcycle', 'Automobile; Alcohol involved',\n",
       "       'Shotgun; 10 gauge', \"Officer's weapon\", 'Edged weapon; Chisel',\n",
       "       'Rifle; .30-.30', 'Blunt object; Flashlight',\n",
       "       'Edged weapon; Shank', 'Handgun; .30 caliber',\n",
       "       'Handgun; Flare gun', 'Train', 'Handgun; .33 caliber',\n",
       "       'Rifle; Machine gun', 'Automobile; Bus', 'Edged weapon; Ice pick',\n",
       "       'Automobile; Commercial', 'Handgun; .380 caliber',\n",
       "       'Shotgun; 20 gauge', 'Rifle; .25-.35', 'Rifle; Automatic',\n",
       "       'Handgun; 9 mm', 'Blunt object; Blackjack',\n",
       "       'Edged weapon; Screwdriver', 'Shotgun; 410 gauge',\n",
       "       'Rifle; .30-.06', 'Rifle; M-1', 'Handgun; .357 caliber',\n",
       "       'Rifle; 7.65 mm', 'Rifle; .257 caliber', 'Explosives; Grenade',\n",
       "       'Rifle; .270 caliber', 'Rifle; .308 caliber', 'Explosives; Mortar',\n",
       "       'Rifle; Semi-automatic', 'Automobile; Narcotics involved',\n",
       "       'Rifle; M-16', 'Blunt object; Tire iron', 'Handgun; Derringer',\n",
       "       'Rifle; .243 caliber', 'Explosives; Dynamite',\n",
       "       'Explosives; Molotav cocktail', 'Rifle; AK-47',\n",
       "       'Rifle; .300 caliber', 'Rifle; 45.70', 'Rifle; AR-15',\n",
       "       'Rifle; .223 caliber', 'Rifle; Mini 14', \"Officer's flashlight\",\n",
       "       'Rifle; .222 caliber', 'Handgun; Mac-11', 'Handgun; Mac-10',\n",
       "       'Explosives; Pipe bomb', 'Toxic chemicals', 'Rifle; .306 caliber',\n",
       "       'Rifle; 7.62 mm', 'Boat', 'Handgun; Tech-9', 'Rifle; SKS',\n",
       "       'Rifle; .50 caliber', 'Handgun; .40 caliber', 'Rifle; MK-90',\n",
       "       'Aircraft; Passenger jet', 'Handgun; .50 caliber',\n",
       "       'Explosives; Improvised device', 'Handgun; 10 mm'], dtype=object)"
      ]
     },
     "execution_count": 14,
     "metadata": {},
     "output_type": "execute_result"
    }
   ],
   "source": [
    "df['Weapon'].unique()"
   ]
  },
  {
   "cell_type": "code",
   "execution_count": 15,
   "id": "6411fb9e",
   "metadata": {},
   "outputs": [
    {
     "data": {
      "text/plain": [
       "136"
      ]
     },
     "execution_count": 15,
     "metadata": {},
     "output_type": "execute_result"
    }
   ],
   "source": [
    "df['Weapon'].nunique()"
   ]
  },
  {
   "cell_type": "code",
   "execution_count": 16,
   "id": "6d9d8d5e",
   "metadata": {},
   "outputs": [],
   "source": [
    "df['Binary_Age'] = [1 if el > 50 else 0 for el in df['Age']]"
   ]
  },
  {
   "cell_type": "code",
   "execution_count": 17,
   "id": "d4261069",
   "metadata": {},
   "outputs": [
    {
     "data": {
      "text/html": [
       "<div>\n",
       "<style scoped>\n",
       "    .dataframe tbody tr th:only-of-type {\n",
       "        vertical-align: middle;\n",
       "    }\n",
       "\n",
       "    .dataframe tbody tr th {\n",
       "        vertical-align: top;\n",
       "    }\n",
       "\n",
       "    .dataframe thead th {\n",
       "        text-align: right;\n",
       "    }\n",
       "</style>\n",
       "<table border=\"1\" class=\"dataframe\">\n",
       "  <thead>\n",
       "    <tr style=\"text-align: right;\">\n",
       "      <th></th>\n",
       "      <th>Rank</th>\n",
       "      <th>Name</th>\n",
       "      <th>Age</th>\n",
       "      <th>End_Of_Watch</th>\n",
       "      <th>Day_Of_Week</th>\n",
       "      <th>Cause</th>\n",
       "      <th>Department</th>\n",
       "      <th>State</th>\n",
       "      <th>Tour</th>\n",
       "      <th>Badge</th>\n",
       "      <th>Weapon</th>\n",
       "      <th>Offender</th>\n",
       "      <th>Summary</th>\n",
       "      <th>Binary_Age</th>\n",
       "    </tr>\n",
       "  </thead>\n",
       "  <tbody>\n",
       "    <tr>\n",
       "      <th>0</th>\n",
       "      <td>Constable</td>\n",
       "      <td>Darius Quimby</td>\n",
       "      <td>NaN</td>\n",
       "      <td>1791-01-03</td>\n",
       "      <td>Monday</td>\n",
       "      <td>Stabbed</td>\n",
       "      <td>Albany County Constable's Office, New York</td>\n",
       "      <td>New York</td>\n",
       "      <td>NaN</td>\n",
       "      <td>NaN</td>\n",
       "      <td>Edged weapon; Knife</td>\n",
       "      <td>Executed in 1791</td>\n",
       "      <td>Constable Darius Quimby was stabbed to death w...</td>\n",
       "      <td>0</td>\n",
       "    </tr>\n",
       "    <tr>\n",
       "      <th>1</th>\n",
       "      <td>Sheriff</td>\n",
       "      <td>Cornelius Hogeboom</td>\n",
       "      <td>53.0</td>\n",
       "      <td>1791-10-22</td>\n",
       "      <td>Saturday</td>\n",
       "      <td>Gunfire</td>\n",
       "      <td>Columbia County Sheriff's Office, New York</td>\n",
       "      <td>New York</td>\n",
       "      <td>2 years</td>\n",
       "      <td>NaN</td>\n",
       "      <td>Gun; Unknown type</td>\n",
       "      <td>Acquitted</td>\n",
       "      <td>Sheriff Cornelius Hogeboom was shot and killed...</td>\n",
       "      <td>1</td>\n",
       "    </tr>\n",
       "    <tr>\n",
       "      <th>2</th>\n",
       "      <td>Deputy Sheriff</td>\n",
       "      <td>Isaac Smith</td>\n",
       "      <td>NaN</td>\n",
       "      <td>1792-05-17</td>\n",
       "      <td>Thursday</td>\n",
       "      <td>Gunfire</td>\n",
       "      <td>Westchester County Sheriff's Department, New York</td>\n",
       "      <td>New York</td>\n",
       "      <td>NaN</td>\n",
       "      <td>NaN</td>\n",
       "      <td>Handgun</td>\n",
       "      <td>Executed in 1793</td>\n",
       "      <td>Deputy Sheriff Isaac Smith was shot and killed...</td>\n",
       "      <td>0</td>\n",
       "    </tr>\n",
       "    <tr>\n",
       "      <th>3</th>\n",
       "      <td>Marshal</td>\n",
       "      <td>Robert Forsyth</td>\n",
       "      <td>40.0</td>\n",
       "      <td>1794-01-11</td>\n",
       "      <td>Saturday</td>\n",
       "      <td>Gunfire</td>\n",
       "      <td>United States Department of Justice - United S...</td>\n",
       "      <td>United States</td>\n",
       "      <td>4 years, 4 months</td>\n",
       "      <td>4</td>\n",
       "      <td>Handgun; Pistol</td>\n",
       "      <td>Escaped</td>\n",
       "      <td>Marshal Robert Forsyth, believed to be one of ...</td>\n",
       "      <td>0</td>\n",
       "    </tr>\n",
       "    <tr>\n",
       "      <th>4</th>\n",
       "      <td>Deputy Sheriff</td>\n",
       "      <td>Robert Berwick</td>\n",
       "      <td>NaN</td>\n",
       "      <td>1797-06-29</td>\n",
       "      <td>Thursday</td>\n",
       "      <td>Gunfire</td>\n",
       "      <td>New York County Sheriff's Office, New York</td>\n",
       "      <td>New York</td>\n",
       "      <td>NaN</td>\n",
       "      <td>NaN</td>\n",
       "      <td>Handgun</td>\n",
       "      <td>Executed in 1797</td>\n",
       "      <td>Deputy Sheriff Robert Berwick was shot and kil...</td>\n",
       "      <td>0</td>\n",
       "    </tr>\n",
       "  </tbody>\n",
       "</table>\n",
       "</div>"
      ],
      "text/plain": [
       "             Rank                Name   Age End_Of_Watch Day_Of_Week    Cause  \\\n",
       "0       Constable       Darius Quimby   NaN   1791-01-03      Monday  Stabbed   \n",
       "1         Sheriff  Cornelius Hogeboom  53.0   1791-10-22    Saturday  Gunfire   \n",
       "2  Deputy Sheriff         Isaac Smith   NaN   1792-05-17    Thursday  Gunfire   \n",
       "3         Marshal      Robert Forsyth  40.0   1794-01-11    Saturday  Gunfire   \n",
       "4  Deputy Sheriff      Robert Berwick   NaN   1797-06-29    Thursday  Gunfire   \n",
       "\n",
       "                                          Department          State  \\\n",
       "0         Albany County Constable's Office, New York       New York   \n",
       "1         Columbia County Sheriff's Office, New York       New York   \n",
       "2  Westchester County Sheriff's Department, New York       New York   \n",
       "3  United States Department of Justice - United S...  United States   \n",
       "4         New York County Sheriff's Office, New York       New York   \n",
       "\n",
       "                Tour Badge               Weapon          Offender  \\\n",
       "0                NaN   NaN  Edged weapon; Knife  Executed in 1791   \n",
       "1            2 years   NaN    Gun; Unknown type         Acquitted   \n",
       "2                NaN   NaN              Handgun  Executed in 1793   \n",
       "3  4 years, 4 months     4      Handgun; Pistol           Escaped   \n",
       "4                NaN   NaN              Handgun  Executed in 1797   \n",
       "\n",
       "                                             Summary  Binary_Age  \n",
       "0  Constable Darius Quimby was stabbed to death w...           0  \n",
       "1  Sheriff Cornelius Hogeboom was shot and killed...           1  \n",
       "2  Deputy Sheriff Isaac Smith was shot and killed...           0  \n",
       "3  Marshal Robert Forsyth, believed to be one of ...           0  \n",
       "4  Deputy Sheriff Robert Berwick was shot and kil...           0  "
      ]
     },
     "execution_count": 17,
     "metadata": {},
     "output_type": "execute_result"
    }
   ],
   "source": [
    "df.head()"
   ]
  },
  {
   "cell_type": "code",
   "execution_count": 18,
   "id": "8e1b9859",
   "metadata": {},
   "outputs": [
    {
     "data": {
      "text/html": [
       "<div>\n",
       "<style scoped>\n",
       "    .dataframe tbody tr th:only-of-type {\n",
       "        vertical-align: middle;\n",
       "    }\n",
       "\n",
       "    .dataframe tbody tr th {\n",
       "        vertical-align: top;\n",
       "    }\n",
       "\n",
       "    .dataframe thead th {\n",
       "        text-align: right;\n",
       "    }\n",
       "</style>\n",
       "<table border=\"1\" class=\"dataframe\">\n",
       "  <thead>\n",
       "    <tr style=\"text-align: right;\">\n",
       "      <th></th>\n",
       "      <th>Rank</th>\n",
       "      <th>Name</th>\n",
       "      <th>Age</th>\n",
       "      <th>End_Of_Watch</th>\n",
       "      <th>Day_Of_Week</th>\n",
       "      <th>Cause</th>\n",
       "      <th>Department</th>\n",
       "      <th>State</th>\n",
       "      <th>Tour</th>\n",
       "      <th>Badge</th>\n",
       "      <th>Weapon</th>\n",
       "      <th>Offender</th>\n",
       "      <th>Summary</th>\n",
       "      <th>Binary_Age</th>\n",
       "    </tr>\n",
       "  </thead>\n",
       "  <tbody>\n",
       "    <tr>\n",
       "      <th>0</th>\n",
       "      <td>Constable</td>\n",
       "      <td>Darius Quimby</td>\n",
       "      <td>NaN</td>\n",
       "      <td>1791-01-03</td>\n",
       "      <td>Monday</td>\n",
       "      <td>Stabbed</td>\n",
       "      <td>Albany County Constable's Office, New York</td>\n",
       "      <td>New York</td>\n",
       "      <td>NaN</td>\n",
       "      <td>NaN</td>\n",
       "      <td>Edged weapon; Knife</td>\n",
       "      <td>Executed in 1791</td>\n",
       "      <td>Constable Darius Quimby was stabbed to death w...</td>\n",
       "      <td>0</td>\n",
       "    </tr>\n",
       "    <tr>\n",
       "      <th>1</th>\n",
       "      <td>Sheriff</td>\n",
       "      <td>Cornelius Hogeboom</td>\n",
       "      <td>53.0</td>\n",
       "      <td>1791-10-22</td>\n",
       "      <td>Saturday</td>\n",
       "      <td>Gunfire</td>\n",
       "      <td>Columbia County Sheriff's Office, New York</td>\n",
       "      <td>New York</td>\n",
       "      <td>2 years</td>\n",
       "      <td>NaN</td>\n",
       "      <td>Gun; Unknown type</td>\n",
       "      <td>Acquitted</td>\n",
       "      <td>Sheriff Cornelius Hogeboom was shot and killed...</td>\n",
       "      <td>1</td>\n",
       "    </tr>\n",
       "    <tr>\n",
       "      <th>2</th>\n",
       "      <td>Deputy Sheriff</td>\n",
       "      <td>Isaac Smith</td>\n",
       "      <td>NaN</td>\n",
       "      <td>1792-05-17</td>\n",
       "      <td>Thursday</td>\n",
       "      <td>Gunfire</td>\n",
       "      <td>Westchester County Sheriff's Department, New York</td>\n",
       "      <td>New York</td>\n",
       "      <td>NaN</td>\n",
       "      <td>NaN</td>\n",
       "      <td>Handgun</td>\n",
       "      <td>Executed in 1793</td>\n",
       "      <td>Deputy Sheriff Isaac Smith was shot and killed...</td>\n",
       "      <td>0</td>\n",
       "    </tr>\n",
       "    <tr>\n",
       "      <th>3</th>\n",
       "      <td>Marshal</td>\n",
       "      <td>Robert Forsyth</td>\n",
       "      <td>40.0</td>\n",
       "      <td>1794-01-11</td>\n",
       "      <td>Saturday</td>\n",
       "      <td>Gunfire</td>\n",
       "      <td>United States Department of Justice - United S...</td>\n",
       "      <td>United States</td>\n",
       "      <td>4 years, 4 months</td>\n",
       "      <td>4</td>\n",
       "      <td>Handgun; Pistol</td>\n",
       "      <td>Escaped</td>\n",
       "      <td>Marshal Robert Forsyth, believed to be one of ...</td>\n",
       "      <td>0</td>\n",
       "    </tr>\n",
       "    <tr>\n",
       "      <th>4</th>\n",
       "      <td>Deputy Sheriff</td>\n",
       "      <td>Robert Berwick</td>\n",
       "      <td>NaN</td>\n",
       "      <td>1797-06-29</td>\n",
       "      <td>Thursday</td>\n",
       "      <td>Gunfire</td>\n",
       "      <td>New York County Sheriff's Office, New York</td>\n",
       "      <td>New York</td>\n",
       "      <td>NaN</td>\n",
       "      <td>NaN</td>\n",
       "      <td>Handgun</td>\n",
       "      <td>Executed in 1797</td>\n",
       "      <td>Deputy Sheriff Robert Berwick was shot and kil...</td>\n",
       "      <td>0</td>\n",
       "    </tr>\n",
       "  </tbody>\n",
       "</table>\n",
       "</div>"
      ],
      "text/plain": [
       "             Rank                Name   Age End_Of_Watch Day_Of_Week    Cause  \\\n",
       "0       Constable       Darius Quimby   NaN   1791-01-03      Monday  Stabbed   \n",
       "1         Sheriff  Cornelius Hogeboom  53.0   1791-10-22    Saturday  Gunfire   \n",
       "2  Deputy Sheriff         Isaac Smith   NaN   1792-05-17    Thursday  Gunfire   \n",
       "3         Marshal      Robert Forsyth  40.0   1794-01-11    Saturday  Gunfire   \n",
       "4  Deputy Sheriff      Robert Berwick   NaN   1797-06-29    Thursday  Gunfire   \n",
       "\n",
       "                                          Department          State  \\\n",
       "0         Albany County Constable's Office, New York       New York   \n",
       "1         Columbia County Sheriff's Office, New York       New York   \n",
       "2  Westchester County Sheriff's Department, New York       New York   \n",
       "3  United States Department of Justice - United S...  United States   \n",
       "4         New York County Sheriff's Office, New York       New York   \n",
       "\n",
       "                Tour Badge               Weapon          Offender  \\\n",
       "0                NaN   NaN  Edged weapon; Knife  Executed in 1791   \n",
       "1            2 years   NaN    Gun; Unknown type         Acquitted   \n",
       "2                NaN   NaN              Handgun  Executed in 1793   \n",
       "3  4 years, 4 months     4      Handgun; Pistol           Escaped   \n",
       "4                NaN   NaN              Handgun  Executed in 1797   \n",
       "\n",
       "                                             Summary  Binary_Age  \n",
       "0  Constable Darius Quimby was stabbed to death w...           0  \n",
       "1  Sheriff Cornelius Hogeboom was shot and killed...           1  \n",
       "2  Deputy Sheriff Isaac Smith was shot and killed...           0  \n",
       "3  Marshal Robert Forsyth, believed to be one of ...           0  \n",
       "4  Deputy Sheriff Robert Berwick was shot and kil...           0  "
      ]
     },
     "execution_count": 18,
     "metadata": {},
     "output_type": "execute_result"
    }
   ],
   "source": [
    "df.head()"
   ]
  },
  {
   "cell_type": "code",
   "execution_count": 24,
   "id": "2c9287bc",
   "metadata": {},
   "outputs": [
    {
     "data": {
      "text/html": [
       "<div>\n",
       "<style scoped>\n",
       "    .dataframe tbody tr th:only-of-type {\n",
       "        vertical-align: middle;\n",
       "    }\n",
       "\n",
       "    .dataframe tbody tr th {\n",
       "        vertical-align: top;\n",
       "    }\n",
       "\n",
       "    .dataframe thead th {\n",
       "        text-align: right;\n",
       "    }\n",
       "</style>\n",
       "<table border=\"1\" class=\"dataframe\">\n",
       "  <thead>\n",
       "    <tr style=\"text-align: right;\">\n",
       "      <th></th>\n",
       "      <th>Age</th>\n",
       "      <th>Binary_Age</th>\n",
       "    </tr>\n",
       "  </thead>\n",
       "  <tbody>\n",
       "    <tr>\n",
       "      <th>count</th>\n",
       "      <td>4634.000000</td>\n",
       "      <td>4634.0</td>\n",
       "    </tr>\n",
       "    <tr>\n",
       "      <th>mean</th>\n",
       "      <td>58.246871</td>\n",
       "      <td>1.0</td>\n",
       "    </tr>\n",
       "    <tr>\n",
       "      <th>std</th>\n",
       "      <td>24.279719</td>\n",
       "      <td>0.0</td>\n",
       "    </tr>\n",
       "    <tr>\n",
       "      <th>min</th>\n",
       "      <td>51.000000</td>\n",
       "      <td>1.0</td>\n",
       "    </tr>\n",
       "    <tr>\n",
       "      <th>25%</th>\n",
       "      <td>53.000000</td>\n",
       "      <td>1.0</td>\n",
       "    </tr>\n",
       "    <tr>\n",
       "      <th>50%</th>\n",
       "      <td>57.000000</td>\n",
       "      <td>1.0</td>\n",
       "    </tr>\n",
       "    <tr>\n",
       "      <th>75%</th>\n",
       "      <td>61.000000</td>\n",
       "      <td>1.0</td>\n",
       "    </tr>\n",
       "    <tr>\n",
       "      <th>max</th>\n",
       "      <td>1661.000000</td>\n",
       "      <td>1.0</td>\n",
       "    </tr>\n",
       "  </tbody>\n",
       "</table>\n",
       "</div>"
      ],
      "text/plain": [
       "               Age  Binary_Age\n",
       "count  4634.000000      4634.0\n",
       "mean     58.246871         1.0\n",
       "std      24.279719         0.0\n",
       "min      51.000000         1.0\n",
       "25%      53.000000         1.0\n",
       "50%      57.000000         1.0\n",
       "75%      61.000000         1.0\n",
       "max    1661.000000         1.0"
      ]
     },
     "execution_count": 24,
     "metadata": {},
     "output_type": "execute_result"
    }
   ],
   "source": [
    "df_more_50 = df[df['Age'] > 50]\n",
    "df_more_50.describe()"
   ]
  },
  {
   "cell_type": "code",
   "execution_count": 25,
   "id": "ddcdc072",
   "metadata": {},
   "outputs": [
    {
     "data": {
      "text/html": [
       "<div>\n",
       "<style scoped>\n",
       "    .dataframe tbody tr th:only-of-type {\n",
       "        vertical-align: middle;\n",
       "    }\n",
       "\n",
       "    .dataframe tbody tr th {\n",
       "        vertical-align: top;\n",
       "    }\n",
       "\n",
       "    .dataframe thead th {\n",
       "        text-align: right;\n",
       "    }\n",
       "</style>\n",
       "<table border=\"1\" class=\"dataframe\">\n",
       "  <thead>\n",
       "    <tr style=\"text-align: right;\">\n",
       "      <th></th>\n",
       "      <th>Rank</th>\n",
       "      <th>Name</th>\n",
       "      <th>Age</th>\n",
       "      <th>End_Of_Watch</th>\n",
       "      <th>Day_Of_Week</th>\n",
       "      <th>Cause</th>\n",
       "      <th>Department</th>\n",
       "      <th>State</th>\n",
       "      <th>Tour</th>\n",
       "      <th>Badge</th>\n",
       "      <th>Weapon</th>\n",
       "      <th>Offender</th>\n",
       "      <th>Summary</th>\n",
       "      <th>Binary_Age</th>\n",
       "    </tr>\n",
       "  </thead>\n",
       "  <tbody>\n",
       "    <tr>\n",
       "      <th>3</th>\n",
       "      <td>Marshal</td>\n",
       "      <td>Robert Forsyth</td>\n",
       "      <td>40.0</td>\n",
       "      <td>1794-01-11</td>\n",
       "      <td>Saturday</td>\n",
       "      <td>Gunfire</td>\n",
       "      <td>United States Department of Justice - United S...</td>\n",
       "      <td>United States</td>\n",
       "      <td>4 years, 4 months</td>\n",
       "      <td>4</td>\n",
       "      <td>Handgun; Pistol</td>\n",
       "      <td>Escaped</td>\n",
       "      <td>Marshal Robert Forsyth, believed to be one of ...</td>\n",
       "      <td>0</td>\n",
       "    </tr>\n",
       "    <tr>\n",
       "      <th>5</th>\n",
       "      <td>Sheriff</td>\n",
       "      <td>Robert Maxwell</td>\n",
       "      <td>45.0</td>\n",
       "      <td>1797-11-12</td>\n",
       "      <td>Sunday</td>\n",
       "      <td>Gunfire</td>\n",
       "      <td>Washington District Sheriff's Office, South Ca...</td>\n",
       "      <td>South Carolina</td>\n",
       "      <td>NaN</td>\n",
       "      <td>NaN</td>\n",
       "      <td>Gun; Unknown type</td>\n",
       "      <td>Acquitted</td>\n",
       "      <td>Sheriff Robert Maxwell was shot and killed aft...</td>\n",
       "      <td>0</td>\n",
       "    </tr>\n",
       "    <tr>\n",
       "      <th>10</th>\n",
       "      <td>Boatman</td>\n",
       "      <td>Ellis Drake</td>\n",
       "      <td>20.0</td>\n",
       "      <td>1808-08-03</td>\n",
       "      <td>Wednesday</td>\n",
       "      <td>Gunfire</td>\n",
       "      <td>United States Department of the Treasury - Uni...</td>\n",
       "      <td>United States</td>\n",
       "      <td>NaN</td>\n",
       "      <td>NaN</td>\n",
       "      <td>Rifle</td>\n",
       "      <td>NaN</td>\n",
       "      <td>Boatman Ellis Drake and Boatman Asa Marsh were...</td>\n",
       "      <td>0</td>\n",
       "    </tr>\n",
       "    <tr>\n",
       "      <th>12</th>\n",
       "      <td>Deputy Sheriff</td>\n",
       "      <td>Ebenezer Parker</td>\n",
       "      <td>48.0</td>\n",
       "      <td>1808-01-18</td>\n",
       "      <td>Monday</td>\n",
       "      <td>Assault</td>\n",
       "      <td>Cumberland County Sheriff's Office, Maine</td>\n",
       "      <td>Maine</td>\n",
       "      <td>NaN</td>\n",
       "      <td>NaN</td>\n",
       "      <td>Blunt object; Lumber</td>\n",
       "      <td>Executed in 1808</td>\n",
       "      <td>Deputy Sheriff Ebenezer Parker succumbed to in...</td>\n",
       "      <td>0</td>\n",
       "    </tr>\n",
       "    <tr>\n",
       "      <th>16</th>\n",
       "      <td>Keeper</td>\n",
       "      <td>Thomas Hewlett</td>\n",
       "      <td>46.0</td>\n",
       "      <td>1814-12-02</td>\n",
       "      <td>Friday</td>\n",
       "      <td>Stabbed</td>\n",
       "      <td>Vermont Department of Corrections, Vermont</td>\n",
       "      <td>Vermont</td>\n",
       "      <td>NaN</td>\n",
       "      <td>NaN</td>\n",
       "      <td>Edged weapon; Knife</td>\n",
       "      <td>Executed in 1818</td>\n",
       "      <td>Keeper Thomas Hewlett succumbed to stab wounds...</td>\n",
       "      <td>0</td>\n",
       "    </tr>\n",
       "  </tbody>\n",
       "</table>\n",
       "</div>"
      ],
      "text/plain": [
       "              Rank             Name   Age End_Of_Watch Day_Of_Week    Cause  \\\n",
       "3          Marshal   Robert Forsyth  40.0   1794-01-11    Saturday  Gunfire   \n",
       "5          Sheriff   Robert Maxwell  45.0   1797-11-12      Sunday  Gunfire   \n",
       "10         Boatman      Ellis Drake  20.0   1808-08-03   Wednesday  Gunfire   \n",
       "12  Deputy Sheriff  Ebenezer Parker  48.0   1808-01-18      Monday  Assault   \n",
       "16          Keeper   Thomas Hewlett  46.0   1814-12-02      Friday  Stabbed   \n",
       "\n",
       "                                           Department           State  \\\n",
       "3   United States Department of Justice - United S...   United States   \n",
       "5   Washington District Sheriff's Office, South Ca...  South Carolina   \n",
       "10  United States Department of the Treasury - Uni...   United States   \n",
       "12          Cumberland County Sheriff's Office, Maine           Maine   \n",
       "16         Vermont Department of Corrections, Vermont         Vermont   \n",
       "\n",
       "                 Tour Badge                Weapon          Offender  \\\n",
       "3   4 years, 4 months     4       Handgun; Pistol           Escaped   \n",
       "5                 NaN   NaN     Gun; Unknown type         Acquitted   \n",
       "10                NaN   NaN                 Rifle               NaN   \n",
       "12                NaN   NaN  Blunt object; Lumber  Executed in 1808   \n",
       "16                NaN   NaN   Edged weapon; Knife  Executed in 1818   \n",
       "\n",
       "                                              Summary  Binary_Age  \n",
       "3   Marshal Robert Forsyth, believed to be one of ...           0  \n",
       "5   Sheriff Robert Maxwell was shot and killed aft...           0  \n",
       "10  Boatman Ellis Drake and Boatman Asa Marsh were...           0  \n",
       "12  Deputy Sheriff Ebenezer Parker succumbed to in...           0  \n",
       "16  Keeper Thomas Hewlett succumbed to stab wounds...           0  "
      ]
     },
     "execution_count": 25,
     "metadata": {},
     "output_type": "execute_result"
    }
   ],
   "source": [
    "df_less_equal_50 = df[df['Age'] <= 50]\n",
    "df_less_equal_50.head()"
   ]
  },
  {
   "cell_type": "code",
   "execution_count": 26,
   "id": "4ffb7478",
   "metadata": {},
   "outputs": [
    {
     "data": {
      "text/plain": [
       "Index(['Rank', 'Name', 'Age', 'End_Of_Watch', 'Day_Of_Week', 'Cause',\n",
       "       'Department', 'State', 'Tour', 'Badge', 'Weapon', 'Offender', 'Summary',\n",
       "       'Binary_Age'],\n",
       "      dtype='object')"
      ]
     },
     "execution_count": 26,
     "metadata": {},
     "output_type": "execute_result"
    }
   ],
   "source": [
    "df.columns"
   ]
  },
  {
   "cell_type": "code",
   "execution_count": 28,
   "id": "5fed5cc4",
   "metadata": {},
   "outputs": [
    {
     "data": {
      "text/html": [
       "<div>\n",
       "<style scoped>\n",
       "    .dataframe tbody tr th:only-of-type {\n",
       "        vertical-align: middle;\n",
       "    }\n",
       "\n",
       "    .dataframe tbody tr th {\n",
       "        vertical-align: top;\n",
       "    }\n",
       "\n",
       "    .dataframe thead th {\n",
       "        text-align: right;\n",
       "    }\n",
       "</style>\n",
       "<table border=\"1\" class=\"dataframe\">\n",
       "  <thead>\n",
       "    <tr style=\"text-align: right;\">\n",
       "      <th></th>\n",
       "      <th>Rank</th>\n",
       "      <th>Department</th>\n",
       "      <th>State</th>\n",
       "    </tr>\n",
       "  </thead>\n",
       "  <tbody>\n",
       "    <tr>\n",
       "      <th>0</th>\n",
       "      <td>Constable</td>\n",
       "      <td>Albany County Constable's Office, New York</td>\n",
       "      <td>New York</td>\n",
       "    </tr>\n",
       "    <tr>\n",
       "      <th>1</th>\n",
       "      <td>Sheriff</td>\n",
       "      <td>Columbia County Sheriff's Office, New York</td>\n",
       "      <td>New York</td>\n",
       "    </tr>\n",
       "    <tr>\n",
       "      <th>2</th>\n",
       "      <td>Deputy Sheriff</td>\n",
       "      <td>Westchester County Sheriff's Department, New York</td>\n",
       "      <td>New York</td>\n",
       "    </tr>\n",
       "    <tr>\n",
       "      <th>3</th>\n",
       "      <td>Marshal</td>\n",
       "      <td>United States Department of Justice - United S...</td>\n",
       "      <td>United States</td>\n",
       "    </tr>\n",
       "    <tr>\n",
       "      <th>4</th>\n",
       "      <td>Deputy Sheriff</td>\n",
       "      <td>New York County Sheriff's Office, New York</td>\n",
       "      <td>New York</td>\n",
       "    </tr>\n",
       "  </tbody>\n",
       "</table>\n",
       "</div>"
      ],
      "text/plain": [
       "             Rank                                         Department  \\\n",
       "0       Constable         Albany County Constable's Office, New York   \n",
       "1         Sheriff         Columbia County Sheriff's Office, New York   \n",
       "2  Deputy Sheriff  Westchester County Sheriff's Department, New York   \n",
       "3         Marshal  United States Department of Justice - United S...   \n",
       "4  Deputy Sheriff         New York County Sheriff's Office, New York   \n",
       "\n",
       "           State  \n",
       "0       New York  \n",
       "1       New York  \n",
       "2       New York  \n",
       "3  United States  \n",
       "4       New York  "
      ]
     },
     "execution_count": 28,
     "metadata": {},
     "output_type": "execute_result"
    }
   ],
   "source": [
    "new_df = df[['Rank', 'Department', 'State']]\n",
    "new_df.head()"
   ]
  },
  {
   "cell_type": "code",
   "execution_count": 29,
   "id": "5f946d47",
   "metadata": {},
   "outputs": [
    {
     "data": {
      "text/html": [
       "<div>\n",
       "<style scoped>\n",
       "    .dataframe tbody tr th:only-of-type {\n",
       "        vertical-align: middle;\n",
       "    }\n",
       "\n",
       "    .dataframe tbody tr th {\n",
       "        vertical-align: top;\n",
       "    }\n",
       "\n",
       "    .dataframe thead th {\n",
       "        text-align: right;\n",
       "    }\n",
       "</style>\n",
       "<table border=\"1\" class=\"dataframe\">\n",
       "  <thead>\n",
       "    <tr style=\"text-align: right;\">\n",
       "      <th></th>\n",
       "      <th>Rank</th>\n",
       "      <th>Name</th>\n",
       "      <th>Age</th>\n",
       "      <th>End_Of_Watch</th>\n",
       "      <th>Day_Of_Week</th>\n",
       "      <th>Cause</th>\n",
       "      <th>Department</th>\n",
       "      <th>State</th>\n",
       "      <th>Tour</th>\n",
       "      <th>Badge</th>\n",
       "      <th>Weapon</th>\n",
       "      <th>Offender</th>\n",
       "      <th>Summary</th>\n",
       "      <th>Binary_Age</th>\n",
       "      <th>New Column</th>\n",
       "    </tr>\n",
       "  </thead>\n",
       "  <tbody>\n",
       "    <tr>\n",
       "      <th>0</th>\n",
       "      <td>Constable</td>\n",
       "      <td>Darius Quimby</td>\n",
       "      <td>NaN</td>\n",
       "      <td>1791-01-03</td>\n",
       "      <td>Monday</td>\n",
       "      <td>Stabbed</td>\n",
       "      <td>Albany County Constable's Office, New York</td>\n",
       "      <td>New York</td>\n",
       "      <td>NaN</td>\n",
       "      <td>NaN</td>\n",
       "      <td>Edged weapon; Knife</td>\n",
       "      <td>Executed in 1791</td>\n",
       "      <td>Constable Darius Quimby was stabbed to death w...</td>\n",
       "      <td>0</td>\n",
       "      <td>1</td>\n",
       "    </tr>\n",
       "    <tr>\n",
       "      <th>1</th>\n",
       "      <td>Sheriff</td>\n",
       "      <td>Cornelius Hogeboom</td>\n",
       "      <td>53.0</td>\n",
       "      <td>1791-10-22</td>\n",
       "      <td>Saturday</td>\n",
       "      <td>Gunfire</td>\n",
       "      <td>Columbia County Sheriff's Office, New York</td>\n",
       "      <td>New York</td>\n",
       "      <td>2 years</td>\n",
       "      <td>NaN</td>\n",
       "      <td>Gun; Unknown type</td>\n",
       "      <td>Acquitted</td>\n",
       "      <td>Sheriff Cornelius Hogeboom was shot and killed...</td>\n",
       "      <td>1</td>\n",
       "      <td>1</td>\n",
       "    </tr>\n",
       "    <tr>\n",
       "      <th>2</th>\n",
       "      <td>Deputy Sheriff</td>\n",
       "      <td>Isaac Smith</td>\n",
       "      <td>NaN</td>\n",
       "      <td>1792-05-17</td>\n",
       "      <td>Thursday</td>\n",
       "      <td>Gunfire</td>\n",
       "      <td>Westchester County Sheriff's Department, New York</td>\n",
       "      <td>New York</td>\n",
       "      <td>NaN</td>\n",
       "      <td>NaN</td>\n",
       "      <td>Handgun</td>\n",
       "      <td>Executed in 1793</td>\n",
       "      <td>Deputy Sheriff Isaac Smith was shot and killed...</td>\n",
       "      <td>0</td>\n",
       "      <td>1</td>\n",
       "    </tr>\n",
       "    <tr>\n",
       "      <th>3</th>\n",
       "      <td>Marshal</td>\n",
       "      <td>Robert Forsyth</td>\n",
       "      <td>40.0</td>\n",
       "      <td>1794-01-11</td>\n",
       "      <td>Saturday</td>\n",
       "      <td>Gunfire</td>\n",
       "      <td>United States Department of Justice - United S...</td>\n",
       "      <td>United States</td>\n",
       "      <td>4 years, 4 months</td>\n",
       "      <td>4</td>\n",
       "      <td>Handgun; Pistol</td>\n",
       "      <td>Escaped</td>\n",
       "      <td>Marshal Robert Forsyth, believed to be one of ...</td>\n",
       "      <td>0</td>\n",
       "      <td>1</td>\n",
       "    </tr>\n",
       "    <tr>\n",
       "      <th>4</th>\n",
       "      <td>Deputy Sheriff</td>\n",
       "      <td>Robert Berwick</td>\n",
       "      <td>NaN</td>\n",
       "      <td>1797-06-29</td>\n",
       "      <td>Thursday</td>\n",
       "      <td>Gunfire</td>\n",
       "      <td>New York County Sheriff's Office, New York</td>\n",
       "      <td>New York</td>\n",
       "      <td>NaN</td>\n",
       "      <td>NaN</td>\n",
       "      <td>Handgun</td>\n",
       "      <td>Executed in 1797</td>\n",
       "      <td>Deputy Sheriff Robert Berwick was shot and kil...</td>\n",
       "      <td>0</td>\n",
       "      <td>1</td>\n",
       "    </tr>\n",
       "  </tbody>\n",
       "</table>\n",
       "</div>"
      ],
      "text/plain": [
       "             Rank                Name   Age End_Of_Watch Day_Of_Week    Cause  \\\n",
       "0       Constable       Darius Quimby   NaN   1791-01-03      Monday  Stabbed   \n",
       "1         Sheriff  Cornelius Hogeboom  53.0   1791-10-22    Saturday  Gunfire   \n",
       "2  Deputy Sheriff         Isaac Smith   NaN   1792-05-17    Thursday  Gunfire   \n",
       "3         Marshal      Robert Forsyth  40.0   1794-01-11    Saturday  Gunfire   \n",
       "4  Deputy Sheriff      Robert Berwick   NaN   1797-06-29    Thursday  Gunfire   \n",
       "\n",
       "                                          Department          State  \\\n",
       "0         Albany County Constable's Office, New York       New York   \n",
       "1         Columbia County Sheriff's Office, New York       New York   \n",
       "2  Westchester County Sheriff's Department, New York       New York   \n",
       "3  United States Department of Justice - United S...  United States   \n",
       "4         New York County Sheriff's Office, New York       New York   \n",
       "\n",
       "                Tour Badge               Weapon          Offender  \\\n",
       "0                NaN   NaN  Edged weapon; Knife  Executed in 1791   \n",
       "1            2 years   NaN    Gun; Unknown type         Acquitted   \n",
       "2                NaN   NaN              Handgun  Executed in 1793   \n",
       "3  4 years, 4 months     4      Handgun; Pistol           Escaped   \n",
       "4                NaN   NaN              Handgun  Executed in 1797   \n",
       "\n",
       "                                             Summary  Binary_Age  New Column  \n",
       "0  Constable Darius Quimby was stabbed to death w...           0           1  \n",
       "1  Sheriff Cornelius Hogeboom was shot and killed...           1           1  \n",
       "2  Deputy Sheriff Isaac Smith was shot and killed...           0           1  \n",
       "3  Marshal Robert Forsyth, believed to be one of ...           0           1  \n",
       "4  Deputy Sheriff Robert Berwick was shot and kil...           0           1  "
      ]
     },
     "execution_count": 29,
     "metadata": {},
     "output_type": "execute_result"
    }
   ],
   "source": [
    "df['New Column'] = 1 \n",
    "df.head()"
   ]
  },
  {
   "cell_type": "code",
   "execution_count": 31,
   "id": "db85497d",
   "metadata": {},
   "outputs": [
    {
     "ename": "SyntaxError",
     "evalue": "invalid syntax (4119257793.py, line 1)",
     "output_type": "error",
     "traceback": [
      "\u001b[0;36m  File \u001b[0;32m\"/var/folders/f9/bj8yxvjx2l57psdr1xj01vk00000gn/T/ipykernel_85884/4119257793.py\"\u001b[0;36m, line \u001b[0;32m1\u001b[0m\n\u001b[0;31m    df['Binary Age'] = [for el in df['Age'] 1 if el > 50 else 0]\u001b[0m\n\u001b[0m                        ^\u001b[0m\n\u001b[0;31mSyntaxError\u001b[0m\u001b[0;31m:\u001b[0m invalid syntax\n"
     ]
    }
   ],
   "source": [
    "df['Binary Age'] = [1 if el > 50 else 0 for el in df['Age']]"
   ]
  },
  {
   "cell_type": "code",
   "execution_count": 34,
   "id": "7cd21239",
   "metadata": {},
   "outputs": [],
   "source": [
    "df['Corrected_age'] = df['Age'] - 2"
   ]
  },
  {
   "cell_type": "code",
   "execution_count": 35,
   "id": "18d8c6f7",
   "metadata": {},
   "outputs": [
    {
     "data": {
      "text/html": [
       "<div>\n",
       "<style scoped>\n",
       "    .dataframe tbody tr th:only-of-type {\n",
       "        vertical-align: middle;\n",
       "    }\n",
       "\n",
       "    .dataframe tbody tr th {\n",
       "        vertical-align: top;\n",
       "    }\n",
       "\n",
       "    .dataframe thead th {\n",
       "        text-align: right;\n",
       "    }\n",
       "</style>\n",
       "<table border=\"1\" class=\"dataframe\">\n",
       "  <thead>\n",
       "    <tr style=\"text-align: right;\">\n",
       "      <th></th>\n",
       "      <th>Rank</th>\n",
       "      <th>Name</th>\n",
       "      <th>Age</th>\n",
       "      <th>End_Of_Watch</th>\n",
       "      <th>Day_Of_Week</th>\n",
       "      <th>Cause</th>\n",
       "      <th>Department</th>\n",
       "      <th>State</th>\n",
       "      <th>Tour</th>\n",
       "      <th>Badge</th>\n",
       "      <th>Weapon</th>\n",
       "      <th>Offender</th>\n",
       "      <th>Summary</th>\n",
       "      <th>Binary_Age</th>\n",
       "      <th>New Column</th>\n",
       "      <th>Binary Age</th>\n",
       "      <th>Corrected_age</th>\n",
       "    </tr>\n",
       "  </thead>\n",
       "  <tbody>\n",
       "    <tr>\n",
       "      <th>0</th>\n",
       "      <td>Constable</td>\n",
       "      <td>Darius Quimby</td>\n",
       "      <td>NaN</td>\n",
       "      <td>1791-01-03</td>\n",
       "      <td>Monday</td>\n",
       "      <td>Stabbed</td>\n",
       "      <td>Albany County Constable's Office, New York</td>\n",
       "      <td>New York</td>\n",
       "      <td>NaN</td>\n",
       "      <td>NaN</td>\n",
       "      <td>Edged weapon; Knife</td>\n",
       "      <td>Executed in 1791</td>\n",
       "      <td>Constable Darius Quimby was stabbed to death w...</td>\n",
       "      <td>0</td>\n",
       "      <td>1</td>\n",
       "      <td>0</td>\n",
       "      <td>NaN</td>\n",
       "    </tr>\n",
       "    <tr>\n",
       "      <th>1</th>\n",
       "      <td>Sheriff</td>\n",
       "      <td>Cornelius Hogeboom</td>\n",
       "      <td>53.0</td>\n",
       "      <td>1791-10-22</td>\n",
       "      <td>Saturday</td>\n",
       "      <td>Gunfire</td>\n",
       "      <td>Columbia County Sheriff's Office, New York</td>\n",
       "      <td>New York</td>\n",
       "      <td>2 years</td>\n",
       "      <td>NaN</td>\n",
       "      <td>Gun; Unknown type</td>\n",
       "      <td>Acquitted</td>\n",
       "      <td>Sheriff Cornelius Hogeboom was shot and killed...</td>\n",
       "      <td>1</td>\n",
       "      <td>1</td>\n",
       "      <td>1</td>\n",
       "      <td>51.0</td>\n",
       "    </tr>\n",
       "    <tr>\n",
       "      <th>2</th>\n",
       "      <td>Deputy Sheriff</td>\n",
       "      <td>Isaac Smith</td>\n",
       "      <td>NaN</td>\n",
       "      <td>1792-05-17</td>\n",
       "      <td>Thursday</td>\n",
       "      <td>Gunfire</td>\n",
       "      <td>Westchester County Sheriff's Department, New York</td>\n",
       "      <td>New York</td>\n",
       "      <td>NaN</td>\n",
       "      <td>NaN</td>\n",
       "      <td>Handgun</td>\n",
       "      <td>Executed in 1793</td>\n",
       "      <td>Deputy Sheriff Isaac Smith was shot and killed...</td>\n",
       "      <td>0</td>\n",
       "      <td>1</td>\n",
       "      <td>0</td>\n",
       "      <td>NaN</td>\n",
       "    </tr>\n",
       "    <tr>\n",
       "      <th>3</th>\n",
       "      <td>Marshal</td>\n",
       "      <td>Robert Forsyth</td>\n",
       "      <td>40.0</td>\n",
       "      <td>1794-01-11</td>\n",
       "      <td>Saturday</td>\n",
       "      <td>Gunfire</td>\n",
       "      <td>United States Department of Justice - United S...</td>\n",
       "      <td>United States</td>\n",
       "      <td>4 years, 4 months</td>\n",
       "      <td>4</td>\n",
       "      <td>Handgun; Pistol</td>\n",
       "      <td>Escaped</td>\n",
       "      <td>Marshal Robert Forsyth, believed to be one of ...</td>\n",
       "      <td>0</td>\n",
       "      <td>1</td>\n",
       "      <td>0</td>\n",
       "      <td>38.0</td>\n",
       "    </tr>\n",
       "    <tr>\n",
       "      <th>4</th>\n",
       "      <td>Deputy Sheriff</td>\n",
       "      <td>Robert Berwick</td>\n",
       "      <td>NaN</td>\n",
       "      <td>1797-06-29</td>\n",
       "      <td>Thursday</td>\n",
       "      <td>Gunfire</td>\n",
       "      <td>New York County Sheriff's Office, New York</td>\n",
       "      <td>New York</td>\n",
       "      <td>NaN</td>\n",
       "      <td>NaN</td>\n",
       "      <td>Handgun</td>\n",
       "      <td>Executed in 1797</td>\n",
       "      <td>Deputy Sheriff Robert Berwick was shot and kil...</td>\n",
       "      <td>0</td>\n",
       "      <td>1</td>\n",
       "      <td>0</td>\n",
       "      <td>NaN</td>\n",
       "    </tr>\n",
       "  </tbody>\n",
       "</table>\n",
       "</div>"
      ],
      "text/plain": [
       "             Rank                Name   Age End_Of_Watch Day_Of_Week    Cause  \\\n",
       "0       Constable       Darius Quimby   NaN   1791-01-03      Monday  Stabbed   \n",
       "1         Sheriff  Cornelius Hogeboom  53.0   1791-10-22    Saturday  Gunfire   \n",
       "2  Deputy Sheriff         Isaac Smith   NaN   1792-05-17    Thursday  Gunfire   \n",
       "3         Marshal      Robert Forsyth  40.0   1794-01-11    Saturday  Gunfire   \n",
       "4  Deputy Sheriff      Robert Berwick   NaN   1797-06-29    Thursday  Gunfire   \n",
       "\n",
       "                                          Department          State  \\\n",
       "0         Albany County Constable's Office, New York       New York   \n",
       "1         Columbia County Sheriff's Office, New York       New York   \n",
       "2  Westchester County Sheriff's Department, New York       New York   \n",
       "3  United States Department of Justice - United S...  United States   \n",
       "4         New York County Sheriff's Office, New York       New York   \n",
       "\n",
       "                Tour Badge               Weapon          Offender  \\\n",
       "0                NaN   NaN  Edged weapon; Knife  Executed in 1791   \n",
       "1            2 years   NaN    Gun; Unknown type         Acquitted   \n",
       "2                NaN   NaN              Handgun  Executed in 1793   \n",
       "3  4 years, 4 months     4      Handgun; Pistol           Escaped   \n",
       "4                NaN   NaN              Handgun  Executed in 1797   \n",
       "\n",
       "                                             Summary  Binary_Age  New Column  \\\n",
       "0  Constable Darius Quimby was stabbed to death w...           0           1   \n",
       "1  Sheriff Cornelius Hogeboom was shot and killed...           1           1   \n",
       "2  Deputy Sheriff Isaac Smith was shot and killed...           0           1   \n",
       "3  Marshal Robert Forsyth, believed to be one of ...           0           1   \n",
       "4  Deputy Sheriff Robert Berwick was shot and kil...           0           1   \n",
       "\n",
       "   Binary Age  Corrected_age  \n",
       "0           0            NaN  \n",
       "1           1           51.0  \n",
       "2           0            NaN  \n",
       "3           0           38.0  \n",
       "4           0            NaN  "
      ]
     },
     "execution_count": 35,
     "metadata": {},
     "output_type": "execute_result"
    }
   ],
   "source": [
    "df.head()"
   ]
  },
  {
   "cell_type": "code",
   "execution_count": 37,
   "id": "b7ebfae0",
   "metadata": {},
   "outputs": [
    {
     "name": "stdout",
     "output_type": "stream",
     "text": [
      "('Friday',) 0.14596261171603636\n",
      "('Monday',) 0.13718143855130158\n",
      "('Saturday',) 0.15618780002341645\n",
      "('Sunday',) 0.14693829762322913\n",
      "('Thursday',) 0.14127931936151114\n",
      "('Tuesday',) 0.137259493423877\n",
      "('Wednesday',) 0.13519103930062834\n"
     ]
    }
   ],
   "source": [
    "for group, group_df in df.groupby(['Day_Of_Week']):\n",
    "    print(group, group_df.shape[0] / df.shape[0])"
   ]
  },
  {
   "cell_type": "code",
   "execution_count": 38,
   "id": "24f298ac",
   "metadata": {},
   "outputs": [
    {
     "data": {
      "text/plain": [
       "Day_Of_Week\n",
       "Saturday     4002\n",
       "Sunday       3765\n",
       "Friday       3740\n",
       "Thursday     3620\n",
       "Tuesday      3517\n",
       "Monday       3515\n",
       "Wednesday    3464\n",
       "Name: count, dtype: int64"
      ]
     },
     "execution_count": 38,
     "metadata": {},
     "output_type": "execute_result"
    }
   ],
   "source": [
    "df['Day_Of_Week'].value_counts()"
   ]
  },
  {
   "cell_type": "code",
   "execution_count": null,
   "id": "ded1c661",
   "metadata": {},
   "outputs": [],
   "source": []
  }
 ],
 "metadata": {
  "kernelspec": {
   "display_name": "Python 3 (ipykernel)",
   "language": "python",
   "name": "python3"
  },
  "language_info": {
   "codemirror_mode": {
    "name": "ipython",
    "version": 3
   },
   "file_extension": ".py",
   "mimetype": "text/x-python",
   "name": "python",
   "nbconvert_exporter": "python",
   "pygments_lexer": "ipython3",
   "version": "3.9.7"
  },
  "vscode": {
   "interpreter": {
    "hash": "5c7b89af1651d0b8571dde13640ecdccf7d5a6204171d6ab33e7c296e100e08a"
   }
  }
 },
 "nbformat": 4,
 "nbformat_minor": 5
}
