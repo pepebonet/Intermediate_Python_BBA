{
 "cells": [
  {
   "cell_type": "markdown",
   "id": "ae5d40c1",
   "metadata": {},
   "source": [
    "# Class 1.2. Intermediate Python & AI "
   ]
  },
  {
   "cell_type": "markdown",
   "id": "abfaa8db",
   "metadata": {},
   "source": [
    "# Pandas"
   ]
  },
  {
   "cell_type": "markdown",
   "id": "38759efe",
   "metadata": {},
   "source": [
    "### Table of contents \n",
    "\n",
    "1. Load dataset\n",
    "2. DataFrame exploration\n",
    "3. Operations with Rows & Columns\n",
    "4. Groupby\n",
    "5. Apply\n",
    "6. Lambda"
   ]
  },
  {
   "cell_type": "code",
   "execution_count": 1,
   "id": "3c224d8e",
   "metadata": {},
   "outputs": [],
   "source": [
    "import pandas as pd"
   ]
  },
  {
   "cell_type": "markdown",
   "id": "43eafd83",
   "metadata": {},
   "source": [
    "## 1. Load dataset"
   ]
  },
  {
   "cell_type": "markdown",
   "id": "fa80d31f",
   "metadata": {},
   "source": [
    "##### Loading a dataset allows us to use it along the notebook with the variable name that we attach to it"
   ]
  },
  {
   "cell_type": "code",
   "execution_count": 2,
   "id": "1ea56911",
   "metadata": {},
   "outputs": [],
   "source": [
    "df = pd.read_csv('../../datasets/police_deaths_USA_v6.csv', sep=',')"
   ]
  },
  {
   "cell_type": "code",
   "execution_count": 3,
   "id": "47cc2d53",
   "metadata": {},
   "outputs": [
    {
     "data": {
      "text/html": [
       "<div>\n",
       "<style scoped>\n",
       "    .dataframe tbody tr th:only-of-type {\n",
       "        vertical-align: middle;\n",
       "    }\n",
       "\n",
       "    .dataframe tbody tr th {\n",
       "        vertical-align: top;\n",
       "    }\n",
       "\n",
       "    .dataframe thead th {\n",
       "        text-align: right;\n",
       "    }\n",
       "</style>\n",
       "<table border=\"1\" class=\"dataframe\">\n",
       "  <thead>\n",
       "    <tr style=\"text-align: right;\">\n",
       "      <th></th>\n",
       "      <th>Rank</th>\n",
       "      <th>Name</th>\n",
       "      <th>Age</th>\n",
       "      <th>End_Of_Watch</th>\n",
       "      <th>Day_Of_Week</th>\n",
       "      <th>Cause</th>\n",
       "      <th>Department</th>\n",
       "      <th>State</th>\n",
       "      <th>Tour</th>\n",
       "      <th>Badge</th>\n",
       "      <th>Weapon</th>\n",
       "      <th>Offender</th>\n",
       "      <th>Summary</th>\n",
       "    </tr>\n",
       "  </thead>\n",
       "  <tbody>\n",
       "    <tr>\n",
       "      <th>0</th>\n",
       "      <td>Constable</td>\n",
       "      <td>Darius Quimby</td>\n",
       "      <td>NaN</td>\n",
       "      <td>1791-01-03</td>\n",
       "      <td>Monday</td>\n",
       "      <td>Stabbed</td>\n",
       "      <td>Albany County Constable's Office, New York</td>\n",
       "      <td>New York</td>\n",
       "      <td>NaN</td>\n",
       "      <td>NaN</td>\n",
       "      <td>Edged weapon; Knife</td>\n",
       "      <td>Executed in 1791</td>\n",
       "      <td>Constable Darius Quimby was stabbed to death w...</td>\n",
       "    </tr>\n",
       "    <tr>\n",
       "      <th>1</th>\n",
       "      <td>Sheriff</td>\n",
       "      <td>Cornelius Hogeboom</td>\n",
       "      <td>53.0</td>\n",
       "      <td>1791-10-22</td>\n",
       "      <td>Saturday</td>\n",
       "      <td>Gunfire</td>\n",
       "      <td>Columbia County Sheriff's Office, New York</td>\n",
       "      <td>New York</td>\n",
       "      <td>2 years</td>\n",
       "      <td>NaN</td>\n",
       "      <td>Gun; Unknown type</td>\n",
       "      <td>Acquitted</td>\n",
       "      <td>Sheriff Cornelius Hogeboom was shot and killed...</td>\n",
       "    </tr>\n",
       "    <tr>\n",
       "      <th>2</th>\n",
       "      <td>Deputy Sheriff</td>\n",
       "      <td>Isaac Smith</td>\n",
       "      <td>NaN</td>\n",
       "      <td>1792-05-17</td>\n",
       "      <td>Thursday</td>\n",
       "      <td>Gunfire</td>\n",
       "      <td>Westchester County Sheriff's Department, New York</td>\n",
       "      <td>New York</td>\n",
       "      <td>NaN</td>\n",
       "      <td>NaN</td>\n",
       "      <td>Handgun</td>\n",
       "      <td>Executed in 1793</td>\n",
       "      <td>Deputy Sheriff Isaac Smith was shot and killed...</td>\n",
       "    </tr>\n",
       "    <tr>\n",
       "      <th>3</th>\n",
       "      <td>Marshal</td>\n",
       "      <td>Robert Forsyth</td>\n",
       "      <td>40.0</td>\n",
       "      <td>1794-01-11</td>\n",
       "      <td>Saturday</td>\n",
       "      <td>Gunfire</td>\n",
       "      <td>United States Department of Justice - United S...</td>\n",
       "      <td>United States</td>\n",
       "      <td>4 years, 4 months</td>\n",
       "      <td>4</td>\n",
       "      <td>Handgun; Pistol</td>\n",
       "      <td>Escaped</td>\n",
       "      <td>Marshal Robert Forsyth, believed to be one of ...</td>\n",
       "    </tr>\n",
       "  </tbody>\n",
       "</table>\n",
       "</div>"
      ],
      "text/plain": [
       "             Rank                Name   Age End_Of_Watch Day_Of_Week    Cause  \\\n",
       "0       Constable       Darius Quimby   NaN   1791-01-03      Monday  Stabbed   \n",
       "1         Sheriff  Cornelius Hogeboom  53.0   1791-10-22    Saturday  Gunfire   \n",
       "2  Deputy Sheriff         Isaac Smith   NaN   1792-05-17    Thursday  Gunfire   \n",
       "3         Marshal      Robert Forsyth  40.0   1794-01-11    Saturday  Gunfire   \n",
       "\n",
       "                                          Department          State  \\\n",
       "0         Albany County Constable's Office, New York       New York   \n",
       "1         Columbia County Sheriff's Office, New York       New York   \n",
       "2  Westchester County Sheriff's Department, New York       New York   \n",
       "3  United States Department of Justice - United S...  United States   \n",
       "\n",
       "                Tour Badge               Weapon          Offender  \\\n",
       "0                NaN   NaN  Edged weapon; Knife  Executed in 1791   \n",
       "1            2 years   NaN    Gun; Unknown type         Acquitted   \n",
       "2                NaN   NaN              Handgun  Executed in 1793   \n",
       "3  4 years, 4 months     4      Handgun; Pistol           Escaped   \n",
       "\n",
       "                                             Summary  \n",
       "0  Constable Darius Quimby was stabbed to death w...  \n",
       "1  Sheriff Cornelius Hogeboom was shot and killed...  \n",
       "2  Deputy Sheriff Isaac Smith was shot and killed...  \n",
       "3  Marshal Robert Forsyth, believed to be one of ...  "
      ]
     },
     "execution_count": 3,
     "metadata": {},
     "output_type": "execute_result"
    }
   ],
   "source": [
    "df.head(4)"
   ]
  },
  {
   "cell_type": "markdown",
   "id": "462c1f28",
   "metadata": {},
   "source": [
    "## 2. DataFrame exploration"
   ]
  },
  {
   "cell_type": "code",
   "execution_count": 4,
   "id": "15d564e7",
   "metadata": {},
   "outputs": [
    {
     "data": {
      "text/plain": [
       "Index(['Rank', 'Name', 'Age', 'End_Of_Watch', 'Day_Of_Week', 'Cause',\n",
       "       'Department', 'State', 'Tour', 'Badge', 'Weapon', 'Offender',\n",
       "       'Summary'],\n",
       "      dtype='object')"
      ]
     },
     "execution_count": 4,
     "metadata": {},
     "output_type": "execute_result"
    }
   ],
   "source": [
    "df.columns"
   ]
  },
  {
   "cell_type": "code",
   "execution_count": 5,
   "id": "f3ae9506",
   "metadata": {},
   "outputs": [
    {
     "data": {
      "text/plain": [
       "(25623, 13)"
      ]
     },
     "execution_count": 5,
     "metadata": {},
     "output_type": "execute_result"
    }
   ],
   "source": [
    "df.shape"
   ]
  },
  {
   "cell_type": "code",
   "execution_count": 6,
   "id": "b99171be",
   "metadata": {},
   "outputs": [
    {
     "data": {
      "text/plain": [
       "RangeIndex(start=0, stop=25623, step=1)"
      ]
     },
     "execution_count": 6,
     "metadata": {},
     "output_type": "execute_result"
    }
   ],
   "source": [
    "df.index"
   ]
  },
  {
   "cell_type": "code",
   "execution_count": 7,
   "id": "0f77f4ce",
   "metadata": {},
   "outputs": [
    {
     "name": "stdout",
     "output_type": "stream",
     "text": [
      "<class 'pandas.core.frame.DataFrame'>\n",
      "RangeIndex: 25623 entries, 0 to 25622\n",
      "Data columns (total 13 columns):\n",
      " #   Column        Non-Null Count  Dtype  \n",
      "---  ------        --------------  -----  \n",
      " 0   Rank          25623 non-null  object \n",
      " 1   Name          25623 non-null  object \n",
      " 2   Age           22946 non-null  float64\n",
      " 3   End_Of_Watch  25623 non-null  object \n",
      " 4   Day_Of_Week   25623 non-null  object \n",
      " 5   Cause         25622 non-null  object \n",
      " 6   Department    25623 non-null  object \n",
      " 7   State         25623 non-null  object \n",
      " 8   Tour          17417 non-null  object \n",
      " 9   Badge         7482 non-null   object \n",
      " 10  Weapon        16263 non-null  object \n",
      " 11  Offender      13803 non-null  object \n",
      " 12  Summary       25623 non-null  object \n",
      "dtypes: float64(1), object(12)\n",
      "memory usage: 2.5+ MB\n"
     ]
    }
   ],
   "source": [
    "df.info()"
   ]
  },
  {
   "cell_type": "code",
   "execution_count": 8,
   "id": "20a945fa",
   "metadata": {},
   "outputs": [
    {
     "data": {
      "text/html": [
       "<div>\n",
       "<style scoped>\n",
       "    .dataframe tbody tr th:only-of-type {\n",
       "        vertical-align: middle;\n",
       "    }\n",
       "\n",
       "    .dataframe tbody tr th {\n",
       "        vertical-align: top;\n",
       "    }\n",
       "\n",
       "    .dataframe thead th {\n",
       "        text-align: right;\n",
       "    }\n",
       "</style>\n",
       "<table border=\"1\" class=\"dataframe\">\n",
       "  <thead>\n",
       "    <tr style=\"text-align: right;\">\n",
       "      <th></th>\n",
       "      <th>Age</th>\n",
       "    </tr>\n",
       "  </thead>\n",
       "  <tbody>\n",
       "    <tr>\n",
       "      <th>count</th>\n",
       "      <td>22946.000000</td>\n",
       "    </tr>\n",
       "    <tr>\n",
       "      <th>mean</th>\n",
       "      <td>40.289419</td>\n",
       "    </tr>\n",
       "    <tr>\n",
       "      <th>std</th>\n",
       "      <td>15.799729</td>\n",
       "    </tr>\n",
       "    <tr>\n",
       "      <th>min</th>\n",
       "      <td>17.000000</td>\n",
       "    </tr>\n",
       "    <tr>\n",
       "      <th>25%</th>\n",
       "      <td>31.000000</td>\n",
       "    </tr>\n",
       "    <tr>\n",
       "      <th>50%</th>\n",
       "      <td>39.000000</td>\n",
       "    </tr>\n",
       "    <tr>\n",
       "      <th>75%</th>\n",
       "      <td>48.000000</td>\n",
       "    </tr>\n",
       "    <tr>\n",
       "      <th>max</th>\n",
       "      <td>1661.000000</td>\n",
       "    </tr>\n",
       "  </tbody>\n",
       "</table>\n",
       "</div>"
      ],
      "text/plain": [
       "                Age\n",
       "count  22946.000000\n",
       "mean      40.289419\n",
       "std       15.799729\n",
       "min       17.000000\n",
       "25%       31.000000\n",
       "50%       39.000000\n",
       "75%       48.000000\n",
       "max     1661.000000"
      ]
     },
     "execution_count": 8,
     "metadata": {},
     "output_type": "execute_result"
    }
   ],
   "source": [
    "df.describe()"
   ]
  },
  {
   "cell_type": "markdown",
   "id": "a80d2062",
   "metadata": {},
   "source": [
    "## 3. Operations with Rows & Columns"
   ]
  },
  {
   "cell_type": "markdown",
   "id": "fc3099c5",
   "metadata": {},
   "source": [
    "#### What are the main causes of the murder? "
   ]
  },
  {
   "cell_type": "code",
   "execution_count": 12,
   "id": "cc2202d6",
   "metadata": {},
   "outputs": [
    {
     "data": {
      "text/plain": [
       "Gunfire                     12869\n",
       "Automobile crash             2507\n",
       "Heart attack                 1187\n",
       "Motorcycle crash             1157\n",
       "Vehicular assault             976\n",
       "Struck by vehicle             911\n",
       "COVID19                       812\n",
       "Assault                       697\n",
       "Vehicle pursuit               677\n",
       "Gunfire (Inadvertent)         660\n",
       "Stabbed                       481\n",
       "Aircraft accident             391\n",
       "9/11 related illness          365\n",
       "Struck by train               314\n",
       "Drowned                       282\n",
       "Duty related illness          255\n",
       "Fall                          213\n",
       "Animal related                 91\n",
       "Accidental                     89\n",
       "Electrocuted                   88\n",
       "Terrorist attack               82\n",
       "Struck by streetcar            76\n",
       "Fire                           69\n",
       "Explosion                      66\n",
       "Bomb                           61\n",
       "Exposure to toxins             49\n",
       "Weather/Natural disaster       37\n",
       "Training accident              30\n",
       "Train accident                 27\n",
       "Structure collapse             25\n",
       "Heatstroke                     24\n",
       "Hypothermia                    19\n",
       "Boating accident               16\n",
       "Bicycle accident               14\n",
       "Poisoned                        4\n",
       "Unidentified                    1\n",
       "Name: Cause, dtype: int64"
      ]
     },
     "execution_count": 12,
     "metadata": {},
     "output_type": "execute_result"
    }
   ],
   "source": [
    "df['Cause'].value_counts()"
   ]
  },
  {
   "cell_type": "code",
   "execution_count": 36,
   "id": "742880df",
   "metadata": {
    "scrolled": true
   },
   "outputs": [
    {
     "data": {
      "text/plain": [
       "array(['Stabbed', 'Gunfire', 'Duty related illness', 'Assault', 'Fall',\n",
       "       'Drowned', 'Structure collapse', 'Fire', 'Gunfire (Inadvertent)',\n",
       "       'Explosion', 'Vehicular assault', 'Animal related', 'Heart attack',\n",
       "       'Weather/Natural disaster', 'Accidental', 'Hypothermia',\n",
       "       'Heatstroke', 'Train accident', 'Struck by streetcar',\n",
       "       'Struck by train', 'Bomb', 'Poisoned', 'Electrocuted',\n",
       "       'Boating accident', 'Bicycle accident', 'Automobile crash',\n",
       "       'Struck by vehicle', nan, 'Exposure to toxins', 'Motorcycle crash',\n",
       "       'Vehicle pursuit', 'Unidentified', 'Training accident',\n",
       "       'Aircraft accident', 'Terrorist attack', '9/11 related illness',\n",
       "       'COVID19'], dtype=object)"
      ]
     },
     "execution_count": 36,
     "metadata": {},
     "output_type": "execute_result"
    }
   ],
   "source": [
    "df['Cause'].unique()"
   ]
  },
  {
   "cell_type": "code",
   "execution_count": 13,
   "id": "e4402e24",
   "metadata": {},
   "outputs": [
    {
     "data": {
      "text/plain": [
       "36"
      ]
     },
     "execution_count": 13,
     "metadata": {},
     "output_type": "execute_result"
    }
   ],
   "source": [
    "df['Cause'].nunique()"
   ]
  },
  {
   "cell_type": "markdown",
   "id": "5a9be5ca",
   "metadata": {},
   "source": [
    "#### How many ranks are in the dataset? "
   ]
  },
  {
   "cell_type": "code",
   "execution_count": 14,
   "id": "6275f06f",
   "metadata": {},
   "outputs": [
    {
     "data": {
      "text/plain": [
       "618"
      ]
     },
     "execution_count": 14,
     "metadata": {},
     "output_type": "execute_result"
    }
   ],
   "source": [
    "df['Rank'].nunique()"
   ]
  },
  {
   "cell_type": "markdown",
   "id": "2bb954d0",
   "metadata": {},
   "source": [
    "#### Which is the most common rank? "
   ]
  },
  {
   "cell_type": "code",
   "execution_count": 15,
   "id": "200f7f1d",
   "metadata": {},
   "outputs": [
    {
     "data": {
      "text/plain": [
       "Patrolman          3841\n",
       "Police Officer     3514\n",
       "Deputy Sheriff     3215\n",
       "Officer            1699\n",
       "Sergeant           1420\n",
       "Detective           853\n",
       "Trooper             842\n",
       "Sheriff             768\n",
       "Chief of Police     680\n",
       "Constable           593\n",
       "Name: Rank, dtype: int64"
      ]
     },
     "execution_count": 15,
     "metadata": {},
     "output_type": "execute_result"
    }
   ],
   "source": [
    "df['Rank'].value_counts().head(10)"
   ]
  },
  {
   "cell_type": "markdown",
   "id": "a5688a86",
   "metadata": {},
   "source": [
    "#### Which department has the most police deaths? "
   ]
  },
  {
   "cell_type": "code",
   "execution_count": 40,
   "id": "46e88d53",
   "metadata": {},
   "outputs": [
    {
     "data": {
      "text/plain": [
       "New York City Police Department, New York                                                959\n",
       "Chicago Police Department, Illinois                                                      509\n",
       "Puerto Rico Police Department, Puerto Rico                                               356\n",
       "Philadelphia Police Department, Pennsylvania                                             316\n",
       "United States Department of Justice - United States Marshals Service, U.S. Government    306\n",
       "                                                                                        ... \n",
       "Bennington County Sheriff's Department, Vermont                                            1\n",
       "Newport Police Department, Washington                                                      1\n",
       "McMinn County Constable's Office, Tennessee                                                1\n",
       "Rosalia Police Department, Washington                                                      1\n",
       "McFarland Police Department, Wisconsin                                                     1\n",
       "Name: Department, Length: 7229, dtype: int64"
      ]
     },
     "execution_count": 40,
     "metadata": {},
     "output_type": "execute_result"
    }
   ],
   "source": [
    "df['Department'].value_counts().max()"
   ]
  },
  {
   "cell_type": "markdown",
   "id": "33029a80",
   "metadata": {},
   "source": [
    "#### Separate Dataframes"
   ]
  },
  {
   "cell_type": "code",
   "execution_count": 52,
   "id": "b4ca8ba5",
   "metadata": {},
   "outputs": [
    {
     "data": {
      "text/html": [
       "<div>\n",
       "<style scoped>\n",
       "    .dataframe tbody tr th:only-of-type {\n",
       "        vertical-align: middle;\n",
       "    }\n",
       "\n",
       "    .dataframe tbody tr th {\n",
       "        vertical-align: top;\n",
       "    }\n",
       "\n",
       "    .dataframe thead th {\n",
       "        text-align: right;\n",
       "    }\n",
       "</style>\n",
       "<table border=\"1\" class=\"dataframe\">\n",
       "  <thead>\n",
       "    <tr style=\"text-align: right;\">\n",
       "      <th></th>\n",
       "      <th>Rank</th>\n",
       "      <th>Name</th>\n",
       "      <th>Age</th>\n",
       "      <th>End_Of_Watch</th>\n",
       "      <th>Day_Of_Week</th>\n",
       "      <th>Cause</th>\n",
       "      <th>Department</th>\n",
       "      <th>State</th>\n",
       "      <th>Tour</th>\n",
       "      <th>Badge</th>\n",
       "      <th>Weapon</th>\n",
       "      <th>Offender</th>\n",
       "      <th>Summary</th>\n",
       "    </tr>\n",
       "  </thead>\n",
       "  <tbody>\n",
       "    <tr>\n",
       "      <th>1</th>\n",
       "      <td>Sheriff</td>\n",
       "      <td>Cornelius Hogeboom</td>\n",
       "      <td>53.0</td>\n",
       "      <td>1791-10-22</td>\n",
       "      <td>Saturday</td>\n",
       "      <td>Gunfire</td>\n",
       "      <td>Columbia County Sheriff's Office, New York</td>\n",
       "      <td>New York</td>\n",
       "      <td>2 years</td>\n",
       "      <td>NaN</td>\n",
       "      <td>Gun; Unknown type</td>\n",
       "      <td>Acquitted</td>\n",
       "      <td>Sheriff Cornelius Hogeboom was shot and killed...</td>\n",
       "    </tr>\n",
       "    <tr>\n",
       "      <th>6</th>\n",
       "      <td>Superintendent</td>\n",
       "      <td>Hilary Baker</td>\n",
       "      <td>52.0</td>\n",
       "      <td>1798-09-25</td>\n",
       "      <td>Tuesday</td>\n",
       "      <td>Duty related illness</td>\n",
       "      <td>Philadelphia Police Department, Pennsylvania</td>\n",
       "      <td>Pennsylvania</td>\n",
       "      <td>1 year, 4 months</td>\n",
       "      <td>SUPERINTEN</td>\n",
       "      <td>NaN</td>\n",
       "      <td>NaN</td>\n",
       "      <td>Superindentent Hilary Baker died as a result o...</td>\n",
       "    </tr>\n",
       "    <tr>\n",
       "      <th>7</th>\n",
       "      <td>High Sheriff</td>\n",
       "      <td>John Caldwell Cook</td>\n",
       "      <td>74.0</td>\n",
       "      <td>1804-10-16</td>\n",
       "      <td>Tuesday</td>\n",
       "      <td>Gunfire</td>\n",
       "      <td>Mecklenburg County Sheriff's Office, North Car...</td>\n",
       "      <td>North Carolina</td>\n",
       "      <td>10 months</td>\n",
       "      <td>NaN</td>\n",
       "      <td>Gun; Unknown type</td>\n",
       "      <td>NaN</td>\n",
       "      <td>High Sheriff John Cook was shot in the head an...</td>\n",
       "    </tr>\n",
       "  </tbody>\n",
       "</table>\n",
       "</div>"
      ],
      "text/plain": [
       "             Rank                Name   Age End_Of_Watch Day_Of_Week  \\\n",
       "1         Sheriff  Cornelius Hogeboom  53.0   1791-10-22    Saturday   \n",
       "6  Superintendent        Hilary Baker  52.0   1798-09-25     Tuesday   \n",
       "7    High Sheriff  John Caldwell Cook  74.0   1804-10-16     Tuesday   \n",
       "\n",
       "                  Cause                                         Department  \\\n",
       "1               Gunfire         Columbia County Sheriff's Office, New York   \n",
       "6  Duty related illness       Philadelphia Police Department, Pennsylvania   \n",
       "7               Gunfire  Mecklenburg County Sheriff's Office, North Car...   \n",
       "\n",
       "            State              Tour       Badge             Weapon   Offender  \\\n",
       "1        New York           2 years         NaN  Gun; Unknown type  Acquitted   \n",
       "6    Pennsylvania  1 year, 4 months  SUPERINTEN                NaN        NaN   \n",
       "7  North Carolina         10 months         NaN  Gun; Unknown type        NaN   \n",
       "\n",
       "                                             Summary  \n",
       "1  Sheriff Cornelius Hogeboom was shot and killed...  \n",
       "6  Superindentent Hilary Baker died as a result o...  \n",
       "7  High Sheriff John Cook was shot in the head an...  "
      ]
     },
     "execution_count": 52,
     "metadata": {},
     "output_type": "execute_result"
    }
   ],
   "source": [
    "more_50 = df[df['Age'] > 50]\n",
    "more_50.head(3)"
   ]
  },
  {
   "cell_type": "code",
   "execution_count": 58,
   "id": "d0c02ca8",
   "metadata": {},
   "outputs": [
    {
     "data": {
      "text/plain": [
       "(58.246870953819595, 51.0)"
      ]
     },
     "execution_count": 58,
     "metadata": {},
     "output_type": "execute_result"
    }
   ],
   "source": [
    "more_50['Age'].mean(), more_50['Age'].min()"
   ]
  },
  {
   "cell_type": "code",
   "execution_count": 54,
   "id": "fcc731f8",
   "metadata": {},
   "outputs": [
    {
     "data": {
      "text/html": [
       "<div>\n",
       "<style scoped>\n",
       "    .dataframe tbody tr th:only-of-type {\n",
       "        vertical-align: middle;\n",
       "    }\n",
       "\n",
       "    .dataframe tbody tr th {\n",
       "        vertical-align: top;\n",
       "    }\n",
       "\n",
       "    .dataframe thead th {\n",
       "        text-align: right;\n",
       "    }\n",
       "</style>\n",
       "<table border=\"1\" class=\"dataframe\">\n",
       "  <thead>\n",
       "    <tr style=\"text-align: right;\">\n",
       "      <th></th>\n",
       "      <th>Rank</th>\n",
       "      <th>Name</th>\n",
       "      <th>Age</th>\n",
       "      <th>End_Of_Watch</th>\n",
       "      <th>Day_Of_Week</th>\n",
       "      <th>Cause</th>\n",
       "      <th>Department</th>\n",
       "      <th>State</th>\n",
       "      <th>Tour</th>\n",
       "      <th>Badge</th>\n",
       "      <th>Weapon</th>\n",
       "      <th>Offender</th>\n",
       "      <th>Summary</th>\n",
       "    </tr>\n",
       "  </thead>\n",
       "  <tbody>\n",
       "    <tr>\n",
       "      <th>3</th>\n",
       "      <td>Marshal</td>\n",
       "      <td>Robert Forsyth</td>\n",
       "      <td>40.0</td>\n",
       "      <td>1794-01-11</td>\n",
       "      <td>Saturday</td>\n",
       "      <td>Gunfire</td>\n",
       "      <td>United States Department of Justice - United S...</td>\n",
       "      <td>United States</td>\n",
       "      <td>4 years, 4 months</td>\n",
       "      <td>4</td>\n",
       "      <td>Handgun; Pistol</td>\n",
       "      <td>Escaped</td>\n",
       "      <td>Marshal Robert Forsyth, believed to be one of ...</td>\n",
       "    </tr>\n",
       "    <tr>\n",
       "      <th>5</th>\n",
       "      <td>Sheriff</td>\n",
       "      <td>Robert Maxwell</td>\n",
       "      <td>45.0</td>\n",
       "      <td>1797-11-12</td>\n",
       "      <td>Sunday</td>\n",
       "      <td>Gunfire</td>\n",
       "      <td>Washington District Sheriff's Office, South Ca...</td>\n",
       "      <td>South Carolina</td>\n",
       "      <td>NaN</td>\n",
       "      <td>NaN</td>\n",
       "      <td>Gun; Unknown type</td>\n",
       "      <td>Acquitted</td>\n",
       "      <td>Sheriff Robert Maxwell was shot and killed aft...</td>\n",
       "    </tr>\n",
       "  </tbody>\n",
       "</table>\n",
       "</div>"
      ],
      "text/plain": [
       "      Rank            Name   Age End_Of_Watch Day_Of_Week    Cause  \\\n",
       "3  Marshal  Robert Forsyth  40.0   1794-01-11    Saturday  Gunfire   \n",
       "5  Sheriff  Robert Maxwell  45.0   1797-11-12      Sunday  Gunfire   \n",
       "\n",
       "                                          Department           State  \\\n",
       "3  United States Department of Justice - United S...   United States   \n",
       "5  Washington District Sheriff's Office, South Ca...  South Carolina   \n",
       "\n",
       "                Tour Badge             Weapon   Offender  \\\n",
       "3  4 years, 4 months     4    Handgun; Pistol    Escaped   \n",
       "5                NaN   NaN  Gun; Unknown type  Acquitted   \n",
       "\n",
       "                                             Summary  \n",
       "3  Marshal Robert Forsyth, believed to be one of ...  \n",
       "5  Sheriff Robert Maxwell was shot and killed aft...  "
      ]
     },
     "execution_count": 54,
     "metadata": {},
     "output_type": "execute_result"
    }
   ],
   "source": [
    "less_50 = df[df['Age'] <= 50]\n",
    "less_50.head(2)"
   ]
  },
  {
   "cell_type": "code",
   "execution_count": 57,
   "id": "d58985b5",
   "metadata": {},
   "outputs": [
    {
     "data": {
      "text/plain": [
       "(35.0, 50.0)"
      ]
     },
     "execution_count": 57,
     "metadata": {},
     "output_type": "execute_result"
    }
   ],
   "source": [
    "less_50['Age'].median(), less_50['Age'].max()"
   ]
  },
  {
   "cell_type": "markdown",
   "id": "910b491e",
   "metadata": {},
   "source": [
    "#### Filter Data by selecting a certain number of columns or rows"
   ]
  },
  {
   "cell_type": "code",
   "execution_count": 61,
   "id": "173840a6",
   "metadata": {},
   "outputs": [
    {
     "data": {
      "text/html": [
       "<div>\n",
       "<style scoped>\n",
       "    .dataframe tbody tr th:only-of-type {\n",
       "        vertical-align: middle;\n",
       "    }\n",
       "\n",
       "    .dataframe tbody tr th {\n",
       "        vertical-align: top;\n",
       "    }\n",
       "\n",
       "    .dataframe thead th {\n",
       "        text-align: right;\n",
       "    }\n",
       "</style>\n",
       "<table border=\"1\" class=\"dataframe\">\n",
       "  <thead>\n",
       "    <tr style=\"text-align: right;\">\n",
       "      <th></th>\n",
       "      <th>Rank</th>\n",
       "      <th>Name</th>\n",
       "      <th>Age</th>\n",
       "    </tr>\n",
       "  </thead>\n",
       "  <tbody>\n",
       "    <tr>\n",
       "      <th>0</th>\n",
       "      <td>Constable</td>\n",
       "      <td>Darius Quimby</td>\n",
       "      <td>NaN</td>\n",
       "    </tr>\n",
       "    <tr>\n",
       "      <th>1</th>\n",
       "      <td>Sheriff</td>\n",
       "      <td>Cornelius Hogeboom</td>\n",
       "      <td>53.0</td>\n",
       "    </tr>\n",
       "    <tr>\n",
       "      <th>2</th>\n",
       "      <td>Deputy Sheriff</td>\n",
       "      <td>Isaac Smith</td>\n",
       "      <td>NaN</td>\n",
       "    </tr>\n",
       "    <tr>\n",
       "      <th>3</th>\n",
       "      <td>Marshal</td>\n",
       "      <td>Robert Forsyth</td>\n",
       "      <td>40.0</td>\n",
       "    </tr>\n",
       "    <tr>\n",
       "      <th>4</th>\n",
       "      <td>Deputy Sheriff</td>\n",
       "      <td>Robert Berwick</td>\n",
       "      <td>NaN</td>\n",
       "    </tr>\n",
       "  </tbody>\n",
       "</table>\n",
       "</div>"
      ],
      "text/plain": [
       "             Rank                Name   Age\n",
       "0       Constable       Darius Quimby   NaN\n",
       "1         Sheriff  Cornelius Hogeboom  53.0\n",
       "2  Deputy Sheriff         Isaac Smith   NaN\n",
       "3         Marshal      Robert Forsyth  40.0\n",
       "4  Deputy Sheriff      Robert Berwick   NaN"
      ]
     },
     "execution_count": 61,
     "metadata": {},
     "output_type": "execute_result"
    }
   ],
   "source": [
    "new_df = df[['Rank', 'Name', 'Age']]\n",
    "new_df.head()"
   ]
  },
  {
   "cell_type": "code",
   "execution_count": 64,
   "id": "d1a1e592",
   "metadata": {},
   "outputs": [
    {
     "data": {
      "text/plain": [
       "(10, 13)"
      ]
     },
     "execution_count": 64,
     "metadata": {},
     "output_type": "execute_result"
    }
   ],
   "source": [
    "new_df = df.iloc[0:10]\n",
    "new_df.shape"
   ]
  },
  {
   "cell_type": "markdown",
   "id": "a836de3e",
   "metadata": {},
   "source": [
    "#### Create new columns through an operation "
   ]
  },
  {
   "cell_type": "code",
   "execution_count": 68,
   "id": "34cb262a",
   "metadata": {},
   "outputs": [
    {
     "data": {
      "text/html": [
       "<div>\n",
       "<style scoped>\n",
       "    .dataframe tbody tr th:only-of-type {\n",
       "        vertical-align: middle;\n",
       "    }\n",
       "\n",
       "    .dataframe tbody tr th {\n",
       "        vertical-align: top;\n",
       "    }\n",
       "\n",
       "    .dataframe thead th {\n",
       "        text-align: right;\n",
       "    }\n",
       "</style>\n",
       "<table border=\"1\" class=\"dataframe\">\n",
       "  <thead>\n",
       "    <tr style=\"text-align: right;\">\n",
       "      <th></th>\n",
       "      <th>Rank</th>\n",
       "      <th>Name</th>\n",
       "      <th>Age</th>\n",
       "      <th>End_Of_Watch</th>\n",
       "      <th>Day_Of_Week</th>\n",
       "      <th>Cause</th>\n",
       "      <th>Department</th>\n",
       "      <th>State</th>\n",
       "      <th>Tour</th>\n",
       "      <th>Badge</th>\n",
       "      <th>Weapon</th>\n",
       "      <th>Offender</th>\n",
       "      <th>Summary</th>\n",
       "      <th>Binary age</th>\n",
       "    </tr>\n",
       "  </thead>\n",
       "  <tbody>\n",
       "    <tr>\n",
       "      <th>0</th>\n",
       "      <td>Constable</td>\n",
       "      <td>Darius Quimby</td>\n",
       "      <td>NaN</td>\n",
       "      <td>1791-01-03</td>\n",
       "      <td>Monday</td>\n",
       "      <td>Stabbed</td>\n",
       "      <td>Albany County Constable's Office, New York</td>\n",
       "      <td>New York</td>\n",
       "      <td>NaN</td>\n",
       "      <td>NaN</td>\n",
       "      <td>Edged weapon; Knife</td>\n",
       "      <td>Executed in 1791</td>\n",
       "      <td>Constable Darius Quimby was stabbed to death w...</td>\n",
       "      <td>0</td>\n",
       "    </tr>\n",
       "    <tr>\n",
       "      <th>1</th>\n",
       "      <td>Sheriff</td>\n",
       "      <td>Cornelius Hogeboom</td>\n",
       "      <td>53.0</td>\n",
       "      <td>1791-10-22</td>\n",
       "      <td>Saturday</td>\n",
       "      <td>Gunfire</td>\n",
       "      <td>Columbia County Sheriff's Office, New York</td>\n",
       "      <td>New York</td>\n",
       "      <td>2 years</td>\n",
       "      <td>NaN</td>\n",
       "      <td>Gun; Unknown type</td>\n",
       "      <td>Acquitted</td>\n",
       "      <td>Sheriff Cornelius Hogeboom was shot and killed...</td>\n",
       "      <td>1</td>\n",
       "    </tr>\n",
       "  </tbody>\n",
       "</table>\n",
       "</div>"
      ],
      "text/plain": [
       "        Rank                Name   Age End_Of_Watch Day_Of_Week    Cause  \\\n",
       "0  Constable       Darius Quimby   NaN   1791-01-03      Monday  Stabbed   \n",
       "1    Sheriff  Cornelius Hogeboom  53.0   1791-10-22    Saturday  Gunfire   \n",
       "\n",
       "                                   Department     State     Tour Badge  \\\n",
       "0  Albany County Constable's Office, New York  New York      NaN   NaN   \n",
       "1  Columbia County Sheriff's Office, New York  New York  2 years   NaN   \n",
       "\n",
       "                Weapon          Offender  \\\n",
       "0  Edged weapon; Knife  Executed in 1791   \n",
       "1    Gun; Unknown type         Acquitted   \n",
       "\n",
       "                                             Summary  Binary age  \n",
       "0  Constable Darius Quimby was stabbed to death w...           0  \n",
       "1  Sheriff Cornelius Hogeboom was shot and killed...           1  "
      ]
     },
     "execution_count": 68,
     "metadata": {},
     "output_type": "execute_result"
    }
   ],
   "source": [
    "new_list = []\n",
    "\n",
    "for el in df['Age'].tolist():\n",
    "    if el > 50: \n",
    "        new_list.append(1)\n",
    "    else:\n",
    "        new_list.append(0)\n",
    "\n",
    "df['Binary age'] = new_list\n",
    "df.head(2)"
   ]
  },
  {
   "cell_type": "code",
   "execution_count": 69,
   "id": "723b85bc",
   "metadata": {},
   "outputs": [],
   "source": [
    "df.drop(['Binary age'], axis=1, inplace=True)"
   ]
  },
  {
   "cell_type": "code",
   "execution_count": 77,
   "id": "eceba505",
   "metadata": {},
   "outputs": [
    {
     "data": {
      "text/html": [
       "<div>\n",
       "<style scoped>\n",
       "    .dataframe tbody tr th:only-of-type {\n",
       "        vertical-align: middle;\n",
       "    }\n",
       "\n",
       "    .dataframe tbody tr th {\n",
       "        vertical-align: top;\n",
       "    }\n",
       "\n",
       "    .dataframe thead th {\n",
       "        text-align: right;\n",
       "    }\n",
       "</style>\n",
       "<table border=\"1\" class=\"dataframe\">\n",
       "  <thead>\n",
       "    <tr style=\"text-align: right;\">\n",
       "      <th></th>\n",
       "      <th>Rank</th>\n",
       "      <th>Name</th>\n",
       "      <th>Age</th>\n",
       "      <th>End_Of_Watch</th>\n",
       "      <th>Day_Of_Week</th>\n",
       "      <th>Cause</th>\n",
       "      <th>Department</th>\n",
       "      <th>State</th>\n",
       "      <th>Tour</th>\n",
       "      <th>Badge</th>\n",
       "      <th>Weapon</th>\n",
       "      <th>Offender</th>\n",
       "      <th>Summary</th>\n",
       "      <th>new_binary_age</th>\n",
       "    </tr>\n",
       "  </thead>\n",
       "  <tbody>\n",
       "    <tr>\n",
       "      <th>0</th>\n",
       "      <td>Constable</td>\n",
       "      <td>Darius Quimby</td>\n",
       "      <td>NaN</td>\n",
       "      <td>1791-01-03</td>\n",
       "      <td>Monday</td>\n",
       "      <td>Stabbed</td>\n",
       "      <td>Albany County Constable's Office, New York</td>\n",
       "      <td>New York</td>\n",
       "      <td>NaN</td>\n",
       "      <td>NaN</td>\n",
       "      <td>Edged weapon; Knife</td>\n",
       "      <td>Executed in 1791</td>\n",
       "      <td>Constable Darius Quimby was stabbed to death w...</td>\n",
       "      <td>0</td>\n",
       "    </tr>\n",
       "    <tr>\n",
       "      <th>1</th>\n",
       "      <td>Sheriff</td>\n",
       "      <td>Cornelius Hogeboom</td>\n",
       "      <td>53.0</td>\n",
       "      <td>1791-10-22</td>\n",
       "      <td>Saturday</td>\n",
       "      <td>Gunfire</td>\n",
       "      <td>Columbia County Sheriff's Office, New York</td>\n",
       "      <td>New York</td>\n",
       "      <td>2 years</td>\n",
       "      <td>NaN</td>\n",
       "      <td>Gun; Unknown type</td>\n",
       "      <td>Acquitted</td>\n",
       "      <td>Sheriff Cornelius Hogeboom was shot and killed...</td>\n",
       "      <td>1</td>\n",
       "    </tr>\n",
       "  </tbody>\n",
       "</table>\n",
       "</div>"
      ],
      "text/plain": [
       "        Rank                Name   Age End_Of_Watch Day_Of_Week    Cause  \\\n",
       "0  Constable       Darius Quimby   NaN   1791-01-03      Monday  Stabbed   \n",
       "1    Sheriff  Cornelius Hogeboom  53.0   1791-10-22    Saturday  Gunfire   \n",
       "\n",
       "                                   Department     State     Tour Badge  \\\n",
       "0  Albany County Constable's Office, New York  New York      NaN   NaN   \n",
       "1  Columbia County Sheriff's Office, New York  New York  2 years   NaN   \n",
       "\n",
       "                Weapon          Offender  \\\n",
       "0  Edged weapon; Knife  Executed in 1791   \n",
       "1    Gun; Unknown type         Acquitted   \n",
       "\n",
       "                                             Summary  new_binary_age  \n",
       "0  Constable Darius Quimby was stabbed to death w...               0  \n",
       "1  Sheriff Cornelius Hogeboom was shot and killed...               1  "
      ]
     },
     "execution_count": 77,
     "metadata": {},
     "output_type": "execute_result"
    }
   ],
   "source": [
    "df['new_binary_age'] = [1 if el > 50 else 0 for el in df['Age']]\n",
    "df.head(2)"
   ]
  },
  {
   "cell_type": "markdown",
   "id": "484c3c58",
   "metadata": {},
   "source": [
    "#### There was a mistake when introducing the age of the people. We need to correct them. They ask us to create a new column named corrected_age that contains the original age minus 2. Can you do that? "
   ]
  },
  {
   "cell_type": "code",
   "execution_count": 82,
   "id": "f206e0a4",
   "metadata": {},
   "outputs": [
    {
     "data": {
      "text/html": [
       "<div>\n",
       "<style scoped>\n",
       "    .dataframe tbody tr th:only-of-type {\n",
       "        vertical-align: middle;\n",
       "    }\n",
       "\n",
       "    .dataframe tbody tr th {\n",
       "        vertical-align: top;\n",
       "    }\n",
       "\n",
       "    .dataframe thead th {\n",
       "        text-align: right;\n",
       "    }\n",
       "</style>\n",
       "<table border=\"1\" class=\"dataframe\">\n",
       "  <thead>\n",
       "    <tr style=\"text-align: right;\">\n",
       "      <th></th>\n",
       "      <th>Rank</th>\n",
       "      <th>Name</th>\n",
       "      <th>Age</th>\n",
       "      <th>End_Of_Watch</th>\n",
       "      <th>Day_Of_Week</th>\n",
       "      <th>Cause</th>\n",
       "      <th>Department</th>\n",
       "      <th>State</th>\n",
       "      <th>Tour</th>\n",
       "      <th>Badge</th>\n",
       "      <th>Weapon</th>\n",
       "      <th>Offender</th>\n",
       "      <th>Summary</th>\n",
       "      <th>new_binary_age</th>\n",
       "      <th>corrected_age</th>\n",
       "    </tr>\n",
       "  </thead>\n",
       "  <tbody>\n",
       "    <tr>\n",
       "      <th>0</th>\n",
       "      <td>Constable</td>\n",
       "      <td>Darius Quimby</td>\n",
       "      <td>NaN</td>\n",
       "      <td>1791-01-03</td>\n",
       "      <td>Monday</td>\n",
       "      <td>Stabbed</td>\n",
       "      <td>Albany County Constable's Office, New York</td>\n",
       "      <td>New York</td>\n",
       "      <td>NaN</td>\n",
       "      <td>NaN</td>\n",
       "      <td>Edged weapon; Knife</td>\n",
       "      <td>Executed in 1791</td>\n",
       "      <td>Constable Darius Quimby was stabbed to death w...</td>\n",
       "      <td>0</td>\n",
       "      <td>NaN</td>\n",
       "    </tr>\n",
       "    <tr>\n",
       "      <th>1</th>\n",
       "      <td>Sheriff</td>\n",
       "      <td>Cornelius Hogeboom</td>\n",
       "      <td>53.0</td>\n",
       "      <td>1791-10-22</td>\n",
       "      <td>Saturday</td>\n",
       "      <td>Gunfire</td>\n",
       "      <td>Columbia County Sheriff's Office, New York</td>\n",
       "      <td>New York</td>\n",
       "      <td>2 years</td>\n",
       "      <td>NaN</td>\n",
       "      <td>Gun; Unknown type</td>\n",
       "      <td>Acquitted</td>\n",
       "      <td>Sheriff Cornelius Hogeboom was shot and killed...</td>\n",
       "      <td>1</td>\n",
       "      <td>51.0</td>\n",
       "    </tr>\n",
       "  </tbody>\n",
       "</table>\n",
       "</div>"
      ],
      "text/plain": [
       "        Rank                Name   Age End_Of_Watch Day_Of_Week    Cause  \\\n",
       "0  Constable       Darius Quimby   NaN   1791-01-03      Monday  Stabbed   \n",
       "1    Sheriff  Cornelius Hogeboom  53.0   1791-10-22    Saturday  Gunfire   \n",
       "\n",
       "                                   Department     State     Tour Badge  \\\n",
       "0  Albany County Constable's Office, New York  New York      NaN   NaN   \n",
       "1  Columbia County Sheriff's Office, New York  New York  2 years   NaN   \n",
       "\n",
       "                Weapon          Offender  \\\n",
       "0  Edged weapon; Knife  Executed in 1791   \n",
       "1    Gun; Unknown type         Acquitted   \n",
       "\n",
       "                                             Summary  new_binary_age  \\\n",
       "0  Constable Darius Quimby was stabbed to death w...               0   \n",
       "1  Sheriff Cornelius Hogeboom was shot and killed...               1   \n",
       "\n",
       "   corrected_age  \n",
       "0            NaN  \n",
       "1           51.0  "
      ]
     },
     "execution_count": 82,
     "metadata": {},
     "output_type": "execute_result"
    }
   ],
   "source": [
    "df['corrected_age'] = df['Age'] - 2\n",
    "df.head(2)"
   ]
  },
  {
   "cell_type": "markdown",
   "id": "1180be44",
   "metadata": {},
   "source": [
    "#### What is the day of the week where more crimes happen? Could put the number in a percentage?"
   ]
  },
  {
   "cell_type": "code",
   "execution_count": 83,
   "id": "20ae0af5",
   "metadata": {},
   "outputs": [
    {
     "data": {
      "text/plain": [
       "Saturday     4002\n",
       "Sunday       3765\n",
       "Friday       3740\n",
       "Thursday     3620\n",
       "Tuesday      3517\n",
       "Monday       3515\n",
       "Wednesday    3464\n",
       "Name: Day_Of_Week, dtype: int64"
      ]
     },
     "execution_count": 83,
     "metadata": {},
     "output_type": "execute_result"
    }
   ],
   "source": [
    "df['Day_Of_Week'].value_counts()"
   ]
  },
  {
   "cell_type": "code",
   "execution_count": 84,
   "id": "9fd5410e",
   "metadata": {},
   "outputs": [
    {
     "data": {
      "text/plain": [
       "Saturday     0.156188\n",
       "Sunday       0.146938\n",
       "Friday       0.145963\n",
       "Thursday     0.141279\n",
       "Tuesday      0.137259\n",
       "Monday       0.137181\n",
       "Wednesday    0.135191\n",
       "Name: Day_Of_Week, dtype: float64"
      ]
     },
     "execution_count": 84,
     "metadata": {},
     "output_type": "execute_result"
    }
   ],
   "source": [
    "df['Day_Of_Week'].value_counts() / df.shape[0]"
   ]
  },
  {
   "cell_type": "markdown",
   "id": "263b40ab",
   "metadata": {},
   "source": [
    "## 4. Groupby"
   ]
  },
  {
   "cell_type": "code",
   "execution_count": 86,
   "id": "7790ab54",
   "metadata": {},
   "outputs": [
    {
     "name": "stdout",
     "output_type": "stream",
     "text": [
      "Friday 3740\n",
      "Monday 3515\n",
      "Saturday 4002\n",
      "Sunday 3765\n",
      "Thursday 3620\n",
      "Tuesday 3517\n",
      "Wednesday 3464\n"
     ]
    }
   ],
   "source": [
    "for group, df_group in df.groupby(['Day_Of_Week']):\n",
    "    print(group, df_group.shape[0])"
   ]
  },
  {
   "cell_type": "code",
   "execution_count": 88,
   "id": "fd8c65af",
   "metadata": {},
   "outputs": [
    {
     "name": "stdout",
     "output_type": "stream",
     "text": [
      "Friday 40.33\n",
      "Monday 40.32\n",
      "Saturday 39.89\n",
      "Sunday 39.79\n",
      "Thursday 40.36\n",
      "Tuesday 40.53\n",
      "Wednesday 40.89\n"
     ]
    }
   ],
   "source": [
    "for group, df_group in df.groupby(['Day_Of_Week']):\n",
    "    print(group, round(df_group['Age'].mean(), 2))"
   ]
  },
  {
   "cell_type": "code",
   "execution_count": 89,
   "id": "6faa8b95",
   "metadata": {},
   "outputs": [
    {
     "data": {
      "text/plain": [
       "Index(['Rank', 'Name', 'Age', 'End_Of_Watch', 'Day_Of_Week', 'Cause',\n",
       "       'Department', 'State', 'Tour', 'Badge', 'Weapon', 'Offender', 'Summary',\n",
       "       'new_binary_age', 'corrected_age'],\n",
       "      dtype='object')"
      ]
     },
     "execution_count": 89,
     "metadata": {},
     "output_type": "execute_result"
    }
   ],
   "source": [
    "df.columns"
   ]
  },
  {
   "cell_type": "code",
   "execution_count": 90,
   "id": "97a9a600",
   "metadata": {},
   "outputs": [
    {
     "name": "stdout",
     "output_type": "stream",
     "text": [
      "0 35.75\n",
      "1 58.25\n"
     ]
    }
   ],
   "source": [
    "for group, df_group in df.groupby(['new_binary_age']):\n",
    "    print(group, round(df_group['Age'].mean(), 2))"
   ]
  },
  {
   "cell_type": "markdown",
   "id": "d9732e8d",
   "metadata": {},
   "source": [
    "## 5. Apply"
   ]
  },
  {
   "cell_type": "code",
   "execution_count": 95,
   "id": "84b6baf7",
   "metadata": {},
   "outputs": [],
   "source": [
    "def age_ranges(x):\n",
    "    if x < 25: \n",
    "        return 'Younger than 25'\n",
    "    elif x >= 25 and x < 45:\n",
    "        return 'Older than 24 but younger than 45'\n",
    "    else:   \n",
    "        return 'Older than 44'"
   ]
  },
  {
   "cell_type": "code",
   "execution_count": 96,
   "id": "f31610a7",
   "metadata": {},
   "outputs": [],
   "source": [
    "df['Age Range'] = df['Age'].apply(age_ranges)"
   ]
  },
  {
   "cell_type": "code",
   "execution_count": 98,
   "id": "89fe454a",
   "metadata": {},
   "outputs": [
    {
     "data": {
      "text/html": [
       "<div>\n",
       "<style scoped>\n",
       "    .dataframe tbody tr th:only-of-type {\n",
       "        vertical-align: middle;\n",
       "    }\n",
       "\n",
       "    .dataframe tbody tr th {\n",
       "        vertical-align: top;\n",
       "    }\n",
       "\n",
       "    .dataframe thead th {\n",
       "        text-align: right;\n",
       "    }\n",
       "</style>\n",
       "<table border=\"1\" class=\"dataframe\">\n",
       "  <thead>\n",
       "    <tr style=\"text-align: right;\">\n",
       "      <th></th>\n",
       "      <th>Rank</th>\n",
       "      <th>Name</th>\n",
       "      <th>Age</th>\n",
       "      <th>End_Of_Watch</th>\n",
       "      <th>Day_Of_Week</th>\n",
       "      <th>Cause</th>\n",
       "      <th>Department</th>\n",
       "      <th>State</th>\n",
       "      <th>Tour</th>\n",
       "      <th>Badge</th>\n",
       "      <th>Weapon</th>\n",
       "      <th>Offender</th>\n",
       "      <th>Summary</th>\n",
       "      <th>new_binary_age</th>\n",
       "      <th>corrected_age</th>\n",
       "      <th>square_root_age</th>\n",
       "      <th>Age Range</th>\n",
       "    </tr>\n",
       "  </thead>\n",
       "  <tbody>\n",
       "    <tr>\n",
       "      <th>0</th>\n",
       "      <td>Constable</td>\n",
       "      <td>Darius Quimby</td>\n",
       "      <td>NaN</td>\n",
       "      <td>1791-01-03</td>\n",
       "      <td>Monday</td>\n",
       "      <td>Stabbed</td>\n",
       "      <td>Albany County Constable's Office, New York</td>\n",
       "      <td>New York</td>\n",
       "      <td>NaN</td>\n",
       "      <td>NaN</td>\n",
       "      <td>Edged weapon; Knife</td>\n",
       "      <td>Executed in 1791</td>\n",
       "      <td>Constable Darius Quimby was stabbed to death w...</td>\n",
       "      <td>0</td>\n",
       "      <td>NaN</td>\n",
       "      <td>NaN</td>\n",
       "      <td>Older than 44</td>\n",
       "    </tr>\n",
       "    <tr>\n",
       "      <th>1</th>\n",
       "      <td>Sheriff</td>\n",
       "      <td>Cornelius Hogeboom</td>\n",
       "      <td>53.0</td>\n",
       "      <td>1791-10-22</td>\n",
       "      <td>Saturday</td>\n",
       "      <td>Gunfire</td>\n",
       "      <td>Columbia County Sheriff's Office, New York</td>\n",
       "      <td>New York</td>\n",
       "      <td>2 years</td>\n",
       "      <td>NaN</td>\n",
       "      <td>Gun; Unknown type</td>\n",
       "      <td>Acquitted</td>\n",
       "      <td>Sheriff Cornelius Hogeboom was shot and killed...</td>\n",
       "      <td>1</td>\n",
       "      <td>51.0</td>\n",
       "      <td>7.28011</td>\n",
       "      <td>Older than 44</td>\n",
       "    </tr>\n",
       "  </tbody>\n",
       "</table>\n",
       "</div>"
      ],
      "text/plain": [
       "        Rank                Name   Age End_Of_Watch Day_Of_Week    Cause  \\\n",
       "0  Constable       Darius Quimby   NaN   1791-01-03      Monday  Stabbed   \n",
       "1    Sheriff  Cornelius Hogeboom  53.0   1791-10-22    Saturday  Gunfire   \n",
       "\n",
       "                                   Department     State     Tour Badge  \\\n",
       "0  Albany County Constable's Office, New York  New York      NaN   NaN   \n",
       "1  Columbia County Sheriff's Office, New York  New York  2 years   NaN   \n",
       "\n",
       "                Weapon          Offender  \\\n",
       "0  Edged weapon; Knife  Executed in 1791   \n",
       "1    Gun; Unknown type         Acquitted   \n",
       "\n",
       "                                             Summary  new_binary_age  \\\n",
       "0  Constable Darius Quimby was stabbed to death w...               0   \n",
       "1  Sheriff Cornelius Hogeboom was shot and killed...               1   \n",
       "\n",
       "   corrected_age  square_root_age      Age Range  \n",
       "0            NaN              NaN  Older than 44  \n",
       "1           51.0          7.28011  Older than 44  "
      ]
     },
     "execution_count": 98,
     "metadata": {},
     "output_type": "execute_result"
    }
   ],
   "source": [
    "df.head(2)"
   ]
  },
  {
   "cell_type": "code",
   "execution_count": 99,
   "id": "006b2e69",
   "metadata": {},
   "outputs": [
    {
     "data": {
      "text/plain": [
       "Older than 24 but younger than 45    13776\n",
       "Older than 44                        10516\n",
       "Younger than 25                       1331\n",
       "Name: Age Range, dtype: int64"
      ]
     },
     "execution_count": 99,
     "metadata": {},
     "output_type": "execute_result"
    }
   ],
   "source": [
    "df['Age Range'].value_counts()"
   ]
  },
  {
   "cell_type": "markdown",
   "id": "aa99bb6e",
   "metadata": {},
   "source": [
    "## 6. Lambda"
   ]
  },
  {
   "cell_type": "code",
   "execution_count": 103,
   "id": "216f8611",
   "metadata": {},
   "outputs": [],
   "source": [
    "df = df.assign(Percentage = lambda x: (x['Age'] / 80 * 100))"
   ]
  },
  {
   "cell_type": "code",
   "execution_count": 104,
   "id": "90b13ff9",
   "metadata": {},
   "outputs": [
    {
     "data": {
      "text/html": [
       "<div>\n",
       "<style scoped>\n",
       "    .dataframe tbody tr th:only-of-type {\n",
       "        vertical-align: middle;\n",
       "    }\n",
       "\n",
       "    .dataframe tbody tr th {\n",
       "        vertical-align: top;\n",
       "    }\n",
       "\n",
       "    .dataframe thead th {\n",
       "        text-align: right;\n",
       "    }\n",
       "</style>\n",
       "<table border=\"1\" class=\"dataframe\">\n",
       "  <thead>\n",
       "    <tr style=\"text-align: right;\">\n",
       "      <th></th>\n",
       "      <th>Rank</th>\n",
       "      <th>Name</th>\n",
       "      <th>Age</th>\n",
       "      <th>End_Of_Watch</th>\n",
       "      <th>Day_Of_Week</th>\n",
       "      <th>Cause</th>\n",
       "      <th>Department</th>\n",
       "      <th>State</th>\n",
       "      <th>Tour</th>\n",
       "      <th>Badge</th>\n",
       "      <th>Weapon</th>\n",
       "      <th>Offender</th>\n",
       "      <th>Summary</th>\n",
       "      <th>new_binary_age</th>\n",
       "      <th>corrected_age</th>\n",
       "      <th>square_root_age</th>\n",
       "      <th>Age Range</th>\n",
       "      <th>Percentage</th>\n",
       "    </tr>\n",
       "  </thead>\n",
       "  <tbody>\n",
       "    <tr>\n",
       "      <th>0</th>\n",
       "      <td>Constable</td>\n",
       "      <td>Darius Quimby</td>\n",
       "      <td>NaN</td>\n",
       "      <td>1791-01-03</td>\n",
       "      <td>Monday</td>\n",
       "      <td>Stabbed</td>\n",
       "      <td>Albany County Constable's Office, New York</td>\n",
       "      <td>New York</td>\n",
       "      <td>NaN</td>\n",
       "      <td>NaN</td>\n",
       "      <td>Edged weapon; Knife</td>\n",
       "      <td>Executed in 1791</td>\n",
       "      <td>Constable Darius Quimby was stabbed to death w...</td>\n",
       "      <td>0</td>\n",
       "      <td>NaN</td>\n",
       "      <td>NaN</td>\n",
       "      <td>Older than 44</td>\n",
       "      <td>NaN</td>\n",
       "    </tr>\n",
       "    <tr>\n",
       "      <th>1</th>\n",
       "      <td>Sheriff</td>\n",
       "      <td>Cornelius Hogeboom</td>\n",
       "      <td>53.0</td>\n",
       "      <td>1791-10-22</td>\n",
       "      <td>Saturday</td>\n",
       "      <td>Gunfire</td>\n",
       "      <td>Columbia County Sheriff's Office, New York</td>\n",
       "      <td>New York</td>\n",
       "      <td>2 years</td>\n",
       "      <td>NaN</td>\n",
       "      <td>Gun; Unknown type</td>\n",
       "      <td>Acquitted</td>\n",
       "      <td>Sheriff Cornelius Hogeboom was shot and killed...</td>\n",
       "      <td>1</td>\n",
       "      <td>51.0</td>\n",
       "      <td>7.280110</td>\n",
       "      <td>Older than 44</td>\n",
       "      <td>66.25</td>\n",
       "    </tr>\n",
       "    <tr>\n",
       "      <th>2</th>\n",
       "      <td>Deputy Sheriff</td>\n",
       "      <td>Isaac Smith</td>\n",
       "      <td>NaN</td>\n",
       "      <td>1792-05-17</td>\n",
       "      <td>Thursday</td>\n",
       "      <td>Gunfire</td>\n",
       "      <td>Westchester County Sheriff's Department, New York</td>\n",
       "      <td>New York</td>\n",
       "      <td>NaN</td>\n",
       "      <td>NaN</td>\n",
       "      <td>Handgun</td>\n",
       "      <td>Executed in 1793</td>\n",
       "      <td>Deputy Sheriff Isaac Smith was shot and killed...</td>\n",
       "      <td>0</td>\n",
       "      <td>NaN</td>\n",
       "      <td>NaN</td>\n",
       "      <td>Older than 44</td>\n",
       "      <td>NaN</td>\n",
       "    </tr>\n",
       "    <tr>\n",
       "      <th>3</th>\n",
       "      <td>Marshal</td>\n",
       "      <td>Robert Forsyth</td>\n",
       "      <td>40.0</td>\n",
       "      <td>1794-01-11</td>\n",
       "      <td>Saturday</td>\n",
       "      <td>Gunfire</td>\n",
       "      <td>United States Department of Justice - United S...</td>\n",
       "      <td>United States</td>\n",
       "      <td>4 years, 4 months</td>\n",
       "      <td>4</td>\n",
       "      <td>Handgun; Pistol</td>\n",
       "      <td>Escaped</td>\n",
       "      <td>Marshal Robert Forsyth, believed to be one of ...</td>\n",
       "      <td>0</td>\n",
       "      <td>38.0</td>\n",
       "      <td>6.324555</td>\n",
       "      <td>Older than 24 but younger than 45</td>\n",
       "      <td>50.00</td>\n",
       "    </tr>\n",
       "    <tr>\n",
       "      <th>4</th>\n",
       "      <td>Deputy Sheriff</td>\n",
       "      <td>Robert Berwick</td>\n",
       "      <td>NaN</td>\n",
       "      <td>1797-06-29</td>\n",
       "      <td>Thursday</td>\n",
       "      <td>Gunfire</td>\n",
       "      <td>New York County Sheriff's Office, New York</td>\n",
       "      <td>New York</td>\n",
       "      <td>NaN</td>\n",
       "      <td>NaN</td>\n",
       "      <td>Handgun</td>\n",
       "      <td>Executed in 1797</td>\n",
       "      <td>Deputy Sheriff Robert Berwick was shot and kil...</td>\n",
       "      <td>0</td>\n",
       "      <td>NaN</td>\n",
       "      <td>NaN</td>\n",
       "      <td>Older than 44</td>\n",
       "      <td>NaN</td>\n",
       "    </tr>\n",
       "  </tbody>\n",
       "</table>\n",
       "</div>"
      ],
      "text/plain": [
       "             Rank                Name   Age End_Of_Watch Day_Of_Week    Cause  \\\n",
       "0       Constable       Darius Quimby   NaN   1791-01-03      Monday  Stabbed   \n",
       "1         Sheriff  Cornelius Hogeboom  53.0   1791-10-22    Saturday  Gunfire   \n",
       "2  Deputy Sheriff         Isaac Smith   NaN   1792-05-17    Thursday  Gunfire   \n",
       "3         Marshal      Robert Forsyth  40.0   1794-01-11    Saturday  Gunfire   \n",
       "4  Deputy Sheriff      Robert Berwick   NaN   1797-06-29    Thursday  Gunfire   \n",
       "\n",
       "                                          Department          State  \\\n",
       "0         Albany County Constable's Office, New York       New York   \n",
       "1         Columbia County Sheriff's Office, New York       New York   \n",
       "2  Westchester County Sheriff's Department, New York       New York   \n",
       "3  United States Department of Justice - United S...  United States   \n",
       "4         New York County Sheriff's Office, New York       New York   \n",
       "\n",
       "                Tour Badge               Weapon          Offender  \\\n",
       "0                NaN   NaN  Edged weapon; Knife  Executed in 1791   \n",
       "1            2 years   NaN    Gun; Unknown type         Acquitted   \n",
       "2                NaN   NaN              Handgun  Executed in 1793   \n",
       "3  4 years, 4 months     4      Handgun; Pistol           Escaped   \n",
       "4                NaN   NaN              Handgun  Executed in 1797   \n",
       "\n",
       "                                             Summary  new_binary_age  \\\n",
       "0  Constable Darius Quimby was stabbed to death w...               0   \n",
       "1  Sheriff Cornelius Hogeboom was shot and killed...               1   \n",
       "2  Deputy Sheriff Isaac Smith was shot and killed...               0   \n",
       "3  Marshal Robert Forsyth, believed to be one of ...               0   \n",
       "4  Deputy Sheriff Robert Berwick was shot and kil...               0   \n",
       "\n",
       "   corrected_age  square_root_age                          Age Range  \\\n",
       "0            NaN              NaN                      Older than 44   \n",
       "1           51.0         7.280110                      Older than 44   \n",
       "2            NaN              NaN                      Older than 44   \n",
       "3           38.0         6.324555  Older than 24 but younger than 45   \n",
       "4            NaN              NaN                      Older than 44   \n",
       "\n",
       "   Percentage  \n",
       "0         NaN  \n",
       "1       66.25  \n",
       "2         NaN  \n",
       "3       50.00  \n",
       "4         NaN  "
      ]
     },
     "execution_count": 104,
     "metadata": {},
     "output_type": "execute_result"
    }
   ],
   "source": [
    "df.head()"
   ]
  },
  {
   "cell_type": "markdown",
   "id": "6c0f754a",
   "metadata": {},
   "source": [
    "#### Combining previous cases"
   ]
  },
  {
   "cell_type": "code",
   "execution_count": 110,
   "id": "5b0bf335",
   "metadata": {},
   "outputs": [
    {
     "data": {
      "text/html": [
       "<div>\n",
       "<style scoped>\n",
       "    .dataframe tbody tr th:only-of-type {\n",
       "        vertical-align: middle;\n",
       "    }\n",
       "\n",
       "    .dataframe tbody tr th {\n",
       "        vertical-align: top;\n",
       "    }\n",
       "\n",
       "    .dataframe thead th {\n",
       "        text-align: right;\n",
       "    }\n",
       "</style>\n",
       "<table border=\"1\" class=\"dataframe\">\n",
       "  <thead>\n",
       "    <tr style=\"text-align: right;\">\n",
       "      <th>Age Range</th>\n",
       "      <th>Older than 24 but younger than 45</th>\n",
       "      <th>Older than 44</th>\n",
       "      <th>Younger than 25</th>\n",
       "    </tr>\n",
       "    <tr>\n",
       "      <th>Day_Of_Week</th>\n",
       "      <th></th>\n",
       "      <th></th>\n",
       "      <th></th>\n",
       "    </tr>\n",
       "  </thead>\n",
       "  <tbody>\n",
       "    <tr>\n",
       "      <th>Friday</th>\n",
       "      <td>2009</td>\n",
       "      <td>1550</td>\n",
       "      <td>181</td>\n",
       "    </tr>\n",
       "    <tr>\n",
       "      <th>Monday</th>\n",
       "      <td>1840</td>\n",
       "      <td>1482</td>\n",
       "      <td>193</td>\n",
       "    </tr>\n",
       "    <tr>\n",
       "      <th>Saturday</th>\n",
       "      <td>2188</td>\n",
       "      <td>1610</td>\n",
       "      <td>204</td>\n",
       "    </tr>\n",
       "    <tr>\n",
       "      <th>Sunday</th>\n",
       "      <td>2042</td>\n",
       "      <td>1507</td>\n",
       "      <td>216</td>\n",
       "    </tr>\n",
       "    <tr>\n",
       "      <th>Thursday</th>\n",
       "      <td>1959</td>\n",
       "      <td>1483</td>\n",
       "      <td>178</td>\n",
       "    </tr>\n",
       "    <tr>\n",
       "      <th>Tuesday</th>\n",
       "      <td>1882</td>\n",
       "      <td>1460</td>\n",
       "      <td>175</td>\n",
       "    </tr>\n",
       "    <tr>\n",
       "      <th>Wednesday</th>\n",
       "      <td>1856</td>\n",
       "      <td>1424</td>\n",
       "      <td>184</td>\n",
       "    </tr>\n",
       "  </tbody>\n",
       "</table>\n",
       "</div>"
      ],
      "text/plain": [
       "Age Range    Older than 24 but younger than 45  Older than 44  Younger than 25\n",
       "Day_Of_Week                                                                   \n",
       "Friday                                    2009           1550              181\n",
       "Monday                                    1840           1482              193\n",
       "Saturday                                  2188           1610              204\n",
       "Sunday                                    2042           1507              216\n",
       "Thursday                                  1959           1483              178\n",
       "Tuesday                                   1882           1460              175\n",
       "Wednesday                                 1856           1424              184"
      ]
     },
     "execution_count": 110,
     "metadata": {},
     "output_type": "execute_result"
    }
   ],
   "source": [
    "df.groupby('Day_Of_Week').apply(lambda x: x['Age Range'].value_counts())"
   ]
  },
  {
   "cell_type": "markdown",
   "id": "b3a43afe",
   "metadata": {},
   "source": [
    "#### How many different ranks are if we group by Day of the week and age range"
   ]
  },
  {
   "cell_type": "code",
   "execution_count": 112,
   "id": "a0d37a76",
   "metadata": {},
   "outputs": [
    {
     "data": {
      "text/html": [
       "<div>\n",
       "<style scoped>\n",
       "    .dataframe tbody tr th:only-of-type {\n",
       "        vertical-align: middle;\n",
       "    }\n",
       "\n",
       "    .dataframe tbody tr th {\n",
       "        vertical-align: top;\n",
       "    }\n",
       "\n",
       "    .dataframe thead th {\n",
       "        text-align: right;\n",
       "    }\n",
       "</style>\n",
       "<table border=\"1\" class=\"dataframe\">\n",
       "  <thead>\n",
       "    <tr style=\"text-align: right;\">\n",
       "      <th></th>\n",
       "      <th>Day_Of_Week</th>\n",
       "      <th>Age Range</th>\n",
       "      <th>0</th>\n",
       "    </tr>\n",
       "  </thead>\n",
       "  <tbody>\n",
       "    <tr>\n",
       "      <th>0</th>\n",
       "      <td>Friday</td>\n",
       "      <td>Older than 24 but younger than 45</td>\n",
       "      <td>165</td>\n",
       "    </tr>\n",
       "    <tr>\n",
       "      <th>1</th>\n",
       "      <td>Friday</td>\n",
       "      <td>Older than 44</td>\n",
       "      <td>186</td>\n",
       "    </tr>\n",
       "    <tr>\n",
       "      <th>2</th>\n",
       "      <td>Friday</td>\n",
       "      <td>Younger than 25</td>\n",
       "      <td>45</td>\n",
       "    </tr>\n",
       "    <tr>\n",
       "      <th>3</th>\n",
       "      <td>Monday</td>\n",
       "      <td>Older than 24 but younger than 45</td>\n",
       "      <td>143</td>\n",
       "    </tr>\n",
       "    <tr>\n",
       "      <th>4</th>\n",
       "      <td>Monday</td>\n",
       "      <td>Older than 44</td>\n",
       "      <td>175</td>\n",
       "    </tr>\n",
       "    <tr>\n",
       "      <th>5</th>\n",
       "      <td>Monday</td>\n",
       "      <td>Younger than 25</td>\n",
       "      <td>46</td>\n",
       "    </tr>\n",
       "    <tr>\n",
       "      <th>6</th>\n",
       "      <td>Saturday</td>\n",
       "      <td>Older than 24 but younger than 45</td>\n",
       "      <td>168</td>\n",
       "    </tr>\n",
       "    <tr>\n",
       "      <th>7</th>\n",
       "      <td>Saturday</td>\n",
       "      <td>Older than 44</td>\n",
       "      <td>157</td>\n",
       "    </tr>\n",
       "    <tr>\n",
       "      <th>8</th>\n",
       "      <td>Saturday</td>\n",
       "      <td>Younger than 25</td>\n",
       "      <td>54</td>\n",
       "    </tr>\n",
       "    <tr>\n",
       "      <th>9</th>\n",
       "      <td>Sunday</td>\n",
       "      <td>Older than 24 but younger than 45</td>\n",
       "      <td>153</td>\n",
       "    </tr>\n",
       "    <tr>\n",
       "      <th>10</th>\n",
       "      <td>Sunday</td>\n",
       "      <td>Older than 44</td>\n",
       "      <td>157</td>\n",
       "    </tr>\n",
       "    <tr>\n",
       "      <th>11</th>\n",
       "      <td>Sunday</td>\n",
       "      <td>Younger than 25</td>\n",
       "      <td>45</td>\n",
       "    </tr>\n",
       "    <tr>\n",
       "      <th>12</th>\n",
       "      <td>Thursday</td>\n",
       "      <td>Older than 24 but younger than 45</td>\n",
       "      <td>163</td>\n",
       "    </tr>\n",
       "    <tr>\n",
       "      <th>13</th>\n",
       "      <td>Thursday</td>\n",
       "      <td>Older than 44</td>\n",
       "      <td>162</td>\n",
       "    </tr>\n",
       "    <tr>\n",
       "      <th>14</th>\n",
       "      <td>Thursday</td>\n",
       "      <td>Younger than 25</td>\n",
       "      <td>41</td>\n",
       "    </tr>\n",
       "    <tr>\n",
       "      <th>15</th>\n",
       "      <td>Tuesday</td>\n",
       "      <td>Older than 24 but younger than 45</td>\n",
       "      <td>164</td>\n",
       "    </tr>\n",
       "    <tr>\n",
       "      <th>16</th>\n",
       "      <td>Tuesday</td>\n",
       "      <td>Older than 44</td>\n",
       "      <td>162</td>\n",
       "    </tr>\n",
       "    <tr>\n",
       "      <th>17</th>\n",
       "      <td>Tuesday</td>\n",
       "      <td>Younger than 25</td>\n",
       "      <td>34</td>\n",
       "    </tr>\n",
       "    <tr>\n",
       "      <th>18</th>\n",
       "      <td>Wednesday</td>\n",
       "      <td>Older than 24 but younger than 45</td>\n",
       "      <td>159</td>\n",
       "    </tr>\n",
       "    <tr>\n",
       "      <th>19</th>\n",
       "      <td>Wednesday</td>\n",
       "      <td>Older than 44</td>\n",
       "      <td>164</td>\n",
       "    </tr>\n",
       "    <tr>\n",
       "      <th>20</th>\n",
       "      <td>Wednesday</td>\n",
       "      <td>Younger than 25</td>\n",
       "      <td>42</td>\n",
       "    </tr>\n",
       "  </tbody>\n",
       "</table>\n",
       "</div>"
      ],
      "text/plain": [
       "   Day_Of_Week                          Age Range    0\n",
       "0       Friday  Older than 24 but younger than 45  165\n",
       "1       Friday                      Older than 44  186\n",
       "2       Friday                    Younger than 25   45\n",
       "3       Monday  Older than 24 but younger than 45  143\n",
       "4       Monday                      Older than 44  175\n",
       "5       Monday                    Younger than 25   46\n",
       "6     Saturday  Older than 24 but younger than 45  168\n",
       "7     Saturday                      Older than 44  157\n",
       "8     Saturday                    Younger than 25   54\n",
       "9       Sunday  Older than 24 but younger than 45  153\n",
       "10      Sunday                      Older than 44  157\n",
       "11      Sunday                    Younger than 25   45\n",
       "12    Thursday  Older than 24 but younger than 45  163\n",
       "13    Thursday                      Older than 44  162\n",
       "14    Thursday                    Younger than 25   41\n",
       "15     Tuesday  Older than 24 but younger than 45  164\n",
       "16     Tuesday                      Older than 44  162\n",
       "17     Tuesday                    Younger than 25   34\n",
       "18   Wednesday  Older than 24 but younger than 45  159\n",
       "19   Wednesday                      Older than 44  164\n",
       "20   Wednesday                    Younger than 25   42"
      ]
     },
     "execution_count": 112,
     "metadata": {},
     "output_type": "execute_result"
    }
   ],
   "source": [
    "pd.DataFrame(df.groupby(['Day_Of_Week', 'Age Range']).apply(lambda x: x['Rank'].nunique())).reset_index()"
   ]
  }
 ],
 "metadata": {
  "kernelspec": {
   "display_name": "Python 3 (ipykernel)",
   "language": "python",
   "name": "python3"
  },
  "language_info": {
   "codemirror_mode": {
    "name": "ipython",
    "version": 3
   },
   "file_extension": ".py",
   "mimetype": "text/x-python",
   "name": "python",
   "nbconvert_exporter": "python",
   "pygments_lexer": "ipython3",
   "version": "3.9.7"
  }
 },
 "nbformat": 4,
 "nbformat_minor": 5
}
