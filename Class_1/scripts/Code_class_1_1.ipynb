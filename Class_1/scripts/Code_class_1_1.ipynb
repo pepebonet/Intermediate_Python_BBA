{
 "cells": [
  {
   "cell_type": "markdown",
   "id": "b0233376",
   "metadata": {},
   "source": [
    "# Class 1. Intermediate Python & AI "
   ]
  },
  {
   "cell_type": "markdown",
   "id": "86243e21",
   "metadata": {},
   "source": [
    "### Table of contents \n",
    "\n",
    "* Variables\n",
    "* Lists\n",
    "* Dictionaries\n",
    "* If-else\n",
    "* For loops\n",
    "* While Loops\n",
    "* Functions\n",
    "* Extra: \n",
    "    1. Bringing things together\n",
    "    2. Build Algorithms\n",
    "* Pandas\n",
    "    1. Load dataset\n",
    "    2. DataFrame exploration\n",
    "    3. Operations with Rows & Columns\n",
    "    4. Groupby\n",
    "    5. Apply\n",
    "    6. Lambda"
   ]
  },
  {
   "cell_type": "markdown",
   "id": "a95173f4",
   "metadata": {},
   "source": [
    "## Variables"
   ]
  },
  {
   "cell_type": "code",
   "execution_count": 2,
   "id": "3d521835",
   "metadata": {},
   "outputs": [
    {
     "name": "stdout",
     "output_type": "stream",
     "text": [
      "10 5\n"
     ]
    }
   ],
   "source": [
    "a = 10\n",
    "b = 5\n",
    "print(a, b)"
   ]
  },
  {
   "cell_type": "code",
   "execution_count": 3,
   "id": "e0a010b9",
   "metadata": {},
   "outputs": [
    {
     "data": {
      "text/plain": [
       "15"
      ]
     },
     "execution_count": 3,
     "metadata": {},
     "output_type": "execute_result"
    }
   ],
   "source": [
    "a + b"
   ]
  },
  {
   "cell_type": "code",
   "execution_count": 5,
   "id": "0138e172",
   "metadata": {},
   "outputs": [
    {
     "name": "stdout",
     "output_type": "stream",
     "text": [
      "15\n"
     ]
    }
   ],
   "source": [
    "c = a + b\n",
    "print(c)"
   ]
  },
  {
   "cell_type": "markdown",
   "id": "19caef22",
   "metadata": {},
   "source": [
    "## Lists"
   ]
  },
  {
   "cell_type": "code",
   "execution_count": 18,
   "id": "beeba60a",
   "metadata": {},
   "outputs": [
    {
     "data": {
      "text/plain": [
       "['Argentina', 'France', 'Croatia', 'Brasil']"
      ]
     },
     "execution_count": 18,
     "metadata": {},
     "output_type": "execute_result"
    }
   ],
   "source": [
    "world_cup = ['Argentina', 'France', 'Croatia', 'Brasil']\n",
    "world_cup"
   ]
  },
  {
   "cell_type": "code",
   "execution_count": 19,
   "id": "13807589",
   "metadata": {},
   "outputs": [],
   "source": [
    "world_cup.append('Marroco')"
   ]
  },
  {
   "cell_type": "code",
   "execution_count": 20,
   "id": "4f552741",
   "metadata": {},
   "outputs": [
    {
     "data": {
      "text/plain": [
       "['Argentina', 'France', 'Croatia', 'Brasil', 'Marroco']"
      ]
     },
     "execution_count": 20,
     "metadata": {},
     "output_type": "execute_result"
    }
   ],
   "source": [
    "world_cup"
   ]
  },
  {
   "cell_type": "code",
   "execution_count": 22,
   "id": "4d97f61b",
   "metadata": {},
   "outputs": [],
   "source": [
    "world_cup.remove('Brasil')"
   ]
  },
  {
   "cell_type": "code",
   "execution_count": 23,
   "id": "749efd52",
   "metadata": {},
   "outputs": [
    {
     "data": {
      "text/plain": [
       "['Argentina', 'France', 'Croatia', 'Marroco']"
      ]
     },
     "execution_count": 23,
     "metadata": {},
     "output_type": "execute_result"
    }
   ],
   "source": [
    "world_cup"
   ]
  },
  {
   "cell_type": "code",
   "execution_count": 25,
   "id": "4a9d7c2c",
   "metadata": {},
   "outputs": [
    {
     "data": {
      "text/plain": [
       "(4, 0, 1)"
      ]
     },
     "execution_count": 25,
     "metadata": {},
     "output_type": "execute_result"
    }
   ],
   "source": [
    "len(world_cup), world_cup.count('Spain'), world_cup.count('Argentina')"
   ]
  },
  {
   "cell_type": "code",
   "execution_count": 26,
   "id": "e8a2b14f",
   "metadata": {},
   "outputs": [
    {
     "data": {
      "text/plain": [
       "'Argentina'"
      ]
     },
     "execution_count": 26,
     "metadata": {},
     "output_type": "execute_result"
    }
   ],
   "source": [
    "world_cup[0]"
   ]
  },
  {
   "cell_type": "code",
   "execution_count": 32,
   "id": "fe88b8d0",
   "metadata": {},
   "outputs": [
    {
     "data": {
      "text/plain": [
       "['Marroco', 'Croatia', 'France', 'Argentina']"
      ]
     },
     "execution_count": 32,
     "metadata": {},
     "output_type": "execute_result"
    }
   ],
   "source": [
    "world_cup[::-1]"
   ]
  },
  {
   "cell_type": "code",
   "execution_count": 33,
   "id": "5719e40c",
   "metadata": {},
   "outputs": [
    {
     "data": {
      "text/plain": [
       "['Argentina', 'France']"
      ]
     },
     "execution_count": 33,
     "metadata": {},
     "output_type": "execute_result"
    }
   ],
   "source": [
    "world_cup[0:2]"
   ]
  },
  {
   "cell_type": "code",
   "execution_count": 39,
   "id": "4fd141df",
   "metadata": {},
   "outputs": [
    {
     "data": {
      "text/plain": [
       "['Argentina', 'Croatia']"
      ]
     },
     "execution_count": 39,
     "metadata": {},
     "output_type": "execute_result"
    }
   ],
   "source": [
    "world_cup[::2] #start / stop / step"
   ]
  },
  {
   "cell_type": "markdown",
   "id": "2a385082",
   "metadata": {},
   "source": [
    "## Dictionaries"
   ]
  },
  {
   "cell_type": "code",
   "execution_count": 55,
   "id": "9412391b",
   "metadata": {},
   "outputs": [],
   "source": [
    "my_dict = {\n",
    "    'Players': ['Messi', 'Ronaldo', 'Maradona'], \n",
    "    'Goals' : [10, 8, 6]\n",
    "}"
   ]
  },
  {
   "cell_type": "code",
   "execution_count": 56,
   "id": "029dcfb2",
   "metadata": {},
   "outputs": [
    {
     "data": {
      "text/plain": [
       "{'Players': ['Messi', 'Ronaldo', 'Maradona'], 'Goals': [10, 8, 6]}"
      ]
     },
     "execution_count": 56,
     "metadata": {},
     "output_type": "execute_result"
    }
   ],
   "source": [
    "my_dict"
   ]
  },
  {
   "cell_type": "code",
   "execution_count": 57,
   "id": "d9efeef8",
   "metadata": {},
   "outputs": [
    {
     "data": {
      "text/plain": [
       "['Messi', 'Ronaldo', 'Maradona']"
      ]
     },
     "execution_count": 57,
     "metadata": {},
     "output_type": "execute_result"
    }
   ],
   "source": [
    "my_dict['Players']"
   ]
  },
  {
   "cell_type": "code",
   "execution_count": 58,
   "id": "e16a0a18",
   "metadata": {},
   "outputs": [],
   "source": [
    "my_dict.update({'Assists' : [12, 3, 5]})"
   ]
  },
  {
   "cell_type": "code",
   "execution_count": 59,
   "id": "bacd4b37",
   "metadata": {},
   "outputs": [
    {
     "data": {
      "text/plain": [
       "{'Players': ['Messi', 'Ronaldo', 'Maradona'],\n",
       " 'Goals': [10, 8, 6],\n",
       " 'Assists': [12, 3, 5]}"
      ]
     },
     "execution_count": 59,
     "metadata": {},
     "output_type": "execute_result"
    }
   ],
   "source": [
    "my_dict"
   ]
  },
  {
   "cell_type": "code",
   "execution_count": 62,
   "id": "90cbb77a",
   "metadata": {},
   "outputs": [
    {
     "data": {
      "text/plain": [
       "dict_keys(['Players', 'Goals', 'Assists'])"
      ]
     },
     "execution_count": 62,
     "metadata": {},
     "output_type": "execute_result"
    }
   ],
   "source": [
    "my_dict.keys()"
   ]
  },
  {
   "cell_type": "code",
   "execution_count": 61,
   "id": "da9bbc42",
   "metadata": {},
   "outputs": [
    {
     "data": {
      "text/plain": [
       "dict_values([['Messi', 'Ronaldo', 'Maradona'], [10, 8, 6], [12, 3, 5]])"
      ]
     },
     "execution_count": 61,
     "metadata": {},
     "output_type": "execute_result"
    }
   ],
   "source": [
    " my_dict.values()"
   ]
  },
  {
   "cell_type": "code",
   "execution_count": 64,
   "id": "e9da4e80",
   "metadata": {},
   "outputs": [
    {
     "data": {
      "text/plain": [
       "[10, 8, 6]"
      ]
     },
     "execution_count": 64,
     "metadata": {},
     "output_type": "execute_result"
    }
   ],
   "source": [
    "my_dict.pop('Goals')"
   ]
  },
  {
   "cell_type": "code",
   "execution_count": 65,
   "id": "2c1da505",
   "metadata": {},
   "outputs": [
    {
     "data": {
      "text/plain": [
       "{'Players': ['Messi', 'Ronaldo', 'Maradona'], 'Assists': [12, 3, 5]}"
      ]
     },
     "execution_count": 65,
     "metadata": {},
     "output_type": "execute_result"
    }
   ],
   "source": [
    "my_dict"
   ]
  },
  {
   "cell_type": "markdown",
   "id": "c2c8e0ec",
   "metadata": {},
   "source": [
    "## If-Else statements"
   ]
  },
  {
   "cell_type": "code",
   "execution_count": 41,
   "id": "f9fee1e6",
   "metadata": {},
   "outputs": [],
   "source": [
    "my_number = 5"
   ]
  },
  {
   "cell_type": "code",
   "execution_count": 42,
   "id": "bafc357e",
   "metadata": {},
   "outputs": [
    {
     "name": "stdout",
     "output_type": "stream",
     "text": [
      "It is a 5!\n"
     ]
    }
   ],
   "source": [
    "if my_number == 5:\n",
    "    print(\"It is a 5!\")\n",
    "else:\n",
    "    print('It is not a 5!')"
   ]
  },
  {
   "cell_type": "code",
   "execution_count": 43,
   "id": "138ea8c8",
   "metadata": {},
   "outputs": [
    {
     "name": "stdout",
     "output_type": "stream",
     "text": [
      "yes\n"
     ]
    }
   ],
   "source": [
    "if len(world_cup) > 3:\n",
    "    print('yes')\n",
    "else:\n",
    "    print('No')"
   ]
  },
  {
   "cell_type": "markdown",
   "id": "6696c51e",
   "metadata": {},
   "source": [
    "## For Loops"
   ]
  },
  {
   "cell_type": "code",
   "execution_count": 67,
   "id": "686ec72c",
   "metadata": {},
   "outputs": [
    {
     "data": {
      "text/plain": [
       "['Argentina', 'France', 'Croatia', 'Marroco']"
      ]
     },
     "execution_count": 67,
     "metadata": {},
     "output_type": "execute_result"
    }
   ],
   "source": [
    "world_cup"
   ]
  },
  {
   "cell_type": "code",
   "execution_count": 68,
   "id": "576deb9d",
   "metadata": {},
   "outputs": [
    {
     "name": "stdout",
     "output_type": "stream",
     "text": [
      "Argentina\n",
      "France\n",
      "Croatia\n",
      "Marroco\n"
     ]
    }
   ],
   "source": [
    "for el in world_cup:\n",
    "    print(el)"
   ]
  },
  {
   "cell_type": "code",
   "execution_count": 71,
   "id": "caae71dc",
   "metadata": {},
   "outputs": [
    {
     "name": "stdout",
     "output_type": "stream",
     "text": [
      "Players ['Messi', 'Ronaldo', 'Maradona']\n",
      "Assists [12, 3, 5]\n"
     ]
    }
   ],
   "source": [
    "for key, value in my_dict.items():\n",
    "    print(key, value)"
   ]
  },
  {
   "cell_type": "code",
   "execution_count": 73,
   "id": "5ae38112",
   "metadata": {},
   "outputs": [],
   "source": [
    "old_list = [0,1,2,3]\n",
    "new_list = []"
   ]
  },
  {
   "cell_type": "code",
   "execution_count": 80,
   "id": "81908212",
   "metadata": {},
   "outputs": [
    {
     "name": "stdout",
     "output_type": "stream",
     "text": [
      "-2\n",
      "-1\n",
      "0\n",
      "1\n"
     ]
    }
   ],
   "source": [
    "for el in old_list:\n",
    "    print(el - 2)\n",
    "    new_list.append(el - 2)"
   ]
  },
  {
   "cell_type": "code",
   "execution_count": 79,
   "id": "281499a7",
   "metadata": {},
   "outputs": [
    {
     "data": {
      "text/plain": [
       "[-2, -1, 0, 1]"
      ]
     },
     "execution_count": 79,
     "metadata": {},
     "output_type": "execute_result"
    }
   ],
   "source": [
    "new_list"
   ]
  },
  {
   "cell_type": "markdown",
   "id": "157822cd",
   "metadata": {},
   "source": [
    "## While loops"
   ]
  },
  {
   "cell_type": "code",
   "execution_count": 89,
   "id": "3ccc34c5",
   "metadata": {},
   "outputs": [
    {
     "name": "stdout",
     "output_type": "stream",
     "text": [
      "5\n",
      "4\n",
      "3\n",
      "2\n",
      "1\n",
      "The new value of the variable num is 0\n"
     ]
    }
   ],
   "source": [
    "num = 5\n",
    "while num != 0:\n",
    "    print(num)\n",
    "    num -= 1\n",
    "print(f'The new value of the variable num is {num}')"
   ]
  },
  {
   "cell_type": "code",
   "execution_count": 87,
   "id": "9464bf82",
   "metadata": {},
   "outputs": [
    {
     "name": "stdout",
     "output_type": "stream",
     "text": [
      "0.43964070974761227\n",
      "0.9906132918990462\n",
      "0.3719412627038745\n",
      "0.2323238124729461\n",
      "0.1091290142905692\n",
      "0.3188697155952741\n",
      "0.9649942914647717\n",
      "0.5604113563256907\n",
      "0.9508604753063467\n",
      "0.25714661521960713\n",
      "0.6091758677006899\n",
      "0.13934981039481442\n",
      "0.6857305864333576\n",
      "0.25748412025941814\n",
      "0.6705752588091278\n",
      "0.22710523696366547\n",
      "0.3433865572993168\n",
      "The num that broke the loop was 0.006348679027839532\n"
     ]
    }
   ],
   "source": [
    "import numpy as np\n",
    "num = 0.5\n",
    "while num > 0.1:\n",
    "    num = np.random.random(1)[0]\n",
    "    if num > 0.1:\n",
    "        print(num)\n",
    "print(f'The num that broke the loop was {num}')"
   ]
  },
  {
   "cell_type": "markdown",
   "id": "4336ec29",
   "metadata": {},
   "source": [
    "## Functions"
   ]
  },
  {
   "cell_type": "code",
   "execution_count": 95,
   "id": "e033bda0",
   "metadata": {},
   "outputs": [],
   "source": [
    "def square_root(x):\n",
    "    return x ** 0.5"
   ]
  },
  {
   "cell_type": "code",
   "execution_count": 96,
   "id": "28840a4e",
   "metadata": {},
   "outputs": [
    {
     "data": {
      "text/plain": [
       "6.0"
      ]
     },
     "execution_count": 96,
     "metadata": {},
     "output_type": "execute_result"
    }
   ],
   "source": [
    "square_root(36)"
   ]
  },
  {
   "cell_type": "code",
   "execution_count": 99,
   "id": "0cc54134",
   "metadata": {},
   "outputs": [],
   "source": [
    "def sum_two(my_list):\n",
    "    new_list = []\n",
    "    for el in my_list:\n",
    "        new_list.append(el + 2)\n",
    "    return new_list"
   ]
  },
  {
   "cell_type": "code",
   "execution_count": 100,
   "id": "ea12d6ee",
   "metadata": {},
   "outputs": [
    {
     "data": {
      "text/plain": [
       "[3, 4, 5, 6]"
      ]
     },
     "execution_count": 100,
     "metadata": {},
     "output_type": "execute_result"
    }
   ],
   "source": [
    "sum_two([1,2,3,4])"
   ]
  },
  {
   "cell_type": "markdown",
   "id": "a7c7f3d1",
   "metadata": {},
   "source": [
    "## Extra: Bringing things together"
   ]
  },
  {
   "cell_type": "code",
   "execution_count": 83,
   "id": "9e89276f",
   "metadata": {},
   "outputs": [],
   "source": [
    "def my_func(my_func_list):\n",
    "    for el in my_func_list: \n",
    "        if el > 2: \n",
    "            print('Yes is larger than 2')\n",
    "        elif el == 2:\n",
    "            print(\"It's a 2\")\n",
    "        else: \n",
    "            print(\"It's lower than 2\")"
   ]
  },
  {
   "cell_type": "code",
   "execution_count": 101,
   "id": "9fa32d02",
   "metadata": {},
   "outputs": [
    {
     "name": "stdout",
     "output_type": "stream",
     "text": [
      "It's lower than 2\n",
      "It's a 2\n",
      "Yes is larger than 2\n",
      "Yes is larger than 2\n"
     ]
    }
   ],
   "source": [
    "my_func([1,2,3,4])"
   ]
  },
  {
   "cell_type": "markdown",
   "id": "440f5066",
   "metadata": {},
   "source": [
    "## Extra: Build Algorithms"
   ]
  },
  {
   "cell_type": "code",
   "execution_count": 102,
   "id": "29561359",
   "metadata": {},
   "outputs": [],
   "source": [
    "test = [1,0,3,7,10,2,0,14,9]"
   ]
  },
  {
   "cell_type": "code",
   "execution_count": 103,
   "id": "bec6579a",
   "metadata": {},
   "outputs": [
    {
     "name": "stdout",
     "output_type": "stream",
     "text": [
      "[0, 1, 3, 7, 10, 2, 0, 14, 9]\n",
      "[0, 0, 3, 7, 10, 2, 1, 14, 9]\n",
      "[0, 0, 1, 7, 10, 2, 3, 14, 9]\n",
      "[0, 0, 1, 2, 10, 7, 3, 14, 9]\n",
      "[0, 0, 1, 2, 3, 7, 10, 14, 9]\n",
      "[0, 0, 1, 2, 3, 7, 10, 14, 9]\n",
      "[0, 0, 1, 2, 3, 7, 9, 14, 10]\n",
      "[0, 0, 1, 2, 3, 7, 9, 10, 14]\n",
      "[0, 0, 1, 2, 3, 7, 9, 10, 14]\n"
     ]
    }
   ],
   "source": [
    "for i in range(len(test)):\n",
    "    a, b = test[i:].index(min(test[i:])) + i, test.index(test[i])\n",
    "    test[b], test[a] = test[a], test[b]\n",
    "    print(test)"
   ]
  }
 ],
 "metadata": {
  "kernelspec": {
   "display_name": "Python 3 (ipykernel)",
   "language": "python",
   "name": "python3"
  },
  "language_info": {
   "codemirror_mode": {
    "name": "ipython",
    "version": 3
   },
   "file_extension": ".py",
   "mimetype": "text/x-python",
   "name": "python",
   "nbconvert_exporter": "python",
   "pygments_lexer": "ipython3",
   "version": "3.9.7"
  }
 },
 "nbformat": 4,
 "nbformat_minor": 5
}
