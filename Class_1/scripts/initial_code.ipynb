{
 "cells": [
  {
   "cell_type": "markdown",
   "id": "b0233376",
   "metadata": {},
   "source": [
    "# Class 1. Intermediate Python & AI "
   ]
  },
  {
   "cell_type": "markdown",
   "id": "86243e21",
   "metadata": {},
   "source": [
    "### Table of contents \n",
    "\n",
    "* Variables\n",
    "* Lists\n",
    "* If-else\n",
    "* For loops\n",
    "* While Loops\n",
    "* Functions\n"
   ]
  },
  {
   "cell_type": "markdown",
   "id": "a95173f4",
   "metadata": {},
   "source": [
    "## Variables"
   ]
  },
  {
   "cell_type": "code",
   "execution_count": 5,
   "id": "3d521835",
   "metadata": {},
   "outputs": [
    {
     "name": "stdout",
     "output_type": "stream",
     "text": [
      "10 5\n"
     ]
    }
   ],
   "source": [
    "a = 10\n",
    "b = 5\n",
    "print(a, b)"
   ]
  },
  {
   "cell_type": "code",
   "execution_count": 6,
   "id": "e0a010b9",
   "metadata": {},
   "outputs": [
    {
     "data": {
      "text/plain": [
       "15"
      ]
     },
     "execution_count": 6,
     "metadata": {},
     "output_type": "execute_result"
    }
   ],
   "source": [
    "a + b"
   ]
  },
  {
   "cell_type": "code",
   "execution_count": null,
   "id": "004d010d",
   "metadata": {},
   "outputs": [],
   "source": [
    "a + "
   ]
  },
  {
   "cell_type": "markdown",
   "id": "fec98344",
   "metadata": {},
   "source": [
    "### Loading packages "
   ]
  },
  {
   "cell_type": "code",
   "execution_count": 4,
   "id": "145975e4",
   "metadata": {},
   "outputs": [],
   "source": [
    "import numpy as np\n",
    "import pandas as pd"
   ]
  },
  {
   "cell_type": "code",
   "execution_count": null,
   "id": "0138e172",
   "metadata": {},
   "outputs": [],
   "source": []
  },
  {
   "cell_type": "code",
   "execution_count": 5,
   "id": "9e89276f",
   "metadata": {},
   "outputs": [
    {
     "name": "stdout",
     "output_type": "stream",
     "text": [
      "It's lower than 2\n",
      "It's a 2\n",
      "Yes is larger than 2\n",
      "Yes is larger than 2\n"
     ]
    }
   ],
   "source": [
    "my_list = [1,2,3,4]\n",
    "for el in my_list: \n",
    "    if el > 2: \n",
    "        print('Yes is larger than 2')\n",
    "    elif el == 2:\n",
    "        print(\"It's a 2\")\n",
    "    else: \n",
    "        print(\"It's lower than 2\")"
   ]
  },
  {
   "cell_type": "code",
   "execution_count": 12,
   "id": "386ee5a7",
   "metadata": {},
   "outputs": [
    {
     "name": "stdout",
     "output_type": "stream",
     "text": [
      "0.7376337598519305\n",
      "0.927917783234748\n",
      "0.4390401084665564\n",
      "0.7121029230762564\n",
      "0.23850291508816712\n",
      "0.8771211392783764\n",
      "The num that broke the loop was 0.011997719256434336\n"
     ]
    }
   ],
   "source": [
    "num = 0.5\n",
    "while num > 0.1:\n",
    "    num = np.random.random(1)[0]\n",
    "    if num > 0.1:\n",
    "        print(num)\n",
    "print(f'The num that broke the loop was {num}')"
   ]
  },
  {
   "cell_type": "code",
   "execution_count": 45,
   "id": "29561359",
   "metadata": {},
   "outputs": [],
   "source": [
    "test = [1,0,3,7,10,2,0,14,9]"
   ]
  },
  {
   "cell_type": "code",
   "execution_count": 44,
   "id": "bec6579a",
   "metadata": {},
   "outputs": [
    {
     "name": "stdout",
     "output_type": "stream",
     "text": [
      "[0, 1, 3, 7, 10, 2, 0, 14, 9]\n",
      "[0, 0, 3, 7, 10, 2, 1, 14, 9]\n",
      "[0, 0, 1, 7, 10, 2, 3, 14, 9]\n",
      "[0, 0, 1, 2, 10, 7, 3, 14, 9]\n",
      "[0, 0, 1, 2, 3, 7, 10, 14, 9]\n",
      "[0, 0, 1, 2, 3, 7, 10, 14, 9]\n",
      "[0, 0, 1, 2, 3, 7, 9, 14, 10]\n",
      "[0, 0, 1, 2, 3, 7, 9, 10, 14]\n",
      "[0, 0, 1, 2, 3, 7, 9, 10, 14]\n"
     ]
    }
   ],
   "source": [
    "for i in range(len(test)):\n",
    "    a, b = test[i:].index(min(test[i:])) + i, test.index(test[i])\n",
    "    test[b], test[a] = test[a], test[b]\n",
    "    print(test)"
   ]
  },
  {
   "cell_type": "code",
   "execution_count": 46,
   "id": "c541ac2a",
   "metadata": {},
   "outputs": [],
   "source": [
    "test.sort()"
   ]
  },
  {
   "cell_type": "code",
   "execution_count": 47,
   "id": "d1937a95",
   "metadata": {},
   "outputs": [
    {
     "data": {
      "text/plain": [
       "[0, 0, 1, 2, 3, 7, 9, 10, 14]"
      ]
     },
     "execution_count": 47,
     "metadata": {},
     "output_type": "execute_result"
    }
   ],
   "source": [
    "test"
   ]
  },
  {
   "cell_type": "code",
   "execution_count": null,
   "id": "7ac7f301",
   "metadata": {},
   "outputs": [],
   "source": []
  },
  {
   "cell_type": "code",
   "execution_count": 22,
   "id": "a3e8505a",
   "metadata": {},
   "outputs": [
    {
     "data": {
      "text/plain": [
       "8"
      ]
     },
     "execution_count": 22,
     "metadata": {},
     "output_type": "execute_result"
    }
   ],
   "source": [
    "i"
   ]
  },
  {
   "cell_type": "code",
   "execution_count": null,
   "id": "523f8da8",
   "metadata": {},
   "outputs": [],
   "source": []
  }
 ],
 "metadata": {
  "kernelspec": {
   "display_name": "Python 3 (ipykernel)",
   "language": "python",
   "name": "python3"
  },
  "language_info": {
   "codemirror_mode": {
    "name": "ipython",
    "version": 3
   },
   "file_extension": ".py",
   "mimetype": "text/x-python",
   "name": "python",
   "nbconvert_exporter": "python",
   "pygments_lexer": "ipython3",
   "version": "3.9.7"
  }
 },
 "nbformat": 4,
 "nbformat_minor": 5
}
