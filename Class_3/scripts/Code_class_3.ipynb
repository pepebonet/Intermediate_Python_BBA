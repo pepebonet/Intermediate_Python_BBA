{
 "cells": [
  {
   "cell_type": "markdown",
   "id": "da2a59d1",
   "metadata": {},
   "source": [
    "# Class 3. Intermediate Python & AI "
   ]
  },
  {
   "cell_type": "markdown",
   "id": "da5369b4",
   "metadata": {},
   "source": [
    "# Data Exploration and Vizualization"
   ]
  },
  {
   "cell_type": "markdown",
   "id": "248599fc",
   "metadata": {},
   "source": [
    "### Table of contents\n",
    "\n",
    "1. Matplotlib and Searborn\n",
    "    1. Figure Structure\n",
    "    2. Bar Plot \n",
    "    3. Box Plot\n",
    "2. Categorical EDA \n",
    "3. Numerical EDA \n",
    "    1. Distributions\n",
    "    2. Univariate analysis\n",
    "    3. Bivariate analysis (Categorical + Numerical)\n",
    "    4. Multivariate analysis"
   ]
  },
  {
   "cell_type": "code",
   "execution_count": 2,
   "id": "6a7c6bbd",
   "metadata": {},
   "outputs": [],
   "source": [
    "import pandas as pd"
   ]
  },
  {
   "cell_type": "code",
   "execution_count": 3,
   "id": "081800fb",
   "metadata": {},
   "outputs": [],
   "source": [
    "df = pd.read_csv('../../datasets/exams_mod_cleaned.csv')"
   ]
  },
  {
   "cell_type": "code",
   "execution_count": 4,
   "id": "6ac1ab2e",
   "metadata": {},
   "outputs": [
    {
     "data": {
      "text/html": [
       "<div>\n",
       "<style scoped>\n",
       "    .dataframe tbody tr th:only-of-type {\n",
       "        vertical-align: middle;\n",
       "    }\n",
       "\n",
       "    .dataframe tbody tr th {\n",
       "        vertical-align: top;\n",
       "    }\n",
       "\n",
       "    .dataframe thead th {\n",
       "        text-align: right;\n",
       "    }\n",
       "</style>\n",
       "<table border=\"1\" class=\"dataframe\">\n",
       "  <thead>\n",
       "    <tr style=\"text-align: right;\">\n",
       "      <th></th>\n",
       "      <th>gender</th>\n",
       "      <th>race/ethnicity</th>\n",
       "      <th>parental level of education</th>\n",
       "      <th>lunch</th>\n",
       "      <th>test preparation course</th>\n",
       "      <th>math score</th>\n",
       "      <th>reading score</th>\n",
       "      <th>writing score</th>\n",
       "      <th>id_student</th>\n",
       "      <th>Year</th>\n",
       "      <th>Age</th>\n",
       "    </tr>\n",
       "  </thead>\n",
       "  <tbody>\n",
       "    <tr>\n",
       "      <th>0</th>\n",
       "      <td>male</td>\n",
       "      <td>group A</td>\n",
       "      <td>high school</td>\n",
       "      <td>standard</td>\n",
       "      <td>completed</td>\n",
       "      <td>67</td>\n",
       "      <td>67</td>\n",
       "      <td>63</td>\n",
       "      <td>1000</td>\n",
       "      <td>2022</td>\n",
       "      <td>17.0</td>\n",
       "    </tr>\n",
       "    <tr>\n",
       "      <th>1</th>\n",
       "      <td>male</td>\n",
       "      <td>group E</td>\n",
       "      <td>some college</td>\n",
       "      <td>free/reduced</td>\n",
       "      <td>none</td>\n",
       "      <td>59</td>\n",
       "      <td>60</td>\n",
       "      <td>50</td>\n",
       "      <td>1002</td>\n",
       "      <td>2022</td>\n",
       "      <td>17.0</td>\n",
       "    </tr>\n",
       "    <tr>\n",
       "      <th>2</th>\n",
       "      <td>male</td>\n",
       "      <td>group B</td>\n",
       "      <td>high school</td>\n",
       "      <td>standard</td>\n",
       "      <td>none</td>\n",
       "      <td>77</td>\n",
       "      <td>78</td>\n",
       "      <td>68</td>\n",
       "      <td>1003</td>\n",
       "      <td>2022</td>\n",
       "      <td>17.0</td>\n",
       "    </tr>\n",
       "    <tr>\n",
       "      <th>3</th>\n",
       "      <td>male</td>\n",
       "      <td>group E</td>\n",
       "      <td>associate's degree</td>\n",
       "      <td>standard</td>\n",
       "      <td>completed</td>\n",
       "      <td>78</td>\n",
       "      <td>73</td>\n",
       "      <td>68</td>\n",
       "      <td>1004</td>\n",
       "      <td>2022</td>\n",
       "      <td>17.0</td>\n",
       "    </tr>\n",
       "    <tr>\n",
       "      <th>4</th>\n",
       "      <td>female</td>\n",
       "      <td>group D</td>\n",
       "      <td>high school</td>\n",
       "      <td>standard</td>\n",
       "      <td>none</td>\n",
       "      <td>63</td>\n",
       "      <td>77</td>\n",
       "      <td>76</td>\n",
       "      <td>1005</td>\n",
       "      <td>2022</td>\n",
       "      <td>17.0</td>\n",
       "    </tr>\n",
       "  </tbody>\n",
       "</table>\n",
       "</div>"
      ],
      "text/plain": [
       "   gender race/ethnicity parental level of education         lunch  \\\n",
       "0    male        group A                 high school      standard   \n",
       "1    male        group E                some college  free/reduced   \n",
       "2    male        group B                 high school      standard   \n",
       "3    male        group E          associate's degree      standard   \n",
       "4  female        group D                 high school      standard   \n",
       "\n",
       "  test preparation course  math score  reading score  writing score  \\\n",
       "0               completed          67             67             63   \n",
       "1                    none          59             60             50   \n",
       "2                    none          77             78             68   \n",
       "3               completed          78             73             68   \n",
       "4                    none          63             77             76   \n",
       "\n",
       "   id_student  Year   Age  \n",
       "0        1000  2022  17.0  \n",
       "1        1002  2022  17.0  \n",
       "2        1003  2022  17.0  \n",
       "3        1004  2022  17.0  \n",
       "4        1005  2022  17.0  "
      ]
     },
     "execution_count": 4,
     "metadata": {},
     "output_type": "execute_result"
    }
   ],
   "source": [
    "df.head()"
   ]
  },
  {
   "cell_type": "markdown",
   "id": "6aa5af64",
   "metadata": {},
   "source": [
    "## 1. Matplotlib & Seaborn (Also Includes Categorical EDA)"
   ]
  },
  {
   "cell_type": "code",
   "execution_count": 82,
   "id": "09ae1687",
   "metadata": {},
   "outputs": [],
   "source": [
    "import matplotlib.pyplot as plt\n",
    "import seaborn"
   ]
  },
  {
   "cell_type": "markdown",
   "id": "c4dea63b",
   "metadata": {},
   "source": [
    "### A. Figure Structure:"
   ]
  },
  {
   "cell_type": "code",
   "execution_count": 89,
   "id": "ee5c46d8",
   "metadata": {},
   "outputs": [
    {
     "data": {
      "text/html": [
       "<div>\n",
       "<style scoped>\n",
       "    .dataframe tbody tr th:only-of-type {\n",
       "        vertical-align: middle;\n",
       "    }\n",
       "\n",
       "    .dataframe tbody tr th {\n",
       "        vertical-align: top;\n",
       "    }\n",
       "\n",
       "    .dataframe thead th {\n",
       "        text-align: right;\n",
       "    }\n",
       "</style>\n",
       "<table border=\"1\" class=\"dataframe\">\n",
       "  <thead>\n",
       "    <tr style=\"text-align: right;\">\n",
       "      <th></th>\n",
       "      <th>index</th>\n",
       "      <th>gender</th>\n",
       "    </tr>\n",
       "  </thead>\n",
       "  <tbody>\n",
       "    <tr>\n",
       "      <th>0</th>\n",
       "      <td>male</td>\n",
       "      <td>497</td>\n",
       "    </tr>\n",
       "    <tr>\n",
       "      <th>1</th>\n",
       "      <td>female</td>\n",
       "      <td>466</td>\n",
       "    </tr>\n",
       "  </tbody>\n",
       "</table>\n",
       "</div>"
      ],
      "text/plain": [
       "    index  gender\n",
       "0    male     497\n",
       "1  female     466"
      ]
     },
     "execution_count": 89,
     "metadata": {},
     "output_type": "execute_result"
    }
   ],
   "source": [
    "to_plot = pd.DataFrame(df['gender'].value_counts()).reset_index()\n",
    "to_plot"
   ]
  },
  {
   "cell_type": "code",
   "execution_count": 90,
   "id": "d699141a",
   "metadata": {},
   "outputs": [
    {
     "data": {
      "image/png": "[encoded data removed]",
      "text/plain": [
       "<Figure size 360x360 with 1 Axes>"
      ]
     },
     "metadata": {},
     "output_type": "display_data"
    }
   ],
   "source": [
    "fig, ax = plt.subplots(figsize=(5, 5), facecolor='white')\n",
    "plt.show()"
   ]
  },
  {
   "cell_type": "code",
   "execution_count": 91,
   "id": "bb802c42",
   "metadata": {},
   "outputs": [
    {
     "data": {
      "image/png": "[encoded data removed]",
      "text/plain": [
       "<Figure size 360x360 with 1 Axes>"
      ]
     },
     "metadata": {},
     "output_type": "display_data"
    }
   ],
   "source": [
    "fig, ax = plt.subplots(figsize=(5, 5), facecolor='white')\n",
    "\n",
    "sns.barplot(x=to_plot['gender'], y=to_plot['index'] )\n",
    "\n",
    "plt.show()"
   ]
  },
  {
   "cell_type": "code",
   "execution_count": 92,
   "id": "6e60ec1d",
   "metadata": {},
   "outputs": [
    {
     "data": {
      "image/png": "[encoded data removed]",
      "text/plain": [
       "<Figure size 360x360 with 1 Axes>"
      ]
     },
     "metadata": {
      "needs_background": "light"
     },
     "output_type": "display_data"
    }
   ],
   "source": [
    "#Start Figure\n",
    "fig, ax = plt.subplots(figsize=(5, 5)) \n",
    "\n",
    "#Body of the figure to build and the data to use\n",
    "sns.barplot(x=to_plot['gender'], y=to_plot['index'],\n",
    "           palette=['#08519c', '#f03b20'])\n",
    "\n",
    "#Change Axes\n",
    "ax.set_xlabel(\"Gender\", fontsize=16)\n",
    "ax.set_ylabel(\"\", fontsize=16)\n",
    "ax.set_yticklabels(['Male', 'Female'], fontsize=16)\n",
    "ax.spines['top'].set_visible(False)\n",
    "ax.spines['right'].set_visible(False)\n",
    "\n",
    "plt.show()"
   ]
  },
  {
   "cell_type": "code",
   "execution_count": 93,
   "id": "327f8662",
   "metadata": {},
   "outputs": [
    {
     "data": {
      "image/png": "[encoded data removed]",
      "text/plain": [
       "<Figure size 360x360 with 1 Axes>"
      ]
     },
     "metadata": {
      "needs_background": "light"
     },
     "output_type": "display_data"
    }
   ],
   "source": [
    "#Start Figure\n",
    "fig, ax = plt.subplots(figsize=(5, 5)) \n",
    "\n",
    "#Body of the figure to build and the data to use\n",
    "sns.barplot(x=to_plot['gender'], y=to_plot['index'],\n",
    "           palette=['#08519c', '#f03b20'])\n",
    "\n",
    "#Change Axes\n",
    "ax.set_xlabel(\"Gender\", fontsize=16)\n",
    "ax.set_ylabel(\"\", fontsize=16)\n",
    "ax.set_yticklabels(['Male', 'Female'], fontsize=16)\n",
    "ax.spines['top'].set_visible(False)\n",
    "ax.spines['right'].set_visible(False)\n",
    "\n",
    "# Add Numbers to plot\n",
    "for index, row in to_plot.iterrows():\n",
    "    ax.text(row.gender + 25, index, row.gender, \n",
    "            color='black', ha=\"center\", fontsize=12)\n",
    "\n",
    "plt.show()"
   ]
  },
  {
   "cell_type": "code",
   "execution_count": 94,
   "id": "e12de20d",
   "metadata": {},
   "outputs": [
    {
     "data": {
      "image/png": "[encoded data removed]",
      "text/plain": [
       "<Figure size 360x360 with 1 Axes>"
      ]
     },
     "metadata": {
      "needs_background": "light"
     },
     "output_type": "display_data"
    }
   ],
   "source": [
    "#Start Figure\n",
    "fig, ax = plt.subplots(figsize=(5, 5)) \n",
    "\n",
    "#Body of the figure to build and the data to use\n",
    "sns.barplot(x=to_plot['gender'], y=to_plot['index'],\n",
    "           palette=['#08519c', '#f03b20'])\n",
    "\n",
    "#Change Axes\n",
    "ax.set_xlabel(\"Gender\", fontsize=16)\n",
    "ax.set_ylabel(\"\", fontsize=16)\n",
    "ax.set_yticklabels(['Male', 'Female'], fontsize=16)\n",
    "ax.spines['top'].set_visible(False)\n",
    "ax.spines['right'].set_visible(False)\n",
    "\n",
    "# Add Numbers to plot\n",
    "for index, row in to_plot.iterrows():\n",
    "    ax.text(row.gender + 25, index, row.gender, \n",
    "            color='black', ha=\"center\", fontsize=12)\n",
    "\n",
    "## Add legend\n",
    "custom_lines = []\n",
    "for el in [('Male', '#08519c'), ('Female', '#f03b20')]:\n",
    "    custom_lines.append(\n",
    "        plt.plot([],[], marker=\"o\", ms=8, ls=\"\", mec='black', \n",
    "        mew=0, color=el[1], label=el[0])[0] \n",
    "    )\n",
    "ax.legend(\n",
    "    bbox_to_anchor=(0., 1.05, 1., .102),\n",
    "    handles=custom_lines, loc='upper center', \n",
    "    facecolor='white', ncol=1, fontsize=12, frameon=False\n",
    "    )\n",
    "#Save or show\n",
    "plt.show()"
   ]
  },
  {
   "cell_type": "markdown",
   "id": "88cca229",
   "metadata": {},
   "source": [
    "### B. Barplot (seaborn up - matplotlib down)"
   ]
  },
  {
   "cell_type": "code",
   "execution_count": 96,
   "id": "b5b1994e",
   "metadata": {},
   "outputs": [
    {
     "name": "stderr",
     "output_type": "stream",
     "text": [
      "/var/folders/f9/bj8yxvjx2l57psdr1xj01vk00000gn/T/ipykernel_17269/1461025452.py:11: UserWarning: FixedFormatter should only be used together with FixedLocator\n",
      "  ax.set_yticklabels(['Male', 'Female'], fontsize=16)\n"
     ]
    },
    {
     "data": {
      "image/png": "[encoded data removed]",
      "text/plain": [
       "<Figure size 360x360 with 1 Axes>"
      ]
     },
     "metadata": {
      "needs_background": "light"
     },
     "output_type": "display_data"
    }
   ],
   "source": [
    "#Start Figure\n",
    "fig, ax = plt.subplots(figsize=(5, 5)) \n",
    "\n",
    "#Body of the figure to build and the data to use\n",
    "plt.barh(width=to_plot['gender'], y=to_plot['index'],\n",
    "        color=['#08519c', '#f03b20'])\n",
    "\n",
    "#Change Axes\n",
    "ax.set_xlabel(\"Gender\", fontsize=16)\n",
    "ax.set_ylabel(\"\", fontsize=16)\n",
    "ax.set_yticklabels(['Male', 'Female'], fontsize=16)\n",
    "ax.spines['top'].set_visible(False)\n",
    "ax.spines['right'].set_visible(False)\n",
    "\n",
    "# Add Numbers to plot\n",
    "for index, row in to_plot.iterrows():\n",
    "    ax.text(row.gender + 25, index, row.gender, \n",
    "            color='black', ha=\"center\", fontsize=12)\n",
    "\n",
    "## Add legend\n",
    "custom_lines = []\n",
    "for el in [('Male', '#08519c'), ('Female', '#f03b20')]:\n",
    "    custom_lines.append(\n",
    "        plt.plot([],[], marker=\"o\", ms=8, ls=\"\", mec='black', \n",
    "        mew=0, color=el[1], label=el[0])[0] \n",
    "    )\n",
    "ax.legend(\n",
    "    bbox_to_anchor=(0., 1.05, 1., .102),\n",
    "    handles=custom_lines, loc='upper center', \n",
    "    facecolor='white', ncol=1, fontsize=12, frameon=False\n",
    "    )\n",
    "#Save or show\n",
    "plt.show()"
   ]
  },
  {
   "cell_type": "markdown",
   "id": "a12a7dc2",
   "metadata": {},
   "source": [
    "### C. Boxplot"
   ]
  },
  {
   "cell_type": "code",
   "execution_count": 117,
   "id": "d218f9d1",
   "metadata": {},
   "outputs": [
    {
     "data": {
      "image/png": "[encoded data removed]",
      "text/plain": [
       "<Figure size 432x288 with 1 Axes>"
      ]
     },
     "metadata": {
      "needs_background": "light"
     },
     "output_type": "display_data"
    }
   ],
   "source": [
    "#Start Figure\n",
    "fig = plt.figure()\n",
    "\n",
    "#Body of the figure to build and the data to use\n",
    "sns.boxplot(x=df['math score'])\n",
    "\n",
    "#Save or show\n",
    "plt.show()"
   ]
  },
  {
   "cell_type": "code",
   "execution_count": 106,
   "id": "3eab49e0",
   "metadata": {},
   "outputs": [
    {
     "data": {
      "image/png": "[encoded data removed]",
      "text/plain": [
       "<Figure size 360x360 with 1 Axes>"
      ]
     },
     "metadata": {
      "needs_background": "light"
     },
     "output_type": "display_data"
    }
   ],
   "source": [
    "#Start Figure\n",
    "fig, ax = plt.subplots(figsize=(5, 5)) \n",
    "\n",
    "#Body of the figure to build and the data to use\n",
    "sns.boxplot(x=df['math score'])\n",
    "\n",
    "#Change Axes\n",
    "ax.set_xlabel(\"Math Score\", fontsize=16)\n",
    "ax.set_ylabel(\"Students\", fontsize=16)\n",
    "ax.spines['top'].set_visible(False)\n",
    "ax.spines['right'].set_visible(False)\n",
    "\n",
    "#Save or show\n",
    "plt.show()"
   ]
  },
  {
   "cell_type": "code",
   "execution_count": 102,
   "id": "37892b77",
   "metadata": {},
   "outputs": [
    {
     "data": {
      "text/html": [
       "<div>\n",
       "<style scoped>\n",
       "    .dataframe tbody tr th:only-of-type {\n",
       "        vertical-align: middle;\n",
       "    }\n",
       "\n",
       "    .dataframe tbody tr th {\n",
       "        vertical-align: top;\n",
       "    }\n",
       "\n",
       "    .dataframe thead th {\n",
       "        text-align: right;\n",
       "    }\n",
       "</style>\n",
       "<table border=\"1\" class=\"dataframe\">\n",
       "  <thead>\n",
       "    <tr style=\"text-align: right;\">\n",
       "      <th></th>\n",
       "      <th>math score</th>\n",
       "      <th>reading score</th>\n",
       "      <th>writing score</th>\n",
       "      <th>id_student</th>\n",
       "      <th>Year</th>\n",
       "      <th>Age</th>\n",
       "    </tr>\n",
       "  </thead>\n",
       "  <tbody>\n",
       "    <tr>\n",
       "      <th>count</th>\n",
       "      <td>963.000000</td>\n",
       "      <td>963.000000</td>\n",
       "      <td>963.000000</td>\n",
       "      <td>963.000000</td>\n",
       "      <td>963.0</td>\n",
       "      <td>963.0</td>\n",
       "    </tr>\n",
       "    <tr>\n",
       "      <th>mean</th>\n",
       "      <td>66.234683</td>\n",
       "      <td>68.855659</td>\n",
       "      <td>70.150571</td>\n",
       "      <td>1495.036345</td>\n",
       "      <td>2022.0</td>\n",
       "      <td>17.0</td>\n",
       "    </tr>\n",
       "    <tr>\n",
       "      <th>std</th>\n",
       "      <td>15.250540</td>\n",
       "      <td>14.711676</td>\n",
       "      <td>19.065517</td>\n",
       "      <td>290.194113</td>\n",
       "      <td>0.0</td>\n",
       "      <td>0.0</td>\n",
       "    </tr>\n",
       "    <tr>\n",
       "      <th>min</th>\n",
       "      <td>13.000000</td>\n",
       "      <td>27.000000</td>\n",
       "      <td>23.000000</td>\n",
       "      <td>1000.000000</td>\n",
       "      <td>2022.0</td>\n",
       "      <td>17.0</td>\n",
       "    </tr>\n",
       "    <tr>\n",
       "      <th>25%</th>\n",
       "      <td>56.000000</td>\n",
       "      <td>59.500000</td>\n",
       "      <td>58.000000</td>\n",
       "      <td>1243.500000</td>\n",
       "      <td>2022.0</td>\n",
       "      <td>17.0</td>\n",
       "    </tr>\n",
       "    <tr>\n",
       "      <th>50%</th>\n",
       "      <td>66.000000</td>\n",
       "      <td>70.000000</td>\n",
       "      <td>68.000000</td>\n",
       "      <td>1495.000000</td>\n",
       "      <td>2022.0</td>\n",
       "      <td>17.0</td>\n",
       "    </tr>\n",
       "    <tr>\n",
       "      <th>75%</th>\n",
       "      <td>77.000000</td>\n",
       "      <td>79.000000</td>\n",
       "      <td>79.000000</td>\n",
       "      <td>1746.500000</td>\n",
       "      <td>2022.0</td>\n",
       "      <td>17.0</td>\n",
       "    </tr>\n",
       "    <tr>\n",
       "      <th>max</th>\n",
       "      <td>100.000000</td>\n",
       "      <td>100.000000</td>\n",
       "      <td>100.000000</td>\n",
       "      <td>1999.000000</td>\n",
       "      <td>2022.0</td>\n",
       "      <td>17.0</td>\n",
       "    </tr>\n",
       "  </tbody>\n",
       "</table>\n",
       "</div>"
      ],
      "text/plain": [
       "       math score  reading score  writing score   id_student    Year    Age\n",
       "count  963.000000     963.000000     963.000000   963.000000   963.0  963.0\n",
       "mean    66.234683      68.855659      70.150571  1495.036345  2022.0   17.0\n",
       "std     15.250540      14.711676      19.065517   290.194113     0.0    0.0\n",
       "min     13.000000      27.000000      23.000000  1000.000000  2022.0   17.0\n",
       "25%     56.000000      59.500000      58.000000  1243.500000  2022.0   17.0\n",
       "50%     66.000000      70.000000      68.000000  1495.000000  2022.0   17.0\n",
       "75%     77.000000      79.000000      79.000000  1746.500000  2022.0   17.0\n",
       "max    100.000000     100.000000     100.000000  1999.000000  2022.0   17.0"
      ]
     },
     "execution_count": 102,
     "metadata": {},
     "output_type": "execute_result"
    }
   ],
   "source": [
    "df.describe()"
   ]
  },
  {
   "cell_type": "markdown",
   "id": "6d2822ca",
   "metadata": {},
   "source": [
    "## 3. Numerical EDA "
   ]
  },
  {
   "cell_type": "markdown",
   "id": "913bc3e7",
   "metadata": {},
   "source": [
    "### A. Distributions"
   ]
  },
  {
   "cell_type": "code",
   "execution_count": 141,
   "id": "aab8fe75",
   "metadata": {},
   "outputs": [
    {
     "data": {
      "image/png": "[encoded data removed]",
      "text/plain": [
       "<Figure size 1080x360 with 3 Axes>"
      ]
     },
     "metadata": {
      "needs_background": "light"
     },
     "output_type": "display_data"
    }
   ],
   "source": [
    "#Start Figure\n",
    "fig, (ax1, ax2, ax3) = plt.subplots(nrows=1, ncols=3, figsize=(15, 5)) \n",
    "\n",
    "#Body of the figure to build and the data to use\n",
    "sns.histplot(x=df['math score'], ax=ax1)\n",
    "sns.histplot(x=df['writing score'], ax=ax2)\n",
    "sns.histplot(x=df['reading score'], ax=ax3)\n",
    "\n",
    "#Save or show\n",
    "plt.show()"
   ]
  },
  {
   "cell_type": "markdown",
   "id": "5ed99e88",
   "metadata": {},
   "source": [
    "### B. Univariate Analysis"
   ]
  },
  {
   "cell_type": "code",
   "execution_count": 119,
   "id": "174168e7",
   "metadata": {},
   "outputs": [
    {
     "data": {
      "image/png": "[encoded data removed]",
      "text/plain": [
       "<Figure size 360x360 with 1 Axes>"
      ]
     },
     "metadata": {
      "needs_background": "light"
     },
     "output_type": "display_data"
    }
   ],
   "source": [
    "#Start Figure\n",
    "fig, ax = plt.subplots(figsize=(5, 5)) \n",
    "\n",
    "#Body of the figure to build and the data to use\n",
    "sns.boxplot(x=df['math score'])\n",
    "\n",
    "#Change Axes\n",
    "ax.set_xlabel(\"Math Score\", fontsize=16)\n",
    "ax.set_ylabel(\"Students\", fontsize=16)\n",
    "ax.spines['top'].set_visible(False)\n",
    "ax.spines['right'].set_visible(False)\n",
    "\n",
    "#Save or show\n",
    "plt.show()"
   ]
  },
  {
   "cell_type": "markdown",
   "id": "68732570",
   "metadata": {},
   "source": [
    "### C. Bivariate analysis (Categorical + Numerical)"
   ]
  },
  {
   "cell_type": "code",
   "execution_count": 120,
   "id": "ecbbfe8c",
   "metadata": {},
   "outputs": [
    {
     "data": {
      "image/png": "[encoded data removed]",
      "text/plain": [
       "<Figure size 360x360 with 1 Axes>"
      ]
     },
     "metadata": {
      "needs_background": "light"
     },
     "output_type": "display_data"
    }
   ],
   "source": [
    "#Start Figure\n",
    "fig, ax = plt.subplots(figsize=(5, 5)) \n",
    "\n",
    "#Body of the figure to build and the data to use\n",
    "sns.boxplot(x=df['math score'], y=df['race/ethnicity'])\n",
    "\n",
    "#Change Axes\n",
    "ax.set_xlabel(\"Math Score\", fontsize=16)\n",
    "ax.set_ylabel(\"Students\", fontsize=16)\n",
    "ax.spines['top'].set_visible(False)\n",
    "ax.spines['right'].set_visible(False)\n",
    "\n",
    "#Save or show\n",
    "plt.show()"
   ]
  },
  {
   "cell_type": "code",
   "execution_count": 143,
   "id": "09028bed",
   "metadata": {},
   "outputs": [
    {
     "data": {
      "image/png": "[encoded data removed]",
      "text/plain": [
       "<Figure size 360x360 with 1 Axes>"
      ]
     },
     "metadata": {
      "needs_background": "light"
     },
     "output_type": "display_data"
    }
   ],
   "source": [
    "#Start Figure\n",
    "fig, ax = plt.subplots(figsize=(5, 5)) \n",
    "\n",
    "#Body of the figure to build and the data to use\n",
    "sns.boxplot(x=df['math score'], y=df['race/ethnicity'], hue=df['gender'])\n",
    "\n",
    "#Change Axes\n",
    "ax.set_xlabel(\"Math Score\", fontsize=16)\n",
    "ax.set_ylabel(\"Students\", fontsize=16)\n",
    "ax.spines['top'].set_visible(False)\n",
    "ax.spines['right'].set_visible(False)\n",
    "\n",
    "#Save or show\n",
    "plt.show()"
   ]
  },
  {
   "cell_type": "code",
   "execution_count": 116,
   "id": "a3ccc000",
   "metadata": {},
   "outputs": [
    {
     "data": {
      "image/png": "[encoded data removed]",
      "text/plain": [
       "<Figure size 360x360 with 1 Axes>"
      ]
     },
     "metadata": {
      "needs_background": "light"
     },
     "output_type": "display_data"
    }
   ],
   "source": [
    "#Start Figure\n",
    "fig, ax = plt.subplots(figsize=(5, 5)) \n",
    "\n",
    "#Body of the figure to build and the data to use\n",
    "sns.boxplot(x=\"value\", y=\"variable\", data=pd.melt(df[['math score', 'writing score', 'reading score']]))\n",
    "\n",
    "#Change Axes\n",
    "ax.set_xlabel(\"Exam Scores\", fontsize=16)\n",
    "ax.set_ylabel(\"Students\", fontsize=16)\n",
    "ax.spines['top'].set_visible(False)\n",
    "ax.spines['right'].set_visible(False)\n",
    "\n",
    "#Save or show\n",
    "plt.show()"
   ]
  },
  {
   "cell_type": "code",
   "execution_count": 148,
   "id": "09063c67",
   "metadata": {},
   "outputs": [
    {
     "data": {
      "image/png": "[encoded data removed]",
      "text/plain": [
       "<Figure size 1440x360 with 3 Axes>"
      ]
     },
     "metadata": {
      "needs_background": "light"
     },
     "output_type": "display_data"
    }
   ],
   "source": [
    "#Start Figure\n",
    "fig, (ax1, ax2, ax3) = plt.subplots(nrows=1, ncols=3, figsize=(20, 5)) \n",
    "\n",
    "#Body of the figure to build and the data to use\n",
    "sns.boxplot(x=df['math score'], y=df['gender'], ax=ax1)\n",
    "sns.boxplot(x=df['writing score'], y=df['gender'], ax=ax2)\n",
    "sns.boxplot(x=df['reading score'], y=df['gender'], ax=ax3)\n",
    "\n",
    "\n",
    "#Save or show\n",
    "plt.show()"
   ]
  },
  {
   "cell_type": "markdown",
   "id": "81bb5579",
   "metadata": {},
   "source": [
    "### D. Multivariate Analysis"
   ]
  },
  {
   "cell_type": "code",
   "execution_count": 149,
   "id": "37bdc604",
   "metadata": {},
   "outputs": [
    {
     "data": {
      "image/png": "[encoded data removed]",
      "text/plain": [
       "<Figure size 864x576 with 2 Axes>"
      ]
     },
     "metadata": {
      "needs_background": "light"
     },
     "output_type": "display_data"
    }
   ],
   "source": [
    "corr = df.corr()\n",
    "kot = corr[corr>=0]\n",
    "plt.figure(figsize=(12,8))\n",
    "sns.heatmap(kot, cmap=\"Blues\")\n",
    "plt.show()"
   ]
  },
  {
   "cell_type": "code",
   "execution_count": 150,
   "id": "833fe586",
   "metadata": {},
   "outputs": [],
   "source": [
    "def cramers_corrected_stat(confusion_matrix):\n",
    "    \"\"\" calculate Cramers V statistic for categorical-categorical association.\n",
    "        uses correction from Bergsma and Wicher, \n",
    "        Journal of the Korean Statistical Society 42 (2013): 323-328\n",
    "    \"\"\"\n",
    "    chi2 = ss.chi2_contingency(confusion_matrix)[0]\n",
    "    n = confusion_matrix.sum().sum()\n",
    "    phi2 = chi2/n\n",
    "    r,k = confusion_matrix.shape\n",
    "    phi2corr = max(0, phi2 - ((k-1)*(r-1))/(n-1))    \n",
    "    rcorr = r - ((r-1)**2)/(n-1)\n",
    "    kcorr = k - ((k-1)**2)/(n-1)\n",
    "    return np.sqrt(phi2corr / min( (kcorr-1), (rcorr-1)))"
   ]
  },
  {
   "cell_type": "code",
   "execution_count": 157,
   "id": "9e8f2a4f",
   "metadata": {},
   "outputs": [],
   "source": [
    "import numpy as np\n",
    "import scipy.stats as ss\n",
    "import itertools"
   ]
  },
  {
   "cell_type": "code",
   "execution_count": 158,
   "id": "361d798f",
   "metadata": {},
   "outputs": [],
   "source": [
    "cols = ['gender', 'race/ethnicity', 'parental level of education', 'lunch',\n",
    "       'test preparation course']\n",
    "corrM = np.zeros((len(cols),len(cols)))\n",
    "# there's probably a nice pandas way to do this\n",
    "for col1, col2 in itertools.combinations(cols, 2):\n",
    "    idx1, idx2 = cols.index(col1), cols.index(col2)\n",
    "    corrM[idx1, idx2] = cramers_corrected_stat(pd.crosstab(df[col1], df[col2]))\n",
    "    corrM[idx2, idx1] = corrM[idx1, idx2]"
   ]
  },
  {
   "cell_type": "code",
   "execution_count": 159,
   "id": "ba777145",
   "metadata": {},
   "outputs": [
    {
     "data": {
      "image/png": "[encoded data removed]",
      "text/plain": [
       "<Figure size 504x432 with 2 Axes>"
      ]
     },
     "metadata": {
      "needs_background": "light"
     },
     "output_type": "display_data"
    }
   ],
   "source": [
    "corr = pd.DataFrame(corrM, index=cols, columns=cols)\n",
    "fig, ax = plt.subplots(figsize=(7, 6))\n",
    "ax = sns.heatmap(corr, annot=True, ax=ax); ax.set_title(\"Cramer V Correlation between Variables\");"
   ]
  }
 ],
 "metadata": {
  "kernelspec": {
   "display_name": "Python 3 (ipykernel)",
   "language": "python",
   "name": "python3"
  },
  "language_info": {
   "codemirror_mode": {
    "name": "ipython",
    "version": 3
   },
   "file_extension": ".py",
   "mimetype": "text/x-python",
   "name": "python",
   "nbconvert_exporter": "python",
   "pygments_lexer": "ipython3",
   "version": "3.9.7"
  }
 },
 "nbformat": 4,
 "nbformat_minor": 5
}
