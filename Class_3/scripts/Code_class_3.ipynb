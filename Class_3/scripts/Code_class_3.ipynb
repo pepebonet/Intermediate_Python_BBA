{
 "cells": [
  {
   "cell_type": "markdown",
   "id": "da2a59d1",
   "metadata": {},
   "source": [
    "# Class 3. Intermediate Python & AI "
   ]
  },
  {
   "cell_type": "markdown",
   "id": "da5369b4",
   "metadata": {},
   "source": [
    "# Data Exploration and Vizualization"
   ]
  },
  {
   "cell_type": "markdown",
   "id": "248599fc",
   "metadata": {},
   "source": [
    "### Table of contents\n",
    "\n",
    "1. Matplotlib and Searborn\n",
    "    1. Figure Structure\n",
    "    2. Bar Plot \n",
    "    3. Box Plot\n",
    "2. Categorical EDA \n",
    "3. Numerical EDA \n",
    "    1. Distributions\n",
    "    2. Univariate analysis\n",
    "    3. Bivariate analysis (Categorical + Numerical)\n",
    "    4. Multivariate analysis"
   ]
  },
  {
   "cell_type": "code",
   "execution_count": 37,
   "id": "6a7c6bbd",
   "metadata": {},
   "outputs": [],
   "source": [
    "import pandas as pd"
   ]
  },
  {
   "cell_type": "code",
   "execution_count": 38,
   "id": "081800fb",
   "metadata": {},
   "outputs": [],
   "source": [
    "df = pd.read_csv('../../datasets/exams_mod_cleaned.csv')"
   ]
  },
  {
   "cell_type": "code",
   "execution_count": 39,
   "id": "6ac1ab2e",
   "metadata": {},
   "outputs": [
    {
     "data": {
      "text/html": [
       "<div>\n",
       "<style scoped>\n",
       "    .dataframe tbody tr th:only-of-type {\n",
       "        vertical-align: middle;\n",
       "    }\n",
       "\n",
       "    .dataframe tbody tr th {\n",
       "        vertical-align: top;\n",
       "    }\n",
       "\n",
       "    .dataframe thead th {\n",
       "        text-align: right;\n",
       "    }\n",
       "</style>\n",
       "<table border=\"1\" class=\"dataframe\">\n",
       "  <thead>\n",
       "    <tr style=\"text-align: right;\">\n",
       "      <th></th>\n",
       "      <th>gender</th>\n",
       "      <th>race/ethnicity</th>\n",
       "      <th>parental level of education</th>\n",
       "      <th>lunch</th>\n",
       "      <th>test preparation course</th>\n",
       "      <th>math score</th>\n",
       "      <th>reading score</th>\n",
       "      <th>writing score</th>\n",
       "      <th>id_student</th>\n",
       "      <th>Year</th>\n",
       "      <th>Age</th>\n",
       "    </tr>\n",
       "  </thead>\n",
       "  <tbody>\n",
       "    <tr>\n",
       "      <th>0</th>\n",
       "      <td>male</td>\n",
       "      <td>group A</td>\n",
       "      <td>high school</td>\n",
       "      <td>standard</td>\n",
       "      <td>completed</td>\n",
       "      <td>67</td>\n",
       "      <td>67</td>\n",
       "      <td>63</td>\n",
       "      <td>1000</td>\n",
       "      <td>2023</td>\n",
       "      <td>14.0</td>\n",
       "    </tr>\n",
       "    <tr>\n",
       "      <th>1</th>\n",
       "      <td>female</td>\n",
       "      <td>group D</td>\n",
       "      <td>high school</td>\n",
       "      <td>free/reduced</td>\n",
       "      <td>none</td>\n",
       "      <td>40</td>\n",
       "      <td>29</td>\n",
       "      <td>55</td>\n",
       "      <td>1001</td>\n",
       "      <td>2023</td>\n",
       "      <td>17.0</td>\n",
       "    </tr>\n",
       "    <tr>\n",
       "      <th>2</th>\n",
       "      <td>male</td>\n",
       "      <td>group E</td>\n",
       "      <td>some college</td>\n",
       "      <td>free/reduced</td>\n",
       "      <td>none</td>\n",
       "      <td>59</td>\n",
       "      <td>60</td>\n",
       "      <td>50</td>\n",
       "      <td>1002</td>\n",
       "      <td>2023</td>\n",
       "      <td>14.0</td>\n",
       "    </tr>\n",
       "    <tr>\n",
       "      <th>3</th>\n",
       "      <td>male</td>\n",
       "      <td>group B</td>\n",
       "      <td>high school</td>\n",
       "      <td>standard</td>\n",
       "      <td>none</td>\n",
       "      <td>77</td>\n",
       "      <td>78</td>\n",
       "      <td>68</td>\n",
       "      <td>1003</td>\n",
       "      <td>2023</td>\n",
       "      <td>17.0</td>\n",
       "    </tr>\n",
       "    <tr>\n",
       "      <th>4</th>\n",
       "      <td>male</td>\n",
       "      <td>group E</td>\n",
       "      <td>associate's degree</td>\n",
       "      <td>standard</td>\n",
       "      <td>completed</td>\n",
       "      <td>78</td>\n",
       "      <td>73</td>\n",
       "      <td>68</td>\n",
       "      <td>1004</td>\n",
       "      <td>2023</td>\n",
       "      <td>16.0</td>\n",
       "    </tr>\n",
       "  </tbody>\n",
       "</table>\n",
       "</div>"
      ],
      "text/plain": [
       "   gender race/ethnicity parental level of education         lunch  \\\n",
       "0    male        group A                 high school      standard   \n",
       "1  female        group D                 high school  free/reduced   \n",
       "2    male        group E                some college  free/reduced   \n",
       "3    male        group B                 high school      standard   \n",
       "4    male        group E          associate's degree      standard   \n",
       "\n",
       "  test preparation course  math score  reading score  writing score  \\\n",
       "0               completed          67             67             63   \n",
       "1                    none          40             29             55   \n",
       "2                    none          59             60             50   \n",
       "3                    none          77             78             68   \n",
       "4               completed          78             73             68   \n",
       "\n",
       "   id_student  Year   Age  \n",
       "0        1000  2023  14.0  \n",
       "1        1001  2023  17.0  \n",
       "2        1002  2023  14.0  \n",
       "3        1003  2023  17.0  \n",
       "4        1004  2023  16.0  "
      ]
     },
     "execution_count": 39,
     "metadata": {},
     "output_type": "execute_result"
    }
   ],
   "source": [
    "df.head()"
   ]
  },
  {
   "cell_type": "markdown",
   "id": "6aa5af64",
   "metadata": {},
   "source": [
    "## 1. Matplotlib & Seaborn (Also Includes Categorical EDA)"
   ]
  },
  {
   "cell_type": "code",
   "execution_count": 40,
   "id": "09ae1687",
   "metadata": {},
   "outputs": [],
   "source": [
    "import matplotlib.pyplot as plt\n",
    "import seaborn as sns"
   ]
  },
  {
   "cell_type": "markdown",
   "id": "c4dea63b",
   "metadata": {},
   "source": [
    "### A. Figure Structure:"
   ]
  },
  {
   "cell_type": "code",
   "execution_count": 41,
   "id": "ee5c46d8",
   "metadata": {},
   "outputs": [
    {
     "data": {
      "text/html": [
       "<div>\n",
       "<style scoped>\n",
       "    .dataframe tbody tr th:only-of-type {\n",
       "        vertical-align: middle;\n",
       "    }\n",
       "\n",
       "    .dataframe tbody tr th {\n",
       "        vertical-align: top;\n",
       "    }\n",
       "\n",
       "    .dataframe thead th {\n",
       "        text-align: right;\n",
       "    }\n",
       "</style>\n",
       "<table border=\"1\" class=\"dataframe\">\n",
       "  <thead>\n",
       "    <tr style=\"text-align: right;\">\n",
       "      <th></th>\n",
       "      <th>index</th>\n",
       "      <th>gender</th>\n",
       "    </tr>\n",
       "  </thead>\n",
       "  <tbody>\n",
       "    <tr>\n",
       "      <th>0</th>\n",
       "      <td>male</td>\n",
       "      <td>500</td>\n",
       "    </tr>\n",
       "    <tr>\n",
       "      <th>1</th>\n",
       "      <td>female</td>\n",
       "      <td>451</td>\n",
       "    </tr>\n",
       "  </tbody>\n",
       "</table>\n",
       "</div>"
      ],
      "text/plain": [
       "    index  gender\n",
       "0    male     500\n",
       "1  female     451"
      ]
     },
     "execution_count": 41,
     "metadata": {},
     "output_type": "execute_result"
    }
   ],
   "source": [
    "to_plot = pd.DataFrame(df['gender'].value_counts()).reset_index()\n",
    "to_plot"
   ]
  },
  {
   "cell_type": "code",
   "execution_count": 42,
   "id": "ace00068",
   "metadata": {},
   "outputs": [
    {
     "data": {
      "text/plain": [
       "[]"
      ]
     },
     "execution_count": 42,
     "metadata": {},
     "output_type": "execute_result"
    },
    {
     "data": {
      "image/png": "[encoded data removed]",
      "text/plain": [
       "<Figure size 432x288 with 1 Axes>"
      ]
     },
     "metadata": {
      "needs_background": "light"
     },
     "output_type": "display_data"
    }
   ],
   "source": [
    "plt.plot()"
   ]
  },
  {
   "cell_type": "code",
   "execution_count": 43,
   "id": "d699141a",
   "metadata": {},
   "outputs": [
    {
     "data": {
      "image/png": "[encoded data removed]",
      "text/plain": [
       "<Figure size 360x360 with 1 Axes>"
      ]
     },
     "metadata": {
      "needs_background": "light"
     },
     "output_type": "display_data"
    }
   ],
   "source": [
    "# Start figure\n",
    "fig, ax = plt.subplots(figsize=(5, 5))\n",
    "\n",
    "# Figure content \n",
    "\n",
    "\n",
    "# Show it \n",
    "plt.show()"
   ]
  },
  {
   "cell_type": "code",
   "execution_count": 44,
   "id": "af34ecd5",
   "metadata": {},
   "outputs": [],
   "source": [
    "import seaborn as sns "
   ]
  },
  {
   "cell_type": "code",
   "execution_count": 45,
   "id": "d0a3ef86",
   "metadata": {},
   "outputs": [
    {
     "data": {
      "text/html": [
       "<div>\n",
       "<style scoped>\n",
       "    .dataframe tbody tr th:only-of-type {\n",
       "        vertical-align: middle;\n",
       "    }\n",
       "\n",
       "    .dataframe tbody tr th {\n",
       "        vertical-align: top;\n",
       "    }\n",
       "\n",
       "    .dataframe thead th {\n",
       "        text-align: right;\n",
       "    }\n",
       "</style>\n",
       "<table border=\"1\" class=\"dataframe\">\n",
       "  <thead>\n",
       "    <tr style=\"text-align: right;\">\n",
       "      <th></th>\n",
       "      <th>index</th>\n",
       "      <th>gender</th>\n",
       "    </tr>\n",
       "  </thead>\n",
       "  <tbody>\n",
       "    <tr>\n",
       "      <th>0</th>\n",
       "      <td>male</td>\n",
       "      <td>500</td>\n",
       "    </tr>\n",
       "    <tr>\n",
       "      <th>1</th>\n",
       "      <td>female</td>\n",
       "      <td>451</td>\n",
       "    </tr>\n",
       "  </tbody>\n",
       "</table>\n",
       "</div>"
      ],
      "text/plain": [
       "    index  gender\n",
       "0    male     500\n",
       "1  female     451"
      ]
     },
     "execution_count": 45,
     "metadata": {},
     "output_type": "execute_result"
    }
   ],
   "source": [
    "to_plot"
   ]
  },
  {
   "cell_type": "code",
   "execution_count": 46,
   "id": "bb802c42",
   "metadata": {},
   "outputs": [
    {
     "data": {
      "image/png": "[encoded data removed]",
      "text/plain": [
       "<Figure size 360x360 with 1 Axes>"
      ]
     },
     "metadata": {},
     "output_type": "display_data"
    }
   ],
   "source": [
    "fig, ax = plt.subplots(figsize=(5, 5), facecolor='#4daf4a')\n",
    "\n",
    "sns.barplot(data=to_plot, x='gender', y='index')\n",
    "\n",
    "plt.show()"
   ]
  },
  {
   "cell_type": "code",
   "execution_count": 47,
   "id": "a181d5e9",
   "metadata": {},
   "outputs": [
    {
     "data": {
      "image/png": "[encoded data removed]",
      "text/plain": [
       "<Figure size 360x360 with 1 Axes>"
      ]
     },
     "metadata": {},
     "output_type": "display_data"
    }
   ],
   "source": [
    "fig, ax = plt.subplots(figsize=(5, 5), facecolor='white')\n",
    "\n",
    "sns.barplot(data=to_plot, x='gender', y='index')\n",
    "\n",
    "plt.show()"
   ]
  },
  {
   "cell_type": "code",
   "execution_count": 48,
   "id": "a2259082",
   "metadata": {},
   "outputs": [
    {
     "data": {
      "image/png": "[encoded data removed]",
      "text/plain": [
       "<Figure size 360x360 with 1 Axes>"
      ]
     },
     "metadata": {
      "needs_background": "light"
     },
     "output_type": "display_data"
    }
   ],
   "source": [
    "#Start Figure\n",
    "fig, ax = plt.subplots(figsize=(5, 5)) \n",
    "\n",
    "#Body of the figure to build and the data to use\n",
    "sns.barplot(x=to_plot['gender'], y=to_plot['index'],\n",
    "           palette=['#e41a1c', '#4daf4a'])\n",
    "\n",
    "plt.show()"
   ]
  },
  {
   "cell_type": "code",
   "execution_count": 49,
   "id": "ff1f59db",
   "metadata": {},
   "outputs": [
    {
     "data": {
      "image/png": "[encoded data removed]",
      "text/plain": [
       "<Figure size 360x360 with 1 Axes>"
      ]
     },
     "metadata": {
      "needs_background": "light"
     },
     "output_type": "display_data"
    }
   ],
   "source": [
    "#Start Figure\n",
    "fig, ax = plt.subplots(figsize=(5, 5)) \n",
    "\n",
    "#Body of the figure to build and the data to use\n",
    "sns.barplot(x=to_plot['gender'], y=to_plot['index'],\n",
    "           palette=['#08519c', '#756bb1'])\n",
    "\n",
    "#Change Axes\n",
    "ax.set_xlabel(\"Gender\", fontsize=35, color='grey')\n",
    "ax.set_ylabel(\"\", fontsize=16)\n",
    "\n",
    "plt.show()"
   ]
  },
  {
   "cell_type": "code",
   "execution_count": 50,
   "id": "19bd99e6",
   "metadata": {},
   "outputs": [
    {
     "data": {
      "image/png": "[encoded data removed]",
      "text/plain": [
       "<Figure size 360x360 with 1 Axes>"
      ]
     },
     "metadata": {
      "needs_background": "light"
     },
     "output_type": "display_data"
    }
   ],
   "source": [
    "#Start Figure\n",
    "fig, ax = plt.subplots(figsize=(5, 5)) \n",
    "\n",
    "#Body of the figure to build and the data to use\n",
    "sns.barplot(x=to_plot['gender'], y=to_plot['index'],\n",
    "           palette=['#08519c', '#f03b20'])\n",
    "\n",
    "#Change Axes\n",
    "ax.set_xlabel(\"Gender\", fontsize=16)\n",
    "ax.set_ylabel(\"\", fontsize=16)\n",
    "ax.set_yticklabels(['Male', 'Female'], fontsize=16)\n",
    "\n",
    "plt.show()"
   ]
  },
  {
   "cell_type": "code",
   "execution_count": 51,
   "id": "6e60ec1d",
   "metadata": {},
   "outputs": [
    {
     "data": {
      "image/png": "[encoded data removed]",
      "text/plain": [
       "<Figure size 360x360 with 1 Axes>"
      ]
     },
     "metadata": {
      "needs_background": "light"
     },
     "output_type": "display_data"
    }
   ],
   "source": [
    "#Start Figure\n",
    "fig, ax = plt.subplots(figsize=(5, 5)) \n",
    "\n",
    "#Body of the figure to build and the data to use\n",
    "sns.barplot(x=to_plot['gender'], y=to_plot['index'],\n",
    "           palette=['#08519c', '#f03b20'])\n",
    "\n",
    "#Change Axes\n",
    "ax.set_xlabel(\"Gender\", fontsize=16)\n",
    "ax.set_ylabel(\"\", fontsize=16)\n",
    "ax.set_yticklabels(['Male', 'Female'], fontsize=16)\n",
    "ax.spines['top'].set_visible(False)\n",
    "ax.spines['right'].set_visible(False)\n",
    "\n",
    "plt.show()"
   ]
  },
  {
   "cell_type": "code",
   "execution_count": 52,
   "id": "327f8662",
   "metadata": {},
   "outputs": [
    {
     "data": {
      "image/png": "[encoded data removed]",
      "text/plain": [
       "<Figure size 360x360 with 1 Axes>"
      ]
     },
     "metadata": {
      "needs_background": "light"
     },
     "output_type": "display_data"
    }
   ],
   "source": [
    "#Start Figure\n",
    "fig, ax = plt.subplots(figsize=(5, 5)) \n",
    "\n",
    "#Body of the figure to build and the data to use\n",
    "sns.barplot(x=to_plot['gender'], y=to_plot['index'],\n",
    "           palette=['#08519c', '#f03b20'])\n",
    "\n",
    "#Change Axes\n",
    "ax.set_xlabel(\"Gender\", fontsize=16)\n",
    "ax.set_ylabel(\"\", fontsize=16)\n",
    "ax.set_yticklabels(['Male', 'Female'], fontsize=16)\n",
    "ax.spines['top'].set_visible(False)\n",
    "ax.spines['right'].set_visible(False)\n",
    "\n",
    "# Add Numbers to plot\n",
    "for index, row in to_plot.iterrows():\n",
    "    ax.text(row.gender + 50, index, row.gender, color='blue', ha=\"center\", fontsize=40)\n",
    "    \n",
    "\n",
    "plt.show()"
   ]
  },
  {
   "cell_type": "code",
   "execution_count": 53,
   "id": "e12de20d",
   "metadata": {},
   "outputs": [
    {
     "data": {
      "image/png": "[encoded data removed]",
      "text/plain": [
       "<Figure size 360x360 with 1 Axes>"
      ]
     },
     "metadata": {
      "needs_background": "light"
     },
     "output_type": "display_data"
    }
   ],
   "source": [
    "#Start Figure\n",
    "fig, ax = plt.subplots(figsize=(5, 5)) \n",
    "\n",
    "#Body of the figure to build and the data to use\n",
    "sns.barplot(x=to_plot['gender'], y=to_plot['index'],\n",
    "           palette=['#08519c', '#f03b20'])\n",
    "\n",
    "#Change Axes\n",
    "ax.set_xlabel(\"Gender\", fontsize=16)\n",
    "ax.set_ylabel(\"\", fontsize=16)\n",
    "ax.set_yticklabels(['Male', 'Female'], fontsize=16)\n",
    "ax.spines['top'].set_visible(False)\n",
    "ax.spines['right'].set_visible(False)\n",
    "\n",
    "# Add Numbers to plot\n",
    "for index, row in to_plot.iterrows():\n",
    "    ax.text(row.gender + 25, index, row.gender, \n",
    "            color='black', ha=\"center\", fontsize=12)\n",
    "\n",
    "## Add legend\n",
    "custom_lines = []\n",
    "for el in [('Male', '#08519c'), ('Female', '#f03b20')]:\n",
    "    custom_lines.append(\n",
    "        plt.plot([],[], marker=\"v\", ms=20, ls=\"\", mec='black', \n",
    "        mew=0, color=el[1], label=el[0])[0] \n",
    "    )\n",
    "ax.legend(\n",
    "    bbox_to_anchor=(0., 1.05, 1., .102),\n",
    "    handles=custom_lines, loc='upper center', \n",
    "    facecolor='white', ncol=1, fontsize=12, frameon=False\n",
    "    )\n",
    "#Save or show\n",
    "plt.show()"
   ]
  },
  {
   "cell_type": "markdown",
   "id": "88cca229",
   "metadata": {},
   "source": [
    "### B. Barplot (seaborn up - matplotlib down)"
   ]
  },
  {
   "cell_type": "code",
   "execution_count": 54,
   "id": "b5b1994e",
   "metadata": {},
   "outputs": [
    {
     "name": "stderr",
     "output_type": "stream",
     "text": [
      "/var/folders/f9/bj8yxvjx2l57psdr1xj01vk00000gn/T/ipykernel_11925/1860990965.py:11: UserWarning: FixedFormatter should only be used together with FixedLocator\n",
      "  ax.set_yticklabels(['Male', 'Female'], fontsize=16)\n"
     ]
    },
    {
     "data": {
      "image/png": "[encoded data removed]",
      "text/plain": [
       "<Figure size 360x360 with 1 Axes>"
      ]
     },
     "metadata": {
      "needs_background": "light"
     },
     "output_type": "display_data"
    }
   ],
   "source": [
    "#Start Figure\n",
    "fig, ax = plt.subplots(figsize=(5, 5)) \n",
    "\n",
    "#Body of the figure to build and the data to use\n",
    "plt.barh(width=to_plot['gender'], y=to_plot['index'],\n",
    "        color=['#08519c', '#f03b20'])\n",
    "\n",
    "#Change Axes\n",
    "ax.set_xlabel(\"Gender\", fontsize=16)\n",
    "ax.set_ylabel(\"\", fontsize=16)\n",
    "ax.set_yticklabels(['Male', 'Female'], fontsize=16)\n",
    "ax.spines['top'].set_visible(False)\n",
    "ax.spines['right'].set_visible(False)\n",
    "\n",
    "# Add Numbers to plot\n",
    "for index, row in to_plot.iterrows():\n",
    "    ax.text(row.gender + 25, index, row.gender, \n",
    "            color='black', ha=\"center\", fontsize=12)\n",
    "\n",
    "## Add legend\n",
    "custom_lines = []\n",
    "for el in [('Male', '#08519c'), ('Female', '#f03b20')]:\n",
    "    custom_lines.append(\n",
    "        plt.plot([],[], marker=\"o\", ms=8, ls=\"\", mec='black', \n",
    "        mew=0, color=el[1], label=el[0])[0] \n",
    "    )\n",
    "ax.legend(\n",
    "    bbox_to_anchor=(0., 1.15, 1., .102),\n",
    "    handles=custom_lines, loc='upper center', \n",
    "    facecolor='white', ncol=1, fontsize=12, frameon=False\n",
    "    )\n",
    "#Save or show\n",
    "plt.show()"
   ]
  },
  {
   "cell_type": "markdown",
   "id": "a12a7dc2",
   "metadata": {},
   "source": [
    "### C. Boxplot"
   ]
  },
  {
   "cell_type": "code",
   "execution_count": 70,
   "id": "d218f9d1",
   "metadata": {},
   "outputs": [
    {
     "data": {
      "image/png": "[encoded data removed]",
      "text/plain": [
       "<Figure size 1080x360 with 3 Axes>"
      ]
     },
     "metadata": {
      "needs_background": "light"
     },
     "output_type": "display_data"
    }
   ],
   "source": [
    "#Start Figure\n",
    "fig, (ax1, ax2, ax3) = plt.subplots(nrows=1, ncols=3, figsize=(15, 5)) \n",
    "\n",
    "#Body of the figure to build and the data to use\n",
    "sns.boxplot(x=df['math score'], y=df['gender'], ax=ax1)\n",
    "sns.boxplot(x=df['reading score'], y=df['gender'], ax=ax2)\n",
    "sns.boxplot(x=df['writing score'], y=df['gender'], ax=ax3)\n",
    "\n",
    "#Save or show\n",
    "plt.show()"
   ]
  },
  {
   "cell_type": "code",
   "execution_count": 56,
   "id": "3eab49e0",
   "metadata": {},
   "outputs": [
    {
     "data": {
      "image/png": "[encoded data removed]",
      "text/plain": [
       "<Figure size 360x360 with 1 Axes>"
      ]
     },
     "metadata": {
      "needs_background": "light"
     },
     "output_type": "display_data"
    }
   ],
   "source": [
    "#Start Figure\n",
    "fig, ax = plt.subplots(figsize=(5, 5)) \n",
    "\n",
    "#Body of the figure to build and the data to use\n",
    "sns.boxplot(x=df['math score'])\n",
    "\n",
    "#Change Axes\n",
    "ax.set_xlabel(\"Math Score\", fontsize=16)\n",
    "ax.set_ylabel(\"Students\", fontsize=16)\n",
    "ax.spines['top'].set_visible(False)\n",
    "ax.spines['right'].set_visible(False)\n",
    "\n",
    "#Save or show\n",
    "plt.show()"
   ]
  },
  {
   "cell_type": "code",
   "execution_count": 57,
   "id": "37892b77",
   "metadata": {},
   "outputs": [
    {
     "data": {
      "text/html": [
       "<div>\n",
       "<style scoped>\n",
       "    .dataframe tbody tr th:only-of-type {\n",
       "        vertical-align: middle;\n",
       "    }\n",
       "\n",
       "    .dataframe tbody tr th {\n",
       "        vertical-align: top;\n",
       "    }\n",
       "\n",
       "    .dataframe thead th {\n",
       "        text-align: right;\n",
       "    }\n",
       "</style>\n",
       "<table border=\"1\" class=\"dataframe\">\n",
       "  <thead>\n",
       "    <tr style=\"text-align: right;\">\n",
       "      <th></th>\n",
       "      <th>math score</th>\n",
       "      <th>reading score</th>\n",
       "      <th>writing score</th>\n",
       "      <th>id_student</th>\n",
       "      <th>Year</th>\n",
       "      <th>Age</th>\n",
       "    </tr>\n",
       "  </thead>\n",
       "  <tbody>\n",
       "    <tr>\n",
       "      <th>count</th>\n",
       "      <td>951.000000</td>\n",
       "      <td>951.000000</td>\n",
       "      <td>951.000000</td>\n",
       "      <td>951.000000</td>\n",
       "      <td>951.0</td>\n",
       "      <td>951.000000</td>\n",
       "    </tr>\n",
       "    <tr>\n",
       "      <th>mean</th>\n",
       "      <td>66.203996</td>\n",
       "      <td>64.705573</td>\n",
       "      <td>69.929548</td>\n",
       "      <td>1497.451104</td>\n",
       "      <td>2023.0</td>\n",
       "      <td>15.496100</td>\n",
       "    </tr>\n",
       "    <tr>\n",
       "      <th>std</th>\n",
       "      <td>15.438790</td>\n",
       "      <td>19.012228</td>\n",
       "      <td>19.146259</td>\n",
       "      <td>289.515765</td>\n",
       "      <td>0.0</td>\n",
       "      <td>1.113665</td>\n",
       "    </tr>\n",
       "    <tr>\n",
       "      <th>min</th>\n",
       "      <td>13.000000</td>\n",
       "      <td>15.000000</td>\n",
       "      <td>23.000000</td>\n",
       "      <td>1000.000000</td>\n",
       "      <td>2023.0</td>\n",
       "      <td>14.000000</td>\n",
       "    </tr>\n",
       "    <tr>\n",
       "      <th>25%</th>\n",
       "      <td>55.000000</td>\n",
       "      <td>53.000000</td>\n",
       "      <td>57.000000</td>\n",
       "      <td>1248.500000</td>\n",
       "      <td>2023.0</td>\n",
       "      <td>14.000000</td>\n",
       "    </tr>\n",
       "    <tr>\n",
       "      <th>50%</th>\n",
       "      <td>66.000000</td>\n",
       "      <td>67.000000</td>\n",
       "      <td>67.000000</td>\n",
       "      <td>1502.000000</td>\n",
       "      <td>2023.0</td>\n",
       "      <td>15.496629</td>\n",
       "    </tr>\n",
       "    <tr>\n",
       "      <th>75%</th>\n",
       "      <td>77.000000</td>\n",
       "      <td>78.000000</td>\n",
       "      <td>79.000000</td>\n",
       "      <td>1746.500000</td>\n",
       "      <td>2023.0</td>\n",
       "      <td>16.000000</td>\n",
       "    </tr>\n",
       "    <tr>\n",
       "      <th>max</th>\n",
       "      <td>100.000000</td>\n",
       "      <td>100.000000</td>\n",
       "      <td>100.000000</td>\n",
       "      <td>1999.000000</td>\n",
       "      <td>2023.0</td>\n",
       "      <td>17.000000</td>\n",
       "    </tr>\n",
       "  </tbody>\n",
       "</table>\n",
       "</div>"
      ],
      "text/plain": [
       "       math score  reading score  writing score   id_student    Year  \\\n",
       "count  951.000000     951.000000     951.000000   951.000000   951.0   \n",
       "mean    66.203996      64.705573      69.929548  1497.451104  2023.0   \n",
       "std     15.438790      19.012228      19.146259   289.515765     0.0   \n",
       "min     13.000000      15.000000      23.000000  1000.000000  2023.0   \n",
       "25%     55.000000      53.000000      57.000000  1248.500000  2023.0   \n",
       "50%     66.000000      67.000000      67.000000  1502.000000  2023.0   \n",
       "75%     77.000000      78.000000      79.000000  1746.500000  2023.0   \n",
       "max    100.000000     100.000000     100.000000  1999.000000  2023.0   \n",
       "\n",
       "              Age  \n",
       "count  951.000000  \n",
       "mean    15.496100  \n",
       "std      1.113665  \n",
       "min     14.000000  \n",
       "25%     14.000000  \n",
       "50%     15.496629  \n",
       "75%     16.000000  \n",
       "max     17.000000  "
      ]
     },
     "execution_count": 57,
     "metadata": {},
     "output_type": "execute_result"
    }
   ],
   "source": [
    "df.describe()"
   ]
  },
  {
   "cell_type": "code",
   "execution_count": 58,
   "id": "aaede802",
   "metadata": {},
   "outputs": [
    {
     "data": {
      "text/plain": [
       "race/ethnicity\n",
       "group A    [67, 62, 33, 78, 40, 68, 77, 56, 43, 73, 46, 6...\n",
       "group B    [77, 58, 71, 44, 74, 87, 65, 79, 67, 58, 54, 7...\n",
       "group C    [47, 74, 54, 23, 39, 83, 58, 51, 53, 57, 58, 6...\n",
       "group D    [40, 63, 63, 77, 68, 57, 88, 42, 76, 83, 47, 7...\n",
       "group E    [59, 78, 93, 99, 81, 69, 46, 98, 87, 100, 65, ...\n",
       "dtype: object"
      ]
     },
     "execution_count": 58,
     "metadata": {},
     "output_type": "execute_result"
    }
   ],
   "source": [
    "df.groupby('race/ethnicity').apply(lambda x : x['math score'].tolist())"
   ]
  },
  {
   "cell_type": "markdown",
   "id": "6d2822ca",
   "metadata": {},
   "source": [
    "## 3. Numerical EDA "
   ]
  },
  {
   "cell_type": "markdown",
   "id": "913bc3e7",
   "metadata": {},
   "source": [
    "### A. Distributions"
   ]
  },
  {
   "cell_type": "code",
   "execution_count": 59,
   "id": "aab8fe75",
   "metadata": {},
   "outputs": [
    {
     "data": {
      "image/png": "[encoded data removed]",
      "text/plain": [
       "<Figure size 1080x360 with 3 Axes>"
      ]
     },
     "metadata": {
      "needs_background": "light"
     },
     "output_type": "display_data"
    }
   ],
   "source": [
    "#Start Figure\n",
    "fig, (ax1, ax2, ax3) = plt.subplots(nrows=1, ncols=3, figsize=(15, 5)) \n",
    "\n",
    "#Body of the figure to build and the data to use\n",
    "sns.histplot(x=df['math score'], ax=ax1)\n",
    "sns.histplot(x=df['writing score'], ax=ax2)\n",
    "sns.histplot(x=df['reading score'], ax=ax3)\n",
    "\n",
    "#Save or show\n",
    "plt.show()"
   ]
  },
  {
   "cell_type": "markdown",
   "id": "5ed99e88",
   "metadata": {},
   "source": [
    "### B. Univariate Analysis"
   ]
  },
  {
   "cell_type": "code",
   "execution_count": 60,
   "id": "174168e7",
   "metadata": {},
   "outputs": [
    {
     "data": {
      "image/png": "[encoded data removed]",
      "text/plain": [
       "<Figure size 360x360 with 1 Axes>"
      ]
     },
     "metadata": {
      "needs_background": "light"
     },
     "output_type": "display_data"
    }
   ],
   "source": [
    "#Start Figure\n",
    "fig, ax = plt.subplots(figsize=(5, 5)) \n",
    "\n",
    "#Body of the figure to build and the data to use\n",
    "sns.boxplot(x=df['math score'])\n",
    "\n",
    "#Save or show\n",
    "plt.show()"
   ]
  },
  {
   "cell_type": "markdown",
   "id": "68732570",
   "metadata": {},
   "source": [
    "### C. Bivariate analysis (Categorical + Numerical)"
   ]
  },
  {
   "cell_type": "code",
   "execution_count": 62,
   "id": "31032cfe",
   "metadata": {},
   "outputs": [
    {
     "data": {
      "image/png": "[encoded data removed]",
      "text/plain": [
       "<Figure size 360x360 with 1 Axes>"
      ]
     },
     "metadata": {
      "needs_background": "light"
     },
     "output_type": "display_data"
    }
   ],
   "source": [
    "fig, ax = plt.subplots(figsize=(5, 5)) \n",
    "sns.boxplot(x=df['math score'], y=df['gender'])\n",
    "plt.show()"
   ]
  },
  {
   "cell_type": "code",
   "execution_count": 72,
   "id": "ecbbfe8c",
   "metadata": {},
   "outputs": [
    {
     "data": {
      "image/png": "[encoded data removed]",
      "text/plain": [
       "<Figure size 360x360 with 1 Axes>"
      ]
     },
     "metadata": {
      "needs_background": "light"
     },
     "output_type": "display_data"
    }
   ],
   "source": [
    "#Start Figure\n",
    "fig, ax = plt.subplots(figsize=(5, 5)) \n",
    "\n",
    "#Body of the figure to build and the data to use\n",
    "sns.boxplot(x=df['math score'], y=df['race/ethnicity'])\n",
    "\n",
    "#Change Axes\n",
    "\n",
    "\n",
    "#Save or show\n",
    "plt.show()"
   ]
  },
  {
   "cell_type": "code",
   "execution_count": 74,
   "id": "09028bed",
   "metadata": {},
   "outputs": [
    {
     "data": {
      "image/png": "[encoded data removed]",
      "text/plain": [
       "<Figure size 360x360 with 1 Axes>"
      ]
     },
     "metadata": {
      "needs_background": "light"
     },
     "output_type": "display_data"
    }
   ],
   "source": [
    "#Start Figure\n",
    "fig, ax = plt.subplots(figsize=(5, 5)) \n",
    "\n",
    "#Body of the figure to build and the data to use\n",
    "sns.boxplot(x=df['math score'], y=df['race/ethnicity'], hue=df['gender'])\n",
    "\n",
    "#Save or show\n",
    "plt.show()"
   ]
  },
  {
   "cell_type": "code",
   "execution_count": 35,
   "id": "90cc8172",
   "metadata": {},
   "outputs": [
    {
     "data": {
      "text/html": [
       "<div>\n",
       "<style scoped>\n",
       "    .dataframe tbody tr th:only-of-type {\n",
       "        vertical-align: middle;\n",
       "    }\n",
       "\n",
       "    .dataframe tbody tr th {\n",
       "        vertical-align: top;\n",
       "    }\n",
       "\n",
       "    .dataframe thead th {\n",
       "        text-align: right;\n",
       "    }\n",
       "</style>\n",
       "<table border=\"1\" class=\"dataframe\">\n",
       "  <thead>\n",
       "    <tr style=\"text-align: right;\">\n",
       "      <th></th>\n",
       "      <th>variable</th>\n",
       "      <th>value</th>\n",
       "    </tr>\n",
       "  </thead>\n",
       "  <tbody>\n",
       "    <tr>\n",
       "      <th>0</th>\n",
       "      <td>math score</td>\n",
       "      <td>67</td>\n",
       "    </tr>\n",
       "    <tr>\n",
       "      <th>1</th>\n",
       "      <td>math score</td>\n",
       "      <td>40</td>\n",
       "    </tr>\n",
       "    <tr>\n",
       "      <th>2</th>\n",
       "      <td>math score</td>\n",
       "      <td>59</td>\n",
       "    </tr>\n",
       "    <tr>\n",
       "      <th>3</th>\n",
       "      <td>math score</td>\n",
       "      <td>77</td>\n",
       "    </tr>\n",
       "    <tr>\n",
       "      <th>4</th>\n",
       "      <td>math score</td>\n",
       "      <td>78</td>\n",
       "    </tr>\n",
       "    <tr>\n",
       "      <th>...</th>\n",
       "      <td>...</td>\n",
       "      <td>...</td>\n",
       "    </tr>\n",
       "    <tr>\n",
       "      <th>2848</th>\n",
       "      <td>reading score</td>\n",
       "      <td>77</td>\n",
       "    </tr>\n",
       "    <tr>\n",
       "      <th>2849</th>\n",
       "      <td>reading score</td>\n",
       "      <td>59</td>\n",
       "    </tr>\n",
       "    <tr>\n",
       "      <th>2850</th>\n",
       "      <td>reading score</td>\n",
       "      <td>88</td>\n",
       "    </tr>\n",
       "    <tr>\n",
       "      <th>2851</th>\n",
       "      <td>reading score</td>\n",
       "      <td>56</td>\n",
       "    </tr>\n",
       "    <tr>\n",
       "      <th>2852</th>\n",
       "      <td>reading score</td>\n",
       "      <td>42</td>\n",
       "    </tr>\n",
       "  </tbody>\n",
       "</table>\n",
       "<p>2853 rows × 2 columns</p>\n",
       "</div>"
      ],
      "text/plain": [
       "           variable  value\n",
       "0        math score     67\n",
       "1        math score     40\n",
       "2        math score     59\n",
       "3        math score     77\n",
       "4        math score     78\n",
       "...             ...    ...\n",
       "2848  reading score     77\n",
       "2849  reading score     59\n",
       "2850  reading score     88\n",
       "2851  reading score     56\n",
       "2852  reading score     42\n",
       "\n",
       "[2853 rows x 2 columns]"
      ]
     },
     "execution_count": 35,
     "metadata": {},
     "output_type": "execute_result"
    }
   ],
   "source": [
    "pd.melt(df[['math score', 'writing score', 'reading score']])"
   ]
  },
  {
   "cell_type": "code",
   "execution_count": 28,
   "id": "a3ccc000",
   "metadata": {},
   "outputs": [
    {
     "data": {
      "image/png": "[encoded data removed]",
      "text/plain": [
       "<Figure size 360x360 with 1 Axes>"
      ]
     },
     "metadata": {
      "needs_background": "light"
     },
     "output_type": "display_data"
    }
   ],
   "source": [
    "#Start Figure\n",
    "fig, ax = plt.subplots(figsize=(5, 5)) \n",
    "\n",
    "#Body of the figure to build and the data to use\n",
    "sns.boxplot(x=\"value\", y=\"variable\", data=pd.melt(df[['math score', 'writing score', 'reading score']]))\n",
    "\n",
    "#Change Axes\n",
    "ax.set_xlabel(\"Exam Scores\", fontsize=16)\n",
    "ax.set_ylabel(\"Students\", fontsize=16)\n",
    "ax.spines['top'].set_visible(False)\n",
    "ax.spines['right'].set_visible(False)\n",
    "\n",
    "#Save or show\n",
    "plt.show()"
   ]
  },
  {
   "cell_type": "code",
   "execution_count": 29,
   "id": "09063c67",
   "metadata": {},
   "outputs": [
    {
     "data": {
      "image/png": "[encoded data removed]",
      "text/plain": [
       "<Figure size 1440x360 with 3 Axes>"
      ]
     },
     "metadata": {
      "needs_background": "light"
     },
     "output_type": "display_data"
    }
   ],
   "source": [
    "#Start Figure\n",
    "fig, (ax1, ax2, ax3) = plt.subplots(nrows=1, ncols=3, figsize=(20, 5)) \n",
    "\n",
    "#Body of the figure to build and the data to use\n",
    "sns.boxplot(x=df['math score'], y=df['gender'], ax=ax1)\n",
    "sns.boxplot(x=df['writing score'], y=df['gender'], ax=ax2)\n",
    "sns.boxplot(x=df['reading score'], y=df['gender'], ax=ax3)\n",
    "\n",
    "\n",
    "#Save or show\n",
    "plt.show()"
   ]
  },
  {
   "cell_type": "markdown",
   "id": "81bb5579",
   "metadata": {},
   "source": [
    "### D. Multivariate Analysis"
   ]
  },
  {
   "cell_type": "code",
   "execution_count": 30,
   "id": "37bdc604",
   "metadata": {},
   "outputs": [
    {
     "data": {
      "image/png": "[encoded data removed]",
      "text/plain": [
       "<Figure size 864x576 with 2 Axes>"
      ]
     },
     "metadata": {
      "needs_background": "light"
     },
     "output_type": "display_data"
    }
   ],
   "source": [
    "corr = df.corr()\n",
    "kot = corr[corr>=0]\n",
    "plt.figure(figsize=(12,8))\n",
    "sns.heatmap(kot, cmap=\"Blues\")\n",
    "plt.show()"
   ]
  },
  {
   "cell_type": "code",
   "execution_count": 31,
   "id": "833fe586",
   "metadata": {},
   "outputs": [],
   "source": [
    "def cramers_corrected_stat(confusion_matrix):\n",
    "    \"\"\" calculate Cramers V statistic for categorical-categorical association.\n",
    "        uses correction from Bergsma and Wicher, \n",
    "        Journal of the Korean Statistical Society 42 (2013): 323-328\n",
    "    \"\"\"\n",
    "    chi2 = ss.chi2_contingency(confusion_matrix)[0]\n",
    "    n = confusion_matrix.sum().sum()\n",
    "    phi2 = chi2/n\n",
    "    r,k = confusion_matrix.shape\n",
    "    phi2corr = max(0, phi2 - ((k-1)*(r-1))/(n-1))    \n",
    "    rcorr = r - ((r-1)**2)/(n-1)\n",
    "    kcorr = k - ((k-1)**2)/(n-1)\n",
    "    return np.sqrt(phi2corr / min( (kcorr-1), (rcorr-1)))"
   ]
  },
  {
   "cell_type": "code",
   "execution_count": 32,
   "id": "9e8f2a4f",
   "metadata": {},
   "outputs": [],
   "source": [
    "import numpy as np\n",
    "import scipy.stats as ss\n",
    "import itertools"
   ]
  },
  {
   "cell_type": "code",
   "execution_count": 33,
   "id": "361d798f",
   "metadata": {},
   "outputs": [],
   "source": [
    "cols = ['gender', 'race/ethnicity', 'parental level of education', 'lunch',\n",
    "       'test preparation course']\n",
    "corrM = np.zeros((len(cols),len(cols)))\n",
    "# there's probably a nice pandas way to do this\n",
    "for col1, col2 in itertools.combinations(cols, 2):\n",
    "    idx1, idx2 = cols.index(col1), cols.index(col2)\n",
    "    corrM[idx1, idx2] = cramers_corrected_stat(pd.crosstab(df[col1], df[col2]))\n",
    "    corrM[idx2, idx1] = corrM[idx1, idx2]"
   ]
  },
  {
   "cell_type": "code",
   "execution_count": 34,
   "id": "ba777145",
   "metadata": {},
   "outputs": [
    {
     "data": {
      "image/png": "[encoded data removed]",
      "text/plain": [
       "<Figure size 504x432 with 2 Axes>"
      ]
     },
     "metadata": {
      "needs_background": "light"
     },
     "output_type": "display_data"
    }
   ],
   "source": [
    "corr = pd.DataFrame(corrM, index=cols, columns=cols)\n",
    "fig, ax = plt.subplots(figsize=(7, 6))\n",
    "ax = sns.heatmap(corr, annot=True, ax=ax); ax.set_title(\"Cramer V Correlation between Variables\");"
   ]
  },
  {
   "cell_type": "code",
   "execution_count": null,
   "id": "eb18d1a6",
   "metadata": {},
   "outputs": [],
   "source": []
  }
 ],
 "metadata": {
  "kernelspec": {
   "display_name": "Python 3 (ipykernel)",
   "language": "python",
   "name": "python3"
  },
  "language_info": {
   "codemirror_mode": {
    "name": "ipython",
    "version": 3
   },
   "file_extension": ".py",
   "mimetype": "text/x-python",
   "name": "python",
   "nbconvert_exporter": "python",
   "pygments_lexer": "ipython3",
   "version": "3.8.13"
  },
  "vscode": {
   "interpreter": {
    "hash": "f99870d41f89de6663c44a176b1ad482723d9db25c74ce58ecbdae013322446e"
   }
  }
 },
 "nbformat": 4,
 "nbformat_minor": 5
}
