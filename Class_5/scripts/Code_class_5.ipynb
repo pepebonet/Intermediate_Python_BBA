{
 "cells": [
  {
   "cell_type": "markdown",
   "id": "d6c9e5ce",
   "metadata": {},
   "source": [
    "# Class 5. Intermediate Python & AI "
   ]
  },
  {
   "cell_type": "markdown",
   "id": "563c90a7",
   "metadata": {},
   "source": [
    "# Intro to ML with Python. Linear regression"
   ]
  },
  {
   "cell_type": "markdown",
   "id": "b94e1980",
   "metadata": {},
   "source": [
    "### Table of contents\n",
    "\n",
    "0. Normalization and functions\n",
    "1. Build train test set\n",
    "2. Linear regression model"
   ]
  },
  {
   "cell_type": "code",
   "execution_count": 63,
   "id": "aa074ebe",
   "metadata": {},
   "outputs": [],
   "source": [
    "import pandas as pd\n",
    "from sklearn.model_selection import train_test_split"
   ]
  },
  {
   "cell_type": "code",
   "execution_count": 111,
   "id": "da984911",
   "metadata": {},
   "outputs": [],
   "source": [
    "df = pd.read_csv('../../datasets/exams_mod_cleaned.csv')"
   ]
  },
  {
   "cell_type": "code",
   "execution_count": 112,
   "id": "bca97823",
   "metadata": {},
   "outputs": [
    {
     "data": {
      "text/html": [
       "<div>\n",
       "<style scoped>\n",
       "    .dataframe tbody tr th:only-of-type {\n",
       "        vertical-align: middle;\n",
       "    }\n",
       "\n",
       "    .dataframe tbody tr th {\n",
       "        vertical-align: top;\n",
       "    }\n",
       "\n",
       "    .dataframe thead th {\n",
       "        text-align: right;\n",
       "    }\n",
       "</style>\n",
       "<table border=\"1\" class=\"dataframe\">\n",
       "  <thead>\n",
       "    <tr style=\"text-align: right;\">\n",
       "      <th></th>\n",
       "      <th>gender</th>\n",
       "      <th>race/ethnicity</th>\n",
       "      <th>parental level of education</th>\n",
       "      <th>lunch</th>\n",
       "      <th>test preparation course</th>\n",
       "      <th>math score</th>\n",
       "      <th>reading score</th>\n",
       "      <th>writing score</th>\n",
       "      <th>id_student</th>\n",
       "      <th>Year</th>\n",
       "      <th>Age</th>\n",
       "    </tr>\n",
       "  </thead>\n",
       "  <tbody>\n",
       "    <tr>\n",
       "      <th>0</th>\n",
       "      <td>male</td>\n",
       "      <td>group A</td>\n",
       "      <td>high school</td>\n",
       "      <td>standard</td>\n",
       "      <td>completed</td>\n",
       "      <td>67</td>\n",
       "      <td>67</td>\n",
       "      <td>63</td>\n",
       "      <td>1000</td>\n",
       "      <td>2023</td>\n",
       "      <td>14.0</td>\n",
       "    </tr>\n",
       "    <tr>\n",
       "      <th>1</th>\n",
       "      <td>female</td>\n",
       "      <td>group D</td>\n",
       "      <td>high school</td>\n",
       "      <td>free/reduced</td>\n",
       "      <td>none</td>\n",
       "      <td>40</td>\n",
       "      <td>29</td>\n",
       "      <td>55</td>\n",
       "      <td>1001</td>\n",
       "      <td>2023</td>\n",
       "      <td>17.0</td>\n",
       "    </tr>\n",
       "    <tr>\n",
       "      <th>2</th>\n",
       "      <td>male</td>\n",
       "      <td>group E</td>\n",
       "      <td>some college</td>\n",
       "      <td>free/reduced</td>\n",
       "      <td>none</td>\n",
       "      <td>59</td>\n",
       "      <td>60</td>\n",
       "      <td>50</td>\n",
       "      <td>1002</td>\n",
       "      <td>2023</td>\n",
       "      <td>14.0</td>\n",
       "    </tr>\n",
       "    <tr>\n",
       "      <th>3</th>\n",
       "      <td>male</td>\n",
       "      <td>group B</td>\n",
       "      <td>high school</td>\n",
       "      <td>standard</td>\n",
       "      <td>none</td>\n",
       "      <td>77</td>\n",
       "      <td>78</td>\n",
       "      <td>68</td>\n",
       "      <td>1003</td>\n",
       "      <td>2023</td>\n",
       "      <td>17.0</td>\n",
       "    </tr>\n",
       "    <tr>\n",
       "      <th>4</th>\n",
       "      <td>male</td>\n",
       "      <td>group E</td>\n",
       "      <td>associate's degree</td>\n",
       "      <td>standard</td>\n",
       "      <td>completed</td>\n",
       "      <td>78</td>\n",
       "      <td>73</td>\n",
       "      <td>68</td>\n",
       "      <td>1004</td>\n",
       "      <td>2023</td>\n",
       "      <td>16.0</td>\n",
       "    </tr>\n",
       "  </tbody>\n",
       "</table>\n",
       "</div>"
      ],
      "text/plain": [
       "   gender race/ethnicity parental level of education         lunch  \\\n",
       "0    male        group A                 high school      standard   \n",
       "1  female        group D                 high school  free/reduced   \n",
       "2    male        group E                some college  free/reduced   \n",
       "3    male        group B                 high school      standard   \n",
       "4    male        group E          associate's degree      standard   \n",
       "\n",
       "  test preparation course  math score  reading score  writing score  \\\n",
       "0               completed          67             67             63   \n",
       "1                    none          40             29             55   \n",
       "2                    none          59             60             50   \n",
       "3                    none          77             78             68   \n",
       "4               completed          78             73             68   \n",
       "\n",
       "   id_student  Year   Age  \n",
       "0        1000  2023  14.0  \n",
       "1        1001  2023  17.0  \n",
       "2        1002  2023  14.0  \n",
       "3        1003  2023  17.0  \n",
       "4        1004  2023  16.0  "
      ]
     },
     "execution_count": 112,
     "metadata": {},
     "output_type": "execute_result"
    }
   ],
   "source": [
    "df.head()"
   ]
  },
  {
   "cell_type": "code",
   "execution_count": 113,
   "id": "5747e3d3",
   "metadata": {},
   "outputs": [
    {
     "data": {
      "text/plain": [
       "Index(['gender', 'race/ethnicity', 'parental level of education', 'lunch',\n",
       "       'test preparation course', 'math score', 'reading score',\n",
       "       'writing score', 'id_student', 'Year', 'Age'],\n",
       "      dtype='object')"
      ]
     },
     "execution_count": 113,
     "metadata": {},
     "output_type": "execute_result"
    }
   ],
   "source": [
    "df.columns"
   ]
  },
  {
   "cell_type": "code",
   "execution_count": 66,
   "id": "233d2ea6",
   "metadata": {},
   "outputs": [
    {
     "data": {
      "text/plain": [
       "(951, 11)"
      ]
     },
     "execution_count": 66,
     "metadata": {},
     "output_type": "execute_result"
    }
   ],
   "source": [
    "df.shape"
   ]
  },
  {
   "cell_type": "markdown",
   "id": "c900110e",
   "metadata": {},
   "source": [
    "# 0. Normalization, Functions and more"
   ]
  },
  {
   "cell_type": "code",
   "execution_count": 67,
   "id": "b271287a",
   "metadata": {},
   "outputs": [
    {
     "data": {
      "text/html": [
       "<div>\n",
       "<style scoped>\n",
       "    .dataframe tbody tr th:only-of-type {\n",
       "        vertical-align: middle;\n",
       "    }\n",
       "\n",
       "    .dataframe tbody tr th {\n",
       "        vertical-align: top;\n",
       "    }\n",
       "\n",
       "    .dataframe thead th {\n",
       "        text-align: right;\n",
       "    }\n",
       "</style>\n",
       "<table border=\"1\" class=\"dataframe\">\n",
       "  <thead>\n",
       "    <tr style=\"text-align: right;\">\n",
       "      <th></th>\n",
       "      <th>math score</th>\n",
       "      <th>reading score</th>\n",
       "      <th>writing score</th>\n",
       "      <th>id_student</th>\n",
       "      <th>Year</th>\n",
       "      <th>Age</th>\n",
       "      <th>gender_male</th>\n",
       "      <th>race/ethnicity_group B</th>\n",
       "      <th>race/ethnicity_group C</th>\n",
       "      <th>race/ethnicity_group D</th>\n",
       "      <th>race/ethnicity_group E</th>\n",
       "      <th>parental level of education_bachelor's degree</th>\n",
       "      <th>parental level of education_high school</th>\n",
       "      <th>parental level of education_master's degree</th>\n",
       "      <th>parental level of education_some college</th>\n",
       "      <th>lunch_standard</th>\n",
       "      <th>test preparation course_none</th>\n",
       "    </tr>\n",
       "  </thead>\n",
       "  <tbody>\n",
       "    <tr>\n",
       "      <th>0</th>\n",
       "      <td>67</td>\n",
       "      <td>67</td>\n",
       "      <td>63</td>\n",
       "      <td>1000</td>\n",
       "      <td>2023</td>\n",
       "      <td>14.0</td>\n",
       "      <td>1</td>\n",
       "      <td>0</td>\n",
       "      <td>0</td>\n",
       "      <td>0</td>\n",
       "      <td>0</td>\n",
       "      <td>0</td>\n",
       "      <td>1</td>\n",
       "      <td>0</td>\n",
       "      <td>0</td>\n",
       "      <td>1</td>\n",
       "      <td>0</td>\n",
       "    </tr>\n",
       "    <tr>\n",
       "      <th>1</th>\n",
       "      <td>40</td>\n",
       "      <td>29</td>\n",
       "      <td>55</td>\n",
       "      <td>1001</td>\n",
       "      <td>2023</td>\n",
       "      <td>17.0</td>\n",
       "      <td>0</td>\n",
       "      <td>0</td>\n",
       "      <td>0</td>\n",
       "      <td>1</td>\n",
       "      <td>0</td>\n",
       "      <td>0</td>\n",
       "      <td>1</td>\n",
       "      <td>0</td>\n",
       "      <td>0</td>\n",
       "      <td>0</td>\n",
       "      <td>1</td>\n",
       "    </tr>\n",
       "    <tr>\n",
       "      <th>2</th>\n",
       "      <td>59</td>\n",
       "      <td>60</td>\n",
       "      <td>50</td>\n",
       "      <td>1002</td>\n",
       "      <td>2023</td>\n",
       "      <td>14.0</td>\n",
       "      <td>1</td>\n",
       "      <td>0</td>\n",
       "      <td>0</td>\n",
       "      <td>0</td>\n",
       "      <td>1</td>\n",
       "      <td>0</td>\n",
       "      <td>0</td>\n",
       "      <td>0</td>\n",
       "      <td>1</td>\n",
       "      <td>0</td>\n",
       "      <td>1</td>\n",
       "    </tr>\n",
       "    <tr>\n",
       "      <th>3</th>\n",
       "      <td>77</td>\n",
       "      <td>78</td>\n",
       "      <td>68</td>\n",
       "      <td>1003</td>\n",
       "      <td>2023</td>\n",
       "      <td>17.0</td>\n",
       "      <td>1</td>\n",
       "      <td>1</td>\n",
       "      <td>0</td>\n",
       "      <td>0</td>\n",
       "      <td>0</td>\n",
       "      <td>0</td>\n",
       "      <td>1</td>\n",
       "      <td>0</td>\n",
       "      <td>0</td>\n",
       "      <td>1</td>\n",
       "      <td>1</td>\n",
       "    </tr>\n",
       "    <tr>\n",
       "      <th>4</th>\n",
       "      <td>78</td>\n",
       "      <td>73</td>\n",
       "      <td>68</td>\n",
       "      <td>1004</td>\n",
       "      <td>2023</td>\n",
       "      <td>16.0</td>\n",
       "      <td>1</td>\n",
       "      <td>0</td>\n",
       "      <td>0</td>\n",
       "      <td>0</td>\n",
       "      <td>1</td>\n",
       "      <td>0</td>\n",
       "      <td>0</td>\n",
       "      <td>0</td>\n",
       "      <td>0</td>\n",
       "      <td>1</td>\n",
       "      <td>0</td>\n",
       "    </tr>\n",
       "  </tbody>\n",
       "</table>\n",
       "</div>"
      ],
      "text/plain": [
       "   math score  reading score  writing score  id_student  Year   Age  \\\n",
       "0          67             67             63        1000  2023  14.0   \n",
       "1          40             29             55        1001  2023  17.0   \n",
       "2          59             60             50        1002  2023  14.0   \n",
       "3          77             78             68        1003  2023  17.0   \n",
       "4          78             73             68        1004  2023  16.0   \n",
       "\n",
       "   gender_male  race/ethnicity_group B  race/ethnicity_group C  \\\n",
       "0            1                       0                       0   \n",
       "1            0                       0                       0   \n",
       "2            1                       0                       0   \n",
       "3            1                       1                       0   \n",
       "4            1                       0                       0   \n",
       "\n",
       "   race/ethnicity_group D  race/ethnicity_group E  \\\n",
       "0                       0                       0   \n",
       "1                       1                       0   \n",
       "2                       0                       1   \n",
       "3                       0                       0   \n",
       "4                       0                       1   \n",
       "\n",
       "   parental level of education_bachelor's degree  \\\n",
       "0                                              0   \n",
       "1                                              0   \n",
       "2                                              0   \n",
       "3                                              0   \n",
       "4                                              0   \n",
       "\n",
       "   parental level of education_high school  \\\n",
       "0                                        1   \n",
       "1                                        1   \n",
       "2                                        0   \n",
       "3                                        1   \n",
       "4                                        0   \n",
       "\n",
       "   parental level of education_master's degree  \\\n",
       "0                                            0   \n",
       "1                                            0   \n",
       "2                                            0   \n",
       "3                                            0   \n",
       "4                                            0   \n",
       "\n",
       "   parental level of education_some college  lunch_standard  \\\n",
       "0                                         0               1   \n",
       "1                                         0               0   \n",
       "2                                         1               0   \n",
       "3                                         0               1   \n",
       "4                                         0               1   \n",
       "\n",
       "   test preparation course_none  \n",
       "0                             0  \n",
       "1                             1  \n",
       "2                             1  \n",
       "3                             1  \n",
       "4                             0  "
      ]
     },
     "execution_count": 67,
     "metadata": {},
     "output_type": "execute_result"
    }
   ],
   "source": [
    "data = pd.get_dummies(\n",
    "        df, columns=['gender', 'race/ethnicity', \n",
    "     'parental level of education', 'lunch', 'test preparation course'], \n",
    "drop_first=True)\n",
    "data.head()"
   ]
  },
  {
   "cell_type": "code",
   "execution_count": 68,
   "id": "3718d2c5",
   "metadata": {},
   "outputs": [
    {
     "data": {
      "text/plain": [
       "Index(['math score', 'reading score', 'writing score', 'id_student', 'Year',\n",
       "       'Age', 'gender_male', 'race/ethnicity_group B',\n",
       "       'race/ethnicity_group C', 'race/ethnicity_group D',\n",
       "       'race/ethnicity_group E',\n",
       "       'parental level of education_bachelor's degree',\n",
       "       'parental level of education_high school',\n",
       "       'parental level of education_master's degree',\n",
       "       'parental level of education_some college', 'lunch_standard',\n",
       "       'test preparation course_none'],\n",
       "      dtype='object')"
      ]
     },
     "execution_count": 68,
     "metadata": {},
     "output_type": "execute_result"
    }
   ],
   "source": [
    "data.columns"
   ]
  },
  {
   "cell_type": "markdown",
   "id": "836b97ec",
   "metadata": {},
   "source": [
    "### Build the normalize function"
   ]
  },
  {
   "cell_type": "code",
   "execution_count": 69,
   "id": "30df44b8",
   "metadata": {},
   "outputs": [],
   "source": [
    "def normalize_column(df, column_name):\n",
    "    \n",
    "    # Get the minimum and maximum values of the column\n",
    "    min_value = df[column_name].min()\n",
    "    max_value = df[column_name].max()\n",
    "\n",
    "    # Normalize the column values to be in the range 0 to 1\n",
    "    df[column_name] = (df[column_name] - min_value) / (max_value - min_value)\n",
    "    \n",
    "    return df"
   ]
  },
  {
   "cell_type": "code",
   "execution_count": 70,
   "id": "404a694e",
   "metadata": {},
   "outputs": [
    {
     "data": {
      "text/html": [
       "<div>\n",
       "<style scoped>\n",
       "    .dataframe tbody tr th:only-of-type {\n",
       "        vertical-align: middle;\n",
       "    }\n",
       "\n",
       "    .dataframe tbody tr th {\n",
       "        vertical-align: top;\n",
       "    }\n",
       "\n",
       "    .dataframe thead th {\n",
       "        text-align: right;\n",
       "    }\n",
       "</style>\n",
       "<table border=\"1\" class=\"dataframe\">\n",
       "  <thead>\n",
       "    <tr style=\"text-align: right;\">\n",
       "      <th></th>\n",
       "      <th>reading score</th>\n",
       "      <th>writing score</th>\n",
       "    </tr>\n",
       "  </thead>\n",
       "  <tbody>\n",
       "    <tr>\n",
       "      <th>0</th>\n",
       "      <td>0.611765</td>\n",
       "      <td>0.519481</td>\n",
       "    </tr>\n",
       "    <tr>\n",
       "      <th>1</th>\n",
       "      <td>0.164706</td>\n",
       "      <td>0.415584</td>\n",
       "    </tr>\n",
       "    <tr>\n",
       "      <th>2</th>\n",
       "      <td>0.529412</td>\n",
       "      <td>0.350649</td>\n",
       "    </tr>\n",
       "    <tr>\n",
       "      <th>3</th>\n",
       "      <td>0.741176</td>\n",
       "      <td>0.584416</td>\n",
       "    </tr>\n",
       "    <tr>\n",
       "      <th>4</th>\n",
       "      <td>0.682353</td>\n",
       "      <td>0.584416</td>\n",
       "    </tr>\n",
       "  </tbody>\n",
       "</table>\n",
       "</div>"
      ],
      "text/plain": [
       "   reading score  writing score\n",
       "0       0.611765       0.519481\n",
       "1       0.164706       0.415584\n",
       "2       0.529412       0.350649\n",
       "3       0.741176       0.584416\n",
       "4       0.682353       0.584416"
      ]
     },
     "execution_count": 70,
     "metadata": {},
     "output_type": "execute_result"
    }
   ],
   "source": [
    "cols_to_norm = ['reading score', 'writing score']\n",
    "data_norm = normalize_column(data, cols_to_norm)\n",
    "data_norm[cols_to_norm].head()"
   ]
  },
  {
   "cell_type": "code",
   "execution_count": 71,
   "id": "6057133b",
   "metadata": {},
   "outputs": [],
   "source": [
    "def normalized_funct(X):\n",
    "    Xmin= X.min()\n",
    "    Xmax= X.max()\n",
    "    return (X-Xmin)/(Xmax-Xmin)"
   ]
  },
  {
   "cell_type": "code",
   "execution_count": 72,
   "id": "1fbc5bd0",
   "metadata": {},
   "outputs": [
    {
     "data": {
      "text/plain": [
       "0    0.611765\n",
       "1    0.164706\n",
       "2    0.529412\n",
       "3    0.741176\n",
       "4    0.682353\n",
       "Name: reading score, dtype: float64"
      ]
     },
     "execution_count": 72,
     "metadata": {},
     "output_type": "execute_result"
    }
   ],
   "source": [
    "normalized_funct(data['reading score']).head()"
   ]
  },
  {
   "cell_type": "code",
   "execution_count": 73,
   "id": "63843894",
   "metadata": {},
   "outputs": [
    {
     "data": {
      "text/html": [
       "<div>\n",
       "<style scoped>\n",
       "    .dataframe tbody tr th:only-of-type {\n",
       "        vertical-align: middle;\n",
       "    }\n",
       "\n",
       "    .dataframe tbody tr th {\n",
       "        vertical-align: top;\n",
       "    }\n",
       "\n",
       "    .dataframe thead th {\n",
       "        text-align: right;\n",
       "    }\n",
       "</style>\n",
       "<table border=\"1\" class=\"dataframe\">\n",
       "  <thead>\n",
       "    <tr style=\"text-align: right;\">\n",
       "      <th></th>\n",
       "      <th>reading score</th>\n",
       "      <th>writing score</th>\n",
       "    </tr>\n",
       "  </thead>\n",
       "  <tbody>\n",
       "    <tr>\n",
       "      <th>0</th>\n",
       "      <td>0.611765</td>\n",
       "      <td>0.519481</td>\n",
       "    </tr>\n",
       "    <tr>\n",
       "      <th>1</th>\n",
       "      <td>0.164706</td>\n",
       "      <td>0.415584</td>\n",
       "    </tr>\n",
       "    <tr>\n",
       "      <th>2</th>\n",
       "      <td>0.529412</td>\n",
       "      <td>0.350649</td>\n",
       "    </tr>\n",
       "    <tr>\n",
       "      <th>3</th>\n",
       "      <td>0.741176</td>\n",
       "      <td>0.584416</td>\n",
       "    </tr>\n",
       "    <tr>\n",
       "      <th>4</th>\n",
       "      <td>0.682353</td>\n",
       "      <td>0.584416</td>\n",
       "    </tr>\n",
       "  </tbody>\n",
       "</table>\n",
       "</div>"
      ],
      "text/plain": [
       "   reading score  writing score\n",
       "0       0.611765       0.519481\n",
       "1       0.164706       0.415584\n",
       "2       0.529412       0.350649\n",
       "3       0.741176       0.584416\n",
       "4       0.682353       0.584416"
      ]
     },
     "execution_count": 73,
     "metadata": {},
     "output_type": "execute_result"
    }
   ],
   "source": [
    "normalized_funct(data[cols_to_norm]).head()"
   ]
  },
  {
   "cell_type": "code",
   "execution_count": 74,
   "id": "b930f821",
   "metadata": {},
   "outputs": [
    {
     "data": {
      "text/html": [
       "<div>\n",
       "<style scoped>\n",
       "    .dataframe tbody tr th:only-of-type {\n",
       "        vertical-align: middle;\n",
       "    }\n",
       "\n",
       "    .dataframe tbody tr th {\n",
       "        vertical-align: top;\n",
       "    }\n",
       "\n",
       "    .dataframe thead th {\n",
       "        text-align: right;\n",
       "    }\n",
       "</style>\n",
       "<table border=\"1\" class=\"dataframe\">\n",
       "  <thead>\n",
       "    <tr style=\"text-align: right;\">\n",
       "      <th></th>\n",
       "      <th>math score</th>\n",
       "      <th>reading score</th>\n",
       "      <th>writing score</th>\n",
       "      <th>id_student</th>\n",
       "      <th>Year</th>\n",
       "      <th>Age</th>\n",
       "      <th>gender_male</th>\n",
       "      <th>race/ethnicity_group B</th>\n",
       "      <th>race/ethnicity_group C</th>\n",
       "      <th>race/ethnicity_group D</th>\n",
       "      <th>race/ethnicity_group E</th>\n",
       "      <th>parental level of education_bachelor's degree</th>\n",
       "      <th>parental level of education_high school</th>\n",
       "      <th>parental level of education_master's degree</th>\n",
       "      <th>parental level of education_some college</th>\n",
       "      <th>lunch_standard</th>\n",
       "      <th>test preparation course_none</th>\n",
       "    </tr>\n",
       "  </thead>\n",
       "  <tbody>\n",
       "    <tr>\n",
       "      <th>0</th>\n",
       "      <td>67</td>\n",
       "      <td>0.611765</td>\n",
       "      <td>0.519481</td>\n",
       "      <td>1000</td>\n",
       "      <td>2023</td>\n",
       "      <td>14.0</td>\n",
       "      <td>1</td>\n",
       "      <td>0</td>\n",
       "      <td>0</td>\n",
       "      <td>0</td>\n",
       "      <td>0</td>\n",
       "      <td>0</td>\n",
       "      <td>1</td>\n",
       "      <td>0</td>\n",
       "      <td>0</td>\n",
       "      <td>1</td>\n",
       "      <td>0</td>\n",
       "    </tr>\n",
       "    <tr>\n",
       "      <th>1</th>\n",
       "      <td>40</td>\n",
       "      <td>0.164706</td>\n",
       "      <td>0.415584</td>\n",
       "      <td>1001</td>\n",
       "      <td>2023</td>\n",
       "      <td>17.0</td>\n",
       "      <td>0</td>\n",
       "      <td>0</td>\n",
       "      <td>0</td>\n",
       "      <td>1</td>\n",
       "      <td>0</td>\n",
       "      <td>0</td>\n",
       "      <td>1</td>\n",
       "      <td>0</td>\n",
       "      <td>0</td>\n",
       "      <td>0</td>\n",
       "      <td>1</td>\n",
       "    </tr>\n",
       "    <tr>\n",
       "      <th>2</th>\n",
       "      <td>59</td>\n",
       "      <td>0.529412</td>\n",
       "      <td>0.350649</td>\n",
       "      <td>1002</td>\n",
       "      <td>2023</td>\n",
       "      <td>14.0</td>\n",
       "      <td>1</td>\n",
       "      <td>0</td>\n",
       "      <td>0</td>\n",
       "      <td>0</td>\n",
       "      <td>1</td>\n",
       "      <td>0</td>\n",
       "      <td>0</td>\n",
       "      <td>0</td>\n",
       "      <td>1</td>\n",
       "      <td>0</td>\n",
       "      <td>1</td>\n",
       "    </tr>\n",
       "    <tr>\n",
       "      <th>3</th>\n",
       "      <td>77</td>\n",
       "      <td>0.741176</td>\n",
       "      <td>0.584416</td>\n",
       "      <td>1003</td>\n",
       "      <td>2023</td>\n",
       "      <td>17.0</td>\n",
       "      <td>1</td>\n",
       "      <td>1</td>\n",
       "      <td>0</td>\n",
       "      <td>0</td>\n",
       "      <td>0</td>\n",
       "      <td>0</td>\n",
       "      <td>1</td>\n",
       "      <td>0</td>\n",
       "      <td>0</td>\n",
       "      <td>1</td>\n",
       "      <td>1</td>\n",
       "    </tr>\n",
       "    <tr>\n",
       "      <th>4</th>\n",
       "      <td>78</td>\n",
       "      <td>0.682353</td>\n",
       "      <td>0.584416</td>\n",
       "      <td>1004</td>\n",
       "      <td>2023</td>\n",
       "      <td>16.0</td>\n",
       "      <td>1</td>\n",
       "      <td>0</td>\n",
       "      <td>0</td>\n",
       "      <td>0</td>\n",
       "      <td>1</td>\n",
       "      <td>0</td>\n",
       "      <td>0</td>\n",
       "      <td>0</td>\n",
       "      <td>0</td>\n",
       "      <td>1</td>\n",
       "      <td>0</td>\n",
       "    </tr>\n",
       "  </tbody>\n",
       "</table>\n",
       "</div>"
      ],
      "text/plain": [
       "   math score  reading score  writing score  id_student  Year   Age  \\\n",
       "0          67       0.611765       0.519481        1000  2023  14.0   \n",
       "1          40       0.164706       0.415584        1001  2023  17.0   \n",
       "2          59       0.529412       0.350649        1002  2023  14.0   \n",
       "3          77       0.741176       0.584416        1003  2023  17.0   \n",
       "4          78       0.682353       0.584416        1004  2023  16.0   \n",
       "\n",
       "   gender_male  race/ethnicity_group B  race/ethnicity_group C  \\\n",
       "0            1                       0                       0   \n",
       "1            0                       0                       0   \n",
       "2            1                       0                       0   \n",
       "3            1                       1                       0   \n",
       "4            1                       0                       0   \n",
       "\n",
       "   race/ethnicity_group D  race/ethnicity_group E  \\\n",
       "0                       0                       0   \n",
       "1                       1                       0   \n",
       "2                       0                       1   \n",
       "3                       0                       0   \n",
       "4                       0                       1   \n",
       "\n",
       "   parental level of education_bachelor's degree  \\\n",
       "0                                              0   \n",
       "1                                              0   \n",
       "2                                              0   \n",
       "3                                              0   \n",
       "4                                              0   \n",
       "\n",
       "   parental level of education_high school  \\\n",
       "0                                        1   \n",
       "1                                        1   \n",
       "2                                        0   \n",
       "3                                        1   \n",
       "4                                        0   \n",
       "\n",
       "   parental level of education_master's degree  \\\n",
       "0                                            0   \n",
       "1                                            0   \n",
       "2                                            0   \n",
       "3                                            0   \n",
       "4                                            0   \n",
       "\n",
       "   parental level of education_some college  lunch_standard  \\\n",
       "0                                         0               1   \n",
       "1                                         0               0   \n",
       "2                                         1               0   \n",
       "3                                         0               1   \n",
       "4                                         0               1   \n",
       "\n",
       "   test preparation course_none  \n",
       "0                             0  \n",
       "1                             1  \n",
       "2                             1  \n",
       "3                             1  \n",
       "4                             0  "
      ]
     },
     "execution_count": 74,
     "metadata": {},
     "output_type": "execute_result"
    }
   ],
   "source": [
    "data.head()"
   ]
  },
  {
   "cell_type": "code",
   "execution_count": 75,
   "id": "e399aee3",
   "metadata": {},
   "outputs": [],
   "source": [
    "#import sikit\n",
    "from sklearn.preprocessing import MinMaxScaler"
   ]
  },
  {
   "cell_type": "code",
   "execution_count": 76,
   "id": "84a97319",
   "metadata": {},
   "outputs": [],
   "source": [
    "data[['read_minmax', 'write_minmax']] = MinMaxScaler().fit_transform(df[cols_to_norm])"
   ]
  },
  {
   "cell_type": "code",
   "execution_count": 77,
   "id": "8e8a8714",
   "metadata": {},
   "outputs": [
    {
     "data": {
      "text/html": [
       "<div>\n",
       "<style scoped>\n",
       "    .dataframe tbody tr th:only-of-type {\n",
       "        vertical-align: middle;\n",
       "    }\n",
       "\n",
       "    .dataframe tbody tr th {\n",
       "        vertical-align: top;\n",
       "    }\n",
       "\n",
       "    .dataframe thead th {\n",
       "        text-align: right;\n",
       "    }\n",
       "</style>\n",
       "<table border=\"1\" class=\"dataframe\">\n",
       "  <thead>\n",
       "    <tr style=\"text-align: right;\">\n",
       "      <th></th>\n",
       "      <th>reading score</th>\n",
       "      <th>writing score</th>\n",
       "      <th>read_minmax</th>\n",
       "      <th>write_minmax</th>\n",
       "    </tr>\n",
       "  </thead>\n",
       "  <tbody>\n",
       "    <tr>\n",
       "      <th>0</th>\n",
       "      <td>0.611765</td>\n",
       "      <td>0.519481</td>\n",
       "      <td>0.611765</td>\n",
       "      <td>0.519481</td>\n",
       "    </tr>\n",
       "    <tr>\n",
       "      <th>1</th>\n",
       "      <td>0.164706</td>\n",
       "      <td>0.415584</td>\n",
       "      <td>0.164706</td>\n",
       "      <td>0.415584</td>\n",
       "    </tr>\n",
       "    <tr>\n",
       "      <th>2</th>\n",
       "      <td>0.529412</td>\n",
       "      <td>0.350649</td>\n",
       "      <td>0.529412</td>\n",
       "      <td>0.350649</td>\n",
       "    </tr>\n",
       "    <tr>\n",
       "      <th>3</th>\n",
       "      <td>0.741176</td>\n",
       "      <td>0.584416</td>\n",
       "      <td>0.741176</td>\n",
       "      <td>0.584416</td>\n",
       "    </tr>\n",
       "    <tr>\n",
       "      <th>4</th>\n",
       "      <td>0.682353</td>\n",
       "      <td>0.584416</td>\n",
       "      <td>0.682353</td>\n",
       "      <td>0.584416</td>\n",
       "    </tr>\n",
       "  </tbody>\n",
       "</table>\n",
       "</div>"
      ],
      "text/plain": [
       "   reading score  writing score  read_minmax  write_minmax\n",
       "0       0.611765       0.519481     0.611765      0.519481\n",
       "1       0.164706       0.415584     0.164706      0.415584\n",
       "2       0.529412       0.350649     0.529412      0.350649\n",
       "3       0.741176       0.584416     0.741176      0.584416\n",
       "4       0.682353       0.584416     0.682353      0.584416"
      ]
     },
     "execution_count": 77,
     "metadata": {},
     "output_type": "execute_result"
    }
   ],
   "source": [
    "data[['reading score', 'writing score', 'read_minmax', 'write_minmax']].head()"
   ]
  },
  {
   "cell_type": "markdown",
   "id": "28eabc35",
   "metadata": {},
   "source": [
    "### Checking whether they are equal"
   ]
  },
  {
   "cell_type": "code",
   "execution_count": 78,
   "id": "f757ff89",
   "metadata": {},
   "outputs": [],
   "source": [
    "data = data.round(5)"
   ]
  },
  {
   "cell_type": "code",
   "execution_count": 79,
   "id": "f17e87bb",
   "metadata": {},
   "outputs": [
    {
     "data": {
      "text/plain": [
       "True"
      ]
     },
     "execution_count": 79,
     "metadata": {},
     "output_type": "execute_result"
    }
   ],
   "source": [
    "data['reading score'].equals(data['read_minmax'])"
   ]
  },
  {
   "cell_type": "code",
   "execution_count": 80,
   "id": "5a56c6f5",
   "metadata": {},
   "outputs": [
    {
     "data": {
      "text/plain": [
       "True"
      ]
     },
     "execution_count": 80,
     "metadata": {},
     "output_type": "execute_result"
    }
   ],
   "source": [
    "(data['reading score'].values == data['read_minmax'].values).all()"
   ]
  },
  {
   "cell_type": "markdown",
   "id": "ac5f7875",
   "metadata": {},
   "source": [
    "### Changing one value to show that it fails in this case"
   ]
  },
  {
   "cell_type": "code",
   "execution_count": 81,
   "id": "f835c823",
   "metadata": {},
   "outputs": [],
   "source": [
    "data.loc[0, 'read_minmax'] = 0.8"
   ]
  },
  {
   "cell_type": "code",
   "execution_count": 82,
   "id": "9e23c2d3",
   "metadata": {},
   "outputs": [
    {
     "data": {
      "text/html": [
       "<div>\n",
       "<style scoped>\n",
       "    .dataframe tbody tr th:only-of-type {\n",
       "        vertical-align: middle;\n",
       "    }\n",
       "\n",
       "    .dataframe tbody tr th {\n",
       "        vertical-align: top;\n",
       "    }\n",
       "\n",
       "    .dataframe thead th {\n",
       "        text-align: right;\n",
       "    }\n",
       "</style>\n",
       "<table border=\"1\" class=\"dataframe\">\n",
       "  <thead>\n",
       "    <tr style=\"text-align: right;\">\n",
       "      <th></th>\n",
       "      <th>math score</th>\n",
       "      <th>reading score</th>\n",
       "      <th>writing score</th>\n",
       "      <th>id_student</th>\n",
       "      <th>Year</th>\n",
       "      <th>Age</th>\n",
       "      <th>gender_male</th>\n",
       "      <th>race/ethnicity_group B</th>\n",
       "      <th>race/ethnicity_group C</th>\n",
       "      <th>race/ethnicity_group D</th>\n",
       "      <th>race/ethnicity_group E</th>\n",
       "      <th>parental level of education_bachelor's degree</th>\n",
       "      <th>parental level of education_high school</th>\n",
       "      <th>parental level of education_master's degree</th>\n",
       "      <th>parental level of education_some college</th>\n",
       "      <th>lunch_standard</th>\n",
       "      <th>test preparation course_none</th>\n",
       "      <th>read_minmax</th>\n",
       "      <th>write_minmax</th>\n",
       "    </tr>\n",
       "  </thead>\n",
       "  <tbody>\n",
       "    <tr>\n",
       "      <th>0</th>\n",
       "      <td>67</td>\n",
       "      <td>0.61176</td>\n",
       "      <td>0.51948</td>\n",
       "      <td>1000</td>\n",
       "      <td>2023</td>\n",
       "      <td>14.0</td>\n",
       "      <td>1</td>\n",
       "      <td>0</td>\n",
       "      <td>0</td>\n",
       "      <td>0</td>\n",
       "      <td>0</td>\n",
       "      <td>0</td>\n",
       "      <td>1</td>\n",
       "      <td>0</td>\n",
       "      <td>0</td>\n",
       "      <td>1</td>\n",
       "      <td>0</td>\n",
       "      <td>0.8</td>\n",
       "      <td>0.51948</td>\n",
       "    </tr>\n",
       "  </tbody>\n",
       "</table>\n",
       "</div>"
      ],
      "text/plain": [
       "   math score  reading score  writing score  id_student  Year   Age  \\\n",
       "0          67        0.61176        0.51948        1000  2023  14.0   \n",
       "\n",
       "   gender_male  race/ethnicity_group B  race/ethnicity_group C  \\\n",
       "0            1                       0                       0   \n",
       "\n",
       "   race/ethnicity_group D  race/ethnicity_group E  \\\n",
       "0                       0                       0   \n",
       "\n",
       "   parental level of education_bachelor's degree  \\\n",
       "0                                              0   \n",
       "\n",
       "   parental level of education_high school  \\\n",
       "0                                        1   \n",
       "\n",
       "   parental level of education_master's degree  \\\n",
       "0                                            0   \n",
       "\n",
       "   parental level of education_some college  lunch_standard  \\\n",
       "0                                         0               1   \n",
       "\n",
       "   test preparation course_none  read_minmax  write_minmax  \n",
       "0                             0          0.8       0.51948  "
      ]
     },
     "execution_count": 82,
     "metadata": {},
     "output_type": "execute_result"
    }
   ],
   "source": [
    "data.head(1)"
   ]
  },
  {
   "cell_type": "code",
   "execution_count": 83,
   "id": "89ab4b25",
   "metadata": {},
   "outputs": [
    {
     "data": {
      "text/plain": [
       "False"
      ]
     },
     "execution_count": 83,
     "metadata": {},
     "output_type": "execute_result"
    }
   ],
   "source": [
    "data['reading score'].equals(data['read_minmax'])"
   ]
  },
  {
   "cell_type": "code",
   "execution_count": 84,
   "id": "a63c227e",
   "metadata": {},
   "outputs": [
    {
     "data": {
      "text/plain": [
       "False"
      ]
     },
     "execution_count": 84,
     "metadata": {},
     "output_type": "execute_result"
    }
   ],
   "source": [
    "(data['reading score'] == data['read_minmax']).all()"
   ]
  },
  {
   "cell_type": "code",
   "execution_count": 85,
   "id": "7ce846f3",
   "metadata": {},
   "outputs": [],
   "source": [
    "data.drop(['read_minmax', 'write_minmax'], axis=1, inplace=True)"
   ]
  },
  {
   "cell_type": "markdown",
   "id": "f13b1f9c",
   "metadata": {},
   "source": [
    "### Functions "
   ]
  },
  {
   "cell_type": "code",
   "execution_count": 86,
   "id": "262156a4",
   "metadata": {},
   "outputs": [],
   "source": [
    "def a_function(my_in_1, my_in_2):\n",
    "    print('This is my input 1: {}'.format(my_in_1))\n",
    "    print('This is my input 2: {}'.format(my_in_2))    "
   ]
  },
  {
   "cell_type": "code",
   "execution_count": 87,
   "id": "410e76ef",
   "metadata": {},
   "outputs": [
    {
     "name": "stdout",
     "output_type": "stream",
     "text": [
      "This is my input 1: 1\n",
      "This is my input 2: 2\n"
     ]
    }
   ],
   "source": [
    "a_function(1,2)"
   ]
  },
  {
   "cell_type": "code",
   "execution_count": 88,
   "id": "36c61610",
   "metadata": {},
   "outputs": [],
   "source": [
    "def a_function_2(my_in_1, my_in_2, my_in_3):\n",
    "    if my_in_1 == 1:\n",
    "        return 'it is a one'\n",
    "    else:\n",
    "        return my_in_2"
   ]
  },
  {
   "cell_type": "code",
   "execution_count": 89,
   "id": "0b83b728",
   "metadata": {},
   "outputs": [
    {
     "name": "stdout",
     "output_type": "stream",
     "text": [
      "5\n"
     ]
    }
   ],
   "source": [
    "print(a_function_2(2,5,3))"
   ]
  },
  {
   "cell_type": "code",
   "execution_count": 90,
   "id": "447716ac",
   "metadata": {},
   "outputs": [],
   "source": [
    "def deduplicate_data(df):\n",
    "    \"\"\"\n",
    "    Deduplicate my data\n",
    "    Params: \n",
    "        df: pandas data frame\n",
    "    Ouputs: \n",
    "        deduplicated data\n",
    "    \"\"\"\n",
    "    \n",
    "    return df.drop_duplicates(inplace=True)\n",
    "\n",
    "\n",
    "def remove_irrelevant_data(df):\n",
    "    \"\"\"\n",
    "    Function to remove data we don't want\n",
    "    Params: \n",
    "        df: input dataframe\n",
    "    Output: \n",
    "        red_df: reduced dataframe \n",
    "    \"\"\"\n",
    "    \n",
    "    red_df = df[df['age'] > 20]\n",
    "    \n",
    "    return red_df\n",
    "\n",
    "\n",
    "def fix_structural_errors(df):\n",
    "    \"\"\"\n",
    "    Fixing misspellings in City and Gender\n",
    "    Params: \n",
    "        df: input dataframe\n",
    "    Outputs:\n",
    "        fixed_data: dataframe with errors corrected in columns\n",
    "    \"\"\"\n",
    "    \n",
    "    fix_data_1 = correct_city(df)\n",
    "    fixed_data = correct_gender(fix_data_1)\n",
    "    \n",
    "    return fixed_data    \n",
    "\n",
    "\n",
    "def save_outputs(df):\n",
    "    \"\"\"\n",
    "    Save dataframe\n",
    "    Params: \n",
    "        df: input dataframe\n",
    "    \"\"\"\n",
    "    \n",
    "    df.to_csv('name.tsv', sep='\\t', index=None)\n",
    "\n",
    "\n",
    "def clean_data(data):\n",
    "    \"\"\"\n",
    "    Funtion to clean your data\n",
    "    Params:\n",
    "        data: pandas dataframe with all the info\n",
    "    Outputs: \n",
    "        data_cleaned: pandas dataframe after EDA and cleanup\n",
    "    \"\"\"\n",
    "    \n",
    "    no_dups = deduplicate_data(data)\n",
    "    \n",
    "    irr_data = remove_irrelevant_data(no_dups)\n",
    "    \n",
    "    fixed_errors = fix_structural_errors(irr_data)\n",
    "    \n",
    "    save_outputs(fixed_errors)"
   ]
  },
  {
   "cell_type": "markdown",
   "id": "213fd388",
   "metadata": {},
   "source": [
    "## 1. Preparing data for model"
   ]
  },
  {
   "cell_type": "code",
   "execution_count": 91,
   "id": "d3f1fc39",
   "metadata": {},
   "outputs": [
    {
     "data": {
      "text/plain": [
       "(951, 17)"
      ]
     },
     "execution_count": 91,
     "metadata": {},
     "output_type": "execute_result"
    }
   ],
   "source": [
    "data.shape"
   ]
  },
  {
   "cell_type": "code",
   "execution_count": 92,
   "id": "49e95ae0",
   "metadata": {},
   "outputs": [
    {
     "name": "stdout",
     "output_type": "stream",
     "text": [
      "math score 77\n",
      "reading score 85\n",
      "writing score 57\n",
      "id_student 941\n",
      "Year 1\n",
      "Age 5\n",
      "gender_male 2\n",
      "race/ethnicity_group B 2\n",
      "race/ethnicity_group C 2\n",
      "race/ethnicity_group D 2\n",
      "race/ethnicity_group E 2\n",
      "parental level of education_bachelor's degree 2\n",
      "parental level of education_high school 2\n",
      "parental level of education_master's degree 2\n",
      "parental level of education_some college 2\n",
      "lunch_standard 2\n",
      "test preparation course_none 2\n"
     ]
    }
   ],
   "source": [
    "for col in data.columns:\n",
    "    print(col, data[col].nunique())"
   ]
  },
  {
   "cell_type": "code",
   "execution_count": 93,
   "id": "514fc932",
   "metadata": {},
   "outputs": [],
   "source": [
    "data.drop(['Year', 'id_student'], axis=1, inplace=True)\n"
   ]
  },
  {
   "cell_type": "code",
   "execution_count": 94,
   "id": "2f84367b",
   "metadata": {},
   "outputs": [
    {
     "data": {
      "text/plain": [
       "(951, 15)"
      ]
     },
     "execution_count": 94,
     "metadata": {},
     "output_type": "execute_result"
    }
   ],
   "source": [
    "data.shape"
   ]
  },
  {
   "cell_type": "code",
   "execution_count": 95,
   "id": "decbf8fb",
   "metadata": {},
   "outputs": [
    {
     "data": {
      "text/plain": [
       "(941, 11)"
      ]
     },
     "execution_count": 95,
     "metadata": {},
     "output_type": "execute_result"
    }
   ],
   "source": [
    "df = df.drop_duplicates()\n",
    "df.shape"
   ]
  },
  {
   "cell_type": "markdown",
   "id": "a8897cb7",
   "metadata": {},
   "source": [
    "# 2. Build train test set "
   ]
  },
  {
   "cell_type": "code",
   "execution_count": 96,
   "id": "ce4807d0",
   "metadata": {},
   "outputs": [],
   "source": [
    "def get_training_test(df):\n",
    "    \"\"\"\n",
    "    \n",
    "    \"\"\"\n",
    "\n",
    "    return train_test_split(df, test_size=0.1, random_state=0)"
   ]
  },
  {
   "cell_type": "code",
   "execution_count": 97,
   "id": "2c55ba91",
   "metadata": {},
   "outputs": [],
   "source": [
    "def build_train_test(df):\n",
    "    \"\"\"\n",
    "    \n",
    "    \"\"\"\n",
    "\n",
    "    train, test = get_training_test(df)\n",
    "\n",
    "    trainY = train['math score'].values\n",
    "    testY = test['math score'].values\n",
    "    \n",
    "    trainX = train.drop(['math score'], axis=1).values\n",
    "    testX = test.drop(['math score'], axis=1).values\n",
    "\n",
    "    return trainX, trainY, testX, testY, \\\n",
    "        train.drop(['math score'], axis=1).columns"
   ]
  },
  {
   "cell_type": "code",
   "execution_count": 98,
   "id": "1c47ad7c",
   "metadata": {},
   "outputs": [],
   "source": [
    "trainX, trainY, testX, testY, feature_names = build_train_test(data)"
   ]
  },
  {
   "cell_type": "code",
   "execution_count": null,
   "id": "b0b3fa58",
   "metadata": {},
   "outputs": [],
   "source": []
  },
  {
   "cell_type": "code",
   "execution_count": null,
   "id": "7376e757",
   "metadata": {},
   "outputs": [],
   "source": []
  },
  {
   "cell_type": "code",
   "execution_count": null,
   "id": "7ecc5f62",
   "metadata": {},
   "outputs": [],
   "source": []
  },
  {
   "cell_type": "code",
   "execution_count": null,
   "id": "e92a9ae2",
   "metadata": {},
   "outputs": [],
   "source": []
  },
  {
   "cell_type": "code",
   "execution_count": 101,
   "id": "7f4986d8",
   "metadata": {},
   "outputs": [],
   "source": [
    "#load train test split from scikit learn\n",
    "from sklearn.model_selection import train_test_split"
   ]
  },
  {
   "cell_type": "code",
   "execution_count": 117,
   "id": "597e4889",
   "metadata": {},
   "outputs": [],
   "source": [
    "Y = data['math score']"
   ]
  },
  {
   "cell_type": "code",
   "execution_count": 118,
   "id": "c9aab6b6",
   "metadata": {},
   "outputs": [],
   "source": [
    "X = data.drop('math score', axis=1)"
   ]
  },
  {
   "cell_type": "code",
   "execution_count": 123,
   "id": "57125c3b",
   "metadata": {},
   "outputs": [],
   "source": [
    "X_train, X_test, y_train, y_test = train_test_split(X, Y, test_size=0.1, random_state=0)"
   ]
  },
  {
   "cell_type": "code",
   "execution_count": 124,
   "id": "1d4213dd",
   "metadata": {},
   "outputs": [
    {
     "data": {
      "text/plain": [
       "((855, 14), (96, 14), (855,), (96,))"
      ]
     },
     "execution_count": 124,
     "metadata": {},
     "output_type": "execute_result"
    }
   ],
   "source": [
    "X_train.shape, X_test.shape, y_train.shape, y_test.shape"
   ]
  },
  {
   "cell_type": "code",
   "execution_count": null,
   "id": "cf499ed8",
   "metadata": {},
   "outputs": [],
   "source": []
  },
  {
   "cell_type": "code",
   "execution_count": null,
   "id": "90768847",
   "metadata": {},
   "outputs": [],
   "source": []
  },
  {
   "cell_type": "code",
   "execution_count": null,
   "id": "f38476dd",
   "metadata": {},
   "outputs": [],
   "source": []
  },
  {
   "cell_type": "code",
   "execution_count": null,
   "id": "f08c5989",
   "metadata": {},
   "outputs": [],
   "source": []
  },
  {
   "cell_type": "code",
   "execution_count": null,
   "id": "bca9aa6d",
   "metadata": {},
   "outputs": [],
   "source": []
  },
  {
   "cell_type": "code",
   "execution_count": null,
   "id": "cb9ba410",
   "metadata": {},
   "outputs": [],
   "source": []
  },
  {
   "cell_type": "code",
   "execution_count": 100,
   "id": "fda0c958",
   "metadata": {},
   "outputs": [],
   "source": [
    "train, test = train_test_split(data, test_size=0.1, random_state=0)"
   ]
  },
  {
   "cell_type": "code",
   "execution_count": null,
   "id": "3ecfa527",
   "metadata": {},
   "outputs": [],
   "source": []
  },
  {
   "cell_type": "code",
   "execution_count": null,
   "id": "9cc3d98d",
   "metadata": {},
   "outputs": [],
   "source": []
  },
  {
   "cell_type": "code",
   "execution_count": null,
   "id": "77d5cc51",
   "metadata": {},
   "outputs": [],
   "source": []
  },
  {
   "cell_type": "code",
   "execution_count": null,
   "id": "680175f7",
   "metadata": {},
   "outputs": [],
   "source": []
  },
  {
   "cell_type": "code",
   "execution_count": null,
   "id": "cbbc2639",
   "metadata": {},
   "outputs": [],
   "source": []
  },
  {
   "cell_type": "code",
   "execution_count": 45,
   "id": "ce940bd6",
   "metadata": {},
   "outputs": [
    {
     "data": {
      "text/plain": [
       "(855, 14)"
      ]
     },
     "execution_count": 45,
     "metadata": {},
     "output_type": "execute_result"
    }
   ],
   "source": [
    "train.shape"
   ]
  },
  {
   "cell_type": "code",
   "execution_count": 46,
   "id": "1f0a5cf5",
   "metadata": {},
   "outputs": [
    {
     "data": {
      "text/plain": [
       "(96, 14)"
      ]
     },
     "execution_count": 46,
     "metadata": {},
     "output_type": "execute_result"
    }
   ],
   "source": [
    "test.shape"
   ]
  },
  {
   "cell_type": "code",
   "execution_count": 47,
   "id": "45c44541",
   "metadata": {},
   "outputs": [
    {
     "data": {
      "text/plain": [
       "Index(['math score', 'reading score', 'writing score', 'gender_male',\n",
       "       'race/ethnicity_group B', 'race/ethnicity_group C',\n",
       "       'race/ethnicity_group D', 'race/ethnicity_group E',\n",
       "       'parental level of education_bachelor's degree',\n",
       "       'parental level of education_high school',\n",
       "       'parental level of education_master's degree',\n",
       "       'parental level of education_some college', 'lunch_standard',\n",
       "       'test preparation course_none'],\n",
       "      dtype='object')"
      ]
     },
     "execution_count": 47,
     "metadata": {},
     "output_type": "execute_result"
    }
   ],
   "source": [
    "data.columns"
   ]
  },
  {
   "cell_type": "markdown",
   "id": "294ab81e",
   "metadata": {},
   "source": [
    "#### I will always have a train and a test set. \n",
    "#### Also, I have the features that correspond to all the data and the labels which is the column I want to predict. In this case, the math score column"
   ]
  },
  {
   "cell_type": "code",
   "execution_count": 48,
   "id": "30de784a",
   "metadata": {},
   "outputs": [],
   "source": [
    "#Separate the labels\n",
    "trainY = train['math score'].values\n",
    "testY = test['math score'].values\n",
    "\n",
    "#Get all features but the labels\n",
    "trainX = train.drop(['math score'], axis=1).values\n",
    "testX = test.drop(['math score'], axis=1).values"
   ]
  },
  {
   "cell_type": "markdown",
   "id": "11e9eb70",
   "metadata": {},
   "source": [
    "## 3. Linear regression model"
   ]
  },
  {
   "cell_type": "code",
   "execution_count": 108,
   "id": "36b522a6",
   "metadata": {},
   "outputs": [],
   "source": [
    "from sklearn import datasets, linear_model\n",
    "from sklearn.metrics import mean_absolute_error, mean_absolute_percentage_error, mean_squared_error, r2_score"
   ]
  },
  {
   "cell_type": "code",
   "execution_count": 109,
   "id": "8827ab5e",
   "metadata": {},
   "outputs": [
    {
     "name": "stdout",
     "output_type": "stream",
     "text": [
      "MAE: 5.30\n",
      "MAPE: 8.67 %\n"
     ]
    }
   ],
   "source": [
    "# Create linear regression object\n",
    "regr = linear_model.LinearRegression()\n",
    "\n",
    "# Train the model using the training sets\n",
    "regr.fit(trainX, trainY)\n",
    "\n",
    "# Make predictions using the testing set\n",
    "y_pred = regr.predict(testX)\n",
    "\n",
    "# The mean absolute error\n",
    "print(\"MAE: %.2f\" % mean_absolute_error(testY, y_pred))\n",
    "print(\"MAPE: {} %\".format(round(mean_absolute_percentage_error(testY, y_pred) * 100, 2)))"
   ]
  },
  {
   "cell_type": "code",
   "execution_count": 110,
   "id": "54b6d02a",
   "metadata": {},
   "outputs": [
    {
     "name": "stdout",
     "output_type": "stream",
     "text": [
      "Coefficients: \n",
      " [13.76569065 45.10303377 -0.19966553 12.41325537 -0.60540543 -0.67618632\n",
      " -1.19467096  4.19207253 -1.02442725  1.05109989 -1.70207268 -1.77868682\n",
      "  4.60584349  4.59557327]\n",
      "Mean squared error: 47.89\n",
      "Mean absolute error: 5.30\n",
      "Coefficient of determination: 0.79\n"
     ]
    }
   ],
   "source": [
    "# Create linear regression object\n",
    "regr = linear_model.LinearRegression()\n",
    "\n",
    "# Train the model using the training sets\n",
    "regr.fit(trainX, trainY)\n",
    "\n",
    "# Make predictions using the testing set\n",
    "y_pred = regr.predict(testX)\n",
    "\n",
    "# The coefficients\n",
    "print(\"Coefficients: \\n\", regr.coef_)\n",
    "# The mean squared error\n",
    "print(\"Mean squared error: %.2f\" % mean_squared_error(testY, y_pred))\n",
    "# The mean absolute error\n",
    "print(\"Mean absolute error: %.2f\" % mean_absolute_error(testY, y_pred))\n",
    "# The coefficient of determination: 1 is perfect prediction\n",
    "print(\"Coefficient of determination: %.2f\" % r2_score(testY, y_pred))"
   ]
  },
  {
   "cell_type": "markdown",
   "id": "38379303",
   "metadata": {},
   "source": [
    "# Do normalization afterwards"
   ]
  },
  {
   "cell_type": "code",
   "execution_count": 370,
   "id": "7c037afd",
   "metadata": {},
   "outputs": [
    {
     "data": {
      "text/html": [
       "<div>\n",
       "<style scoped>\n",
       "    .dataframe tbody tr th:only-of-type {\n",
       "        vertical-align: middle;\n",
       "    }\n",
       "\n",
       "    .dataframe tbody tr th {\n",
       "        vertical-align: top;\n",
       "    }\n",
       "\n",
       "    .dataframe thead th {\n",
       "        text-align: right;\n",
       "    }\n",
       "</style>\n",
       "<table border=\"1\" class=\"dataframe\">\n",
       "  <thead>\n",
       "    <tr style=\"text-align: right;\">\n",
       "      <th></th>\n",
       "      <th>gender</th>\n",
       "      <th>race/ethnicity</th>\n",
       "      <th>parental level of education</th>\n",
       "      <th>lunch</th>\n",
       "      <th>test preparation course</th>\n",
       "      <th>math score</th>\n",
       "      <th>reading score</th>\n",
       "      <th>writing score</th>\n",
       "      <th>id_student</th>\n",
       "      <th>Year</th>\n",
       "      <th>Age</th>\n",
       "    </tr>\n",
       "  </thead>\n",
       "  <tbody>\n",
       "    <tr>\n",
       "      <th>0</th>\n",
       "      <td>male</td>\n",
       "      <td>group A</td>\n",
       "      <td>high school</td>\n",
       "      <td>standard</td>\n",
       "      <td>completed</td>\n",
       "      <td>67</td>\n",
       "      <td>67</td>\n",
       "      <td>63</td>\n",
       "      <td>1000</td>\n",
       "      <td>2022</td>\n",
       "      <td>17.0</td>\n",
       "    </tr>\n",
       "    <tr>\n",
       "      <th>1</th>\n",
       "      <td>male</td>\n",
       "      <td>group E</td>\n",
       "      <td>some college</td>\n",
       "      <td>free/reduced</td>\n",
       "      <td>none</td>\n",
       "      <td>59</td>\n",
       "      <td>60</td>\n",
       "      <td>50</td>\n",
       "      <td>1002</td>\n",
       "      <td>2022</td>\n",
       "      <td>17.0</td>\n",
       "    </tr>\n",
       "    <tr>\n",
       "      <th>2</th>\n",
       "      <td>male</td>\n",
       "      <td>group B</td>\n",
       "      <td>high school</td>\n",
       "      <td>standard</td>\n",
       "      <td>none</td>\n",
       "      <td>77</td>\n",
       "      <td>78</td>\n",
       "      <td>68</td>\n",
       "      <td>1003</td>\n",
       "      <td>2022</td>\n",
       "      <td>17.0</td>\n",
       "    </tr>\n",
       "    <tr>\n",
       "      <th>3</th>\n",
       "      <td>male</td>\n",
       "      <td>group E</td>\n",
       "      <td>associate's degree</td>\n",
       "      <td>standard</td>\n",
       "      <td>completed</td>\n",
       "      <td>78</td>\n",
       "      <td>73</td>\n",
       "      <td>68</td>\n",
       "      <td>1004</td>\n",
       "      <td>2022</td>\n",
       "      <td>17.0</td>\n",
       "    </tr>\n",
       "    <tr>\n",
       "      <th>4</th>\n",
       "      <td>female</td>\n",
       "      <td>group D</td>\n",
       "      <td>high school</td>\n",
       "      <td>standard</td>\n",
       "      <td>none</td>\n",
       "      <td>63</td>\n",
       "      <td>77</td>\n",
       "      <td>76</td>\n",
       "      <td>1005</td>\n",
       "      <td>2022</td>\n",
       "      <td>17.0</td>\n",
       "    </tr>\n",
       "  </tbody>\n",
       "</table>\n",
       "</div>"
      ],
      "text/plain": [
       "   gender race/ethnicity parental level of education         lunch  \\\n",
       "0    male        group A                 high school      standard   \n",
       "1    male        group E                some college  free/reduced   \n",
       "2    male        group B                 high school      standard   \n",
       "3    male        group E          associate's degree      standard   \n",
       "4  female        group D                 high school      standard   \n",
       "\n",
       "  test preparation course  math score  reading score  writing score  \\\n",
       "0               completed          67             67             63   \n",
       "1                    none          59             60             50   \n",
       "2                    none          77             78             68   \n",
       "3               completed          78             73             68   \n",
       "4                    none          63             77             76   \n",
       "\n",
       "   id_student  Year   Age  \n",
       "0        1000  2022  17.0  \n",
       "1        1002  2022  17.0  \n",
       "2        1003  2022  17.0  \n",
       "3        1004  2022  17.0  \n",
       "4        1005  2022  17.0  "
      ]
     },
     "execution_count": 370,
     "metadata": {},
     "output_type": "execute_result"
    }
   ],
   "source": [
    "df.head()"
   ]
  },
  {
   "cell_type": "code",
   "execution_count": 371,
   "id": "bdb81524",
   "metadata": {},
   "outputs": [
    {
     "data": {
      "text/html": [
       "<div>\n",
       "<style scoped>\n",
       "    .dataframe tbody tr th:only-of-type {\n",
       "        vertical-align: middle;\n",
       "    }\n",
       "\n",
       "    .dataframe tbody tr th {\n",
       "        vertical-align: top;\n",
       "    }\n",
       "\n",
       "    .dataframe thead th {\n",
       "        text-align: right;\n",
       "    }\n",
       "</style>\n",
       "<table border=\"1\" class=\"dataframe\">\n",
       "  <thead>\n",
       "    <tr style=\"text-align: right;\">\n",
       "      <th></th>\n",
       "      <th>math score</th>\n",
       "      <th>reading score</th>\n",
       "      <th>writing score</th>\n",
       "      <th>id_student</th>\n",
       "      <th>Year</th>\n",
       "      <th>Age</th>\n",
       "      <th>gender_male</th>\n",
       "      <th>race/ethnicity_group B</th>\n",
       "      <th>race/ethnicity_group C</th>\n",
       "      <th>race/ethnicity_group D</th>\n",
       "      <th>race/ethnicity_group E</th>\n",
       "      <th>parental level of education_bachelor's degree</th>\n",
       "      <th>parental level of education_high school</th>\n",
       "      <th>parental level of education_master's degree</th>\n",
       "      <th>parental level of education_some college</th>\n",
       "      <th>parental level of education_some high school</th>\n",
       "      <th>lunch_standard</th>\n",
       "      <th>test preparation course_none</th>\n",
       "    </tr>\n",
       "  </thead>\n",
       "  <tbody>\n",
       "    <tr>\n",
       "      <th>0</th>\n",
       "      <td>67</td>\n",
       "      <td>67</td>\n",
       "      <td>63</td>\n",
       "      <td>1000</td>\n",
       "      <td>2022</td>\n",
       "      <td>17.0</td>\n",
       "      <td>1</td>\n",
       "      <td>0</td>\n",
       "      <td>0</td>\n",
       "      <td>0</td>\n",
       "      <td>0</td>\n",
       "      <td>0</td>\n",
       "      <td>1</td>\n",
       "      <td>0</td>\n",
       "      <td>0</td>\n",
       "      <td>0</td>\n",
       "      <td>1</td>\n",
       "      <td>0</td>\n",
       "    </tr>\n",
       "    <tr>\n",
       "      <th>1</th>\n",
       "      <td>59</td>\n",
       "      <td>60</td>\n",
       "      <td>50</td>\n",
       "      <td>1002</td>\n",
       "      <td>2022</td>\n",
       "      <td>17.0</td>\n",
       "      <td>1</td>\n",
       "      <td>0</td>\n",
       "      <td>0</td>\n",
       "      <td>0</td>\n",
       "      <td>1</td>\n",
       "      <td>0</td>\n",
       "      <td>0</td>\n",
       "      <td>0</td>\n",
       "      <td>1</td>\n",
       "      <td>0</td>\n",
       "      <td>0</td>\n",
       "      <td>1</td>\n",
       "    </tr>\n",
       "    <tr>\n",
       "      <th>2</th>\n",
       "      <td>77</td>\n",
       "      <td>78</td>\n",
       "      <td>68</td>\n",
       "      <td>1003</td>\n",
       "      <td>2022</td>\n",
       "      <td>17.0</td>\n",
       "      <td>1</td>\n",
       "      <td>1</td>\n",
       "      <td>0</td>\n",
       "      <td>0</td>\n",
       "      <td>0</td>\n",
       "      <td>0</td>\n",
       "      <td>1</td>\n",
       "      <td>0</td>\n",
       "      <td>0</td>\n",
       "      <td>0</td>\n",
       "      <td>1</td>\n",
       "      <td>1</td>\n",
       "    </tr>\n",
       "    <tr>\n",
       "      <th>3</th>\n",
       "      <td>78</td>\n",
       "      <td>73</td>\n",
       "      <td>68</td>\n",
       "      <td>1004</td>\n",
       "      <td>2022</td>\n",
       "      <td>17.0</td>\n",
       "      <td>1</td>\n",
       "      <td>0</td>\n",
       "      <td>0</td>\n",
       "      <td>0</td>\n",
       "      <td>1</td>\n",
       "      <td>0</td>\n",
       "      <td>0</td>\n",
       "      <td>0</td>\n",
       "      <td>0</td>\n",
       "      <td>0</td>\n",
       "      <td>1</td>\n",
       "      <td>0</td>\n",
       "    </tr>\n",
       "    <tr>\n",
       "      <th>4</th>\n",
       "      <td>63</td>\n",
       "      <td>77</td>\n",
       "      <td>76</td>\n",
       "      <td>1005</td>\n",
       "      <td>2022</td>\n",
       "      <td>17.0</td>\n",
       "      <td>0</td>\n",
       "      <td>0</td>\n",
       "      <td>0</td>\n",
       "      <td>1</td>\n",
       "      <td>0</td>\n",
       "      <td>0</td>\n",
       "      <td>1</td>\n",
       "      <td>0</td>\n",
       "      <td>0</td>\n",
       "      <td>0</td>\n",
       "      <td>1</td>\n",
       "      <td>1</td>\n",
       "    </tr>\n",
       "  </tbody>\n",
       "</table>\n",
       "</div>"
      ],
      "text/plain": [
       "   math score  reading score  writing score  id_student  Year   Age  \\\n",
       "0          67             67             63        1000  2022  17.0   \n",
       "1          59             60             50        1002  2022  17.0   \n",
       "2          77             78             68        1003  2022  17.0   \n",
       "3          78             73             68        1004  2022  17.0   \n",
       "4          63             77             76        1005  2022  17.0   \n",
       "\n",
       "   gender_male  race/ethnicity_group B  race/ethnicity_group C  \\\n",
       "0            1                       0                       0   \n",
       "1            1                       0                       0   \n",
       "2            1                       1                       0   \n",
       "3            1                       0                       0   \n",
       "4            0                       0                       0   \n",
       "\n",
       "   race/ethnicity_group D  race/ethnicity_group E  \\\n",
       "0                       0                       0   \n",
       "1                       0                       1   \n",
       "2                       0                       0   \n",
       "3                       0                       1   \n",
       "4                       1                       0   \n",
       "\n",
       "   parental level of education_bachelor's degree  \\\n",
       "0                                              0   \n",
       "1                                              0   \n",
       "2                                              0   \n",
       "3                                              0   \n",
       "4                                              0   \n",
       "\n",
       "   parental level of education_high school  \\\n",
       "0                                        1   \n",
       "1                                        0   \n",
       "2                                        1   \n",
       "3                                        0   \n",
       "4                                        1   \n",
       "\n",
       "   parental level of education_master's degree  \\\n",
       "0                                            0   \n",
       "1                                            0   \n",
       "2                                            0   \n",
       "3                                            0   \n",
       "4                                            0   \n",
       "\n",
       "   parental level of education_some college  \\\n",
       "0                                         0   \n",
       "1                                         1   \n",
       "2                                         0   \n",
       "3                                         0   \n",
       "4                                         0   \n",
       "\n",
       "   parental level of education_some high school  lunch_standard  \\\n",
       "0                                             0               1   \n",
       "1                                             0               0   \n",
       "2                                             0               1   \n",
       "3                                             0               1   \n",
       "4                                             0               1   \n",
       "\n",
       "   test preparation course_none  \n",
       "0                             0  \n",
       "1                             1  \n",
       "2                             1  \n",
       "3                             0  \n",
       "4                             1  "
      ]
     },
     "execution_count": 371,
     "metadata": {},
     "output_type": "execute_result"
    }
   ],
   "source": [
    "data = pd.get_dummies(\n",
    "        df, columns=['gender', 'race/ethnicity', \n",
    "     'parental level of education', 'lunch', 'test preparation course'], \n",
    "drop_first=True)\n",
    "data.head()"
   ]
  },
  {
   "cell_type": "code",
   "execution_count": 372,
   "id": "118ecda5",
   "metadata": {},
   "outputs": [],
   "source": [
    "data.drop(['Year', 'Age', 'id_student'], axis=1, inplace=True)"
   ]
  },
  {
   "cell_type": "code",
   "execution_count": 373,
   "id": "e4031eaa",
   "metadata": {},
   "outputs": [
    {
     "data": {
      "text/html": [
       "<div>\n",
       "<style scoped>\n",
       "    .dataframe tbody tr th:only-of-type {\n",
       "        vertical-align: middle;\n",
       "    }\n",
       "\n",
       "    .dataframe tbody tr th {\n",
       "        vertical-align: top;\n",
       "    }\n",
       "\n",
       "    .dataframe thead th {\n",
       "        text-align: right;\n",
       "    }\n",
       "</style>\n",
       "<table border=\"1\" class=\"dataframe\">\n",
       "  <thead>\n",
       "    <tr style=\"text-align: right;\">\n",
       "      <th></th>\n",
       "      <th>math score</th>\n",
       "      <th>reading score</th>\n",
       "      <th>writing score</th>\n",
       "      <th>gender_male</th>\n",
       "      <th>race/ethnicity_group B</th>\n",
       "      <th>race/ethnicity_group C</th>\n",
       "      <th>race/ethnicity_group D</th>\n",
       "      <th>race/ethnicity_group E</th>\n",
       "      <th>parental level of education_bachelor's degree</th>\n",
       "      <th>parental level of education_high school</th>\n",
       "      <th>parental level of education_master's degree</th>\n",
       "      <th>parental level of education_some college</th>\n",
       "      <th>parental level of education_some high school</th>\n",
       "      <th>lunch_standard</th>\n",
       "      <th>test preparation course_none</th>\n",
       "    </tr>\n",
       "  </thead>\n",
       "  <tbody>\n",
       "    <tr>\n",
       "      <th>0</th>\n",
       "      <td>67</td>\n",
       "      <td>67</td>\n",
       "      <td>63</td>\n",
       "      <td>1</td>\n",
       "      <td>0</td>\n",
       "      <td>0</td>\n",
       "      <td>0</td>\n",
       "      <td>0</td>\n",
       "      <td>0</td>\n",
       "      <td>1</td>\n",
       "      <td>0</td>\n",
       "      <td>0</td>\n",
       "      <td>0</td>\n",
       "      <td>1</td>\n",
       "      <td>0</td>\n",
       "    </tr>\n",
       "    <tr>\n",
       "      <th>1</th>\n",
       "      <td>59</td>\n",
       "      <td>60</td>\n",
       "      <td>50</td>\n",
       "      <td>1</td>\n",
       "      <td>0</td>\n",
       "      <td>0</td>\n",
       "      <td>0</td>\n",
       "      <td>1</td>\n",
       "      <td>0</td>\n",
       "      <td>0</td>\n",
       "      <td>0</td>\n",
       "      <td>1</td>\n",
       "      <td>0</td>\n",
       "      <td>0</td>\n",
       "      <td>1</td>\n",
       "    </tr>\n",
       "    <tr>\n",
       "      <th>2</th>\n",
       "      <td>77</td>\n",
       "      <td>78</td>\n",
       "      <td>68</td>\n",
       "      <td>1</td>\n",
       "      <td>1</td>\n",
       "      <td>0</td>\n",
       "      <td>0</td>\n",
       "      <td>0</td>\n",
       "      <td>0</td>\n",
       "      <td>1</td>\n",
       "      <td>0</td>\n",
       "      <td>0</td>\n",
       "      <td>0</td>\n",
       "      <td>1</td>\n",
       "      <td>1</td>\n",
       "    </tr>\n",
       "    <tr>\n",
       "      <th>3</th>\n",
       "      <td>78</td>\n",
       "      <td>73</td>\n",
       "      <td>68</td>\n",
       "      <td>1</td>\n",
       "      <td>0</td>\n",
       "      <td>0</td>\n",
       "      <td>0</td>\n",
       "      <td>1</td>\n",
       "      <td>0</td>\n",
       "      <td>0</td>\n",
       "      <td>0</td>\n",
       "      <td>0</td>\n",
       "      <td>0</td>\n",
       "      <td>1</td>\n",
       "      <td>0</td>\n",
       "    </tr>\n",
       "    <tr>\n",
       "      <th>4</th>\n",
       "      <td>63</td>\n",
       "      <td>77</td>\n",
       "      <td>76</td>\n",
       "      <td>0</td>\n",
       "      <td>0</td>\n",
       "      <td>0</td>\n",
       "      <td>1</td>\n",
       "      <td>0</td>\n",
       "      <td>0</td>\n",
       "      <td>1</td>\n",
       "      <td>0</td>\n",
       "      <td>0</td>\n",
       "      <td>0</td>\n",
       "      <td>1</td>\n",
       "      <td>1</td>\n",
       "    </tr>\n",
       "  </tbody>\n",
       "</table>\n",
       "</div>"
      ],
      "text/plain": [
       "   math score  reading score  writing score  gender_male  \\\n",
       "0          67             67             63            1   \n",
       "1          59             60             50            1   \n",
       "2          77             78             68            1   \n",
       "3          78             73             68            1   \n",
       "4          63             77             76            0   \n",
       "\n",
       "   race/ethnicity_group B  race/ethnicity_group C  race/ethnicity_group D  \\\n",
       "0                       0                       0                       0   \n",
       "1                       0                       0                       0   \n",
       "2                       1                       0                       0   \n",
       "3                       0                       0                       0   \n",
       "4                       0                       0                       1   \n",
       "\n",
       "   race/ethnicity_group E  parental level of education_bachelor's degree  \\\n",
       "0                       0                                              0   \n",
       "1                       1                                              0   \n",
       "2                       0                                              0   \n",
       "3                       1                                              0   \n",
       "4                       0                                              0   \n",
       "\n",
       "   parental level of education_high school  \\\n",
       "0                                        1   \n",
       "1                                        0   \n",
       "2                                        1   \n",
       "3                                        0   \n",
       "4                                        1   \n",
       "\n",
       "   parental level of education_master's degree  \\\n",
       "0                                            0   \n",
       "1                                            0   \n",
       "2                                            0   \n",
       "3                                            0   \n",
       "4                                            0   \n",
       "\n",
       "   parental level of education_some college  \\\n",
       "0                                         0   \n",
       "1                                         1   \n",
       "2                                         0   \n",
       "3                                         0   \n",
       "4                                         0   \n",
       "\n",
       "   parental level of education_some high school  lunch_standard  \\\n",
       "0                                             0               1   \n",
       "1                                             0               0   \n",
       "2                                             0               1   \n",
       "3                                             0               1   \n",
       "4                                             0               1   \n",
       "\n",
       "   test preparation course_none  \n",
       "0                             0  \n",
       "1                             1  \n",
       "2                             1  \n",
       "3                             0  \n",
       "4                             1  "
      ]
     },
     "execution_count": 373,
     "metadata": {},
     "output_type": "execute_result"
    }
   ],
   "source": [
    "data.head()"
   ]
  },
  {
   "cell_type": "markdown",
   "id": "54712a26",
   "metadata": {},
   "source": [
    "### 1st Do the train test split first"
   ]
  },
  {
   "cell_type": "code",
   "execution_count": 125,
   "id": "a8789a80",
   "metadata": {},
   "outputs": [],
   "source": [
    "train, test = train_test_split(data, test_size=0.1, random_state=0)"
   ]
  },
  {
   "cell_type": "code",
   "execution_count": 126,
   "id": "2092e12f",
   "metadata": {},
   "outputs": [
    {
     "data": {
      "text/plain": [
       "((855, 15), (96, 15))"
      ]
     },
     "execution_count": 126,
     "metadata": {},
     "output_type": "execute_result"
    }
   ],
   "source": [
    "train.shape, test.shape"
   ]
  },
  {
   "cell_type": "markdown",
   "id": "b94814f6",
   "metadata": {},
   "source": [
    "### 2nd Normalize the sets separately"
   ]
  },
  {
   "cell_type": "code",
   "execution_count": 127,
   "id": "091fc5fe",
   "metadata": {},
   "outputs": [
    {
     "data": {
      "text/html": [
       "<div>\n",
       "<style scoped>\n",
       "    .dataframe tbody tr th:only-of-type {\n",
       "        vertical-align: middle;\n",
       "    }\n",
       "\n",
       "    .dataframe tbody tr th {\n",
       "        vertical-align: top;\n",
       "    }\n",
       "\n",
       "    .dataframe thead th {\n",
       "        text-align: right;\n",
       "    }\n",
       "</style>\n",
       "<table border=\"1\" class=\"dataframe\">\n",
       "  <thead>\n",
       "    <tr style=\"text-align: right;\">\n",
       "      <th></th>\n",
       "      <th>reading score</th>\n",
       "      <th>writing score</th>\n",
       "    </tr>\n",
       "  </thead>\n",
       "  <tbody>\n",
       "    <tr>\n",
       "      <th>489</th>\n",
       "      <td>0.71765</td>\n",
       "      <td>0.62338</td>\n",
       "    </tr>\n",
       "    <tr>\n",
       "      <th>262</th>\n",
       "      <td>0.76471</td>\n",
       "      <td>0.74026</td>\n",
       "    </tr>\n",
       "    <tr>\n",
       "      <th>8</th>\n",
       "      <td>0.48235</td>\n",
       "      <td>0.54545</td>\n",
       "    </tr>\n",
       "    <tr>\n",
       "      <th>776</th>\n",
       "      <td>0.56471</td>\n",
       "      <td>0.53247</td>\n",
       "    </tr>\n",
       "    <tr>\n",
       "      <th>523</th>\n",
       "      <td>0.36471</td>\n",
       "      <td>0.44156</td>\n",
       "    </tr>\n",
       "  </tbody>\n",
       "</table>\n",
       "</div>"
      ],
      "text/plain": [
       "     reading score  writing score\n",
       "489        0.71765        0.62338\n",
       "262        0.76471        0.74026\n",
       "8          0.48235        0.54545\n",
       "776        0.56471        0.53247\n",
       "523        0.36471        0.44156"
      ]
     },
     "execution_count": 127,
     "metadata": {},
     "output_type": "execute_result"
    }
   ],
   "source": [
    "cols_to_norm = ['reading score', 'writing score']\n",
    "train_norm = normalize_column(train, cols_to_norm)\n",
    "test_norm = normalize_column(test, cols_to_norm)\n",
    "train_norm[cols_to_norm].head()"
   ]
  },
  {
   "cell_type": "code",
   "execution_count": 128,
   "id": "cf37ca43",
   "metadata": {},
   "outputs": [
    {
     "data": {
      "text/html": [
       "<div>\n",
       "<style scoped>\n",
       "    .dataframe tbody tr th:only-of-type {\n",
       "        vertical-align: middle;\n",
       "    }\n",
       "\n",
       "    .dataframe tbody tr th {\n",
       "        vertical-align: top;\n",
       "    }\n",
       "\n",
       "    .dataframe thead th {\n",
       "        text-align: right;\n",
       "    }\n",
       "</style>\n",
       "<table border=\"1\" class=\"dataframe\">\n",
       "  <thead>\n",
       "    <tr style=\"text-align: right;\">\n",
       "      <th></th>\n",
       "      <th>reading score</th>\n",
       "      <th>writing score</th>\n",
       "    </tr>\n",
       "  </thead>\n",
       "  <tbody>\n",
       "    <tr>\n",
       "      <th>873</th>\n",
       "      <td>0.636365</td>\n",
       "      <td>0.537311</td>\n",
       "    </tr>\n",
       "    <tr>\n",
       "      <th>568</th>\n",
       "      <td>0.168830</td>\n",
       "      <td>0.552239</td>\n",
       "    </tr>\n",
       "    <tr>\n",
       "      <th>249</th>\n",
       "      <td>0.168830</td>\n",
       "      <td>0.567168</td>\n",
       "    </tr>\n",
       "    <tr>\n",
       "      <th>331</th>\n",
       "      <td>0.480516</td>\n",
       "      <td>0.462689</td>\n",
       "    </tr>\n",
       "    <tr>\n",
       "      <th>492</th>\n",
       "      <td>0.571422</td>\n",
       "      <td>0.567168</td>\n",
       "    </tr>\n",
       "  </tbody>\n",
       "</table>\n",
       "</div>"
      ],
      "text/plain": [
       "     reading score  writing score\n",
       "873       0.636365       0.537311\n",
       "568       0.168830       0.552239\n",
       "249       0.168830       0.567168\n",
       "331       0.480516       0.462689\n",
       "492       0.571422       0.567168"
      ]
     },
     "execution_count": 128,
     "metadata": {},
     "output_type": "execute_result"
    }
   ],
   "source": [
    "test_norm[cols_to_norm].head()"
   ]
  },
  {
   "cell_type": "code",
   "execution_count": 129,
   "id": "d2d1b027",
   "metadata": {},
   "outputs": [
    {
     "data": {
      "text/plain": [
       "reading score    0.37647\n",
       "writing score    0.24675\n",
       "Name: 14, dtype: float64"
      ]
     },
     "execution_count": 129,
     "metadata": {},
     "output_type": "execute_result"
    }
   ],
   "source": [
    "data_norm = normalize_column(data, cols_to_norm)\n",
    "data_norm[cols_to_norm].iloc[14]"
   ]
  },
  {
   "cell_type": "code",
   "execution_count": 130,
   "id": "dd761dbc",
   "metadata": {},
   "outputs": [
    {
     "data": {
      "text/html": [
       "<div>\n",
       "<style scoped>\n",
       "    .dataframe tbody tr th:only-of-type {\n",
       "        vertical-align: middle;\n",
       "    }\n",
       "\n",
       "    .dataframe tbody tr th {\n",
       "        vertical-align: top;\n",
       "    }\n",
       "\n",
       "    .dataframe thead th {\n",
       "        text-align: right;\n",
       "    }\n",
       "</style>\n",
       "<table border=\"1\" class=\"dataframe\">\n",
       "  <thead>\n",
       "    <tr style=\"text-align: right;\">\n",
       "      <th></th>\n",
       "      <th>math score</th>\n",
       "      <th>reading score</th>\n",
       "      <th>writing score</th>\n",
       "      <th>Age</th>\n",
       "      <th>gender_male</th>\n",
       "      <th>race/ethnicity_group B</th>\n",
       "      <th>race/ethnicity_group C</th>\n",
       "      <th>race/ethnicity_group D</th>\n",
       "      <th>race/ethnicity_group E</th>\n",
       "      <th>parental level of education_bachelor's degree</th>\n",
       "      <th>parental level of education_high school</th>\n",
       "      <th>parental level of education_master's degree</th>\n",
       "      <th>parental level of education_some college</th>\n",
       "      <th>lunch_standard</th>\n",
       "      <th>test preparation course_none</th>\n",
       "    </tr>\n",
       "  </thead>\n",
       "  <tbody>\n",
       "    <tr>\n",
       "      <th>873</th>\n",
       "      <td>71</td>\n",
       "      <td>0.636365</td>\n",
       "      <td>0.537311</td>\n",
       "      <td>16.0</td>\n",
       "      <td>1</td>\n",
       "      <td>0</td>\n",
       "      <td>1</td>\n",
       "      <td>0</td>\n",
       "      <td>0</td>\n",
       "      <td>0</td>\n",
       "      <td>0</td>\n",
       "      <td>0</td>\n",
       "      <td>0</td>\n",
       "      <td>1</td>\n",
       "      <td>1</td>\n",
       "    </tr>\n",
       "    <tr>\n",
       "      <th>568</th>\n",
       "      <td>89</td>\n",
       "      <td>0.168830</td>\n",
       "      <td>0.552239</td>\n",
       "      <td>14.0</td>\n",
       "      <td>1</td>\n",
       "      <td>0</td>\n",
       "      <td>0</td>\n",
       "      <td>1</td>\n",
       "      <td>0</td>\n",
       "      <td>0</td>\n",
       "      <td>1</td>\n",
       "      <td>0</td>\n",
       "      <td>0</td>\n",
       "      <td>1</td>\n",
       "      <td>1</td>\n",
       "    </tr>\n",
       "    <tr>\n",
       "      <th>249</th>\n",
       "      <td>71</td>\n",
       "      <td>0.168830</td>\n",
       "      <td>0.567168</td>\n",
       "      <td>17.0</td>\n",
       "      <td>0</td>\n",
       "      <td>0</td>\n",
       "      <td>1</td>\n",
       "      <td>0</td>\n",
       "      <td>0</td>\n",
       "      <td>0</td>\n",
       "      <td>1</td>\n",
       "      <td>0</td>\n",
       "      <td>0</td>\n",
       "      <td>1</td>\n",
       "      <td>1</td>\n",
       "    </tr>\n",
       "    <tr>\n",
       "      <th>331</th>\n",
       "      <td>58</td>\n",
       "      <td>0.480516</td>\n",
       "      <td>0.462689</td>\n",
       "      <td>17.0</td>\n",
       "      <td>0</td>\n",
       "      <td>1</td>\n",
       "      <td>0</td>\n",
       "      <td>0</td>\n",
       "      <td>0</td>\n",
       "      <td>1</td>\n",
       "      <td>0</td>\n",
       "      <td>0</td>\n",
       "      <td>0</td>\n",
       "      <td>1</td>\n",
       "      <td>1</td>\n",
       "    </tr>\n",
       "    <tr>\n",
       "      <th>492</th>\n",
       "      <td>63</td>\n",
       "      <td>0.571422</td>\n",
       "      <td>0.567168</td>\n",
       "      <td>14.0</td>\n",
       "      <td>0</td>\n",
       "      <td>0</td>\n",
       "      <td>0</td>\n",
       "      <td>0</td>\n",
       "      <td>0</td>\n",
       "      <td>1</td>\n",
       "      <td>0</td>\n",
       "      <td>0</td>\n",
       "      <td>0</td>\n",
       "      <td>1</td>\n",
       "      <td>1</td>\n",
       "    </tr>\n",
       "  </tbody>\n",
       "</table>\n",
       "</div>"
      ],
      "text/plain": [
       "     math score  reading score  writing score   Age  gender_male  \\\n",
       "873          71       0.636365       0.537311  16.0            1   \n",
       "568          89       0.168830       0.552239  14.0            1   \n",
       "249          71       0.168830       0.567168  17.0            0   \n",
       "331          58       0.480516       0.462689  17.0            0   \n",
       "492          63       0.571422       0.567168  14.0            0   \n",
       "\n",
       "     race/ethnicity_group B  race/ethnicity_group C  race/ethnicity_group D  \\\n",
       "873                       0                       1                       0   \n",
       "568                       0                       0                       1   \n",
       "249                       0                       1                       0   \n",
       "331                       1                       0                       0   \n",
       "492                       0                       0                       0   \n",
       "\n",
       "     race/ethnicity_group E  parental level of education_bachelor's degree  \\\n",
       "873                       0                                              0   \n",
       "568                       0                                              0   \n",
       "249                       0                                              0   \n",
       "331                       0                                              1   \n",
       "492                       0                                              1   \n",
       "\n",
       "     parental level of education_high school  \\\n",
       "873                                        0   \n",
       "568                                        1   \n",
       "249                                        1   \n",
       "331                                        0   \n",
       "492                                        0   \n",
       "\n",
       "     parental level of education_master's degree  \\\n",
       "873                                            0   \n",
       "568                                            0   \n",
       "249                                            0   \n",
       "331                                            0   \n",
       "492                                            0   \n",
       "\n",
       "     parental level of education_some college  lunch_standard  \\\n",
       "873                                         0               1   \n",
       "568                                         0               1   \n",
       "249                                         0               1   \n",
       "331                                         0               1   \n",
       "492                                         0               1   \n",
       "\n",
       "     test preparation course_none  \n",
       "873                             1  \n",
       "568                             1  \n",
       "249                             1  \n",
       "331                             1  \n",
       "492                             1  "
      ]
     },
     "execution_count": 130,
     "metadata": {},
     "output_type": "execute_result"
    }
   ],
   "source": [
    "test_norm.head()"
   ]
  },
  {
   "cell_type": "code",
   "execution_count": 131,
   "id": "cbe47bef",
   "metadata": {},
   "outputs": [
    {
     "data": {
      "text/html": [
       "<div>\n",
       "<style scoped>\n",
       "    .dataframe tbody tr th:only-of-type {\n",
       "        vertical-align: middle;\n",
       "    }\n",
       "\n",
       "    .dataframe tbody tr th {\n",
       "        vertical-align: top;\n",
       "    }\n",
       "\n",
       "    .dataframe thead th {\n",
       "        text-align: right;\n",
       "    }\n",
       "</style>\n",
       "<table border=\"1\" class=\"dataframe\">\n",
       "  <thead>\n",
       "    <tr style=\"text-align: right;\">\n",
       "      <th></th>\n",
       "      <th>math score</th>\n",
       "      <th>reading score</th>\n",
       "      <th>writing score</th>\n",
       "      <th>Age</th>\n",
       "      <th>gender_male</th>\n",
       "      <th>race/ethnicity_group B</th>\n",
       "      <th>race/ethnicity_group C</th>\n",
       "      <th>race/ethnicity_group D</th>\n",
       "      <th>race/ethnicity_group E</th>\n",
       "      <th>parental level of education_bachelor's degree</th>\n",
       "      <th>parental level of education_high school</th>\n",
       "      <th>parental level of education_master's degree</th>\n",
       "      <th>parental level of education_some college</th>\n",
       "      <th>lunch_standard</th>\n",
       "      <th>test preparation course_none</th>\n",
       "    </tr>\n",
       "  </thead>\n",
       "  <tbody>\n",
       "    <tr>\n",
       "      <th>489</th>\n",
       "      <td>79</td>\n",
       "      <td>0.71765</td>\n",
       "      <td>0.62338</td>\n",
       "      <td>15.00000</td>\n",
       "      <td>0</td>\n",
       "      <td>0</td>\n",
       "      <td>0</td>\n",
       "      <td>0</td>\n",
       "      <td>1</td>\n",
       "      <td>0</td>\n",
       "      <td>0</td>\n",
       "      <td>0</td>\n",
       "      <td>1</td>\n",
       "      <td>1</td>\n",
       "      <td>1</td>\n",
       "    </tr>\n",
       "    <tr>\n",
       "      <th>262</th>\n",
       "      <td>77</td>\n",
       "      <td>0.76471</td>\n",
       "      <td>0.74026</td>\n",
       "      <td>16.00000</td>\n",
       "      <td>1</td>\n",
       "      <td>0</td>\n",
       "      <td>1</td>\n",
       "      <td>0</td>\n",
       "      <td>0</td>\n",
       "      <td>0</td>\n",
       "      <td>0</td>\n",
       "      <td>0</td>\n",
       "      <td>0</td>\n",
       "      <td>1</td>\n",
       "      <td>1</td>\n",
       "    </tr>\n",
       "    <tr>\n",
       "      <th>8</th>\n",
       "      <td>63</td>\n",
       "      <td>0.48235</td>\n",
       "      <td>0.54545</td>\n",
       "      <td>15.00000</td>\n",
       "      <td>1</td>\n",
       "      <td>0</td>\n",
       "      <td>0</td>\n",
       "      <td>1</td>\n",
       "      <td>0</td>\n",
       "      <td>0</td>\n",
       "      <td>1</td>\n",
       "      <td>0</td>\n",
       "      <td>0</td>\n",
       "      <td>1</td>\n",
       "      <td>1</td>\n",
       "    </tr>\n",
       "    <tr>\n",
       "      <th>776</th>\n",
       "      <td>65</td>\n",
       "      <td>0.56471</td>\n",
       "      <td>0.53247</td>\n",
       "      <td>15.49663</td>\n",
       "      <td>1</td>\n",
       "      <td>0</td>\n",
       "      <td>0</td>\n",
       "      <td>1</td>\n",
       "      <td>0</td>\n",
       "      <td>0</td>\n",
       "      <td>1</td>\n",
       "      <td>0</td>\n",
       "      <td>0</td>\n",
       "      <td>1</td>\n",
       "      <td>1</td>\n",
       "    </tr>\n",
       "    <tr>\n",
       "      <th>523</th>\n",
       "      <td>40</td>\n",
       "      <td>0.36471</td>\n",
       "      <td>0.44156</td>\n",
       "      <td>17.00000</td>\n",
       "      <td>0</td>\n",
       "      <td>0</td>\n",
       "      <td>0</td>\n",
       "      <td>1</td>\n",
       "      <td>0</td>\n",
       "      <td>0</td>\n",
       "      <td>1</td>\n",
       "      <td>0</td>\n",
       "      <td>0</td>\n",
       "      <td>1</td>\n",
       "      <td>1</td>\n",
       "    </tr>\n",
       "  </tbody>\n",
       "</table>\n",
       "</div>"
      ],
      "text/plain": [
       "     math score  reading score  writing score       Age  gender_male  \\\n",
       "489          79        0.71765        0.62338  15.00000            0   \n",
       "262          77        0.76471        0.74026  16.00000            1   \n",
       "8            63        0.48235        0.54545  15.00000            1   \n",
       "776          65        0.56471        0.53247  15.49663            1   \n",
       "523          40        0.36471        0.44156  17.00000            0   \n",
       "\n",
       "     race/ethnicity_group B  race/ethnicity_group C  race/ethnicity_group D  \\\n",
       "489                       0                       0                       0   \n",
       "262                       0                       1                       0   \n",
       "8                         0                       0                       1   \n",
       "776                       0                       0                       1   \n",
       "523                       0                       0                       1   \n",
       "\n",
       "     race/ethnicity_group E  parental level of education_bachelor's degree  \\\n",
       "489                       1                                              0   \n",
       "262                       0                                              0   \n",
       "8                         0                                              0   \n",
       "776                       0                                              0   \n",
       "523                       0                                              0   \n",
       "\n",
       "     parental level of education_high school  \\\n",
       "489                                        0   \n",
       "262                                        0   \n",
       "8                                          1   \n",
       "776                                        1   \n",
       "523                                        1   \n",
       "\n",
       "     parental level of education_master's degree  \\\n",
       "489                                            0   \n",
       "262                                            0   \n",
       "8                                              0   \n",
       "776                                            0   \n",
       "523                                            0   \n",
       "\n",
       "     parental level of education_some college  lunch_standard  \\\n",
       "489                                         1               1   \n",
       "262                                         0               1   \n",
       "8                                           0               1   \n",
       "776                                         0               1   \n",
       "523                                         0               1   \n",
       "\n",
       "     test preparation course_none  \n",
       "489                             1  \n",
       "262                             1  \n",
       "8                               1  \n",
       "776                             1  \n",
       "523                             1  "
      ]
     },
     "execution_count": 131,
     "metadata": {},
     "output_type": "execute_result"
    }
   ],
   "source": [
    "train_norm.head()"
   ]
  },
  {
   "cell_type": "code",
   "execution_count": 132,
   "id": "23789f03",
   "metadata": {},
   "outputs": [],
   "source": [
    "#Separate the labels\n",
    "trainY = train_norm['math score'].values\n",
    "testY = test_norm['math score'].values\n",
    "\n",
    "#Get all features but the labels\n",
    "trainX = train_norm.drop(['math score'], axis=1).values\n",
    "testX = test_norm.drop(['math score'], axis=1).values"
   ]
  },
  {
   "cell_type": "code",
   "execution_count": 133,
   "id": "cdf01816",
   "metadata": {},
   "outputs": [
    {
     "name": "stdout",
     "output_type": "stream",
     "text": [
      "MAE: 6.26\n",
      "MAPE: 9.82 %\n"
     ]
    }
   ],
   "source": [
    "# Create linear regression object\n",
    "regr = linear_model.LinearRegression()\n",
    "\n",
    "# Train the model using the training sets\n",
    "regr.fit(trainX, trainY)\n",
    "\n",
    "# Make predictions using the testing set\n",
    "y_pred = regr.predict(testX)\n",
    "\n",
    "# The mean absolute error\n",
    "print(\"MAE: %.2f\" % mean_absolute_error(testY, y_pred))\n",
    "print(\"MAPE: {} %\".format(round(mean_absolute_percentage_error(testY, y_pred) * 100, 2)))"
   ]
  },
  {
   "cell_type": "code",
   "execution_count": null,
   "id": "7e4dff89",
   "metadata": {},
   "outputs": [],
   "source": []
  }
 ],
 "metadata": {
  "kernelspec": {
   "display_name": "Python 3 (ipykernel)",
   "language": "python",
   "name": "python3"
  },
  "language_info": {
   "codemirror_mode": {
    "name": "ipython",
    "version": 3
   },
   "file_extension": ".py",
   "mimetype": "text/x-python",
   "name": "python",
   "nbconvert_exporter": "python",
   "pygments_lexer": "ipython3",
   "version": "3.8.13"
  }
 },
 "nbformat": 4,
 "nbformat_minor": 5
}
